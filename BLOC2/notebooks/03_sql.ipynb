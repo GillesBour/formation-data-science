{
 "cells": [
  {
   "cell_type": "markdown",
   "metadata": {},
   "source": [
    "# Notebook 3 : SQL"
   ]
  },
  {
   "cell_type": "code",
   "execution_count": 53,
   "metadata": {},
   "outputs": [],
   "source": [
    "# Décommenter la ligne suivante pour installer ibis\n",
    "# %pip install 'ibis-framework[sqlite]'"
   ]
  },
  {
   "cell_type": "code",
   "execution_count": 54,
   "metadata": {},
   "outputs": [],
   "source": [
    "import sqlite3\n",
    "\n",
    "import pandas as pd\n",
    "import ibis\n",
    "\n",
    "from ibis import _\n",
    "\n",
    "ibis.options.interactive = True\n",
    "\n",
    "query_tables = \"SELECT name FROM sqlite_master WHERE type='table'\""
   ]
  },
  {
   "cell_type": "markdown",
   "metadata": {},
   "source": [
    "## STAR"
   ]
  },
  {
   "cell_type": "markdown",
   "metadata": {},
   "source": [
    "Nous considérons les données des stations de vélos en libre service [STAR](https://www.star.fr/) de Rennes Métropole. Une copie de la base SQLite est disponible dans le fichier `star.db`. Nous utilisons d'abord Pandas pour répondre aux questions, puis Ibis."
   ]
  },
  {
   "cell_type": "markdown",
   "metadata": {},
   "source": [
    "1. Se connecter à la base de données et afficher la liste des tables à l'aide de la fonction `read_sql` de Pandas et de la requête `query_tables`."
   ]
  },
  {
   "cell_type": "code",
   "execution_count": 55,
   "metadata": {},
   "outputs": [
    {
     "name": "stdout",
     "output_type": "stream",
     "text": [
      "        name\n",
      "0  Topologie\n",
      "1       Etat\n"
     ]
    }
   ],
   "source": [
    "con = sqlite3.connect(\"data/star.db\")\n",
    "tables = pd.read_sql(query_tables, con)\n",
    "print(tables)"
   ]
  },
  {
   "cell_type": "markdown",
   "metadata": {},
   "source": [
    "2. Récupérer le contenu de la table `Etat` dans un dataframe et afficher la liste des variables disponibles. Même question pour la table `Topologie`."
   ]
  },
  {
   "cell_type": "code",
   "execution_count": 56,
   "metadata": {},
   "outputs": [
    {
     "name": "stdout",
     "output_type": "stream",
     "text": [
      "id                            int64\n",
      "nom                          object\n",
      "latitude                    float64\n",
      "longitude                   float64\n",
      "etat                         object\n",
      "nb_emplacements               int64\n",
      "emplacements_disponibles      int64\n",
      "velos_disponibles             int64\n",
      "date                        float64\n",
      "data                         object\n",
      "dtype: object\n",
      "id                     int64\n",
      "nom                   object\n",
      "adresse_numero        object\n",
      "adresse_voie          object\n",
      "commune               object\n",
      "latitude             float64\n",
      "longitude            float64\n",
      "id_correspondance    float64\n",
      "mise_en_service      float64\n",
      "nb_emplacements        int64\n",
      "id_proche_1            int64\n",
      "id_proche_2            int64\n",
      "id_proche_3            int64\n",
      "terminal_cb           object\n",
      "dtype: object\n"
     ]
    }
   ],
   "source": [
    "etat_df = pd.read_sql(\"SELECT * FROM Etat\", con)\n",
    "print(etat_df.dtypes)\n",
    "topologie_df = pd.read_sql(\"SELECT * FROM Topologie\", con)\n",
    "print(topologie_df.dtypes)"
   ]
  },
  {
   "cell_type": "markdown",
   "metadata": {},
   "source": [
    "3. Sélectionner l'identifiant `id`, le nom `nom` et l'identifiant de la station la plus proche `id_proche_1` depuis la table `Topologie`."
   ]
  },
  {
   "cell_type": "code",
   "execution_count": 57,
   "metadata": {},
   "outputs": [
    {
     "name": "stdout",
     "output_type": "stream",
     "text": [
      "    id                nom  id_proche_1\n",
      "0    1         République            2\n",
      "1    2             Mairie            1\n",
      "2    3      Champ Jacquet            2\n",
      "3   10   Musée Beaux-Arts           12\n",
      "4   12                TNB           10\n",
      "..  ..                ...          ...\n",
      "78  62         Clemenceau           63\n",
      "79  66  Bréquigny Piscine           65\n",
      "80  69    Champs Manceaux           66\n",
      "81  85       La Courrouze           20\n",
      "82  86          Armorique           78\n",
      "\n",
      "[83 rows x 3 columns]\n"
     ]
    }
   ],
   "source": [
    "print(topologie_df[[\"id\", \"nom\", \"id_proche_1\"]])"
   ]
  },
  {
   "cell_type": "markdown",
   "metadata": {},
   "source": [
    "4. Faire une jointure sur la table précédente pour créer une table qui contient la liste des stations avec l'identifiant, le nom et le nom de la station la plus proche associée à l'identifiant `id_proche_1`. Les variables utilisées comme clés sont différents, penser à utiliser les arguments `left_on` et `right_on` de la méthode `merge`."
   ]
  },
  {
   "cell_type": "code",
   "execution_count": 58,
   "metadata": {},
   "outputs": [
    {
     "name": "stdout",
     "output_type": "stream",
     "text": [
      "    id                nom       nom_proche_1\n",
      "0    1         République             Mairie\n",
      "1    2             Mairie         République\n",
      "2    3      Champ Jacquet             Mairie\n",
      "3   10   Musée Beaux-Arts                TNB\n",
      "4   12                TNB   Musée Beaux-Arts\n",
      "..  ..                ...                ...\n",
      "78  62         Clemenceau     Henri Fréville\n",
      "79  66  Bréquigny Piscine                NaN\n",
      "80  69    Champs Manceaux  Bréquigny Piscine\n",
      "81  85       La Courrouze     Pont de Nantes\n",
      "82  86          Armorique         Gros-Chêne\n",
      "\n",
      "[83 rows x 3 columns]\n"
     ]
    }
   ],
   "source": [
    "print(\n",
    "    topologie_df[[\"id\", \"nom\", \"id_proche_1\"]]\n",
    "    .merge(topologie_df, left_on=\"id_proche_1\", right_on=\"id\", how=\"left\")\n",
    "    .filter(items=[\"id_x\", \"nom_x\", \"nom_y\"])\n",
    "    .rename(columns={\"id_x\": \"id\", \"nom_x\": \"nom\", \"nom_y\": \"nom_proche_1\"})\n",
    ")"
   ]
  },
  {
   "cell_type": "markdown",
   "metadata": {},
   "source": [
    "5. Ajouter à la table précédente la distance entre la station et la station la plus proche."
   ]
  },
  {
   "cell_type": "code",
   "execution_count": 59,
   "metadata": {},
   "outputs": [
    {
     "name": "stdout",
     "output_type": "stream",
     "text": [
      "    id                nom        nom_proche_1  distance\n",
      "0    1         République              Mairie  0.001753\n",
      "1    3      Champ Jacquet              Mairie  0.001733\n",
      "2    9      Saint-Georges              Mairie  0.004406\n",
      "3    2             Mairie          République  0.001753\n",
      "4   10   Musée Beaux-Arts                 TNB  0.001890\n",
      "..  ..                ...                 ...       ...\n",
      "76  11            Liberté          Les Halles  0.001925\n",
      "77  19    Plélo Colombier          Les Halles  0.002156\n",
      "78  24  Place de Bretagne  Office de Tourisme  0.001135\n",
      "79  55         Préfecture             Cucillé  0.004111\n",
      "80  69    Champs Manceaux   Bréquigny Piscine  0.008096\n",
      "\n",
      "[81 rows x 4 columns]\n"
     ]
    }
   ],
   "source": [
    "print(\n",
    "    topologie_df\n",
    "    .merge(topologie_df, left_on=\"id_proche_1\", right_on=\"id\", suffixes=(\"_x\", \"_y\"))\n",
    "    .assign(distance=lambda row:\n",
    "        (\n",
    "            (row.latitude_x - row.latitude_y)**2\n",
    "            + (row.longitude_x - row.longitude_y)**2\n",
    "        )**0.5\n",
    "    )\n",
    "    .filter(items=[\"id_x\", \"nom_x\", \"nom_y\", \"distance\"])\n",
    "    .rename(columns={\"id_x\": \"id\", \"nom_x\": \"nom\", \"nom_y\": \"nom_proche_1\"})\n",
    ")"
   ]
  },
  {
   "cell_type": "markdown",
   "metadata": {},
   "source": [
    "6. Créer une table avec le nom des trois stations les plus proches du point GPS *(48.1179151,-1.7028661)* classées par ordre de distance et le nombre de vélos disponibles dans ces stations."
   ]
  },
  {
   "cell_type": "code",
   "execution_count": 60,
   "metadata": {},
   "outputs": [
    {
     "name": "stdout",
     "output_type": "stream",
     "text": [
      "    id                   nom  distance  velos_disponibles\n",
      "50  56                Berger  0.002746                 10\n",
      "17  52  Villejean-Université  0.003401                 11\n",
      "74  38               Marbeuf  0.006216                  9\n"
     ]
    }
   ],
   "source": [
    "print(\n",
    "    etat_df\n",
    "    .assign(distance=\n",
    "        (\n",
    "            (48.1179151 - etat_df.latitude)**2\n",
    "            + (-1.7028661 - etat_df.longitude)**2\n",
    "        )**0.5\n",
    "    )\n",
    "    .filter(items=[\"id\", \"nom\", \"distance\", \"velos_disponibles\" ])\n",
    "    .sort_values(by=\"distance\", ascending=True)\n",
    "    .head(3)\n",
    ")"
   ]
  },
  {
   "cell_type": "markdown",
   "metadata": {},
   "source": [
    "7. Reprendre les questions précédentes en utilisant le module `ibis`. Pour les jointures, utiliser la méthode `left_join`."
   ]
  },
  {
   "cell_type": "code",
   "execution_count": 61,
   "metadata": {},
   "outputs": [
    {
     "data": {
      "text/plain": [
       "Tables\n",
       "------\n",
       "- Etat\n",
       "- Topologie"
      ]
     },
     "execution_count": 61,
     "metadata": {},
     "output_type": "execute_result"
    }
   ],
   "source": [
    "con_ibis = ibis.sqlite.connect(\"data/star.db\")\n",
    "con_ibis.tables"
   ]
  },
  {
   "cell_type": "code",
   "execution_count": 62,
   "metadata": {},
   "outputs": [
    {
     "name": "stdout",
     "output_type": "stream",
     "text": [
      "('id', 'nom', 'latitude', 'longitude', 'etat', 'nb_emplacements', 'emplacements_disponibles', 'velos_disponibles', 'date', 'data')\n"
     ]
    }
   ],
   "source": [
    "etat_table = con_ibis.table(\"Etat\")\n",
    "print(etat_table.columns)"
   ]
  },
  {
   "cell_type": "code",
   "execution_count": 64,
   "metadata": {},
   "outputs": [
    {
     "name": "stdout",
     "output_type": "stream",
     "text": [
      "('id', 'nom', 'adresse_numero', 'adresse_voie', 'commune', 'latitude', 'longitude', 'id_correspondance', 'mise_en_service', 'nb_emplacements', 'id_proche_1', 'id_proche_2', 'id_proche_3', 'terminal_cb')\n"
     ]
    }
   ],
   "source": [
    "topologie_table = con_ibis.table(\"Topologie\")\n",
    "print(topologie_table.columns)"
   ]
  },
  {
   "cell_type": "code",
   "execution_count": 65,
   "metadata": {},
   "outputs": [
    {
     "data": {
      "text/html": [
       "<pre style=\"white-space:pre;overflow-x:auto;line-height:normal;font-family:Menlo,'DejaVu Sans Mono',consolas,'Courier New',monospace\"></pre>\n"
      ],
      "text/plain": []
     },
     "metadata": {},
     "output_type": "display_data"
    },
    {
     "name": "stdout",
     "output_type": "stream",
     "text": [
      "┏━━━━━━━┳━━━━━━━━━━━━━━━━━━━━┳━━━━━━━━━━━━━┓\n",
      "┃\u001b[1m \u001b[0m\u001b[1mid\u001b[0m\u001b[1m   \u001b[0m\u001b[1m \u001b[0m┃\u001b[1m \u001b[0m\u001b[1mnom\u001b[0m\u001b[1m               \u001b[0m\u001b[1m \u001b[0m┃\u001b[1m \u001b[0m\u001b[1mid_proche_1\u001b[0m\u001b[1m \u001b[0m┃\n",
      "┡━━━━━━━╇━━━━━━━━━━━━━━━━━━━━╇━━━━━━━━━━━━━┩\n",
      "│ \u001b[2mint64\u001b[0m │ \u001b[2mstring\u001b[0m             │ \u001b[2mint64\u001b[0m       │\n",
      "├───────┼────────────────────┼─────────────┤\n",
      "│     \u001b[1;36m1\u001b[0m │ \u001b[32mRépublique        \u001b[0m │           \u001b[1;36m2\u001b[0m │\n",
      "│     \u001b[1;36m2\u001b[0m │ \u001b[32mMairie            \u001b[0m │           \u001b[1;36m1\u001b[0m │\n",
      "│     \u001b[1;36m3\u001b[0m │ \u001b[32mChamp Jacquet     \u001b[0m │           \u001b[1;36m2\u001b[0m │\n",
      "│    \u001b[1;36m10\u001b[0m │ \u001b[32mMusée Beaux-Arts  \u001b[0m │          \u001b[1;36m12\u001b[0m │\n",
      "│    \u001b[1;36m12\u001b[0m │ \u001b[32mTNB               \u001b[0m │          \u001b[1;36m10\u001b[0m │\n",
      "│    \u001b[1;36m14\u001b[0m │ \u001b[32mLaënnec           \u001b[0m │          \u001b[1;36m35\u001b[0m │\n",
      "│    \u001b[1;36m17\u001b[0m │ \u001b[32mCharles de Gaulle \u001b[0m │          \u001b[1;36m16\u001b[0m │\n",
      "│    \u001b[1;36m20\u001b[0m │ \u001b[32mPont de Nantes    \u001b[0m │          \u001b[1;36m43\u001b[0m │\n",
      "│    \u001b[1;36m22\u001b[0m │ \u001b[32mOberthur          \u001b[0m │          \u001b[1;36m44\u001b[0m │\n",
      "│    \u001b[1;36m25\u001b[0m │ \u001b[32mOffice de Tourisme\u001b[0m │          \u001b[1;36m24\u001b[0m │\n",
      "│     \u001b[2m…\u001b[0m │ \u001b[2m…\u001b[0m                  │           \u001b[2m…\u001b[0m │\n",
      "└───────┴────────────────────┴─────────────┘\n"
     ]
    }
   ],
   "source": [
    "print(\n",
    "    topologie_table.select(\"id\", \"nom\", \"id_proche_1\")\n",
    ")"
   ]
  },
  {
   "cell_type": "code",
   "execution_count": 68,
   "metadata": {},
   "outputs": [
    {
     "data": {
      "text/html": [
       "<pre style=\"white-space:pre;overflow-x:auto;line-height:normal;font-family:Menlo,'DejaVu Sans Mono',consolas,'Courier New',monospace\"></pre>\n"
      ],
      "text/plain": []
     },
     "metadata": {},
     "output_type": "display_data"
    },
    {
     "name": "stdout",
     "output_type": "stream",
     "text": [
      "┏━━━━━━━┳━━━━━━━━━━━━━━━━━━━━┳━━━━━━━━━━━━━━━━━━━━┓\n",
      "┃\u001b[1m \u001b[0m\u001b[1mid\u001b[0m\u001b[1m   \u001b[0m\u001b[1m \u001b[0m┃\u001b[1m \u001b[0m\u001b[1mnom\u001b[0m\u001b[1m               \u001b[0m\u001b[1m \u001b[0m┃\u001b[1m \u001b[0m\u001b[1mnom_proche_1\u001b[0m\u001b[1m      \u001b[0m\u001b[1m \u001b[0m┃\n",
      "┡━━━━━━━╇━━━━━━━━━━━━━━━━━━━━╇━━━━━━━━━━━━━━━━━━━━┩\n",
      "│ \u001b[2mint64\u001b[0m │ \u001b[2mstring\u001b[0m             │ \u001b[2mstring\u001b[0m             │\n",
      "├───────┼────────────────────┼────────────────────┤\n",
      "│     \u001b[1;36m1\u001b[0m │ \u001b[32mRépublique        \u001b[0m │ \u001b[32mMairie            \u001b[0m │\n",
      "│     \u001b[1;36m2\u001b[0m │ \u001b[32mMairie            \u001b[0m │ \u001b[32mRépublique        \u001b[0m │\n",
      "│     \u001b[1;36m3\u001b[0m │ \u001b[32mChamp Jacquet     \u001b[0m │ \u001b[32mMairie            \u001b[0m │\n",
      "│    \u001b[1;36m10\u001b[0m │ \u001b[32mMusée Beaux-Arts  \u001b[0m │ \u001b[32mTNB               \u001b[0m │\n",
      "│    \u001b[1;36m12\u001b[0m │ \u001b[32mTNB               \u001b[0m │ \u001b[32mMusée Beaux-Arts  \u001b[0m │\n",
      "│    \u001b[1;36m14\u001b[0m │ \u001b[32mLaënnec           \u001b[0m │ \u001b[32mPont de Châteaudun\u001b[0m │\n",
      "│    \u001b[1;36m17\u001b[0m │ \u001b[32mCharles de Gaulle \u001b[0m │ \u001b[32mChamps Libres     \u001b[0m │\n",
      "│    \u001b[1;36m20\u001b[0m │ \u001b[32mPont de Nantes    \u001b[0m │ \u001b[32mCité Judiciaire   \u001b[0m │\n",
      "│    \u001b[1;36m22\u001b[0m │ \u001b[32mOberthur          \u001b[0m │ \u001b[32mMetz - Sévigné    \u001b[0m │\n",
      "│    \u001b[1;36m25\u001b[0m │ \u001b[32mOffice de Tourisme\u001b[0m │ \u001b[32mPlace de Bretagne \u001b[0m │\n",
      "│     \u001b[2m…\u001b[0m │ \u001b[2m…\u001b[0m                  │ \u001b[2m…\u001b[0m                  │\n",
      "└───────┴────────────────────┴────────────────────┘\n"
     ]
    }
   ],
   "source": [
    "print(\n",
    "topologie_table\n",
    "    .left_join(\n",
    "        etat_table,\n",
    "        topologie_table.id_proche_1 == etat_table.id)\n",
    "    .select(\"id\", \"nom\", \"nom_right\")\n",
    "    .rename(nom_proche_1=\"nom_right\")\n",
    ")"
   ]
  },
  {
   "cell_type": "code",
   "execution_count": 71,
   "metadata": {},
   "outputs": [
    {
     "data": {
      "text/html": [
       "<pre style=\"white-space:pre;overflow-x:auto;line-height:normal;font-family:Menlo,'DejaVu Sans Mono',consolas,'Courier New',monospace\"></pre>\n"
      ],
      "text/plain": []
     },
     "metadata": {},
     "output_type": "display_data"
    },
    {
     "name": "stdout",
     "output_type": "stream",
     "text": [
      "┏━━━━━━━┳━━━━━━━━━━━━━━━━━━━━┳━━━━━━━━━━━━━━━━━━━━┳━━━━━━━━━━┓\n",
      "┃\u001b[1m \u001b[0m\u001b[1mid\u001b[0m\u001b[1m   \u001b[0m\u001b[1m \u001b[0m┃\u001b[1m \u001b[0m\u001b[1mnom\u001b[0m\u001b[1m               \u001b[0m\u001b[1m \u001b[0m┃\u001b[1m \u001b[0m\u001b[1mnom_proche_1\u001b[0m\u001b[1m      \u001b[0m\u001b[1m \u001b[0m┃\u001b[1m \u001b[0m\u001b[1mdistance\u001b[0m\u001b[1m \u001b[0m┃\n",
      "┡━━━━━━━╇━━━━━━━━━━━━━━━━━━━━╇━━━━━━━━━━━━━━━━━━━━╇━━━━━━━━━━┩\n",
      "│ \u001b[2mint64\u001b[0m │ \u001b[2mstring\u001b[0m             │ \u001b[2mstring\u001b[0m             │ \u001b[2mfloat64\u001b[0m  │\n",
      "├───────┼────────────────────┼────────────────────┼──────────┤\n",
      "│     \u001b[1;36m1\u001b[0m │ \u001b[32mRépublique        \u001b[0m │ \u001b[32mMairie            \u001b[0m │ \u001b[1;36m0.001753\u001b[0m │\n",
      "│     \u001b[1;36m2\u001b[0m │ \u001b[32mMairie            \u001b[0m │ \u001b[32mRépublique        \u001b[0m │ \u001b[1;36m0.001753\u001b[0m │\n",
      "│     \u001b[1;36m3\u001b[0m │ \u001b[32mChamp Jacquet     \u001b[0m │ \u001b[32mMairie            \u001b[0m │ \u001b[1;36m0.001733\u001b[0m │\n",
      "│    \u001b[1;36m10\u001b[0m │ \u001b[32mMusée Beaux-Arts  \u001b[0m │ \u001b[32mTNB               \u001b[0m │ \u001b[1;36m0.001890\u001b[0m │\n",
      "│    \u001b[1;36m12\u001b[0m │ \u001b[32mTNB               \u001b[0m │ \u001b[32mMusée Beaux-Arts  \u001b[0m │ \u001b[1;36m0.001890\u001b[0m │\n",
      "│    \u001b[1;36m14\u001b[0m │ \u001b[32mLaënnec           \u001b[0m │ \u001b[32mPont de Châteaudun\u001b[0m │ \u001b[1;36m0.003682\u001b[0m │\n",
      "│    \u001b[1;36m17\u001b[0m │ \u001b[32mCharles de Gaulle \u001b[0m │ \u001b[32mChamps Libres     \u001b[0m │ \u001b[1;36m0.002824\u001b[0m │\n",
      "│    \u001b[1;36m20\u001b[0m │ \u001b[32mPont de Nantes    \u001b[0m │ \u001b[32mCité Judiciaire   \u001b[0m │ \u001b[1;36m0.002758\u001b[0m │\n",
      "│    \u001b[1;36m22\u001b[0m │ \u001b[32mOberthur          \u001b[0m │ \u001b[32mMetz - Sévigné    \u001b[0m │ \u001b[1;36m0.004351\u001b[0m │\n",
      "│    \u001b[1;36m25\u001b[0m │ \u001b[32mOffice de Tourisme\u001b[0m │ \u001b[32mPlace de Bretagne \u001b[0m │ \u001b[1;36m0.001135\u001b[0m │\n",
      "│     \u001b[2m…\u001b[0m │ \u001b[2m…\u001b[0m                  │ \u001b[2m…\u001b[0m                  │        \u001b[2m…\u001b[0m │\n",
      "└───────┴────────────────────┴────────────────────┴──────────┘\n"
     ]
    }
   ],
   "source": [
    "print(\n",
    "topologie_table\n",
    "    .left_join(\n",
    "        etat_table,\n",
    "        topologie_table.id_proche_1 == etat_table.id)\n",
    "    .mutate(\n",
    "        distance = ((_.latitude - _.latitude_right) * (_.latitude - _.latitude_right) + (_.longitude - _.longitude_right) * (_.longitude - _.longitude_right))**0.5\n",
    "    )\n",
    "    .select(\"id\", \"nom\", \"nom_right\",\"distance\")\n",
    "    .rename(nom_proche_1=\"nom_right\")\n",
    ")"
   ]
  },
  {
   "cell_type": "code",
   "execution_count": 110,
   "metadata": {},
   "outputs": [
    {
     "data": {
      "text/html": [
       "<pre style=\"white-space:pre;overflow-x:auto;line-height:normal;font-family:Menlo,'DejaVu Sans Mono',consolas,'Courier New',monospace\"></pre>\n"
      ],
      "text/plain": []
     },
     "metadata": {},
     "output_type": "display_data"
    },
    {
     "name": "stdout",
     "output_type": "stream",
     "text": [
      "┏━━━━━━━━━━━━━━━━━━━━━━┳━━━━━━━━━━┳━━━━━━━━━━━━━━━━━━━┓\n",
      "┃\u001b[1m \u001b[0m\u001b[1mnom\u001b[0m\u001b[1m                 \u001b[0m\u001b[1m \u001b[0m┃\u001b[1m \u001b[0m\u001b[1mdistance\u001b[0m\u001b[1m \u001b[0m┃\u001b[1m \u001b[0m\u001b[1mvelos_disponibles\u001b[0m\u001b[1m \u001b[0m┃\n",
      "┡━━━━━━━━━━━━━━━━━━━━━━╇━━━━━━━━━━╇━━━━━━━━━━━━━━━━━━━┩\n",
      "│ \u001b[2mstring\u001b[0m               │ \u001b[2mfloat64\u001b[0m  │ \u001b[2mint64\u001b[0m             │\n",
      "├──────────────────────┼──────────┼───────────────────┤\n",
      "│ \u001b[32mBerger              \u001b[0m │ \u001b[1;36m0.002746\u001b[0m │                \u001b[1;36m10\u001b[0m │\n",
      "│ \u001b[32mVillejean-Université\u001b[0m │ \u001b[1;36m0.003401\u001b[0m │                \u001b[1;36m11\u001b[0m │\n",
      "│ \u001b[32mMarbeuf             \u001b[0m │ \u001b[1;36m0.006216\u001b[0m │                 \u001b[1;36m9\u001b[0m │\n",
      "└──────────────────────┴──────────┴───────────────────┘\n"
     ]
    }
   ],
   "source": [
    "print(\n",
    "    etat_table\n",
    "    .mutate(\n",
    "        distance = (\n",
    "            (48.1179151 - etat_table.latitude)*(48.1179151 - etat_table.latitude) \n",
    "            + (-1.7028661 - etat_table.longitude)*(-1.7028661 - etat_table.longitude)\n",
    "            )**0.5\n",
    "    )\n",
    "    .order_by(\"distance\")\n",
    "    .limit(3)\n",
    "    .select(\"nom\", \"distance\", \"velos_disponibles\")\n",
    ")"
   ]
  },
  {
   "cell_type": "markdown",
   "metadata": {},
   "source": [
    "8. (*Bonus*) Écrire des requêtes SQL pour obtenir les résultats demandés dans les questions 3 à 6. La fonction `to_sql` pourra être utilisée pour de l'aide."
   ]
  },
  {
   "cell_type": "code",
   "execution_count": null,
   "metadata": {},
   "outputs": [],
   "source": []
  },
  {
   "cell_type": "markdown",
   "metadata": {},
   "source": [
    "## Musique"
   ]
  },
  {
   "cell_type": "markdown",
   "metadata": {},
   "source": [
    "Le dépôt GitHub [lerocha/chinook-database](https://github.com/lerocha/chinook-database) met à disposition des bases de données de bibliothèques musicales. Une copie de la base SQLite est disponible dans le fichier `chinook.db`."
   ]
  },
  {
   "cell_type": "markdown",
   "metadata": {},
   "source": [
    "1. Utiliser le module `ibis` pour vous connecter à la base de données et explorer les tables formant le jeu de données pour le découvrir. En particulier, remarquer comment les tables `Playlist`, `PlaylistTrack` et `Track` sont liées entre elles."
   ]
  },
  {
   "cell_type": "code",
   "execution_count": 111,
   "metadata": {},
   "outputs": [
    {
     "data": {
      "text/plain": [
       "Tables\n",
       "------\n",
       "- Album\n",
       "- Artist\n",
       "- Customer\n",
       "- Employee\n",
       "- Genre\n",
       "- Invoice\n",
       "- InvoiceLine\n",
       "- MediaType\n",
       "- Playlist\n",
       "- PlaylistTrack\n",
       "- Track"
      ]
     },
     "execution_count": 111,
     "metadata": {},
     "output_type": "execute_result"
    }
   ],
   "source": [
    "con_chinook = ibis.sqlite.connect(\"data/chinook.db\")\n",
    "con_chinook.tables"
   ]
  },
  {
   "cell_type": "code",
   "execution_count": 114,
   "metadata": {},
   "outputs": [
    {
     "data": {
      "text/html": [
       "<pre style=\"white-space:pre;overflow-x:auto;line-height:normal;font-family:Menlo,'DejaVu Sans Mono',consolas,'Courier New',monospace\">┏━━━━━━━━━━━━┳━━━━━━━━━━━━━━┓\n",
       "┃<span style=\"font-weight: bold\"> PlaylistId </span>┃<span style=\"font-weight: bold\"> Name         </span>┃\n",
       "┡━━━━━━━━━━━━╇━━━━━━━━━━━━━━┩\n",
       "│ <span style=\"color: #7f7f7f; text-decoration-color: #7f7f7f\">!int64</span>     │ <span style=\"color: #7f7f7f; text-decoration-color: #7f7f7f\">string(120)</span>  │\n",
       "├────────────┼──────────────┤\n",
       "│          <span style=\"color: #008080; text-decoration-color: #008080; font-weight: bold\">1</span> │ <span style=\"color: #008000; text-decoration-color: #008000\">Music       </span> │\n",
       "│          <span style=\"color: #008080; text-decoration-color: #008080; font-weight: bold\">2</span> │ <span style=\"color: #008000; text-decoration-color: #008000\">Movies      </span> │\n",
       "│          <span style=\"color: #008080; text-decoration-color: #008080; font-weight: bold\">3</span> │ <span style=\"color: #008000; text-decoration-color: #008000\">TV Shows    </span> │\n",
       "│          <span style=\"color: #008080; text-decoration-color: #008080; font-weight: bold\">4</span> │ <span style=\"color: #008000; text-decoration-color: #008000\">Audiobooks  </span> │\n",
       "│          <span style=\"color: #008080; text-decoration-color: #008080; font-weight: bold\">5</span> │ <span style=\"color: #008000; text-decoration-color: #008000\">90’s Music  </span> │\n",
       "│          <span style=\"color: #008080; text-decoration-color: #008080; font-weight: bold\">6</span> │ <span style=\"color: #008000; text-decoration-color: #008000\">Audiobooks  </span> │\n",
       "│          <span style=\"color: #008080; text-decoration-color: #008080; font-weight: bold\">7</span> │ <span style=\"color: #008000; text-decoration-color: #008000\">Movies      </span> │\n",
       "│          <span style=\"color: #008080; text-decoration-color: #008080; font-weight: bold\">8</span> │ <span style=\"color: #008000; text-decoration-color: #008000\">Music       </span> │\n",
       "│          <span style=\"color: #008080; text-decoration-color: #008080; font-weight: bold\">9</span> │ <span style=\"color: #008000; text-decoration-color: #008000\">Music Videos</span> │\n",
       "│         <span style=\"color: #008080; text-decoration-color: #008080; font-weight: bold\">10</span> │ <span style=\"color: #008000; text-decoration-color: #008000\">TV Shows    </span> │\n",
       "│          <span style=\"color: #7f7f7f; text-decoration-color: #7f7f7f\">…</span> │ <span style=\"color: #7f7f7f; text-decoration-color: #7f7f7f\">…</span>            │\n",
       "└────────────┴──────────────┘\n",
       "</pre>\n"
      ],
      "text/plain": [
       "┏━━━━━━━━━━━━┳━━━━━━━━━━━━━━┓\n",
       "┃\u001b[1m \u001b[0m\u001b[1mPlaylistId\u001b[0m\u001b[1m \u001b[0m┃\u001b[1m \u001b[0m\u001b[1mName\u001b[0m\u001b[1m        \u001b[0m\u001b[1m \u001b[0m┃\n",
       "┡━━━━━━━━━━━━╇━━━━━━━━━━━━━━┩\n",
       "│ \u001b[2m!int64\u001b[0m     │ \u001b[2mstring(120)\u001b[0m  │\n",
       "├────────────┼──────────────┤\n",
       "│          \u001b[1;36m1\u001b[0m │ \u001b[32mMusic       \u001b[0m │\n",
       "│          \u001b[1;36m2\u001b[0m │ \u001b[32mMovies      \u001b[0m │\n",
       "│          \u001b[1;36m3\u001b[0m │ \u001b[32mTV Shows    \u001b[0m │\n",
       "│          \u001b[1;36m4\u001b[0m │ \u001b[32mAudiobooks  \u001b[0m │\n",
       "│          \u001b[1;36m5\u001b[0m │ \u001b[32m90’s Music  \u001b[0m │\n",
       "│          \u001b[1;36m6\u001b[0m │ \u001b[32mAudiobooks  \u001b[0m │\n",
       "│          \u001b[1;36m7\u001b[0m │ \u001b[32mMovies      \u001b[0m │\n",
       "│          \u001b[1;36m8\u001b[0m │ \u001b[32mMusic       \u001b[0m │\n",
       "│          \u001b[1;36m9\u001b[0m │ \u001b[32mMusic Videos\u001b[0m │\n",
       "│         \u001b[1;36m10\u001b[0m │ \u001b[32mTV Shows    \u001b[0m │\n",
       "│          \u001b[2m…\u001b[0m │ \u001b[2m…\u001b[0m            │\n",
       "└────────────┴──────────────┘"
      ]
     },
     "execution_count": 114,
     "metadata": {},
     "output_type": "execute_result"
    }
   ],
   "source": [
    "playlist = con_chinook.table(\"Playlist\")\n",
    "playlist"
   ]
  },
  {
   "cell_type": "code",
   "execution_count": 115,
   "metadata": {},
   "outputs": [
    {
     "data": {
      "text/html": [
       "<pre style=\"white-space:pre;overflow-x:auto;line-height:normal;font-family:Menlo,'DejaVu Sans Mono',consolas,'Courier New',monospace\">┏━━━━━━━━━┳━━━━━━━━━━━━━━━━━━━━━━━━━━━━━━━━━━━━━━━━━┳━━━━━━━━━┳━━━━━━━━━━━━━┳━━━━━━━━━┳━━━━━━━━━━━━━━━━━━━━━━━━━━━━━━━━━━━━━━━━━━━━━━━━━━━━━━━━━━━━━━━━━━━━━━━━┳━━━━━━━━━━━━━━┳━━━━━━━━━━┳━━━━━━━━━━━━━━━━━┓\n",
       "┃<span style=\"font-weight: bold\"> TrackId </span>┃<span style=\"font-weight: bold\"> Name                                    </span>┃<span style=\"font-weight: bold\"> AlbumId </span>┃<span style=\"font-weight: bold\"> MediaTypeId </span>┃<span style=\"font-weight: bold\"> GenreId </span>┃<span style=\"font-weight: bold\"> Composer                                                               </span>┃<span style=\"font-weight: bold\"> Milliseconds </span>┃<span style=\"font-weight: bold\"> Bytes    </span>┃<span style=\"font-weight: bold\"> UnitPrice       </span>┃\n",
       "┡━━━━━━━━━╇━━━━━━━━━━━━━━━━━━━━━━━━━━━━━━━━━━━━━━━━━╇━━━━━━━━━╇━━━━━━━━━━━━━╇━━━━━━━━━╇━━━━━━━━━━━━━━━━━━━━━━━━━━━━━━━━━━━━━━━━━━━━━━━━━━━━━━━━━━━━━━━━━━━━━━━━╇━━━━━━━━━━━━━━╇━━━━━━━━━━╇━━━━━━━━━━━━━━━━━┩\n",
       "│ <span style=\"color: #7f7f7f; text-decoration-color: #7f7f7f\">!int64</span>  │ <span style=\"color: #7f7f7f; text-decoration-color: #7f7f7f\">!string(200)</span>                            │ <span style=\"color: #7f7f7f; text-decoration-color: #7f7f7f\">int64</span>   │ <span style=\"color: #7f7f7f; text-decoration-color: #7f7f7f\">!int64</span>      │ <span style=\"color: #7f7f7f; text-decoration-color: #7f7f7f\">int64</span>   │ <span style=\"color: #7f7f7f; text-decoration-color: #7f7f7f\">string(220)</span>                                                            │ <span style=\"color: #7f7f7f; text-decoration-color: #7f7f7f\">!int64</span>       │ <span style=\"color: #7f7f7f; text-decoration-color: #7f7f7f\">int64</span>    │ <span style=\"color: #7f7f7f; text-decoration-color: #7f7f7f\">!decimal(10, 2)</span> │\n",
       "├─────────┼─────────────────────────────────────────┼─────────┼─────────────┼─────────┼────────────────────────────────────────────────────────────────────────┼──────────────┼──────────┼─────────────────┤\n",
       "│       <span style=\"color: #008080; text-decoration-color: #008080; font-weight: bold\">1</span> │ <span style=\"color: #008000; text-decoration-color: #008000\">For Those About To Rock (We Salute You)</span> │       <span style=\"color: #008080; text-decoration-color: #008080; font-weight: bold\">1</span> │           <span style=\"color: #008080; text-decoration-color: #008080; font-weight: bold\">1</span> │       <span style=\"color: #008080; text-decoration-color: #008080; font-weight: bold\">1</span> │ <span style=\"color: #008000; text-decoration-color: #008000\">Angus Young, Malcolm Young, Brian Johnson                             </span> │       <span style=\"color: #008080; text-decoration-color: #008080; font-weight: bold\">343719</span> │ <span style=\"color: #008080; text-decoration-color: #008080; font-weight: bold\">11170334</span> │            <span style=\"color: #008080; text-decoration-color: #008080; font-weight: bold\">0.99</span> │\n",
       "│       <span style=\"color: #008080; text-decoration-color: #008080; font-weight: bold\">2</span> │ <span style=\"color: #008000; text-decoration-color: #008000\">Balls to the Wall                      </span> │       <span style=\"color: #008080; text-decoration-color: #008080; font-weight: bold\">2</span> │           <span style=\"color: #008080; text-decoration-color: #008080; font-weight: bold\">2</span> │       <span style=\"color: #008080; text-decoration-color: #008080; font-weight: bold\">1</span> │ <span style=\"color: #7f7f7f; text-decoration-color: #7f7f7f\">NULL</span>                                                                   │       <span style=\"color: #008080; text-decoration-color: #008080; font-weight: bold\">342562</span> │  <span style=\"color: #008080; text-decoration-color: #008080; font-weight: bold\">5510424</span> │            <span style=\"color: #008080; text-decoration-color: #008080; font-weight: bold\">0.99</span> │\n",
       "│       <span style=\"color: #008080; text-decoration-color: #008080; font-weight: bold\">3</span> │ <span style=\"color: #008000; text-decoration-color: #008000\">Fast As a Shark                        </span> │       <span style=\"color: #008080; text-decoration-color: #008080; font-weight: bold\">3</span> │           <span style=\"color: #008080; text-decoration-color: #008080; font-weight: bold\">2</span> │       <span style=\"color: #008080; text-decoration-color: #008080; font-weight: bold\">1</span> │ <span style=\"color: #008000; text-decoration-color: #008000\">F. Baltes, S. Kaufman, U. Dirkscneider &amp; W. Hoffman                   </span> │       <span style=\"color: #008080; text-decoration-color: #008080; font-weight: bold\">230619</span> │  <span style=\"color: #008080; text-decoration-color: #008080; font-weight: bold\">3990994</span> │            <span style=\"color: #008080; text-decoration-color: #008080; font-weight: bold\">0.99</span> │\n",
       "│       <span style=\"color: #008080; text-decoration-color: #008080; font-weight: bold\">4</span> │ <span style=\"color: #008000; text-decoration-color: #008000\">Restless and Wild                      </span> │       <span style=\"color: #008080; text-decoration-color: #008080; font-weight: bold\">3</span> │           <span style=\"color: #008080; text-decoration-color: #008080; font-weight: bold\">2</span> │       <span style=\"color: #008080; text-decoration-color: #008080; font-weight: bold\">1</span> │ <span style=\"color: #008000; text-decoration-color: #008000\">F. Baltes, R.A. Smith-Diesel, S. Kaufman, U. Dirkscneider &amp; W. Hoffman</span> │       <span style=\"color: #008080; text-decoration-color: #008080; font-weight: bold\">252051</span> │  <span style=\"color: #008080; text-decoration-color: #008080; font-weight: bold\">4331779</span> │            <span style=\"color: #008080; text-decoration-color: #008080; font-weight: bold\">0.99</span> │\n",
       "│       <span style=\"color: #008080; text-decoration-color: #008080; font-weight: bold\">5</span> │ <span style=\"color: #008000; text-decoration-color: #008000\">Princess of the Dawn                   </span> │       <span style=\"color: #008080; text-decoration-color: #008080; font-weight: bold\">3</span> │           <span style=\"color: #008080; text-decoration-color: #008080; font-weight: bold\">2</span> │       <span style=\"color: #008080; text-decoration-color: #008080; font-weight: bold\">1</span> │ <span style=\"color: #008000; text-decoration-color: #008000\">Deaffy &amp; R.A. Smith-Diesel                                            </span> │       <span style=\"color: #008080; text-decoration-color: #008080; font-weight: bold\">375418</span> │  <span style=\"color: #008080; text-decoration-color: #008080; font-weight: bold\">6290521</span> │            <span style=\"color: #008080; text-decoration-color: #008080; font-weight: bold\">0.99</span> │\n",
       "│       <span style=\"color: #008080; text-decoration-color: #008080; font-weight: bold\">6</span> │ <span style=\"color: #008000; text-decoration-color: #008000\">Put The Finger On You                  </span> │       <span style=\"color: #008080; text-decoration-color: #008080; font-weight: bold\">1</span> │           <span style=\"color: #008080; text-decoration-color: #008080; font-weight: bold\">1</span> │       <span style=\"color: #008080; text-decoration-color: #008080; font-weight: bold\">1</span> │ <span style=\"color: #008000; text-decoration-color: #008000\">Angus Young, Malcolm Young, Brian Johnson                             </span> │       <span style=\"color: #008080; text-decoration-color: #008080; font-weight: bold\">205662</span> │  <span style=\"color: #008080; text-decoration-color: #008080; font-weight: bold\">6713451</span> │            <span style=\"color: #008080; text-decoration-color: #008080; font-weight: bold\">0.99</span> │\n",
       "│       <span style=\"color: #008080; text-decoration-color: #008080; font-weight: bold\">7</span> │ <span style=\"color: #008000; text-decoration-color: #008000\">Let's Get It Up                        </span> │       <span style=\"color: #008080; text-decoration-color: #008080; font-weight: bold\">1</span> │           <span style=\"color: #008080; text-decoration-color: #008080; font-weight: bold\">1</span> │       <span style=\"color: #008080; text-decoration-color: #008080; font-weight: bold\">1</span> │ <span style=\"color: #008000; text-decoration-color: #008000\">Angus Young, Malcolm Young, Brian Johnson                             </span> │       <span style=\"color: #008080; text-decoration-color: #008080; font-weight: bold\">233926</span> │  <span style=\"color: #008080; text-decoration-color: #008080; font-weight: bold\">7636561</span> │            <span style=\"color: #008080; text-decoration-color: #008080; font-weight: bold\">0.99</span> │\n",
       "│       <span style=\"color: #008080; text-decoration-color: #008080; font-weight: bold\">8</span> │ <span style=\"color: #008000; text-decoration-color: #008000\">Inject The Venom                       </span> │       <span style=\"color: #008080; text-decoration-color: #008080; font-weight: bold\">1</span> │           <span style=\"color: #008080; text-decoration-color: #008080; font-weight: bold\">1</span> │       <span style=\"color: #008080; text-decoration-color: #008080; font-weight: bold\">1</span> │ <span style=\"color: #008000; text-decoration-color: #008000\">Angus Young, Malcolm Young, Brian Johnson                             </span> │       <span style=\"color: #008080; text-decoration-color: #008080; font-weight: bold\">210834</span> │  <span style=\"color: #008080; text-decoration-color: #008080; font-weight: bold\">6852860</span> │            <span style=\"color: #008080; text-decoration-color: #008080; font-weight: bold\">0.99</span> │\n",
       "│       <span style=\"color: #008080; text-decoration-color: #008080; font-weight: bold\">9</span> │ <span style=\"color: #008000; text-decoration-color: #008000\">Snowballed                             </span> │       <span style=\"color: #008080; text-decoration-color: #008080; font-weight: bold\">1</span> │           <span style=\"color: #008080; text-decoration-color: #008080; font-weight: bold\">1</span> │       <span style=\"color: #008080; text-decoration-color: #008080; font-weight: bold\">1</span> │ <span style=\"color: #008000; text-decoration-color: #008000\">Angus Young, Malcolm Young, Brian Johnson                             </span> │       <span style=\"color: #008080; text-decoration-color: #008080; font-weight: bold\">203102</span> │  <span style=\"color: #008080; text-decoration-color: #008080; font-weight: bold\">6599424</span> │            <span style=\"color: #008080; text-decoration-color: #008080; font-weight: bold\">0.99</span> │\n",
       "│      <span style=\"color: #008080; text-decoration-color: #008080; font-weight: bold\">10</span> │ <span style=\"color: #008000; text-decoration-color: #008000\">Evil Walks                             </span> │       <span style=\"color: #008080; text-decoration-color: #008080; font-weight: bold\">1</span> │           <span style=\"color: #008080; text-decoration-color: #008080; font-weight: bold\">1</span> │       <span style=\"color: #008080; text-decoration-color: #008080; font-weight: bold\">1</span> │ <span style=\"color: #008000; text-decoration-color: #008000\">Angus Young, Malcolm Young, Brian Johnson                             </span> │       <span style=\"color: #008080; text-decoration-color: #008080; font-weight: bold\">263497</span> │  <span style=\"color: #008080; text-decoration-color: #008080; font-weight: bold\">8611245</span> │            <span style=\"color: #008080; text-decoration-color: #008080; font-weight: bold\">0.99</span> │\n",
       "│       <span style=\"color: #7f7f7f; text-decoration-color: #7f7f7f\">…</span> │ <span style=\"color: #7f7f7f; text-decoration-color: #7f7f7f\">…</span>                                       │       <span style=\"color: #7f7f7f; text-decoration-color: #7f7f7f\">…</span> │           <span style=\"color: #7f7f7f; text-decoration-color: #7f7f7f\">…</span> │       <span style=\"color: #7f7f7f; text-decoration-color: #7f7f7f\">…</span> │ <span style=\"color: #7f7f7f; text-decoration-color: #7f7f7f\">…</span>                                                                      │            <span style=\"color: #7f7f7f; text-decoration-color: #7f7f7f\">…</span> │        <span style=\"color: #7f7f7f; text-decoration-color: #7f7f7f\">…</span> │               <span style=\"color: #7f7f7f; text-decoration-color: #7f7f7f\">…</span> │\n",
       "└─────────┴─────────────────────────────────────────┴─────────┴─────────────┴─────────┴────────────────────────────────────────────────────────────────────────┴──────────────┴──────────┴─────────────────┘\n",
       "</pre>\n"
      ],
      "text/plain": [
       "┏━━━━━━━━━┳━━━━━━━━━━━━━━━━━━━━━━━━━━━━━━━━━━━━━━━━━┳━━━━━━━━━┳━━━━━━━━━━━━━┳━━━━━━━━━┳━━━━━━━━━━━━━━━━━━━━━━━━━━━━━━━━━━━━━━━━━━━━━━━━━━━━━━━━━━━━━━━━━━━━━━━━┳━━━━━━━━━━━━━━┳━━━━━━━━━━┳━━━━━━━━━━━━━━━━━┓\n",
       "┃\u001b[1m \u001b[0m\u001b[1mTrackId\u001b[0m\u001b[1m \u001b[0m┃\u001b[1m \u001b[0m\u001b[1mName\u001b[0m\u001b[1m                                   \u001b[0m\u001b[1m \u001b[0m┃\u001b[1m \u001b[0m\u001b[1mAlbumId\u001b[0m\u001b[1m \u001b[0m┃\u001b[1m \u001b[0m\u001b[1mMediaTypeId\u001b[0m\u001b[1m \u001b[0m┃\u001b[1m \u001b[0m\u001b[1mGenreId\u001b[0m\u001b[1m \u001b[0m┃\u001b[1m \u001b[0m\u001b[1mComposer\u001b[0m\u001b[1m                                                              \u001b[0m\u001b[1m \u001b[0m┃\u001b[1m \u001b[0m\u001b[1mMilliseconds\u001b[0m\u001b[1m \u001b[0m┃\u001b[1m \u001b[0m\u001b[1mBytes\u001b[0m\u001b[1m   \u001b[0m\u001b[1m \u001b[0m┃\u001b[1m \u001b[0m\u001b[1mUnitPrice\u001b[0m\u001b[1m      \u001b[0m\u001b[1m \u001b[0m┃\n",
       "┡━━━━━━━━━╇━━━━━━━━━━━━━━━━━━━━━━━━━━━━━━━━━━━━━━━━━╇━━━━━━━━━╇━━━━━━━━━━━━━╇━━━━━━━━━╇━━━━━━━━━━━━━━━━━━━━━━━━━━━━━━━━━━━━━━━━━━━━━━━━━━━━━━━━━━━━━━━━━━━━━━━━╇━━━━━━━━━━━━━━╇━━━━━━━━━━╇━━━━━━━━━━━━━━━━━┩\n",
       "│ \u001b[2m!int64\u001b[0m  │ \u001b[2m!string(200)\u001b[0m                            │ \u001b[2mint64\u001b[0m   │ \u001b[2m!int64\u001b[0m      │ \u001b[2mint64\u001b[0m   │ \u001b[2mstring(220)\u001b[0m                                                            │ \u001b[2m!int64\u001b[0m       │ \u001b[2mint64\u001b[0m    │ \u001b[2m!decimal(10, 2)\u001b[0m │\n",
       "├─────────┼─────────────────────────────────────────┼─────────┼─────────────┼─────────┼────────────────────────────────────────────────────────────────────────┼──────────────┼──────────┼─────────────────┤\n",
       "│       \u001b[1;36m1\u001b[0m │ \u001b[32mFor Those About To Rock (We Salute You)\u001b[0m │       \u001b[1;36m1\u001b[0m │           \u001b[1;36m1\u001b[0m │       \u001b[1;36m1\u001b[0m │ \u001b[32mAngus Young, Malcolm Young, Brian Johnson                             \u001b[0m │       \u001b[1;36m343719\u001b[0m │ \u001b[1;36m11170334\u001b[0m │            \u001b[1;36m0.99\u001b[0m │\n",
       "│       \u001b[1;36m2\u001b[0m │ \u001b[32mBalls to the Wall                      \u001b[0m │       \u001b[1;36m2\u001b[0m │           \u001b[1;36m2\u001b[0m │       \u001b[1;36m1\u001b[0m │ \u001b[2mNULL\u001b[0m                                                                   │       \u001b[1;36m342562\u001b[0m │  \u001b[1;36m5510424\u001b[0m │            \u001b[1;36m0.99\u001b[0m │\n",
       "│       \u001b[1;36m3\u001b[0m │ \u001b[32mFast As a Shark                        \u001b[0m │       \u001b[1;36m3\u001b[0m │           \u001b[1;36m2\u001b[0m │       \u001b[1;36m1\u001b[0m │ \u001b[32mF. Baltes, S. Kaufman, U. Dirkscneider & W. Hoffman                   \u001b[0m │       \u001b[1;36m230619\u001b[0m │  \u001b[1;36m3990994\u001b[0m │            \u001b[1;36m0.99\u001b[0m │\n",
       "│       \u001b[1;36m4\u001b[0m │ \u001b[32mRestless and Wild                      \u001b[0m │       \u001b[1;36m3\u001b[0m │           \u001b[1;36m2\u001b[0m │       \u001b[1;36m1\u001b[0m │ \u001b[32mF. Baltes, R.A. Smith-Diesel, S. Kaufman, U. Dirkscneider & W. Hoffman\u001b[0m │       \u001b[1;36m252051\u001b[0m │  \u001b[1;36m4331779\u001b[0m │            \u001b[1;36m0.99\u001b[0m │\n",
       "│       \u001b[1;36m5\u001b[0m │ \u001b[32mPrincess of the Dawn                   \u001b[0m │       \u001b[1;36m3\u001b[0m │           \u001b[1;36m2\u001b[0m │       \u001b[1;36m1\u001b[0m │ \u001b[32mDeaffy & R.A. Smith-Diesel                                            \u001b[0m │       \u001b[1;36m375418\u001b[0m │  \u001b[1;36m6290521\u001b[0m │            \u001b[1;36m0.99\u001b[0m │\n",
       "│       \u001b[1;36m6\u001b[0m │ \u001b[32mPut The Finger On You                  \u001b[0m │       \u001b[1;36m1\u001b[0m │           \u001b[1;36m1\u001b[0m │       \u001b[1;36m1\u001b[0m │ \u001b[32mAngus Young, Malcolm Young, Brian Johnson                             \u001b[0m │       \u001b[1;36m205662\u001b[0m │  \u001b[1;36m6713451\u001b[0m │            \u001b[1;36m0.99\u001b[0m │\n",
       "│       \u001b[1;36m7\u001b[0m │ \u001b[32mLet's Get It Up                        \u001b[0m │       \u001b[1;36m1\u001b[0m │           \u001b[1;36m1\u001b[0m │       \u001b[1;36m1\u001b[0m │ \u001b[32mAngus Young, Malcolm Young, Brian Johnson                             \u001b[0m │       \u001b[1;36m233926\u001b[0m │  \u001b[1;36m7636561\u001b[0m │            \u001b[1;36m0.99\u001b[0m │\n",
       "│       \u001b[1;36m8\u001b[0m │ \u001b[32mInject The Venom                       \u001b[0m │       \u001b[1;36m1\u001b[0m │           \u001b[1;36m1\u001b[0m │       \u001b[1;36m1\u001b[0m │ \u001b[32mAngus Young, Malcolm Young, Brian Johnson                             \u001b[0m │       \u001b[1;36m210834\u001b[0m │  \u001b[1;36m6852860\u001b[0m │            \u001b[1;36m0.99\u001b[0m │\n",
       "│       \u001b[1;36m9\u001b[0m │ \u001b[32mSnowballed                             \u001b[0m │       \u001b[1;36m1\u001b[0m │           \u001b[1;36m1\u001b[0m │       \u001b[1;36m1\u001b[0m │ \u001b[32mAngus Young, Malcolm Young, Brian Johnson                             \u001b[0m │       \u001b[1;36m203102\u001b[0m │  \u001b[1;36m6599424\u001b[0m │            \u001b[1;36m0.99\u001b[0m │\n",
       "│      \u001b[1;36m10\u001b[0m │ \u001b[32mEvil Walks                             \u001b[0m │       \u001b[1;36m1\u001b[0m │           \u001b[1;36m1\u001b[0m │       \u001b[1;36m1\u001b[0m │ \u001b[32mAngus Young, Malcolm Young, Brian Johnson                             \u001b[0m │       \u001b[1;36m263497\u001b[0m │  \u001b[1;36m8611245\u001b[0m │            \u001b[1;36m0.99\u001b[0m │\n",
       "│       \u001b[2m…\u001b[0m │ \u001b[2m…\u001b[0m                                       │       \u001b[2m…\u001b[0m │           \u001b[2m…\u001b[0m │       \u001b[2m…\u001b[0m │ \u001b[2m…\u001b[0m                                                                      │            \u001b[2m…\u001b[0m │        \u001b[2m…\u001b[0m │               \u001b[2m…\u001b[0m │\n",
       "└─────────┴─────────────────────────────────────────┴─────────┴─────────────┴─────────┴────────────────────────────────────────────────────────────────────────┴──────────────┴──────────┴─────────────────┘"
      ]
     },
     "execution_count": 115,
     "metadata": {},
     "output_type": "execute_result"
    }
   ],
   "source": [
    "track = con_chinook.table(\"Track\")\n",
    "track"
   ]
  },
  {
   "cell_type": "code",
   "execution_count": 116,
   "metadata": {},
   "outputs": [
    {
     "data": {
      "text/html": [
       "<pre style=\"white-space:pre;overflow-x:auto;line-height:normal;font-family:Menlo,'DejaVu Sans Mono',consolas,'Courier New',monospace\">┏━━━━━━━━━━━━┳━━━━━━━━━┓\n",
       "┃<span style=\"font-weight: bold\"> PlaylistId </span>┃<span style=\"font-weight: bold\"> TrackId </span>┃\n",
       "┡━━━━━━━━━━━━╇━━━━━━━━━┩\n",
       "│ <span style=\"color: #7f7f7f; text-decoration-color: #7f7f7f\">!int64</span>     │ <span style=\"color: #7f7f7f; text-decoration-color: #7f7f7f\">!int64</span>  │\n",
       "├────────────┼─────────┤\n",
       "│          <span style=\"color: #008080; text-decoration-color: #008080; font-weight: bold\">1</span> │    <span style=\"color: #008080; text-decoration-color: #008080; font-weight: bold\">3402</span> │\n",
       "│          <span style=\"color: #008080; text-decoration-color: #008080; font-weight: bold\">1</span> │    <span style=\"color: #008080; text-decoration-color: #008080; font-weight: bold\">3389</span> │\n",
       "│          <span style=\"color: #008080; text-decoration-color: #008080; font-weight: bold\">1</span> │    <span style=\"color: #008080; text-decoration-color: #008080; font-weight: bold\">3390</span> │\n",
       "│          <span style=\"color: #008080; text-decoration-color: #008080; font-weight: bold\">1</span> │    <span style=\"color: #008080; text-decoration-color: #008080; font-weight: bold\">3391</span> │\n",
       "│          <span style=\"color: #008080; text-decoration-color: #008080; font-weight: bold\">1</span> │    <span style=\"color: #008080; text-decoration-color: #008080; font-weight: bold\">3392</span> │\n",
       "│          <span style=\"color: #008080; text-decoration-color: #008080; font-weight: bold\">1</span> │    <span style=\"color: #008080; text-decoration-color: #008080; font-weight: bold\">3393</span> │\n",
       "│          <span style=\"color: #008080; text-decoration-color: #008080; font-weight: bold\">1</span> │    <span style=\"color: #008080; text-decoration-color: #008080; font-weight: bold\">3394</span> │\n",
       "│          <span style=\"color: #008080; text-decoration-color: #008080; font-weight: bold\">1</span> │    <span style=\"color: #008080; text-decoration-color: #008080; font-weight: bold\">3395</span> │\n",
       "│          <span style=\"color: #008080; text-decoration-color: #008080; font-weight: bold\">1</span> │    <span style=\"color: #008080; text-decoration-color: #008080; font-weight: bold\">3396</span> │\n",
       "│          <span style=\"color: #008080; text-decoration-color: #008080; font-weight: bold\">1</span> │    <span style=\"color: #008080; text-decoration-color: #008080; font-weight: bold\">3397</span> │\n",
       "│          <span style=\"color: #7f7f7f; text-decoration-color: #7f7f7f\">…</span> │       <span style=\"color: #7f7f7f; text-decoration-color: #7f7f7f\">…</span> │\n",
       "└────────────┴─────────┘\n",
       "</pre>\n"
      ],
      "text/plain": [
       "┏━━━━━━━━━━━━┳━━━━━━━━━┓\n",
       "┃\u001b[1m \u001b[0m\u001b[1mPlaylistId\u001b[0m\u001b[1m \u001b[0m┃\u001b[1m \u001b[0m\u001b[1mTrackId\u001b[0m\u001b[1m \u001b[0m┃\n",
       "┡━━━━━━━━━━━━╇━━━━━━━━━┩\n",
       "│ \u001b[2m!int64\u001b[0m     │ \u001b[2m!int64\u001b[0m  │\n",
       "├────────────┼─────────┤\n",
       "│          \u001b[1;36m1\u001b[0m │    \u001b[1;36m3402\u001b[0m │\n",
       "│          \u001b[1;36m1\u001b[0m │    \u001b[1;36m3389\u001b[0m │\n",
       "│          \u001b[1;36m1\u001b[0m │    \u001b[1;36m3390\u001b[0m │\n",
       "│          \u001b[1;36m1\u001b[0m │    \u001b[1;36m3391\u001b[0m │\n",
       "│          \u001b[1;36m1\u001b[0m │    \u001b[1;36m3392\u001b[0m │\n",
       "│          \u001b[1;36m1\u001b[0m │    \u001b[1;36m3393\u001b[0m │\n",
       "│          \u001b[1;36m1\u001b[0m │    \u001b[1;36m3394\u001b[0m │\n",
       "│          \u001b[1;36m1\u001b[0m │    \u001b[1;36m3395\u001b[0m │\n",
       "│          \u001b[1;36m1\u001b[0m │    \u001b[1;36m3396\u001b[0m │\n",
       "│          \u001b[1;36m1\u001b[0m │    \u001b[1;36m3397\u001b[0m │\n",
       "│          \u001b[2m…\u001b[0m │       \u001b[2m…\u001b[0m │\n",
       "└────────────┴─────────┘"
      ]
     },
     "execution_count": 116,
     "metadata": {},
     "output_type": "execute_result"
    }
   ],
   "source": [
    "playlist_track = con_chinook.table(\"PlaylistTrack\")\n",
    "playlist_track"
   ]
  },
  {
   "cell_type": "markdown",
   "metadata": {},
   "source": [
    "2. Quelles sont les playlists qui contiennent le plus de pistes ?"
   ]
  },
  {
   "cell_type": "code",
   "execution_count": 120,
   "metadata": {},
   "outputs": [
    {
     "data": {
      "text/html": [
       "<pre style=\"white-space:pre;overflow-x:auto;line-height:normal;font-family:Menlo,'DejaVu Sans Mono',consolas,'Courier New',monospace\">┏━━━━━━━━━━━━┳━━━━━━━━━━━━━━━━━━━━━━━━━━━━┳━━━━━━━━━┓\n",
       "┃<span style=\"font-weight: bold\"> PlaylistId </span>┃<span style=\"font-weight: bold\"> Name                       </span>┃<span style=\"font-weight: bold\"> n_track </span>┃\n",
       "┡━━━━━━━━━━━━╇━━━━━━━━━━━━━━━━━━━━━━━━━━━━╇━━━━━━━━━┩\n",
       "│ <span style=\"color: #7f7f7f; text-decoration-color: #7f7f7f\">int64</span>      │ <span style=\"color: #7f7f7f; text-decoration-color: #7f7f7f\">string(120)</span>                │ <span style=\"color: #7f7f7f; text-decoration-color: #7f7f7f\">int64</span>   │\n",
       "├────────────┼────────────────────────────┼─────────┤\n",
       "│          <span style=\"color: #008080; text-decoration-color: #008080; font-weight: bold\">1</span> │ <span style=\"color: #008000; text-decoration-color: #008000\">Music                     </span> │    <span style=\"color: #008080; text-decoration-color: #008080; font-weight: bold\">3290</span> │\n",
       "│          <span style=\"color: #008080; text-decoration-color: #008080; font-weight: bold\">8</span> │ <span style=\"color: #008000; text-decoration-color: #008000\">Music                     </span> │    <span style=\"color: #008080; text-decoration-color: #008080; font-weight: bold\">3290</span> │\n",
       "│          <span style=\"color: #008080; text-decoration-color: #008080; font-weight: bold\">5</span> │ <span style=\"color: #008000; text-decoration-color: #008000\">90’s Music                </span> │    <span style=\"color: #008080; text-decoration-color: #008080; font-weight: bold\">1477</span> │\n",
       "│          <span style=\"color: #008080; text-decoration-color: #008080; font-weight: bold\">3</span> │ <span style=\"color: #008000; text-decoration-color: #008000\">TV Shows                  </span> │     <span style=\"color: #008080; text-decoration-color: #008080; font-weight: bold\">213</span> │\n",
       "│         <span style=\"color: #008080; text-decoration-color: #008080; font-weight: bold\">10</span> │ <span style=\"color: #008000; text-decoration-color: #008000\">TV Shows                  </span> │     <span style=\"color: #008080; text-decoration-color: #008080; font-weight: bold\">213</span> │\n",
       "│         <span style=\"color: #008080; text-decoration-color: #008080; font-weight: bold\">12</span> │ <span style=\"color: #008000; text-decoration-color: #008000\">Classical                 </span> │      <span style=\"color: #008080; text-decoration-color: #008080; font-weight: bold\">75</span> │\n",
       "│         <span style=\"color: #008080; text-decoration-color: #008080; font-weight: bold\">11</span> │ <span style=\"color: #008000; text-decoration-color: #008000\">Brazilian Music           </span> │      <span style=\"color: #008080; text-decoration-color: #008080; font-weight: bold\">39</span> │\n",
       "│         <span style=\"color: #008080; text-decoration-color: #008080; font-weight: bold\">17</span> │ <span style=\"color: #008000; text-decoration-color: #008000\">Heavy Metal Classic       </span> │      <span style=\"color: #008080; text-decoration-color: #008080; font-weight: bold\">26</span> │\n",
       "│         <span style=\"color: #008080; text-decoration-color: #008080; font-weight: bold\">13</span> │ <span style=\"color: #008000; text-decoration-color: #008000\">Classical 101 - Deep Cuts </span> │      <span style=\"color: #008080; text-decoration-color: #008080; font-weight: bold\">25</span> │\n",
       "│         <span style=\"color: #008080; text-decoration-color: #008080; font-weight: bold\">14</span> │ <span style=\"color: #008000; text-decoration-color: #008000\">Classical 101 - Next Steps</span> │      <span style=\"color: #008080; text-decoration-color: #008080; font-weight: bold\">25</span> │\n",
       "│          <span style=\"color: #7f7f7f; text-decoration-color: #7f7f7f\">…</span> │ <span style=\"color: #7f7f7f; text-decoration-color: #7f7f7f\">…</span>                          │       <span style=\"color: #7f7f7f; text-decoration-color: #7f7f7f\">…</span> │\n",
       "└────────────┴────────────────────────────┴─────────┘\n",
       "</pre>\n"
      ],
      "text/plain": [
       "┏━━━━━━━━━━━━┳━━━━━━━━━━━━━━━━━━━━━━━━━━━━┳━━━━━━━━━┓\n",
       "┃\u001b[1m \u001b[0m\u001b[1mPlaylistId\u001b[0m\u001b[1m \u001b[0m┃\u001b[1m \u001b[0m\u001b[1mName\u001b[0m\u001b[1m                      \u001b[0m\u001b[1m \u001b[0m┃\u001b[1m \u001b[0m\u001b[1mn_track\u001b[0m\u001b[1m \u001b[0m┃\n",
       "┡━━━━━━━━━━━━╇━━━━━━━━━━━━━━━━━━━━━━━━━━━━╇━━━━━━━━━┩\n",
       "│ \u001b[2mint64\u001b[0m      │ \u001b[2mstring(120)\u001b[0m                │ \u001b[2mint64\u001b[0m   │\n",
       "├────────────┼────────────────────────────┼─────────┤\n",
       "│          \u001b[1;36m1\u001b[0m │ \u001b[32mMusic                     \u001b[0m │    \u001b[1;36m3290\u001b[0m │\n",
       "│          \u001b[1;36m8\u001b[0m │ \u001b[32mMusic                     \u001b[0m │    \u001b[1;36m3290\u001b[0m │\n",
       "│          \u001b[1;36m5\u001b[0m │ \u001b[32m90’s Music                \u001b[0m │    \u001b[1;36m1477\u001b[0m │\n",
       "│          \u001b[1;36m3\u001b[0m │ \u001b[32mTV Shows                  \u001b[0m │     \u001b[1;36m213\u001b[0m │\n",
       "│         \u001b[1;36m10\u001b[0m │ \u001b[32mTV Shows                  \u001b[0m │     \u001b[1;36m213\u001b[0m │\n",
       "│         \u001b[1;36m12\u001b[0m │ \u001b[32mClassical                 \u001b[0m │      \u001b[1;36m75\u001b[0m │\n",
       "│         \u001b[1;36m11\u001b[0m │ \u001b[32mBrazilian Music           \u001b[0m │      \u001b[1;36m39\u001b[0m │\n",
       "│         \u001b[1;36m17\u001b[0m │ \u001b[32mHeavy Metal Classic       \u001b[0m │      \u001b[1;36m26\u001b[0m │\n",
       "│         \u001b[1;36m13\u001b[0m │ \u001b[32mClassical 101 - Deep Cuts \u001b[0m │      \u001b[1;36m25\u001b[0m │\n",
       "│         \u001b[1;36m14\u001b[0m │ \u001b[32mClassical 101 - Next Steps\u001b[0m │      \u001b[1;36m25\u001b[0m │\n",
       "│          \u001b[2m…\u001b[0m │ \u001b[2m…\u001b[0m                          │       \u001b[2m…\u001b[0m │\n",
       "└────────────┴────────────────────────────┴─────────┘"
      ]
     },
     "execution_count": 120,
     "metadata": {},
     "output_type": "execute_result"
    }
   ],
   "source": [
    "(\n",
    "    playlist_track\n",
    "    .group_by(\"PlaylistId\")\n",
    "    .aggregate(n_track=playlist_track.count())\n",
    "    .left_join(\n",
    "        playlist, \"PlaylistId\"\n",
    "    )\n",
    "    .select(\"PlaylistId\", \"Name\", \"n_track\")\n",
    "    .order_by(\n",
    "        ibis.desc(\"n_track\")\n",
    "    )\n",
    ")"
   ]
  },
  {
   "cell_type": "markdown",
   "metadata": {},
   "source": [
    "3. Construire une table contenant les informations suivantes sur la playlist `Classical` : le titre de chaque piste ainsi que le titre de l'album dont cette piste est tirée."
   ]
  },
  {
   "cell_type": "code",
   "execution_count": 121,
   "metadata": {},
   "outputs": [
    {
     "data": {
      "text/html": [
       "<pre style=\"white-space:pre;overflow-x:auto;line-height:normal;font-family:Menlo,'DejaVu Sans Mono',consolas,'Courier New',monospace\"></pre>\n"
      ],
      "text/plain": []
     },
     "metadata": {},
     "output_type": "display_data"
    },
    {
     "name": "stdout",
     "output_type": "stream",
     "text": [
      "┏━━━━━━━━━━━━━━━━━━━━━━━━━━━━━━━━━━━━━━━━━━━━━━━━━━━━━━━━━━━━━━━━━━━━━━┳━━━━━━━━━━━━━━━━━━━━━━━━━━━━━━━━━━━━━━━━━━━\n",
      "┃\u001b[1m \u001b[0m\u001b[1mName\u001b[0m\u001b[1m                                                                \u001b[0m\u001b[1m \u001b[0m┃\u001b[1m \u001b[0m\u001b[1mTitle\u001b[0m\u001b[1m                                     \u001b[0m\n",
      "┡━━━━━━━━━━━━━━━━━━━━━━━━━━━━━━━━━━━━━━━━━━━━━━━━━━━━━━━━━━━━━━━━━━━━━━╇━━━━━━━━━━━━━━━━━━━━━━━━━━━━━━━━━━━━━━━━━━━\n",
      "│ \u001b[2mstring(200)\u001b[0m                                                          │ \u001b[2mstring(160)\u001b[0m                               \n",
      "├──────────────────────────────────────────────────────────────────────┼───────────────────────────────────────────\n",
      "│ \u001b[32mIntoitus: Adorate Deum                                              \u001b[0m │ \u001b[32mAdorate Deum: Gregorian Chant from the Pro\u001b[0m\n",
      "│ \u001b[32mMiserere mei, Deus                                                  \u001b[0m │ \u001b[32mAllegri: Miserere                         \u001b[0m\n",
      "│ \u001b[32mCanon and Gigue in D Major: I. Canon                                \u001b[0m │ \u001b[32mPachelbel: Canon & Gigue                  \u001b[0m\n",
      "│ \u001b[32mConcerto No. 1 in E Major, RV 269 \"Spring\": I. Allegro              \u001b[0m │ \u001b[32mVivaldi: The Four Seasons                 \u001b[0m\n",
      "│ \u001b[32mConcerto for 2 Violins in D Minor, BWV 1043: I. Vivace              \u001b[0m │ \u001b[32mBach: Violin Concertos                    \u001b[0m\n",
      "│ \u001b[32mAria Mit 30 Veränderungen, BWV 988 \"Goldberg Variations\": Aria      \u001b[0m │ \u001b[32mBach: Goldberg Variations                 \u001b[0m\n",
      "│ \u001b[32mSuite for Solo Cello No. 1 in G Major, BWV 1007: I. Prélude         \u001b[0m │ \u001b[32mBach: The Cello Suites                    \u001b[0m\n",
      "│ \u001b[32mThe Messiah: Behold, I Tell You a Mystery... The Trumpet Shall Sound\u001b[0m │ \u001b[32mHandel: The Messiah (Highlights)          \u001b[0m\n",
      "│ \u001b[32mSolomon HWV 67: The Arrival of the Queen of Sheba                   \u001b[0m │ \u001b[32mThe World of Classical Favourites         \u001b[0m\n",
      "│ \u001b[32m\"Eine Kleine Nachtmusik\" Serenade In G, K. 525: I. Allegro          \u001b[0m │ \u001b[32mSir Neville Marriner: A Celebration       \u001b[0m\n",
      "│ \u001b[2m…\u001b[0m                                                                    │ \u001b[2m…\u001b[0m                                         \n",
      "└──────────────────────────────────────────────────────────────────────┴───────────────────────────────────────────\n"
     ]
    }
   ],
   "source": [
    "album = con_chinook.table(\"Album\")\n",
    "\n",
    "print(\n",
    "    playlist_track\n",
    "    .left_join(playlist, playlist_track.PlaylistId == playlist.PlaylistId)\n",
    "    .rename(PlaylistName=\"Name\")\n",
    "    .filter(_.PlaylistName == \"Classical\")\n",
    "    .left_join(track, _.TrackId == track.TrackId)\n",
    "    .left_join(album, _.AlbumId == album.AlbumId)\n",
    "    .select(\"Name\", \"Title\")\n",
    ")"
   ]
  },
  {
   "cell_type": "markdown",
   "metadata": {},
   "source": [
    "4. (*Bonus*) Écrire une requête SQL donnant le résultat de la question précédente. La fonction `to_sql` pourra être utilisée pour de l'aide."
   ]
  },
  {
   "cell_type": "code",
   "execution_count": null,
   "metadata": {},
   "outputs": [],
   "source": []
  }
 ],
 "metadata": {
  "kernelspec": {
   "display_name": "base",
   "language": "python",
   "name": "python3"
  },
  "language_info": {
   "codemirror_mode": {
    "name": "ipython",
    "version": 3
   },
   "file_extension": ".py",
   "mimetype": "text/x-python",
   "name": "python",
   "nbconvert_exporter": "python",
   "pygments_lexer": "ipython3",
   "version": "3.11.3"
  }
 },
 "nbformat": 4,
 "nbformat_minor": 2
}
