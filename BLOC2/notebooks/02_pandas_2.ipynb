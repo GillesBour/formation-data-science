{
 "cells": [
  {
   "cell_type": "markdown",
   "metadata": {},
   "source": [
    "# Notebook 2 : Pandas avancé"
   ]
  },
  {
   "cell_type": "code",
   "execution_count": 1,
   "metadata": {},
   "outputs": [],
   "source": [
    "import pandas as pd"
   ]
  },
  {
   "cell_type": "markdown",
   "metadata": {},
   "source": [
    "## Tennis"
   ]
  },
  {
   "cell_type": "markdown",
   "metadata": {},
   "source": [
    "Nous considérons les données des résultats des matchs de tennis masculin des tournois de Roland Garros et Wimbledon en 2013. La liste des variables et leur signification se trouvent sur [cette page](https://archive.ics.uci.edu/dataset/300/tennis+major+tournament+match+statistics) dans la section *Additional Variable Information*."
   ]
  },
  {
   "cell_type": "markdown",
   "metadata": {},
   "source": [
    "1. Commencer par charger le jeu de données relatif au tournoi de Roland Garros dans un dataframe `rg` à partir du fichier `rolandgarros2013.csv`."
   ]
  },
  {
   "cell_type": "code",
   "execution_count": 4,
   "metadata": {},
   "outputs": [
    {
     "data": {
      "text/html": [
       "<div>\n",
       "<style scoped>\n",
       "    .dataframe tbody tr th:only-of-type {\n",
       "        vertical-align: middle;\n",
       "    }\n",
       "\n",
       "    .dataframe tbody tr th {\n",
       "        vertical-align: top;\n",
       "    }\n",
       "\n",
       "    .dataframe thead th {\n",
       "        text-align: right;\n",
       "    }\n",
       "</style>\n",
       "<table border=\"1\" class=\"dataframe\">\n",
       "  <thead>\n",
       "    <tr style=\"text-align: right;\">\n",
       "      <th></th>\n",
       "      <th>Player1</th>\n",
       "      <th>Player2</th>\n",
       "      <th>Round</th>\n",
       "      <th>Result</th>\n",
       "      <th>FNL.1</th>\n",
       "      <th>FNL.2</th>\n",
       "      <th>FSP.1</th>\n",
       "      <th>FSW.1</th>\n",
       "      <th>SSP.1</th>\n",
       "      <th>SSW.1</th>\n",
       "      <th>...</th>\n",
       "      <th>BPC.2</th>\n",
       "      <th>BPW.2</th>\n",
       "      <th>NPA.2</th>\n",
       "      <th>NPW.2</th>\n",
       "      <th>TPW.2</th>\n",
       "      <th>ST1.2</th>\n",
       "      <th>ST2.2</th>\n",
       "      <th>ST3.2</th>\n",
       "      <th>ST4.2</th>\n",
       "      <th>ST5.2</th>\n",
       "    </tr>\n",
       "  </thead>\n",
       "  <tbody>\n",
       "    <tr>\n",
       "      <th>0</th>\n",
       "      <td>Pablo Carreno-Busta</td>\n",
       "      <td>Roger Federer</td>\n",
       "      <td>1</td>\n",
       "      <td>0</td>\n",
       "      <td>0</td>\n",
       "      <td>3</td>\n",
       "      <td>62</td>\n",
       "      <td>27</td>\n",
       "      <td>38</td>\n",
       "      <td>11</td>\n",
       "      <td>...</td>\n",
       "      <td>7</td>\n",
       "      <td>7</td>\n",
       "      <td>14</td>\n",
       "      <td>18</td>\n",
       "      <td>88</td>\n",
       "      <td>6</td>\n",
       "      <td>6</td>\n",
       "      <td>6.0</td>\n",
       "      <td>NaN</td>\n",
       "      <td>NaN</td>\n",
       "    </tr>\n",
       "    <tr>\n",
       "      <th>1</th>\n",
       "      <td>Somdev Devvarman</td>\n",
       "      <td>Daniel Munoz-De La Nava</td>\n",
       "      <td>1</td>\n",
       "      <td>1</td>\n",
       "      <td>3</td>\n",
       "      <td>0</td>\n",
       "      <td>62</td>\n",
       "      <td>54</td>\n",
       "      <td>38</td>\n",
       "      <td>22</td>\n",
       "      <td>...</td>\n",
       "      <td>1</td>\n",
       "      <td>16</td>\n",
       "      <td>22</td>\n",
       "      <td>25</td>\n",
       "      <td>106</td>\n",
       "      <td>3</td>\n",
       "      <td>3</td>\n",
       "      <td>5.0</td>\n",
       "      <td>NaN</td>\n",
       "      <td>NaN</td>\n",
       "    </tr>\n",
       "    <tr>\n",
       "      <th>2</th>\n",
       "      <td>Tobias Kamke</td>\n",
       "      <td>Paolo Lorenzi</td>\n",
       "      <td>1</td>\n",
       "      <td>1</td>\n",
       "      <td>3</td>\n",
       "      <td>2</td>\n",
       "      <td>62</td>\n",
       "      <td>53</td>\n",
       "      <td>38</td>\n",
       "      <td>15</td>\n",
       "      <td>...</td>\n",
       "      <td>10</td>\n",
       "      <td>18</td>\n",
       "      <td>19</td>\n",
       "      <td>27</td>\n",
       "      <td>139</td>\n",
       "      <td>3</td>\n",
       "      <td>3</td>\n",
       "      <td>6.0</td>\n",
       "      <td>6.0</td>\n",
       "      <td>3.0</td>\n",
       "    </tr>\n",
       "    <tr>\n",
       "      <th>3</th>\n",
       "      <td>Julien Benneteau</td>\n",
       "      <td>Ricardas Berankis</td>\n",
       "      <td>1</td>\n",
       "      <td>1</td>\n",
       "      <td>3</td>\n",
       "      <td>1</td>\n",
       "      <td>72</td>\n",
       "      <td>87</td>\n",
       "      <td>28</td>\n",
       "      <td>19</td>\n",
       "      <td>...</td>\n",
       "      <td>4</td>\n",
       "      <td>13</td>\n",
       "      <td>33</td>\n",
       "      <td>43</td>\n",
       "      <td>149</td>\n",
       "      <td>6</td>\n",
       "      <td>3</td>\n",
       "      <td>7.0</td>\n",
       "      <td>6.0</td>\n",
       "      <td>NaN</td>\n",
       "    </tr>\n",
       "    <tr>\n",
       "      <th>4</th>\n",
       "      <td>Lukas Lacko</td>\n",
       "      <td>Sam Querrey</td>\n",
       "      <td>1</td>\n",
       "      <td>0</td>\n",
       "      <td>0</td>\n",
       "      <td>3</td>\n",
       "      <td>52</td>\n",
       "      <td>31</td>\n",
       "      <td>48</td>\n",
       "      <td>22</td>\n",
       "      <td>...</td>\n",
       "      <td>4</td>\n",
       "      <td>7</td>\n",
       "      <td>12</td>\n",
       "      <td>13</td>\n",
       "      <td>93</td>\n",
       "      <td>6</td>\n",
       "      <td>6</td>\n",
       "      <td>6.0</td>\n",
       "      <td>NaN</td>\n",
       "      <td>NaN</td>\n",
       "    </tr>\n",
       "  </tbody>\n",
       "</table>\n",
       "<p>5 rows × 42 columns</p>\n",
       "</div>"
      ],
      "text/plain": [
       "               Player1                  Player2  Round  Result  FNL.1  FNL.2  \\\n",
       "0  Pablo Carreno-Busta            Roger Federer      1       0      0      3   \n",
       "1     Somdev Devvarman  Daniel Munoz-De La Nava      1       1      3      0   \n",
       "2         Tobias Kamke            Paolo Lorenzi      1       1      3      2   \n",
       "3     Julien Benneteau        Ricardas Berankis      1       1      3      1   \n",
       "4          Lukas Lacko              Sam Querrey      1       0      0      3   \n",
       "\n",
       "   FSP.1  FSW.1  SSP.1  SSW.1  ...  BPC.2  BPW.2  NPA.2  NPW.2  TPW.2  ST1.2  \\\n",
       "0     62     27     38     11  ...      7      7     14     18     88      6   \n",
       "1     62     54     38     22  ...      1     16     22     25    106      3   \n",
       "2     62     53     38     15  ...     10     18     19     27    139      3   \n",
       "3     72     87     28     19  ...      4     13     33     43    149      6   \n",
       "4     52     31     48     22  ...      4      7     12     13     93      6   \n",
       "\n",
       "   ST2.2  ST3.2  ST4.2  ST5.2  \n",
       "0      6    6.0    NaN    NaN  \n",
       "1      3    5.0    NaN    NaN  \n",
       "2      3    6.0    6.0    3.0  \n",
       "3      3    7.0    6.0    NaN  \n",
       "4      6    6.0    NaN    NaN  \n",
       "\n",
       "[5 rows x 42 columns]"
      ]
     },
     "execution_count": 4,
     "metadata": {},
     "output_type": "execute_result"
    }
   ],
   "source": [
    "rg = pd.read_csv(\"data/rolandgarros2013.csv\")\n",
    "rg.head()"
   ]
  },
  {
   "cell_type": "markdown",
   "metadata": {},
   "source": [
    "2. Afficher les noms des demi-finalistes."
   ]
  },
  {
   "cell_type": "code",
   "execution_count": 5,
   "metadata": {},
   "outputs": [
    {
     "name": "stdout",
     "output_type": "stream",
     "text": [
      "            Player1             Player2\n",
      "122    David Ferrer  Jo-Wilfried Tsonga\n",
      "123  Novak Djokovic        Rafael Nadal\n"
     ]
    }
   ],
   "source": [
    "print(\n",
    "    rg[rg[\"Round\"] == 6][[\"Player1\", \"Player2\"]]\n",
    ")"
   ]
  },
  {
   "cell_type": "markdown",
   "metadata": {},
   "source": [
    "3. Calculer le nombre moyen d'aces par match dans le tournoi."
   ]
  },
  {
   "cell_type": "code",
   "execution_count": 6,
   "metadata": {},
   "outputs": [
    {
     "name": "stdout",
     "output_type": "stream",
     "text": [
      "mean    12.688\n",
      "dtype: float64\n"
     ]
    }
   ],
   "source": [
    "print(\n",
    "    rg[\"ACE.1\"].agg([\"mean\"])+rg[\"ACE.2\"].agg([\"mean\"])\n",
    ")"
   ]
  },
  {
   "cell_type": "markdown",
   "metadata": {},
   "source": [
    "4. Combien y a-t-il eu d'aces par match en moyenne à chaque niveau du tournoi ?"
   ]
  },
  {
   "cell_type": "code",
   "execution_count": 42,
   "metadata": {},
   "outputs": [
    {
     "name": "stdout",
     "output_type": "stream",
     "text": [
      "Round\n",
      "1    13.476190\n",
      "2    13.193548\n",
      "3    12.562500\n",
      "4     9.125000\n",
      "5     7.000000\n",
      "6    10.000000\n",
      "7     6.000000\n",
      "dtype: float64\n"
     ]
    }
   ],
   "source": [
    "print(\n",
    "    (rg[\"ACE.1\"]+rg[\"ACE.2\"])\n",
    "    .groupby(rg[\"Round\"])\n",
    "    .mean()\n",
    ")"
   ]
  },
  {
   "cell_type": "markdown",
   "metadata": {},
   "source": [
    "5. Filtrer les matchs pour lesquels au moins une des variables `DBF.1` et `DBF.2` est manquante."
   ]
  },
  {
   "cell_type": "code",
   "execution_count": 21,
   "metadata": {},
   "outputs": [
    {
     "name": "stdout",
     "output_type": "stream",
     "text": [
      "             Player1        Player2  DBF.1  DBF.2\n",
      "56    Simone Bolelli    Yen-Hsun Lu    NaN    NaN\n",
      "63  Somdev Devvarman  Roger Federer    NaN    NaN\n"
     ]
    }
   ],
   "source": [
    "print(\n",
    "    rg[pd.isna(rg[\"DBF.1\"])|pd.isna(rg[\"DBF.2\"])][[\"Player1\", \"Player2\",\"DBF.1\",\"DBF.2\"]]\n",
    ")"
   ]
  },
  {
   "cell_type": "markdown",
   "metadata": {},
   "source": [
    "6. Remplacer les valeurs manquantes de `DBF.1` par zéro avec la méthode `loc`."
   ]
  },
  {
   "cell_type": "code",
   "execution_count": 23,
   "metadata": {},
   "outputs": [
    {
     "name": "stdout",
     "output_type": "stream",
     "text": [
      "             Player1        Player2  DBF.1  DBF.2\n",
      "56    Simone Bolelli    Yen-Hsun Lu    0.0    NaN\n",
      "63  Somdev Devvarman  Roger Federer    0.0    NaN\n"
     ]
    }
   ],
   "source": [
    "rg.loc[rg[\"DBF.1\"].isna(), \"DBF.1\"] = 0\n",
    "print(rg[rg[\"DBF.2\"].isna()][[\"Player1\", \"Player2\",\"DBF.1\",\"DBF.2\"]])"
   ]
  },
  {
   "cell_type": "markdown",
   "metadata": {},
   "source": [
    "7. Remplacer les valeurs manquantes de `DBF.2` par zéro avec la méthode `fillna`."
   ]
  },
  {
   "cell_type": "code",
   "execution_count": 32,
   "metadata": {},
   "outputs": [
    {
     "name": "stdout",
     "output_type": "stream",
     "text": [
      "             Player1        Player2  DBF.1  DBF.2\n",
      "56    Simone Bolelli    Yen-Hsun Lu    0.0    0.0\n",
      "63  Somdev Devvarman  Roger Federer    0.0    0.0\n"
     ]
    }
   ],
   "source": [
    "rg[\"DBF.2\"].fillna(0, inplace=True)\n",
    "print(rg.iloc[[56,63]][[\"Player1\", \"Player2\",\"DBF.1\",\"DBF.2\"]])"
   ]
  },
  {
   "cell_type": "markdown",
   "metadata": {},
   "source": [
    "8. Extraire la liste des participants à partir des colonnes `Player1` et `Player2`. Une façon de faire consiste à utiliser `concat` et la méthode `drop_duplicates` pour obtenir le résultat sous la forme d'une série et de la convertir en dataframe avec la méthode `to_frame`."
   ]
  },
  {
   "cell_type": "code",
   "execution_count": 51,
   "metadata": {},
   "outputs": [
    {
     "name": "stdout",
     "output_type": "stream",
     "text": [
      "                 Player\n",
      "0   Pablo Carreno-Busta\n",
      "1      Somdev Devvarman\n",
      "2          Tobias Kamke\n",
      "3      Julien Benneteau\n",
      "4           Lukas Lacko\n",
      "..                  ...\n",
      "56          Yen-Hsun Lu\n",
      "59      Grigor Dimitrov\n",
      "61          Guido Pella\n",
      "62         David Goffin\n",
      "87     Janko Tipsarevic\n",
      "\n",
      "[127 rows x 1 columns]\n"
     ]
    }
   ],
   "source": [
    "# players = pd.concat([rg[\"Player1\"], rg[\"Player2\"]])\n",
    "# print(players)\n",
    "# players.drop_duplicates(inplace=True)\n",
    "# print(players)\n",
    "# playersdf = players.to_frame(name=\"Player\")\n",
    "playersdf = pd.concat([rg[\"Player1\"], rg[\"Player2\"]]).drop_duplicates().to_frame(name=\"Player\")\n",
    "print(playersdf)"
   ]
  },
  {
   "cell_type": "markdown",
   "metadata": {},
   "source": [
    "9. Écrire une fonction `n_match` qui prend une chaîne de caractères `joueur` en entrée et retourne le nombre de matchs disputés par le joueur."
   ]
  },
  {
   "cell_type": "code",
   "execution_count": 64,
   "metadata": {},
   "outputs": [
    {
     "name": "stdout",
     "output_type": "stream",
     "text": [
      "6\n"
     ]
    }
   ],
   "source": [
    "def n_match(joueur):\n",
    "    \"\"\"\n",
    "    Compte le nombre de matchs joués par un joueur\n",
    "    \"\"\"\n",
    "    return len(rg[rg[\"Player1\"] == joueur]) + len(rg[rg[\"Player2\"] == joueur])\n",
    "print(n_match(\"Novak Djokovic\"))"
   ]
  },
  {
   "cell_type": "markdown",
   "metadata": {},
   "source": [
    "10. Utiliser les deux question précédentes et la méthode `apply` pour compter le nombre de matchs que chaque participant a disputé et ordonner le résultat par ordre décroissant."
   ]
  },
  {
   "cell_type": "code",
   "execution_count": 65,
   "metadata": {},
   "outputs": [
    {
     "name": "stdout",
     "output_type": "stream",
     "text": [
      "                  Player  Total_matches\n",
      "47          Rafael Nadal              7\n",
      "122         David Ferrer              7\n",
      "62        Novak Djokovic              6\n",
      "15    Jo-Wilfried Tsonga              6\n",
      "113        Tommy Robredo              5\n",
      "..                   ...            ...\n",
      "5            Denis Kudla              1\n",
      "19     Marcel Granollers              1\n",
      "51        Carlos Berlocq              1\n",
      "10           James Blake              1\n",
      "0    Pablo Carreno-Busta              1\n",
      "\n",
      "[127 rows x 2 columns]\n"
     ]
    }
   ],
   "source": [
    "playersdf[\"Total_matches\"] = playersdf[\"Player\"].apply(n_match)\n",
    "print(playersdf.sort_values(\"Total_matches\", ascending=False))"
   ]
  },
  {
   "cell_type": "markdown",
   "metadata": {},
   "source": [
    "11. Charger maintenant le jeu de données relatif au tournoi de Wimbledon dans un dataframe `wb` à partir du fichier `wimbledon2013.csv`."
   ]
  },
  {
   "cell_type": "code",
   "execution_count": 66,
   "metadata": {},
   "outputs": [
    {
     "data": {
      "text/html": [
       "<div>\n",
       "<style scoped>\n",
       "    .dataframe tbody tr th:only-of-type {\n",
       "        vertical-align: middle;\n",
       "    }\n",
       "\n",
       "    .dataframe tbody tr th {\n",
       "        vertical-align: top;\n",
       "    }\n",
       "\n",
       "    .dataframe thead th {\n",
       "        text-align: right;\n",
       "    }\n",
       "</style>\n",
       "<table border=\"1\" class=\"dataframe\">\n",
       "  <thead>\n",
       "    <tr style=\"text-align: right;\">\n",
       "      <th></th>\n",
       "      <th>Player1</th>\n",
       "      <th>Player2</th>\n",
       "      <th>Round</th>\n",
       "      <th>Result</th>\n",
       "      <th>FNL.1</th>\n",
       "      <th>FNL.2</th>\n",
       "      <th>FSP.1</th>\n",
       "      <th>FSW.1</th>\n",
       "      <th>SSP.1</th>\n",
       "      <th>SSW.1</th>\n",
       "      <th>...</th>\n",
       "      <th>BPC.2</th>\n",
       "      <th>BPW.2</th>\n",
       "      <th>NPA.2</th>\n",
       "      <th>NPW.2</th>\n",
       "      <th>TPW.2</th>\n",
       "      <th>ST1.2</th>\n",
       "      <th>ST2.2</th>\n",
       "      <th>ST3.2</th>\n",
       "      <th>ST4.2</th>\n",
       "      <th>ST5.2</th>\n",
       "    </tr>\n",
       "  </thead>\n",
       "  <tbody>\n",
       "    <tr>\n",
       "      <th>0</th>\n",
       "      <td>B.Becker</td>\n",
       "      <td>A.Murray</td>\n",
       "      <td>1</td>\n",
       "      <td>0</td>\n",
       "      <td>0</td>\n",
       "      <td>3</td>\n",
       "      <td>59</td>\n",
       "      <td>29</td>\n",
       "      <td>41</td>\n",
       "      <td>14</td>\n",
       "      <td>...</td>\n",
       "      <td>10</td>\n",
       "      <td>5</td>\n",
       "      <td>23</td>\n",
       "      <td>17</td>\n",
       "      <td>NaN</td>\n",
       "      <td>6</td>\n",
       "      <td>6</td>\n",
       "      <td>6</td>\n",
       "      <td>NaN</td>\n",
       "      <td>NaN</td>\n",
       "    </tr>\n",
       "    <tr>\n",
       "      <th>1</th>\n",
       "      <td>J.Ward</td>\n",
       "      <td>Y-H.Lu</td>\n",
       "      <td>1</td>\n",
       "      <td>0</td>\n",
       "      <td>1</td>\n",
       "      <td>3</td>\n",
       "      <td>62</td>\n",
       "      <td>77</td>\n",
       "      <td>38</td>\n",
       "      <td>35</td>\n",
       "      <td>...</td>\n",
       "      <td>15</td>\n",
       "      <td>2</td>\n",
       "      <td>46</td>\n",
       "      <td>39</td>\n",
       "      <td>NaN</td>\n",
       "      <td>6</td>\n",
       "      <td>6</td>\n",
       "      <td>7</td>\n",
       "      <td>7.0</td>\n",
       "      <td>NaN</td>\n",
       "    </tr>\n",
       "    <tr>\n",
       "      <th>2</th>\n",
       "      <td>N.Mahut</td>\n",
       "      <td>J.Hajek</td>\n",
       "      <td>1</td>\n",
       "      <td>1</td>\n",
       "      <td>3</td>\n",
       "      <td>0</td>\n",
       "      <td>72</td>\n",
       "      <td>44</td>\n",
       "      <td>28</td>\n",
       "      <td>10</td>\n",
       "      <td>...</td>\n",
       "      <td>1</td>\n",
       "      <td>0</td>\n",
       "      <td>19</td>\n",
       "      <td>12</td>\n",
       "      <td>NaN</td>\n",
       "      <td>2</td>\n",
       "      <td>4</td>\n",
       "      <td>3</td>\n",
       "      <td>NaN</td>\n",
       "      <td>NaN</td>\n",
       "    </tr>\n",
       "    <tr>\n",
       "      <th>3</th>\n",
       "      <td>T.Robredo</td>\n",
       "      <td>A.Bogomolov Jr.</td>\n",
       "      <td>1</td>\n",
       "      <td>1</td>\n",
       "      <td>3</td>\n",
       "      <td>0</td>\n",
       "      <td>77</td>\n",
       "      <td>40</td>\n",
       "      <td>23</td>\n",
       "      <td>12</td>\n",
       "      <td>...</td>\n",
       "      <td>0</td>\n",
       "      <td>0</td>\n",
       "      <td>22</td>\n",
       "      <td>13</td>\n",
       "      <td>NaN</td>\n",
       "      <td>2</td>\n",
       "      <td>2</td>\n",
       "      <td>4</td>\n",
       "      <td>NaN</td>\n",
       "      <td>NaN</td>\n",
       "    </tr>\n",
       "    <tr>\n",
       "      <th>4</th>\n",
       "      <td>R.Haase</td>\n",
       "      <td>M.Youzhny</td>\n",
       "      <td>1</td>\n",
       "      <td>0</td>\n",
       "      <td>0</td>\n",
       "      <td>3</td>\n",
       "      <td>68</td>\n",
       "      <td>61</td>\n",
       "      <td>32</td>\n",
       "      <td>15</td>\n",
       "      <td>...</td>\n",
       "      <td>21</td>\n",
       "      <td>3</td>\n",
       "      <td>44</td>\n",
       "      <td>30</td>\n",
       "      <td>NaN</td>\n",
       "      <td>6</td>\n",
       "      <td>7</td>\n",
       "      <td>7</td>\n",
       "      <td>NaN</td>\n",
       "      <td>NaN</td>\n",
       "    </tr>\n",
       "  </tbody>\n",
       "</table>\n",
       "<p>5 rows × 42 columns</p>\n",
       "</div>"
      ],
      "text/plain": [
       "     Player1          Player2  Round  Result  FNL.1  FNL.2  FSP.1  FSW.1  \\\n",
       "0   B.Becker         A.Murray      1       0      0      3     59     29   \n",
       "1     J.Ward           Y-H.Lu      1       0      1      3     62     77   \n",
       "2    N.Mahut          J.Hajek      1       1      3      0     72     44   \n",
       "3  T.Robredo  A.Bogomolov Jr.      1       1      3      0     77     40   \n",
       "4    R.Haase        M.Youzhny      1       0      0      3     68     61   \n",
       "\n",
       "   SSP.1  SSW.1  ...  BPC.2  BPW.2  NPA.2  NPW.2  TPW.2  ST1.2  ST2.2  ST3.2  \\\n",
       "0     41     14  ...     10      5     23     17    NaN      6      6      6   \n",
       "1     38     35  ...     15      2     46     39    NaN      6      6      7   \n",
       "2     28     10  ...      1      0     19     12    NaN      2      4      3   \n",
       "3     23     12  ...      0      0     22     13    NaN      2      2      4   \n",
       "4     32     15  ...     21      3     44     30    NaN      6      7      7   \n",
       "\n",
       "   ST4.2  ST5.2  \n",
       "0    NaN    NaN  \n",
       "1    7.0    NaN  \n",
       "2    NaN    NaN  \n",
       "3    NaN    NaN  \n",
       "4    NaN    NaN  \n",
       "\n",
       "[5 rows x 42 columns]"
      ]
     },
     "execution_count": 66,
     "metadata": {},
     "output_type": "execute_result"
    }
   ],
   "source": [
    "wb = pd.read_csv(\"data/wimbledon2013.csv\")\n",
    "wb.head()"
   ]
  },
  {
   "cell_type": "markdown",
   "metadata": {},
   "source": [
    "12. Ajouter une colonne `Tournoi` dans les dataframes `rg` et `wb` contenant respectivement les chaînes de caractères `\"RG\"` et `\"WB\"`."
   ]
  },
  {
   "cell_type": "code",
   "execution_count": 67,
   "metadata": {},
   "outputs": [
    {
     "name": "stdout",
     "output_type": "stream",
     "text": [
      "               Player1                  Player2  Round  Result  FNL.1  FNL.2  \\\n",
      "0  Pablo Carreno-Busta            Roger Federer      1       0      0      3   \n",
      "1     Somdev Devvarman  Daniel Munoz-De La Nava      1       1      3      0   \n",
      "2         Tobias Kamke            Paolo Lorenzi      1       1      3      2   \n",
      "3     Julien Benneteau        Ricardas Berankis      1       1      3      1   \n",
      "4          Lukas Lacko              Sam Querrey      1       0      0      3   \n",
      "\n",
      "   FSP.1  FSW.1  SSP.1  SSW.1  ...  BPW.2  NPA.2  NPW.2  TPW.2  ST1.2  ST2.2  \\\n",
      "0     62     27     38     11  ...      7     14     18     88      6      6   \n",
      "1     62     54     38     22  ...     16     22     25    106      3      3   \n",
      "2     62     53     38     15  ...     18     19     27    139      3      3   \n",
      "3     72     87     28     19  ...     13     33     43    149      6      3   \n",
      "4     52     31     48     22  ...      7     12     13     93      6      6   \n",
      "\n",
      "   ST3.2  ST4.2  ST5.2  Tournoi  \n",
      "0    6.0    NaN    NaN       RG  \n",
      "1    5.0    NaN    NaN       RG  \n",
      "2    6.0    6.0    3.0       RG  \n",
      "3    7.0    6.0    NaN       RG  \n",
      "4    6.0    NaN    NaN       RG  \n",
      "\n",
      "[5 rows x 43 columns]\n",
      "     Player1          Player2  Round  Result  FNL.1  FNL.2  FSP.1  FSW.1  \\\n",
      "0   B.Becker         A.Murray      1       0      0      3     59     29   \n",
      "1     J.Ward           Y-H.Lu      1       0      1      3     62     77   \n",
      "2    N.Mahut          J.Hajek      1       1      3      0     72     44   \n",
      "3  T.Robredo  A.Bogomolov Jr.      1       1      3      0     77     40   \n",
      "4    R.Haase        M.Youzhny      1       0      0      3     68     61   \n",
      "\n",
      "   SSP.1  SSW.1  ...  BPW.2  NPA.2  NPW.2  TPW.2  ST1.2  ST2.2  ST3.2  ST4.2  \\\n",
      "0     41     14  ...      5     23     17    NaN      6      6      6    NaN   \n",
      "1     38     35  ...      2     46     39    NaN      6      6      7    7.0   \n",
      "2     28     10  ...      0     19     12    NaN      2      4      3    NaN   \n",
      "3     23     12  ...      0     22     13    NaN      2      2      4    NaN   \n",
      "4     32     15  ...      3     44     30    NaN      6      7      7    NaN   \n",
      "\n",
      "   ST5.2  Tournoi  \n",
      "0    NaN       WB  \n",
      "1    NaN       WB  \n",
      "2    NaN       WB  \n",
      "3    NaN       WB  \n",
      "4    NaN       WB  \n",
      "\n",
      "[5 rows x 43 columns]\n"
     ]
    }
   ],
   "source": [
    "rg[\"Tournoi\"] = \"RG\"\n",
    "wb[\"Tournoi\"] = \"WB\""
   ]
  },
  {
   "cell_type": "markdown",
   "metadata": {},
   "source": [
    "13. Concaténer les deux dataframes dans un nouveau dataframe `tennis`."
   ]
  },
  {
   "cell_type": "code",
   "execution_count": 68,
   "metadata": {},
   "outputs": [
    {
     "name": "stdout",
     "output_type": "stream",
     "text": [
      "                 Player1                  Player2 Tournoi\n",
      "0    Pablo Carreno-Busta            Roger Federer      RG\n",
      "1       Somdev Devvarman  Daniel Munoz-De La Nava      RG\n",
      "2           Tobias Kamke            Paolo Lorenzi      RG\n",
      "3       Julien Benneteau        Ricardas Berankis      RG\n",
      "4            Lukas Lacko              Sam Querrey      RG\n",
      "..                   ...                      ...     ...\n",
      "234             D.Ferrer              J.Del Potro      WB\n",
      "235           N.Djokovic                T.Berdych      WB\n",
      "236           J.Janowicz                 A.Murray      WB\n",
      "237           N.Djokovic              J.Del Potro      WB\n",
      "238           N.Djokovic                 A.Murray      WB\n",
      "\n",
      "[239 rows x 3 columns]\n"
     ]
    }
   ],
   "source": [
    "tennis = pd.concat([rg, wb], ignore_index=True)\n",
    "print(tennis[[\"Player1\", \"Player2\", \"Tournoi\"]])"
   ]
  },
  {
   "cell_type": "markdown",
   "metadata": {},
   "source": [
    "14. Utiliser le dataframe `tennis` pour comparer le nombre moyen d'aces par match à chaque niveau du tournoi à Roland Garros et à Wimbledon. Afficher le résultat en format large."
   ]
  },
  {
   "cell_type": "code",
   "execution_count": 81,
   "metadata": {},
   "outputs": [
    {
     "name": "stdout",
     "output_type": "stream",
     "text": [
      "Round           1          2        3       4     5     6     7\n",
      "Tournoi                                                        \n",
      "RG       13.47619  13.193548  12.5625   9.125   7.0  10.0   6.0\n",
      "WB       21.12500  23.869565  24.0000  24.375  26.5  27.5  13.0\n"
     ]
    }
   ],
   "source": [
    "print(\n",
    "    (tennis[\"ACE.1\"] + tennis[\"ACE.2\"])\n",
    "    .to_frame(name=\"Aces\")\n",
    "    .groupby([tennis.Tournoi, tennis.Round])\n",
    "    .mean()\n",
    "    .reset_index()\n",
    "    .pivot(index=\"Tournoi\", columns=\"Round\", values=\"Aces\")\n",
    ")"
   ]
  },
  {
   "cell_type": "markdown",
   "metadata": {},
   "source": [
    "15. Quelle différence y a-t-il dans le format des noms des joueurs entre les dataframes `rg` et `wb` ?"
   ]
  },
  {
   "cell_type": "code",
   "execution_count": 82,
   "metadata": {},
   "outputs": [
    {
     "name": "stdout",
     "output_type": "stream",
     "text": [
      "*** ROLAND GARROS ***\n",
      "0      Roger Federer\n",
      "63     Roger Federer\n",
      "94     Roger Federer\n",
      "110    Roger Federer\n",
      "118    Roger Federer\n",
      "Name: Player2, dtype: object\n",
      "*** WIMBLEDON ***\n",
      "16    R.Federer\n",
      "71    R.Federer\n",
      "Name: Player2, dtype: object\n"
     ]
    }
   ],
   "source": [
    "# Le prénom des joueurs est limité à son initiale (e.g. \"Roger Federer\" devient \"R.Federer\")\n",
    "\n",
    "print(\"*** ROLAND GARROS ***\")\n",
    "print(rg[rg.Player2.str.contains(\"Federer\")].Player2)\n",
    "\n",
    "print(\"*** WIMBLEDON ***\")\n",
    "print(wb[wb.Player2.str.contains(\"Federer\")].Player2)"
   ]
  },
  {
   "cell_type": "markdown",
   "metadata": {},
   "source": [
    "16. Construire un dataframe `rg_victoires` avec les trois colonnes suivantes pour le tournoi de Roland Garros :\n",
    "- `joueur` : nom du joueur tel qu'il est donné dans `rg`,\n",
    "- `nom_joueur` : nom de famille du joueur uniquement,\n",
    "- `n_victoire` : nombre de matchs gagnés dans le tournoi."
   ]
  },
  {
   "cell_type": "code",
   "execution_count": 89,
   "metadata": {},
   "outputs": [
    {
     "name": "stdout",
     "output_type": "stream",
     "text": [
      "                 joueur nom_joueur  n_victoire\n",
      "47         Rafael Nadal      Nadal           7\n",
      "122        David Ferrer     Ferrer           6\n",
      "62       Novak Djokovic   Djokovic           5\n",
      "15   Jo-Wilfried Tsonga     Tsonga           5\n",
      "0         Roger Federer    Federer           4\n",
      "..                  ...        ...         ...\n",
      "42      Maxime Teixeira   Teixeira           0\n",
      "57        Bernard Tomic      Tomic           0\n",
      "55          Jiri Vesely     Vesely           0\n",
      "33       Rhyne Williams   Williams           0\n",
      "28          Jurgen Zopp       Zopp           0\n",
      "\n",
      "[127 rows x 3 columns]\n"
     ]
    }
   ],
   "source": [
    "rg_victoires=(\n",
    "    pd.concat([rg[\"Player1\"], rg[\"Player2\"]])\n",
    "        .drop_duplicates()\n",
    "        .to_frame(name=\"joueur\")\n",
    ")\n",
    "rg_victoires[\"nom_joueur\"] = rg_victoires[\"joueur\"].str.split(\" \").str[-1]\n",
    "\n",
    "def n_victoire(df, joueur):\n",
    "    return (\n",
    "        len(df[(df.Player1 == joueur) & (df.Result == 1)])\n",
    "        + len(df[(df.Player2 == joueur) & (df.Result == 0)])\n",
    "    )\n",
    "\n",
    "rg_victoires[\"n_victoire\"] = (\n",
    "    rg_victoires.joueur\n",
    "    .apply(lambda joueur: n_victoire(rg, joueur))\n",
    ")\n",
    "\n",
    "rg_victoires.sort_values(by=[\"n_victoire\",\"nom_joueur\"], ascending=[False,True], inplace=True)\n",
    "\n",
    "print(rg_victoires)"
   ]
  },
  {
   "cell_type": "markdown",
   "metadata": {},
   "source": [
    "17. Construire un dataframe `wb_victoires` avec les trois colonnes suivantes pour le tournoi de Wimbledon :\n",
    "- `joueur` : nom du joueur tel qu'il est donné dans `wb`,\n",
    "- `nom_joueur` : nom de famille du joueur uniquement,\n",
    "- `n_victoire` : nombre de matchs gagnés dans le tournoi."
   ]
  },
  {
   "cell_type": "code",
   "execution_count": 91,
   "metadata": {},
   "outputs": [
    {
     "name": "stdout",
     "output_type": "stream",
     "text": [
      "          joueur nom_joueur  n_victoire\n",
      "0       A.Murray     Murray           7\n",
      "63    N.Djokovic   Djokovic           6\n",
      "32   J.Del Potro  Del Potro           5\n",
      "48     T.Berdych    Berdych           4\n",
      "101   J.Janowicz   Janowicz           4\n",
      "..           ...        ...         ...\n",
      "28       A.Ungur      Ungur           0\n",
      "1         J.Ward       Ward           0\n",
      "24    S.Wawrinka   Wawrinka           0\n",
      "45    H.Zeballos   Zeballos           0\n",
      "23        J.Zopp       Zopp           0\n",
      "\n",
      "[127 rows x 3 columns]\n"
     ]
    }
   ],
   "source": [
    "wb_victoires=(\n",
    "    pd.concat([wb[\"Player1\"], wb[\"Player2\"]])\n",
    "        .drop_duplicates()\n",
    "        .to_frame(name=\"joueur\")\n",
    ")\n",
    "wb_victoires[\"nom_joueur\"] = wb_victoires[\"joueur\"].str.split(\".\").str[-1]\n",
    "\n",
    "wb_victoires[\"n_victoire\"] = (\n",
    "    wb_victoires.joueur\n",
    "    .apply(lambda joueur: n_victoire(wb, joueur))\n",
    ")\n",
    "\n",
    "wb_victoires.sort_values(by=[\"n_victoire\",\"nom_joueur\"], ascending=[False,True], inplace=True)\n",
    "\n",
    "print(wb_victoires)"
   ]
  },
  {
   "cell_type": "markdown",
   "metadata": {},
   "source": [
    "18. Faire une jointure entre `rg_victoires` et `wb_victoires` sur la colonne `nom_joueur` pour comparer le nombre de victoires par tournoi pour chaque joueur. Expliquer la différence de résultat selon que la jointure est à gauche, à droite, intérieure ou extérieure."
   ]
  },
  {
   "cell_type": "code",
   "execution_count": 102,
   "metadata": {},
   "outputs": [
    {
     "name": "stdout",
     "output_type": "stream",
     "text": [
      "    nom_joueur  n_victoire_rg  n_victoire_wb\n",
      "0        Nadal              7            0.0\n",
      "1       Ferrer              6            3.0\n",
      "2     Djokovic              5            6.0\n",
      "3       Tsonga              5            1.0\n",
      "4      Federer              4            1.0\n",
      "..         ...            ...            ...\n",
      "124   Teixeira              0            NaN\n",
      "125      Tomic              0            3.0\n",
      "126     Vesely              0            NaN\n",
      "127   Williams              0            NaN\n",
      "128       Zopp              0            0.0\n",
      "\n",
      "[129 rows x 3 columns]\n"
     ]
    }
   ],
   "source": [
    "print(\n",
    "    rg_victoires[[\"nom_joueur\", \"n_victoire\"]].merge(\n",
    "        wb_victoires[[\"nom_joueur\", \"n_victoire\"]],\n",
    "        on=\"nom_joueur\",\n",
    "        how=\"left\",\n",
    "        suffixes=(\"_rg\", \"_wb\")\n",
    "    )\n",
    ")"
   ]
  },
  {
   "cell_type": "code",
   "execution_count": 103,
   "metadata": {},
   "outputs": [
    {
     "name": "stdout",
     "output_type": "stream",
     "text": [
      "    nom_joueur  n_victoire_rg  n_victoire_wb\n",
      "0       Murray            NaN              7\n",
      "1     Djokovic            5.0              6\n",
      "2    Del Potro            NaN              5\n",
      "3      Berdych            0.0              4\n",
      "4     Janowicz            2.0              4\n",
      "..         ...            ...            ...\n",
      "125      Ungur            NaN              0\n",
      "126       Ward            NaN              0\n",
      "127   Wawrinka            4.0              0\n",
      "128   Zeballos            1.0              0\n",
      "129       Zopp            0.0              0\n",
      "\n",
      "[130 rows x 3 columns]\n"
     ]
    }
   ],
   "source": [
    "print(\n",
    "    rg_victoires[[\"nom_joueur\", \"n_victoire\"]].merge(\n",
    "        wb_victoires[[\"nom_joueur\", \"n_victoire\"]],\n",
    "        on=\"nom_joueur\",\n",
    "        how=\"right\",\n",
    "        suffixes=(\"_rg\", \"_wb\")\n",
    "    )\n",
    ")"
   ]
  },
  {
   "cell_type": "code",
   "execution_count": 104,
   "metadata": {},
   "outputs": [
    {
     "name": "stdout",
     "output_type": "stream",
     "text": [
      "     nom_joueur  n_victoire_rg  n_victoire_wb\n",
      "0         Nadal              7              0\n",
      "1        Ferrer              6              3\n",
      "2      Djokovic              5              6\n",
      "3        Tsonga              5              1\n",
      "4       Federer              4              1\n",
      "..          ...            ...            ...\n",
      "101  Stakhovsky              0              2\n",
      "102    Stepanek              0              1\n",
      "103      Struff              0              2\n",
      "104       Tomic              0              3\n",
      "105        Zopp              0              0\n",
      "\n",
      "[106 rows x 3 columns]\n"
     ]
    }
   ],
   "source": [
    "print(\n",
    "    rg_victoires[[\"nom_joueur\", \"n_victoire\"]].merge(\n",
    "        wb_victoires[[\"nom_joueur\", \"n_victoire\"]],\n",
    "        on=\"nom_joueur\",\n",
    "        how=\"inner\",\n",
    "        suffixes=(\"_rg\", \"_wb\")\n",
    "    )\n",
    ")"
   ]
  },
  {
   "cell_type": "code",
   "execution_count": 105,
   "metadata": {},
   "outputs": [
    {
     "name": "stdout",
     "output_type": "stream",
     "text": [
      "    nom_joueur  n_victoire_rg  n_victoire_wb\n",
      "0        Nadal            7.0            0.0\n",
      "1       Ferrer            6.0            3.0\n",
      "2     Djokovic            5.0            6.0\n",
      "3       Tsonga            5.0            1.0\n",
      "4      Federer            4.0            1.0\n",
      "..         ...            ...            ...\n",
      "148    Odesnik            NaN            0.0\n",
      "149       Reid            NaN            0.0\n",
      "150     Rochus            NaN            0.0\n",
      "151      Ungur            NaN            0.0\n",
      "152       Ward            NaN            0.0\n",
      "\n",
      "[153 rows x 3 columns]\n"
     ]
    }
   ],
   "source": [
    "print(\n",
    "    rg_victoires[[\"nom_joueur\", \"n_victoire\"]].merge(\n",
    "        wb_victoires[[\"nom_joueur\", \"n_victoire\"]],\n",
    "        on=\"nom_joueur\",\n",
    "        how=\"outer\",\n",
    "        suffixes=(\"_rg\", \"_wb\")\n",
    "    )\n",
    ")"
   ]
  }
 ],
 "metadata": {
  "kernelspec": {
   "display_name": "base",
   "language": "python",
   "name": "python3"
  },
  "language_info": {
   "codemirror_mode": {
    "name": "ipython",
    "version": 3
   },
   "file_extension": ".py",
   "mimetype": "text/x-python",
   "name": "python",
   "nbconvert_exporter": "python",
   "pygments_lexer": "ipython3",
   "version": "3.11.3"
  }
 },
 "nbformat": 4,
 "nbformat_minor": 2
}
