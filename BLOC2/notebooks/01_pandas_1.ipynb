{
 "cells": [
  {
   "cell_type": "markdown",
   "metadata": {},
   "source": [
    "# Notebook 1 : Découverte de Pandas"
   ]
  },
  {
   "cell_type": "code",
   "execution_count": 6,
   "metadata": {},
   "outputs": [],
   "source": [
    "import pandas as pd"
   ]
  },
  {
   "cell_type": "markdown",
   "metadata": {},
   "source": [
    "## Iris"
   ]
  },
  {
   "cell_type": "markdown",
   "metadata": {},
   "source": [
    "Nous considérons le jeu de données connu sous le nom des [Iris de Fisher](https://fr.wikipedia.org/wiki/Iris_de_Fisher). Répondez aux questions suivantes à l'aide du module Pandas."
   ]
  },
  {
   "cell_type": "markdown",
   "metadata": {},
   "source": [
    "1. Charger le jeu de données dans un dataframe `iris` à partir du fichier `iris.csv` et afficher le dataframe."
   ]
  },
  {
   "cell_type": "code",
   "execution_count": 7,
   "metadata": {},
   "outputs": [
    {
     "data": {
      "text/html": [
       "<div>\n",
       "<style scoped>\n",
       "    .dataframe tbody tr th:only-of-type {\n",
       "        vertical-align: middle;\n",
       "    }\n",
       "\n",
       "    .dataframe tbody tr th {\n",
       "        vertical-align: top;\n",
       "    }\n",
       "\n",
       "    .dataframe thead th {\n",
       "        text-align: right;\n",
       "    }\n",
       "</style>\n",
       "<table border=\"1\" class=\"dataframe\">\n",
       "  <thead>\n",
       "    <tr style=\"text-align: right;\">\n",
       "      <th></th>\n",
       "      <th>SepalLength</th>\n",
       "      <th>SepalWidth</th>\n",
       "      <th>PetalLength</th>\n",
       "      <th>PetalWidth</th>\n",
       "      <th>Species</th>\n",
       "    </tr>\n",
       "  </thead>\n",
       "  <tbody>\n",
       "    <tr>\n",
       "      <th>0</th>\n",
       "      <td>5.1</td>\n",
       "      <td>3.5</td>\n",
       "      <td>1.4</td>\n",
       "      <td>0.2</td>\n",
       "      <td>setosa</td>\n",
       "    </tr>\n",
       "    <tr>\n",
       "      <th>1</th>\n",
       "      <td>4.9</td>\n",
       "      <td>3.0</td>\n",
       "      <td>1.4</td>\n",
       "      <td>0.2</td>\n",
       "      <td>setosa</td>\n",
       "    </tr>\n",
       "    <tr>\n",
       "      <th>2</th>\n",
       "      <td>4.7</td>\n",
       "      <td>3.2</td>\n",
       "      <td>1.3</td>\n",
       "      <td>0.2</td>\n",
       "      <td>setosa</td>\n",
       "    </tr>\n",
       "    <tr>\n",
       "      <th>3</th>\n",
       "      <td>4.6</td>\n",
       "      <td>3.1</td>\n",
       "      <td>1.5</td>\n",
       "      <td>0.2</td>\n",
       "      <td>setosa</td>\n",
       "    </tr>\n",
       "    <tr>\n",
       "      <th>4</th>\n",
       "      <td>5.0</td>\n",
       "      <td>3.6</td>\n",
       "      <td>1.4</td>\n",
       "      <td>0.2</td>\n",
       "      <td>setosa</td>\n",
       "    </tr>\n",
       "  </tbody>\n",
       "</table>\n",
       "</div>"
      ],
      "text/plain": [
       "   SepalLength  SepalWidth  PetalLength  PetalWidth Species\n",
       "0          5.1         3.5          1.4         0.2  setosa\n",
       "1          4.9         3.0          1.4         0.2  setosa\n",
       "2          4.7         3.2          1.3         0.2  setosa\n",
       "3          4.6         3.1          1.5         0.2  setosa\n",
       "4          5.0         3.6          1.4         0.2  setosa"
      ]
     },
     "execution_count": 7,
     "metadata": {},
     "output_type": "execute_result"
    }
   ],
   "source": [
    "iris = pd.read_csv(\"data/iris.csv\")\n",
    "iris.head()"
   ]
  },
  {
   "cell_type": "markdown",
   "metadata": {},
   "source": [
    "2. Sélectionner les variables `PetalWidth` et `Species`."
   ]
  },
  {
   "cell_type": "code",
   "execution_count": 8,
   "metadata": {},
   "outputs": [
    {
     "name": "stdout",
     "output_type": "stream",
     "text": [
      "     PetalWidth    Species\n",
      "0           0.2     setosa\n",
      "1           0.2     setosa\n",
      "2           0.2     setosa\n",
      "3           0.2     setosa\n",
      "4           0.2     setosa\n",
      "..          ...        ...\n",
      "145         2.3  virginica\n",
      "146         1.9  virginica\n",
      "147         2.0  virginica\n",
      "148         2.3  virginica\n",
      "149         1.8  virginica\n",
      "\n",
      "[150 rows x 2 columns]\n"
     ]
    }
   ],
   "source": [
    "print(iris[[\"PetalWidth\", \"Species\"]])"
   ]
  },
  {
   "cell_type": "markdown",
   "metadata": {},
   "source": [
    "3. Extraire le sous-dataframe qui contient uniquement les iris des espèces `versicolor` ou `virginica`."
   ]
  },
  {
   "cell_type": "code",
   "execution_count": 15,
   "metadata": {},
   "outputs": [
    {
     "name": "stdout",
     "output_type": "stream",
     "text": [
      "     SepalLength  SepalWidth  PetalLength  PetalWidth     Species\n",
      "50           7.0         3.2          4.7         1.4  versicolor\n",
      "51           6.4         3.2          4.5         1.5  versicolor\n",
      "52           6.9         3.1          4.9         1.5  versicolor\n",
      "53           5.5         2.3          4.0         1.3  versicolor\n",
      "54           6.5         2.8          4.6         1.5  versicolor\n",
      "..           ...         ...          ...         ...         ...\n",
      "145          6.7         3.0          5.2         2.3   virginica\n",
      "146          6.3         2.5          5.0         1.9   virginica\n",
      "147          6.5         3.0          5.2         2.0   virginica\n",
      "148          6.2         3.4          5.4         2.3   virginica\n",
      "149          5.9         3.0          5.1         1.8   virginica\n",
      "\n",
      "[100 rows x 5 columns]\n"
     ]
    }
   ],
   "source": [
    "print(iris[iris.Species.isin([\"versicolor\",\"virginica\"])])"
   ]
  },
  {
   "cell_type": "markdown",
   "metadata": {},
   "source": [
    "4. Compter le nombre d'iris de l'espèce `setosa`."
   ]
  },
  {
   "cell_type": "code",
   "execution_count": 21,
   "metadata": {},
   "outputs": [
    {
     "name": "stdout",
     "output_type": "stream",
     "text": [
      "count    50\n",
      "Name: Species, dtype: int64\n"
     ]
    }
   ],
   "source": [
    "print(\n",
    "iris[iris.Species==\"setosa\"][\"Species\"].agg([\"count\"])\n",
    ")"
   ]
  },
  {
   "cell_type": "markdown",
   "metadata": {},
   "source": [
    "5. Calculer la moyenne de la variable `PetalWidth` pour les iris de l'espèce `versicolor`."
   ]
  },
  {
   "cell_type": "code",
   "execution_count": 26,
   "metadata": {},
   "outputs": [
    {
     "name": "stdout",
     "output_type": "stream",
     "text": [
      "mean    1.326\n",
      "Name: PetalWidth, dtype: float64\n"
     ]
    }
   ],
   "source": [
    "print(\n",
    "iris[iris.Species==\"versicolor\"][\"PetalWidth\"].agg([\"mean\"])\n",
    ")"
   ]
  },
  {
   "cell_type": "markdown",
   "metadata": {},
   "source": [
    "6. Ajouter une variable `SumWidth` qui contient la somme des variables `PetalWidth` et `SepalWidth`."
   ]
  },
  {
   "cell_type": "code",
   "execution_count": 24,
   "metadata": {},
   "outputs": [
    {
     "name": "stdout",
     "output_type": "stream",
     "text": [
      "     SepalLength  SepalWidth  PetalLength  PetalWidth    Species  SumWidth\n",
      "0            5.1         3.5          1.4         0.2     setosa       3.7\n",
      "1            4.9         3.0          1.4         0.2     setosa       3.2\n",
      "2            4.7         3.2          1.3         0.2     setosa       3.4\n",
      "3            4.6         3.1          1.5         0.2     setosa       3.3\n",
      "4            5.0         3.6          1.4         0.2     setosa       3.8\n",
      "..           ...         ...          ...         ...        ...       ...\n",
      "145          6.7         3.0          5.2         2.3  virginica       5.3\n",
      "146          6.3         2.5          5.0         1.9  virginica       4.4\n",
      "147          6.5         3.0          5.2         2.0  virginica       5.0\n",
      "148          6.2         3.4          5.4         2.3  virginica       5.7\n",
      "149          5.9         3.0          5.1         1.8  virginica       4.8\n",
      "\n",
      "[150 rows x 6 columns]\n"
     ]
    }
   ],
   "source": [
    "iris[\"SumWidth\"]=iris[\"PetalWidth\"]+iris[\"SepalWidth\"]\n",
    "print(iris)"
   ]
  },
  {
   "cell_type": "markdown",
   "metadata": {},
   "source": [
    "7. Calculer la moyenne et la variance de la variable `SepalLength` pour chaque espèce."
   ]
  },
  {
   "cell_type": "code",
   "execution_count": null,
   "metadata": {},
   "outputs": [
    {
     "name": "stdout",
     "output_type": "stream",
     "text": [
      "             mean       var\n",
      "Species                    \n",
      "setosa      5.006  0.124249\n",
      "versicolor  5.936  0.266433\n",
      "virginica   6.588  0.404343\n"
     ]
    }
   ],
   "source": [
    "print(\n",
    "iris\n",
    ".groupby(iris.Species)[\"SepalLength\"].agg([\"mean\",\"var\"])\n",
    ")"
   ]
  },
  {
   "cell_type": "code",
   "execution_count": null,
   "metadata": {},
   "outputs": [
    {
     "name": "stdout",
     "output_type": "stream",
     "text": [
      "            Moyenne  Variance\n",
      "Species                      \n",
      "setosa        5.006  0.124249\n",
      "versicolor    5.936  0.266433\n",
      "virginica     6.588  0.404343\n"
     ]
    }
   ],
   "source": [
    "print(\n",
    "iris\n",
    "    .groupby(iris.Species)\n",
    "    .agg(\n",
    "        Moyenne=pd.NamedAgg(column=\"SepalLength\", aggfunc=\"mean\"),\n",
    "        Variance=pd.NamedAgg(column=\"SepalLength\", aggfunc=\"var\"),\n",
    "    )\n",
    ")"
   ]
  },
  {
   "cell_type": "markdown",
   "metadata": {},
   "source": [
    "8. Calculer la moyenne de toutes les variables pour chaque espèce. Afficher le résultat au format large et au format long."
   ]
  },
  {
   "cell_type": "code",
   "execution_count": null,
   "metadata": {},
   "outputs": [
    {
     "name": "stdout",
     "output_type": "stream",
     "text": [
      "            SepalLengthMean  SepalWidthMean  PetalLengthMean  PetalWidthMean\n",
      "Species                                                                     \n",
      "setosa                5.006           3.428            1.462           0.246\n",
      "versicolor            5.936           2.770            4.260           1.326\n",
      "virginica             6.588           2.974            5.552           2.026\n",
      "       Species         variable  value\n",
      "0       setosa  SepalLengthMean  5.006\n",
      "1   versicolor  SepalLengthMean  5.936\n",
      "2    virginica  SepalLengthMean  6.588\n",
      "3       setosa   SepalWidthMean  3.428\n",
      "4   versicolor   SepalWidthMean  2.770\n",
      "5    virginica   SepalWidthMean  2.974\n",
      "6       setosa  PetalLengthMean  1.462\n",
      "7   versicolor  PetalLengthMean  4.260\n",
      "8    virginica  PetalLengthMean  5.552\n",
      "9       setosa   PetalWidthMean  0.246\n",
      "10  versicolor   PetalWidthMean  1.326\n",
      "11   virginica   PetalWidthMean  2.026\n"
     ]
    }
   ],
   "source": [
    "iris_large=(iris\n",
    "    .groupby(iris.Species)\n",
    "    .agg(\n",
    "        SepalLengthMean=pd.NamedAgg(column=\"SepalLength\", aggfunc=\"mean\"),\n",
    "        SepalWidthMean=pd.NamedAgg(column=\"SepalWidth\", aggfunc=\"mean\"),\n",
    "        PetalLengthMean=pd.NamedAgg(column=\"PetalLength\", aggfunc=\"mean\"),\n",
    "        PetalWidthMean=pd.NamedAgg(column=\"PetalWidth\", aggfunc=\"mean\"),\n",
    "    )\n",
    ")\n",
    "\n",
    "print(iris_large)\n",
    "\n",
    "print(\n",
    "iris_large.reset_index()\n",
    ".melt(id_vars=[\"Species\"])\n",
    ")"
   ]
  },
  {
   "cell_type": "markdown",
   "metadata": {},
   "source": [
    "## Houston flights"
   ]
  },
  {
   "cell_type": "markdown",
   "metadata": {},
   "source": [
    "Nous considérons le jeux de données `hflights` relatif à des vols au départ des aéroports *Houston George Bush Intercontinental Airport* (IAH) et *William P. Hobby Airport* (HOU)."
   ]
  },
  {
   "cell_type": "markdown",
   "metadata": {},
   "source": [
    "1. Charger le jeu de données dans un dataframe `hflights` à partir du fichier `hflights.csv`"
   ]
  },
  {
   "cell_type": "code",
   "execution_count": 42,
   "metadata": {},
   "outputs": [
    {
     "data": {
      "text/html": [
       "<div>\n",
       "<style scoped>\n",
       "    .dataframe tbody tr th:only-of-type {\n",
       "        vertical-align: middle;\n",
       "    }\n",
       "\n",
       "    .dataframe tbody tr th {\n",
       "        vertical-align: top;\n",
       "    }\n",
       "\n",
       "    .dataframe thead th {\n",
       "        text-align: right;\n",
       "    }\n",
       "</style>\n",
       "<table border=\"1\" class=\"dataframe\">\n",
       "  <thead>\n",
       "    <tr style=\"text-align: right;\">\n",
       "      <th></th>\n",
       "      <th>Year</th>\n",
       "      <th>Month</th>\n",
       "      <th>DayofMonth</th>\n",
       "      <th>DayOfWeek</th>\n",
       "      <th>DepTime</th>\n",
       "      <th>ArrTime</th>\n",
       "      <th>UniqueCarrier</th>\n",
       "      <th>FlightNum</th>\n",
       "      <th>TailNum</th>\n",
       "      <th>ActualElapsedTime</th>\n",
       "      <th>...</th>\n",
       "      <th>ArrDelay</th>\n",
       "      <th>DepDelay</th>\n",
       "      <th>Origin</th>\n",
       "      <th>Dest</th>\n",
       "      <th>Distance</th>\n",
       "      <th>TaxiIn</th>\n",
       "      <th>TaxiOut</th>\n",
       "      <th>Cancelled</th>\n",
       "      <th>CancellationCode</th>\n",
       "      <th>Diverted</th>\n",
       "    </tr>\n",
       "  </thead>\n",
       "  <tbody>\n",
       "    <tr>\n",
       "      <th>0</th>\n",
       "      <td>2011</td>\n",
       "      <td>1</td>\n",
       "      <td>1</td>\n",
       "      <td>6</td>\n",
       "      <td>1400.0</td>\n",
       "      <td>1500.0</td>\n",
       "      <td>AA</td>\n",
       "      <td>428</td>\n",
       "      <td>N576AA</td>\n",
       "      <td>60.0</td>\n",
       "      <td>...</td>\n",
       "      <td>-10.0</td>\n",
       "      <td>0.0</td>\n",
       "      <td>IAH</td>\n",
       "      <td>DFW</td>\n",
       "      <td>224</td>\n",
       "      <td>7.0</td>\n",
       "      <td>13.0</td>\n",
       "      <td>0</td>\n",
       "      <td>NaN</td>\n",
       "      <td>0</td>\n",
       "    </tr>\n",
       "    <tr>\n",
       "      <th>1</th>\n",
       "      <td>2011</td>\n",
       "      <td>1</td>\n",
       "      <td>2</td>\n",
       "      <td>7</td>\n",
       "      <td>1401.0</td>\n",
       "      <td>1501.0</td>\n",
       "      <td>AA</td>\n",
       "      <td>428</td>\n",
       "      <td>N557AA</td>\n",
       "      <td>60.0</td>\n",
       "      <td>...</td>\n",
       "      <td>-9.0</td>\n",
       "      <td>1.0</td>\n",
       "      <td>IAH</td>\n",
       "      <td>DFW</td>\n",
       "      <td>224</td>\n",
       "      <td>6.0</td>\n",
       "      <td>9.0</td>\n",
       "      <td>0</td>\n",
       "      <td>NaN</td>\n",
       "      <td>0</td>\n",
       "    </tr>\n",
       "    <tr>\n",
       "      <th>2</th>\n",
       "      <td>2011</td>\n",
       "      <td>1</td>\n",
       "      <td>3</td>\n",
       "      <td>1</td>\n",
       "      <td>1352.0</td>\n",
       "      <td>1502.0</td>\n",
       "      <td>AA</td>\n",
       "      <td>428</td>\n",
       "      <td>N541AA</td>\n",
       "      <td>70.0</td>\n",
       "      <td>...</td>\n",
       "      <td>-8.0</td>\n",
       "      <td>-8.0</td>\n",
       "      <td>IAH</td>\n",
       "      <td>DFW</td>\n",
       "      <td>224</td>\n",
       "      <td>5.0</td>\n",
       "      <td>17.0</td>\n",
       "      <td>0</td>\n",
       "      <td>NaN</td>\n",
       "      <td>0</td>\n",
       "    </tr>\n",
       "    <tr>\n",
       "      <th>3</th>\n",
       "      <td>2011</td>\n",
       "      <td>1</td>\n",
       "      <td>4</td>\n",
       "      <td>2</td>\n",
       "      <td>1403.0</td>\n",
       "      <td>1513.0</td>\n",
       "      <td>AA</td>\n",
       "      <td>428</td>\n",
       "      <td>N403AA</td>\n",
       "      <td>70.0</td>\n",
       "      <td>...</td>\n",
       "      <td>3.0</td>\n",
       "      <td>3.0</td>\n",
       "      <td>IAH</td>\n",
       "      <td>DFW</td>\n",
       "      <td>224</td>\n",
       "      <td>9.0</td>\n",
       "      <td>22.0</td>\n",
       "      <td>0</td>\n",
       "      <td>NaN</td>\n",
       "      <td>0</td>\n",
       "    </tr>\n",
       "    <tr>\n",
       "      <th>4</th>\n",
       "      <td>2011</td>\n",
       "      <td>1</td>\n",
       "      <td>5</td>\n",
       "      <td>3</td>\n",
       "      <td>1405.0</td>\n",
       "      <td>1507.0</td>\n",
       "      <td>AA</td>\n",
       "      <td>428</td>\n",
       "      <td>N492AA</td>\n",
       "      <td>62.0</td>\n",
       "      <td>...</td>\n",
       "      <td>-3.0</td>\n",
       "      <td>5.0</td>\n",
       "      <td>IAH</td>\n",
       "      <td>DFW</td>\n",
       "      <td>224</td>\n",
       "      <td>9.0</td>\n",
       "      <td>9.0</td>\n",
       "      <td>0</td>\n",
       "      <td>NaN</td>\n",
       "      <td>0</td>\n",
       "    </tr>\n",
       "  </tbody>\n",
       "</table>\n",
       "<p>5 rows × 21 columns</p>\n",
       "</div>"
      ],
      "text/plain": [
       "   Year  Month  DayofMonth  DayOfWeek  DepTime  ArrTime UniqueCarrier  \\\n",
       "0  2011      1           1          6   1400.0   1500.0            AA   \n",
       "1  2011      1           2          7   1401.0   1501.0            AA   \n",
       "2  2011      1           3          1   1352.0   1502.0            AA   \n",
       "3  2011      1           4          2   1403.0   1513.0            AA   \n",
       "4  2011      1           5          3   1405.0   1507.0            AA   \n",
       "\n",
       "   FlightNum TailNum  ActualElapsedTime  ...  ArrDelay  DepDelay  Origin Dest  \\\n",
       "0        428  N576AA               60.0  ...     -10.0       0.0     IAH  DFW   \n",
       "1        428  N557AA               60.0  ...      -9.0       1.0     IAH  DFW   \n",
       "2        428  N541AA               70.0  ...      -8.0      -8.0     IAH  DFW   \n",
       "3        428  N403AA               70.0  ...       3.0       3.0     IAH  DFW   \n",
       "4        428  N492AA               62.0  ...      -3.0       5.0     IAH  DFW   \n",
       "\n",
       "  Distance  TaxiIn  TaxiOut  Cancelled  CancellationCode Diverted  \n",
       "0      224     7.0     13.0          0               NaN        0  \n",
       "1      224     6.0      9.0          0               NaN        0  \n",
       "2      224     5.0     17.0          0               NaN        0  \n",
       "3      224     9.0     22.0          0               NaN        0  \n",
       "4      224     9.0      9.0          0               NaN        0  \n",
       "\n",
       "[5 rows x 21 columns]"
      ]
     },
     "execution_count": 42,
     "metadata": {},
     "output_type": "execute_result"
    }
   ],
   "source": [
    "houston = pd.read_csv(\"data/hflights.csv\")\n",
    "houston.head()"
   ]
  },
  {
   "cell_type": "markdown",
   "metadata": {},
   "source": [
    "2. Sélectionner les variable `Dest`, `Distance`, `TaxiIn` et `TaxiOut` avec la méthode `filter`."
   ]
  },
  {
   "cell_type": "code",
   "execution_count": 43,
   "metadata": {},
   "outputs": [
    {
     "name": "stdout",
     "output_type": "stream",
     "text": [
      "       Dest  Distance  TaxiIn  TaxiOut\n",
      "0       DFW       224     7.0     13.0\n",
      "1       DFW       224     6.0      9.0\n",
      "2       DFW       224     5.0     17.0\n",
      "3       DFW       224     9.0     22.0\n",
      "4       DFW       224     9.0      9.0\n",
      "...     ...       ...     ...      ...\n",
      "227491  TPA       781     5.0     11.0\n",
      "227492  TPA       781     4.0      9.0\n",
      "227493  TUL       453     4.0     14.0\n",
      "227494  TUL       453     3.0      9.0\n",
      "227495  TUL       453     3.0     11.0\n",
      "\n",
      "[227496 rows x 4 columns]\n"
     ]
    }
   ],
   "source": [
    "print(houston.filter(items=[\"Dest\", \"Distance\",\"TaxiIn\",\"TaxiOut\"]))"
   ]
  },
  {
   "cell_type": "markdown",
   "metadata": {},
   "source": [
    "3. Sélectionner les variables `DepTime`, `ArrTime`, `ActualElapsedTime` et `AirTime` avec la méthode `filter` et le paramètre `like`."
   ]
  },
  {
   "cell_type": "code",
   "execution_count": 44,
   "metadata": {},
   "outputs": [
    {
     "name": "stdout",
     "output_type": "stream",
     "text": [
      "        DepTime  ArrTime  ActualElapsedTime  AirTime\n",
      "0        1400.0   1500.0               60.0     40.0\n",
      "1        1401.0   1501.0               60.0     45.0\n",
      "2        1352.0   1502.0               70.0     48.0\n",
      "3        1403.0   1513.0               70.0     39.0\n",
      "4        1405.0   1507.0               62.0     44.0\n",
      "...         ...      ...                ...      ...\n",
      "227491   1818.0   2111.0              113.0     97.0\n",
      "227492   2047.0   2334.0              107.0     94.0\n",
      "227493    912.0   1031.0               79.0     61.0\n",
      "227494    656.0    812.0               76.0     64.0\n",
      "227495   1600.0   1713.0               73.0     59.0\n",
      "\n",
      "[227496 rows x 4 columns]\n"
     ]
    }
   ],
   "source": [
    "print(houston.filter(like=\"Time\"))"
   ]
  },
  {
   "cell_type": "markdown",
   "metadata": {},
   "source": [
    "4. Ajouter une variable `ActualGroundTime` qui correspond à `ActualElapsedTime` moins `AirTime`."
   ]
  },
  {
   "cell_type": "code",
   "execution_count": 46,
   "metadata": {},
   "outputs": [
    {
     "name": "stdout",
     "output_type": "stream",
     "text": [
      "        DepTime  ArrTime  ActualElapsedTime  AirTime  ActualGroundTime\n",
      "0        1400.0   1500.0               60.0     40.0              20.0\n",
      "1        1401.0   1501.0               60.0     45.0              15.0\n",
      "2        1352.0   1502.0               70.0     48.0              22.0\n",
      "3        1403.0   1513.0               70.0     39.0              31.0\n",
      "4        1405.0   1507.0               62.0     44.0              18.0\n",
      "...         ...      ...                ...      ...               ...\n",
      "227491   1818.0   2111.0              113.0     97.0              16.0\n",
      "227492   2047.0   2334.0              107.0     94.0              13.0\n",
      "227493    912.0   1031.0               79.0     61.0              18.0\n",
      "227494    656.0    812.0               76.0     64.0              12.0\n",
      "227495   1600.0   1713.0               73.0     59.0              14.0\n",
      "\n",
      "[227496 rows x 5 columns]\n"
     ]
    }
   ],
   "source": [
    "houston[\"ActualGroundTime\"]=houston[\"ActualElapsedTime\"]-houston[\"AirTime\"]\n",
    "print(houston.filter(like=\"Time\"))"
   ]
  },
  {
   "cell_type": "markdown",
   "metadata": {},
   "source": [
    "5. Ajouter une variable `AverageSpeed` qui donne la vitesse moyenne du vol et ordonner la table selon les valeurs décroissantes de cette variable."
   ]
  },
  {
   "cell_type": "code",
   "execution_count": 49,
   "metadata": {},
   "outputs": [
    {
     "name": "stdout",
     "output_type": "stream",
     "text": [
      "       Dest  Distance  AverageSpeed\n",
      "147589  AUS       140    763.636364\n",
      "8318    MEM       469    670.000000\n",
      "34761   CLT       913    644.470588\n",
      "185953  HOB       501    639.574468\n",
      "40764   IND       845    618.292683\n",
      "...     ...       ...           ...\n",
      "227134  BWI      1246           NaN\n",
      "227153  DAL       239           NaN\n",
      "227271  DAL       239           NaN\n",
      "227302  JAN       359           NaN\n",
      "227394  DAL       239           NaN\n",
      "\n",
      "[227496 rows x 3 columns]\n"
     ]
    }
   ],
   "source": [
    "houston[\"AverageSpeed\"]=houston[\"Distance\"]/(houston[\"AirTime\"]/60)\n",
    "print(houston\n",
    "    .filter(items=[\"Dest\", \"Distance\",\"AverageSpeed\"])\n",
    "    .sort_values(by=\"AverageSpeed\", ascending=False)\n",
    ")"
   ]
  },
  {
   "cell_type": "markdown",
   "metadata": {},
   "source": [
    "6. Sélectionner les vols à destination de `JFK`."
   ]
  },
  {
   "cell_type": "code",
   "execution_count": 52,
   "metadata": {},
   "outputs": [
    {
     "name": "stdout",
     "output_type": "stream",
     "text": [
      "       Dest  Distance  AverageSpeed\n",
      "304     JFK      1428    473.370166\n",
      "305     JFK      1428    455.744681\n",
      "306     JFK      1428    498.139535\n",
      "307     JFK      1428    486.818182\n",
      "308     JFK      1428    516.144578\n",
      "...     ...       ...           ...\n",
      "208752  JFK      1428    468.196721\n",
      "208753  JFK      1428    504.000000\n",
      "208754  JFK      1428    473.370166\n",
      "208755  JFK      1428    489.600000\n",
      "208756  JFK      1428    450.947368\n",
      "\n",
      "[695 rows x 3 columns]\n"
     ]
    }
   ],
   "source": [
    "print(houston[houston.Dest == \"JFK\"].filter(items=[\"Dest\", \"Distance\",\"AverageSpeed\"]))"
   ]
  },
  {
   "cell_type": "markdown",
   "metadata": {},
   "source": [
    "7. Compter le nombre de vols à destination de `JFK`."
   ]
  },
  {
   "cell_type": "code",
   "execution_count": null,
   "metadata": {},
   "outputs": [
    {
     "name": "stdout",
     "output_type": "stream",
     "text": [
      "Dest    695\n",
      "dtype: int64\n"
     ]
    }
   ],
   "source": [
    "print(\n",
    "    houston[houston.Dest == \"JFK\"]\n",
    "        .agg(\n",
    "            {\"Dest\": \"count\"}\n",
    "        )\n",
    ")"
   ]
  },
  {
   "cell_type": "markdown",
   "metadata": {},
   "source": [
    "8. Agréger les données `hflights` pour obtenir :\n",
    "- `n` : le nombre total de vols,\n",
    "- `n_dest`: le nombre total de destinations distinctes,\n",
    "- `n_carrier` : le nombre total de compagnies distinctes."
   ]
  },
  {
   "cell_type": "code",
   "execution_count": 64,
   "metadata": {},
   "outputs": [
    {
     "name": "stdout",
     "output_type": "stream",
     "text": [
      "           FlightNum   Dest  UniqueCarrier\n",
      "n           227496.0    NaN            NaN\n",
      "n_dest           NaN  116.0            NaN\n",
      "n_carrier        NaN    NaN           15.0\n",
      "        n  n_dest  n_carrier\n",
      "0  227496     116         15\n"
     ]
    }
   ],
   "source": [
    "print(\n",
    "    houston.agg(\n",
    "        n=pd.NamedAgg(column=\"FlightNum\", aggfunc=\"count\"),\n",
    "        n_dest=pd.NamedAgg(column=\"Dest\", aggfunc=\"nunique\"),\n",
    "        n_carrier=pd.NamedAgg(column=\"UniqueCarrier\", aggfunc=\"nunique\"),\n",
    "    )\n",
    ")\n",
    "\n",
    "print(\n",
    "    pd.DataFrame(\n",
    "        {\n",
    "            \"n\":[houston.FlightNum.count()],\n",
    "            \"n_dest\":[houston.Dest.nunique()],\n",
    "            \"n_carrier\":[houston.UniqueCarrier.nunique()]\n",
    "        }\n",
    "    )\n",
    ")"
   ]
  },
  {
   "cell_type": "markdown",
   "metadata": {},
   "source": [
    "9. Agréger les données des vols de la compagnie `AA` pour obtenir :\n",
    "- le nombre total de vols,\n",
    "- le nombre total de vols annulés,\n",
    "- la valeur moyenne de `ArrDelay`."
   ]
  },
  {
   "cell_type": "code",
   "execution_count": 68,
   "metadata": {},
   "outputs": [
    {
     "name": "stdout",
     "output_type": "stream",
     "text": [
      "   total_flights  total_cancelled_flights  mean_delay\n",
      "0           3244                       60    0.891756\n"
     ]
    }
   ],
   "source": [
    "hAA=houston[houston.UniqueCarrier==\"AA\"]\n",
    "\n",
    "print(\n",
    "    pd.DataFrame(\n",
    "        {\n",
    "            \"total_flights\":[hAA.FlightNum.count()],\n",
    "            \"total_cancelled_flights\":[hAA.Cancelled.sum()],\n",
    "            \"mean_delay\":[hAA.ArrDelay.mean()]\n",
    "        }\n",
    "    )\n",
    ")"
   ]
  },
  {
   "cell_type": "markdown",
   "metadata": {},
   "source": [
    "10. Calculer pour chaque compagnie :\n",
    "- le nombre total de vols,\n",
    "- la valeur moyenne de `AirTime`."
   ]
  },
  {
   "cell_type": "code",
   "execution_count": 69,
   "metadata": {},
   "outputs": [
    {
     "name": "stdout",
     "output_type": "stream",
     "text": [
      "               flights  mean_airtime\n",
      "UniqueCarrier                       \n",
      "AA                3244     69.652612\n",
      "AS                 365    254.184066\n",
      "B6                 695    183.985141\n",
      "CO               70032    145.457873\n",
      "DL                2641     97.801235\n",
      "EV                2204    103.656766\n",
      "F9                 838    125.341346\n",
      "FL                2139     92.706300\n",
      "MQ                4648     93.839476\n",
      "OO               16061    113.410684\n",
      "UA                2072    157.406296\n",
      "US                4082    133.856328\n",
      "WN               45343     86.731341\n",
      "XE               73053     83.222146\n",
      "YV                  79    121.935897\n"
     ]
    }
   ],
   "source": [
    "print(\n",
    "    houston\n",
    "        .groupby(\"UniqueCarrier\")\n",
    "        .agg(\n",
    "            flights=pd.NamedAgg(column=\"FlightNum\", aggfunc=\"count\"),\n",
    "            mean_airtime=pd.NamedAgg(column=\"AirTime\", aggfunc=\"mean\"),\n",
    "        )\n",
    ")"
   ]
  },
  {
   "cell_type": "markdown",
   "metadata": {},
   "source": [
    "11. Ordonner les compagnies en fonction des retards moyens au départ."
   ]
  },
  {
   "cell_type": "code",
   "execution_count": 70,
   "metadata": {},
   "outputs": [
    {
     "name": "stdout",
     "output_type": "stream",
     "text": [
      "               mean_dep_delay\n",
      "UniqueCarrier                \n",
      "WN                  13.488241\n",
      "B6                  13.320532\n",
      "UA                  12.918707\n",
      "EV                  12.482193\n",
      "MQ                  11.071745\n",
      "DL                   9.370627\n",
      "CO                   9.261313\n",
      "OO                   8.885482\n",
      "XE                   7.713728\n",
      "AA                   6.390144\n",
      "F9                   5.093637\n",
      "FL                   4.716376\n",
      "AS                   3.712329\n",
      "US                   1.622926\n",
      "YV                   1.538462\n"
     ]
    }
   ],
   "source": [
    "print(\n",
    "    houston\n",
    "        .groupby(\"UniqueCarrier\")\n",
    "        .agg(\n",
    "            mean_dep_delay=pd.NamedAgg(column=\"DepDelay\", aggfunc=\"mean\"),\n",
    "        )\n",
    "        .sort_values(by=\"mean_dep_delay\", ascending=False)\n",
    ")"
   ]
  },
  {
   "cell_type": "code",
   "execution_count": null,
   "metadata": {},
   "outputs": [],
   "source": []
  }
 ],
 "metadata": {
  "kernelspec": {
   "display_name": "base",
   "language": "python",
   "name": "python3"
  },
  "language_info": {
   "codemirror_mode": {
    "name": "ipython",
    "version": 3
   },
   "file_extension": ".py",
   "mimetype": "text/x-python",
   "name": "python",
   "nbconvert_exporter": "python",
   "pygments_lexer": "ipython3",
   "version": "3.12.9"
  }
 },
 "nbformat": 4,
 "nbformat_minor": 2
}
