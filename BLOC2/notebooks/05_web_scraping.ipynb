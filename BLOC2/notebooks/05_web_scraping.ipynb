{
 "cells": [
  {
   "cell_type": "markdown",
   "metadata": {},
   "source": [
    "# Notebook 5 : Web scraping"
   ]
  },
  {
   "cell_type": "code",
   "execution_count": null,
   "metadata": {},
   "outputs": [
    {
     "name": "stdout",
     "output_type": "stream",
     "text": [
      "Defaulting to user installation because normal site-packages is not writeable\n",
      "Requirement already satisfied: lxml in c:\\programdata\\anaconda3\\lib\\site-packages (4.9.2)\n",
      "Note: you may need to restart the kernel to use updated packages.\n"
     ]
    }
   ],
   "source": [
    "# Décommenter la ligne suivante pour installer lxml (nécessaire pour read_html)\n",
    "# %pip install lxml"
   ]
  },
  {
   "cell_type": "code",
   "execution_count": 1,
   "metadata": {},
   "outputs": [],
   "source": [
    "import pandas as pd\n",
    "import requests\n",
    "\n",
    "from bs4 import BeautifulSoup"
   ]
  },
  {
   "cell_type": "markdown",
   "metadata": {},
   "source": [
    "## Bonsaïs"
   ]
  },
  {
   "cell_type": "markdown",
   "metadata": {},
   "source": [
    "Le site [Umi Zen Bonsai](https://umizenbonsai.com/) est une boutique de vente en ligne dédiée aux bonsaïs. Les conifères sont disponible sur la page web [https://umizenbonsai.com/shop/bonsai/coniferes/](https://umizenbonsai.com/shop/bonsai/coniferes/). Comme beaucoup d'autres sites, l'information est organisée en blocs dans lesquels il est possible de récupérer des données.\n",
    "\n",
    "Pour scraper ce type de site, le processus consiste à capturer les blocs dans un premier temps, puis à en extraire les données."
   ]
  },
  {
   "cell_type": "markdown",
   "metadata": {},
   "source": [
    "1. Récupérer le contenu de la page avec `requests` et passer le résultat au parser de `BeautifulSoup`."
   ]
  },
  {
   "cell_type": "code",
   "execution_count": 3,
   "metadata": {},
   "outputs": [
    {
     "name": "stdout",
     "output_type": "stream",
     "text": [
      "<!DOCTYPE html>\n",
      "<html class=\"html\" lang=\"fr-FR\">\n",
      " <head>\n",
      "  <meta charset=\"utf-8\"/>\n",
      "  <script>\n",
      "   if(navigator.userAgent.match(/MSIE|Internet Explorer/i)||navigator.userAgent.match(/Trident\\/7\\..*?rv:11/i)){var href=document.location.href;if(!href.match(/[?&]nowprocket/)){if(href.indexOf(\"?\")==-1){if(href.indexOf(\"#\")==-1){document.location.href=href+\"?nowprocket=1\"}else{document.location.href=href.replace(\"#\",\"?nowprocket=1#\")}}else{if(href.indexOf(\"#\")==-1){document.location.href=href+\"&nowprocket=1\"}else{document.location.href=href.replace(\"#\",\"&nowprocket=1#\")}}}}\n",
      "  </script>\n",
      "  <script>\n",
      "   (()=>{class RocketLazyLoadScripts{constructor(){this.v=\"2.0.3\",this.userEvents=[\"keydown\",\"keyup\",\"mousedown\",\"mouseup\",\"mousemove\",\"mouseover\",\"mouseenter\",\"mouseout\",\"mouseleave\",\"touchmove\",\"touchstart\",\"touchend\",\"touchcancel\",\"wheel\",\"click\",\"dblclick\",\"input\",\"visibilitychange\"],this.attributeEvents=[\"onblur\",\"onclick\",\"oncontextmenu\",\"ondblclick\",\"onfocus\",\"onmousedown\",\"onmouseenter\",\"onmo\n"
     ]
    }
   ],
   "source": [
    "url_bonsais = \"https://umizenbonsai.com/shop/bonsai/coniferes/\"\n",
    "\n",
    "r_bonzais = requests.get(url_bonsais)\n",
    "assert r_bonzais.status_code == 200, f\"Erreur {r_bonzais.status_code}\"\n",
    "\n",
    "soup_bonzais = BeautifulSoup(r_bonzais.text, \"html.parser\")\n",
    "\n",
    "print(soup_bonzais.prettify()[:1000])  # Affiche les 1000 premiers caractères du HTML"
   ]
  },
  {
   "cell_type": "markdown",
   "metadata": {},
   "source": [
    "2. Écrire un sélecteur CSS pour capturer les éléments `li` qui contiennent les blocs correspondants aux bonsaïs. Vérifier sur le site que le nombre de bonsaïs affichés correspond."
   ]
  },
  {
   "cell_type": "code",
   "execution_count": 13,
   "metadata": {},
   "outputs": [
    {
     "name": "stdout",
     "output_type": "stream",
     "text": [
      "Nombre de bonsais : 9\n"
     ]
    }
   ],
   "source": [
    "selector_blocs = \"li.entry\"\n",
    "bonsais_blocs = soup_bonzais.select(selector_blocs)\n",
    "print(f\"Nombre de bonsais : {len(bonsais_blocs)}\")"
   ]
  },
  {
   "cell_type": "markdown",
   "metadata": {},
   "source": [
    "3. Écrire une fonction qui prend un bloc de la liste précédente et retourne un tuple contenant le nom, le prix et le lien de description du bonsaï."
   ]
  },
  {
   "cell_type": "code",
   "execution_count": 44,
   "metadata": {},
   "outputs": [
    {
     "name": "stdout",
     "output_type": "stream",
     "text": [
      "{'nom': 'Bonsai Cyprès du Japon – 33cm', 'price': '140.00', 'link': 'https://umizenbonsai.com/vente/bonsai-cypres-du-japon/'}\n",
      "{'nom': 'Bonsai Genévrier de Phénicie – 59cm', 'price': '225.00', 'link': 'https://umizenbonsai.com/vente/bonsai-genevrier-de-phenicie/'}\n",
      "{'nom': 'Bonsai Genévrier de Phénicie – 67cm', 'price': '333.00', 'link': 'https://umizenbonsai.com/vente/bonsai-genevrier-phenicie/'}\n",
      "{'nom': 'Bonsai If Commun – 58cm', 'price': '1190.00', 'link': 'https://umizenbonsai.com/vente/bonsai-if-commun-2/'}\n",
      "{'nom': 'Bonsai If Commun – 85cm', 'price': '585.00', 'link': 'https://umizenbonsai.com/vente/bonsai-if-commun/'}\n",
      "{'nom': 'Bonsai If du Japon – 50cm', 'price': '750.00', 'link': 'https://umizenbonsai.com/vente/bonsai-if-du-japon/'}\n",
      "{'nom': 'Bonsai If du Japon – 63cm', 'price': '1290.00', 'link': 'https://umizenbonsai.com/vente/bonsai-if-japon/'}\n",
      "{'nom': 'Bonsai Pin Sylvestre – 38cm', 'price': '440.00', 'link': 'https://umizenbonsai.com/vente/bonsai-pin-sylvestre-3/'}\n",
      "{'nom': 'Bonsai Pin Sylvestre – 65cm', 'price': '370.00', 'link': 'https://umizenbonsai.com/vente/bonsai-pin-sylvestre-4/'}\n"
     ]
    }
   ],
   "source": [
    "def extract_bonsai_info(bonsai_bloc):\n",
    "    \"\"\"Extrait les informations d'un bonsaï à partir de son bloc HTML.\"\"\"\n",
    "    bonsai_info = {}\n",
    "    \n",
    "    # Nom du bonsaï\n",
    "    name_link=bonsai_bloc.select(\"li.title > h2 > a\")\n",
    "    bonsai_info[\"nom\"]=name_link[0].text\n",
    "    \n",
    "    # Prix\n",
    "    prices=bonsai_bloc.select(\"span.price span bdi\")\n",
    "    bonsai_info[\"price\"]=prices[-1].text.replace(\"€\", \"\").replace(\",\", \"\")\n",
    "    \n",
    "    # Lien vers la page du produit\n",
    "    bonsai_info[\"link\"]=name_link[0].attrs[\"href\"]\n",
    "    \n",
    "    return bonsai_info\n",
    "\n",
    "for b in bonsais_blocs:\n",
    "    bonsai_info = extract_bonsai_info(b)\n",
    "    print(bonsai_info)  # Affiche les informations de chaque bonsaï"
   ]
  },
  {
   "cell_type": "markdown",
   "metadata": {},
   "source": [
    "4. Utiliser les deux questions précédentes pour construire un dataframe contenant les données des bonsaïs."
   ]
  },
  {
   "cell_type": "code",
   "execution_count": null,
   "metadata": {},
   "outputs": [],
   "source": []
  },
  {
   "cell_type": "markdown",
   "metadata": {},
   "source": [
    "5. (*Bonus*) Écrire une fonction pour récupérer la provenance, le feuilage et les dimension du bonsaï à partir du lien de description. Utiliser cette fonction pour ajouter des colonnes au dataframe précédent"
   ]
  },
  {
   "cell_type": "code",
   "execution_count": null,
   "metadata": {},
   "outputs": [],
   "source": []
  },
  {
   "cell_type": "markdown",
   "metadata": {},
   "source": [
    "## Trampoline"
   ]
  },
  {
   "cell_type": "markdown",
   "metadata": {},
   "source": [
    "Le trampoline est un sport olympique depuis les jeux de Sydney en 2000. La page suivante contient les listes des hommes et des femmes ayant obtenu une médaille olympique dans cette discipline :\n",
    "[https://fr.wikipedia.org/wiki/Liste_des_m%C3%A9daill%C3%A9s_olympiques_au_trampoline](https://fr.wikipedia.org/wiki/Liste_des_m%C3%A9daill%C3%A9s_olympiques_au_trampoline)\n",
    "\n",
    "Un tableau est contenu dans un élément `table` avec des balises pour les lignes `tr`, pour les colonnes `th`, pour les cellules `td`, ... Cela peut être fastidieux à scraper et très répétitif. Heureusement, Pandas propose la fonction `read_html` pour récupérer des tableaux sous forme de dataframes à partir d'une page web."
   ]
  },
  {
   "cell_type": "markdown",
   "metadata": {},
   "source": [
    "1. Utiliser la fonction `read_html` de Pandas sur la page des médaillés olympiques au trampoline. Combien de dataframes sont récupérés ?"
   ]
  },
  {
   "cell_type": "code",
   "execution_count": null,
   "metadata": {},
   "outputs": [],
   "source": []
  },
  {
   "cell_type": "markdown",
   "metadata": {},
   "source": [
    "2. Extraire de la liste précédente les dataframes des médailles masculines et féminines."
   ]
  },
  {
   "cell_type": "code",
   "execution_count": null,
   "metadata": {},
   "outputs": [],
   "source": []
  },
  {
   "cell_type": "markdown",
   "metadata": {},
   "source": [
    "3. À partir de ces dataframes, compter combien chaque pays a reçu de médailles d'or, d'argent et de bronze."
   ]
  },
  {
   "cell_type": "code",
   "execution_count": null,
   "metadata": {},
   "outputs": [],
   "source": []
  },
  {
   "cell_type": "markdown",
   "metadata": {},
   "source": [
    "4. (*Bonus*) Construire un dataframe contenant, pour chaque pays, le nombre de médailles d'or, d'argent et de bronze ainsi que le nombre total de médailles. Classer ce dataframe dans l'ordre usuel en fonction d'abord du nombre de médailles d'or, puis du nombre de médailles d'argent et enfin du nombre de médailles de bronze. Comparer le résultat avec le tableau des médailles sur la page [https://fr.wikipedia.org/wiki/Trampoline_aux_Jeux_olympiques](https://fr.wikipedia.org/wiki/Trampoline_aux_Jeux_olympiques)."
   ]
  },
  {
   "cell_type": "code",
   "execution_count": null,
   "metadata": {},
   "outputs": [],
   "source": []
  },
  {
   "cell_type": "markdown",
   "metadata": {},
   "source": [
    "## Cate Blanchett"
   ]
  },
  {
   "cell_type": "markdown",
   "metadata": {},
   "source": [
    "Dans le cours, nous avons essayé de trouver avec quels acteurs Cate Blanchett a joué le plus au cours des années 2000. Pour cela, nous avons récupéré la liste des pages Wikipedia des films où elle tient un rôle avec le code suivant :"
   ]
  },
  {
   "cell_type": "code",
   "execution_count": 53,
   "metadata": {},
   "outputs": [
    {
     "data": {
      "text/html": [
       "<div>\n",
       "<style scoped>\n",
       "    .dataframe tbody tr th:only-of-type {\n",
       "        vertical-align: middle;\n",
       "    }\n",
       "\n",
       "    .dataframe tbody tr th {\n",
       "        vertical-align: top;\n",
       "    }\n",
       "\n",
       "    .dataframe thead th {\n",
       "        text-align: right;\n",
       "    }\n",
       "</style>\n",
       "<table border=\"1\" class=\"dataframe\">\n",
       "  <thead>\n",
       "    <tr style=\"text-align: right;\">\n",
       "      <th></th>\n",
       "      <th>titre</th>\n",
       "      <th>url_wikipedia</th>\n",
       "    </tr>\n",
       "  </thead>\n",
       "  <tbody>\n",
       "    <tr>\n",
       "      <th>0</th>\n",
       "      <td>Les Larmes d'un homme</td>\n",
       "      <td>https://fr.wikipedia.org/wiki/Les_Larmes_d%27u...</td>\n",
       "    </tr>\n",
       "    <tr>\n",
       "      <th>1</th>\n",
       "      <td>Intuitions</td>\n",
       "      <td>https://fr.wikipedia.org/wiki/Intuitions</td>\n",
       "    </tr>\n",
       "    <tr>\n",
       "      <th>2</th>\n",
       "      <td>Bandits (film, 2001)</td>\n",
       "      <td>https://fr.wikipedia.org/wiki/Bandits_(film,_2...</td>\n",
       "    </tr>\n",
       "    <tr>\n",
       "      <th>3</th>\n",
       "      <td>Le Seigneur des anneaux : La Communauté de l'a...</td>\n",
       "      <td>https://fr.wikipedia.org/wiki/Le_Seigneur_des_...</td>\n",
       "    </tr>\n",
       "    <tr>\n",
       "      <th>4</th>\n",
       "      <td>Charlotte Gray</td>\n",
       "      <td>https://fr.wikipedia.org/wiki/Charlotte_Gray</td>\n",
       "    </tr>\n",
       "    <tr>\n",
       "      <th>5</th>\n",
       "      <td>Terre Neuve (film)</td>\n",
       "      <td>https://fr.wikipedia.org/wiki/Terre_Neuve_(film)</td>\n",
       "    </tr>\n",
       "    <tr>\n",
       "      <th>6</th>\n",
       "      <td>Heaven (film, 2002)</td>\n",
       "      <td>https://fr.wikipedia.org/wiki/Heaven_(film,_2002)</td>\n",
       "    </tr>\n",
       "    <tr>\n",
       "      <th>7</th>\n",
       "      <td>Le Seigneur des anneaux : Les Deux Tours</td>\n",
       "      <td>https://fr.wikipedia.org/wiki/Le_Seigneur_des_...</td>\n",
       "    </tr>\n",
       "    <tr>\n",
       "      <th>8</th>\n",
       "      <td>Veronica Guerin (film)</td>\n",
       "      <td>https://fr.wikipedia.org/wiki/Veronica_Guerin_...</td>\n",
       "    </tr>\n",
       "    <tr>\n",
       "      <th>9</th>\n",
       "      <td>Coffee and Cigarettes</td>\n",
       "      <td>https://fr.wikipedia.org/wiki/Coffee_and_Cigar...</td>\n",
       "    </tr>\n",
       "    <tr>\n",
       "      <th>10</th>\n",
       "      <td>Les Disparues</td>\n",
       "      <td>https://fr.wikipedia.org/wiki/Les_Disparues</td>\n",
       "    </tr>\n",
       "    <tr>\n",
       "      <th>11</th>\n",
       "      <td>Le Seigneur des anneaux : Le Retour du roi</td>\n",
       "      <td>https://fr.wikipedia.org/wiki/Le_Seigneur_des_...</td>\n",
       "    </tr>\n",
       "    <tr>\n",
       "      <th>12</th>\n",
       "      <td>La Vie aquatique</td>\n",
       "      <td>https://fr.wikipedia.org/wiki/La_Vie_aquatique</td>\n",
       "    </tr>\n",
       "    <tr>\n",
       "      <th>13</th>\n",
       "      <td>Aviator</td>\n",
       "      <td>https://fr.wikipedia.org/wiki/Aviator</td>\n",
       "    </tr>\n",
       "    <tr>\n",
       "      <th>14</th>\n",
       "      <td>Little Fish (film, 2005)</td>\n",
       "      <td>https://fr.wikipedia.org/wiki/Little_Fish_(fil...</td>\n",
       "    </tr>\n",
       "    <tr>\n",
       "      <th>15</th>\n",
       "      <td>Babel (film, 2006)</td>\n",
       "      <td>https://fr.wikipedia.org/wiki/Babel_(film,_2006)</td>\n",
       "    </tr>\n",
       "    <tr>\n",
       "      <th>16</th>\n",
       "      <td>The Good German</td>\n",
       "      <td>https://fr.wikipedia.org/wiki/The_Good_German</td>\n",
       "    </tr>\n",
       "    <tr>\n",
       "      <th>17</th>\n",
       "      <td>Chronique d'un scandale</td>\n",
       "      <td>https://fr.wikipedia.org/wiki/Chronique_d%27un...</td>\n",
       "    </tr>\n",
       "    <tr>\n",
       "      <th>18</th>\n",
       "      <td>Hot Fuzz</td>\n",
       "      <td>https://fr.wikipedia.org/wiki/Hot_Fuzz</td>\n",
       "    </tr>\n",
       "    <tr>\n",
       "      <th>19</th>\n",
       "      <td>I'm Not There</td>\n",
       "      <td>https://fr.wikipedia.org/wiki/I%27m_Not_There</td>\n",
       "    </tr>\n",
       "    <tr>\n",
       "      <th>20</th>\n",
       "      <td>Elizabeth : L'Âge d'or</td>\n",
       "      <td>https://fr.wikipedia.org/wiki/Elizabeth_:_L%27...</td>\n",
       "    </tr>\n",
       "    <tr>\n",
       "      <th>21</th>\n",
       "      <td>Ponyo sur la falaise</td>\n",
       "      <td>https://fr.wikipedia.org/wiki/Ponyo_sur_la_fal...</td>\n",
       "    </tr>\n",
       "    <tr>\n",
       "      <th>22</th>\n",
       "      <td>Indiana Jones et le Royaume du crâne de cristal</td>\n",
       "      <td>https://fr.wikipedia.org/wiki/Indiana_Jones_et...</td>\n",
       "    </tr>\n",
       "    <tr>\n",
       "      <th>23</th>\n",
       "      <td>L'Étrange Histoire de Benjamin Button (film)</td>\n",
       "      <td>https://fr.wikipedia.org/wiki/L%27%C3%89trange...</td>\n",
       "    </tr>\n",
       "  </tbody>\n",
       "</table>\n",
       "</div>"
      ],
      "text/plain": [
       "                                                titre  \\\n",
       "0                               Les Larmes d'un homme   \n",
       "1                                          Intuitions   \n",
       "2                                Bandits (film, 2001)   \n",
       "3   Le Seigneur des anneaux : La Communauté de l'a...   \n",
       "4                                      Charlotte Gray   \n",
       "5                                  Terre Neuve (film)   \n",
       "6                                 Heaven (film, 2002)   \n",
       "7            Le Seigneur des anneaux : Les Deux Tours   \n",
       "8                              Veronica Guerin (film)   \n",
       "9                               Coffee and Cigarettes   \n",
       "10                                      Les Disparues   \n",
       "11         Le Seigneur des anneaux : Le Retour du roi   \n",
       "12                                   La Vie aquatique   \n",
       "13                                            Aviator   \n",
       "14                           Little Fish (film, 2005)   \n",
       "15                                 Babel (film, 2006)   \n",
       "16                                    The Good German   \n",
       "17                            Chronique d'un scandale   \n",
       "18                                           Hot Fuzz   \n",
       "19                                      I'm Not There   \n",
       "20                             Elizabeth : L'Âge d'or   \n",
       "21                               Ponyo sur la falaise   \n",
       "22    Indiana Jones et le Royaume du crâne de cristal   \n",
       "23       L'Étrange Histoire de Benjamin Button (film)   \n",
       "\n",
       "                                        url_wikipedia  \n",
       "0   https://fr.wikipedia.org/wiki/Les_Larmes_d%27u...  \n",
       "1            https://fr.wikipedia.org/wiki/Intuitions  \n",
       "2   https://fr.wikipedia.org/wiki/Bandits_(film,_2...  \n",
       "3   https://fr.wikipedia.org/wiki/Le_Seigneur_des_...  \n",
       "4        https://fr.wikipedia.org/wiki/Charlotte_Gray  \n",
       "5    https://fr.wikipedia.org/wiki/Terre_Neuve_(film)  \n",
       "6   https://fr.wikipedia.org/wiki/Heaven_(film,_2002)  \n",
       "7   https://fr.wikipedia.org/wiki/Le_Seigneur_des_...  \n",
       "8   https://fr.wikipedia.org/wiki/Veronica_Guerin_...  \n",
       "9   https://fr.wikipedia.org/wiki/Coffee_and_Cigar...  \n",
       "10        https://fr.wikipedia.org/wiki/Les_Disparues  \n",
       "11  https://fr.wikipedia.org/wiki/Le_Seigneur_des_...  \n",
       "12     https://fr.wikipedia.org/wiki/La_Vie_aquatique  \n",
       "13              https://fr.wikipedia.org/wiki/Aviator  \n",
       "14  https://fr.wikipedia.org/wiki/Little_Fish_(fil...  \n",
       "15   https://fr.wikipedia.org/wiki/Babel_(film,_2006)  \n",
       "16      https://fr.wikipedia.org/wiki/The_Good_German  \n",
       "17  https://fr.wikipedia.org/wiki/Chronique_d%27un...  \n",
       "18             https://fr.wikipedia.org/wiki/Hot_Fuzz  \n",
       "19      https://fr.wikipedia.org/wiki/I%27m_Not_There  \n",
       "20  https://fr.wikipedia.org/wiki/Elizabeth_:_L%27...  \n",
       "21  https://fr.wikipedia.org/wiki/Ponyo_sur_la_fal...  \n",
       "22  https://fr.wikipedia.org/wiki/Indiana_Jones_et...  \n",
       "23  https://fr.wikipedia.org/wiki/L%27%C3%89trange...  "
      ]
     },
     "execution_count": 53,
     "metadata": {},
     "output_type": "execute_result"
    }
   ],
   "source": [
    "url_wikipedia = \"https://fr.wikipedia.org\"\n",
    "url_blanchett = url_wikipedia + \"/wiki/Cate_Blanchett\"\n",
    "\n",
    "r_blanchett = requests.get(url_blanchett)\n",
    "assert r_blanchett.status_code == 200, f\"Erreur {r_blanchett.status_code}\"\n",
    "\n",
    "soup_blanchett = BeautifulSoup(r_blanchett.text, \"html.parser\")\n",
    "\n",
    "selector_films = \"#mw-content-text div ul:nth-of-type(3) li i a\"\n",
    "films_blanchett = soup_blanchett.select(selector_films)\n",
    "\n",
    "films_data = [\n",
    "    {\n",
    "        \"titre\": film.attrs[\"title\"],\n",
    "        \"url_wikipedia\": url_wikipedia + film.attrs[\"href\"]\n",
    "    }\n",
    "    for film in films_blanchett\n",
    "    if not (\n",
    "        film.attrs.get(\"class\") == [\"new\"] # Film sans page\n",
    "        or film.attrs[\"title\"] == \"Galadriel\" # Mauvais lien\n",
    "    )\n",
    "]\n",
    "\n",
    "films = pd.DataFrame(films_data)\n",
    "\n",
    "films"
   ]
  },
  {
   "cell_type": "markdown",
   "metadata": {},
   "source": [
    "Le sélecteur CSS que nous avons utilisé ne permettait pas d'obtenir la réponse à notre question car il ne capturait pas toutes les listes d'acteurs (organisation différente pour *Coffee and Cigarettes*, double colonne pour *Aviator*, ...). En effet, les pages Wikipedia des films ne sont pas uniformes et il n'est pas possible d'extraire la distribution de tous les films avec le même sélecteur.\n",
    "\n",
    "Pour remédier à cela, nous proposons ici d'aller scraper la liste des acteurs sur le site [TMDB](https://www.themoviedb.org/) (*The Movie Database*) dont les pages obéissent toutes à la même organisation. Les pages Wikipedia relatives à des films contiennent toutes un lien externe vers ce site."
   ]
  },
  {
   "cell_type": "markdown",
   "metadata": {},
   "source": [
    "1. Pour chaque film, scraper la page Wikipedia pour récupérer le lien vers la page TMDB associée et déduire le lien du casting complet qui ser ajouté le dans une nouvelle colonne du dataframe `films`."
   ]
  },
  {
   "cell_type": "code",
   "execution_count": 66,
   "metadata": {},
   "outputs": [
    {
     "data": {
      "text/plain": [
       "'https://www.themoviedb.org/movie/2046/cast'"
      ]
     },
     "execution_count": 66,
     "metadata": {},
     "output_type": "execute_result"
    }
   ],
   "source": [
    "def get_tmdb_url(url):\n",
    "    r_wm = requests.get(url)\n",
    "    assert r_wm.status_code == 200, f\"Erreur {r_wm.status_code}\"\n",
    "    soup_wm = BeautifulSoup(r_wm.text)\n",
    "    urls_tmdb = soup_wm.select(\"a.external\")\n",
    "    for u in urls_tmdb:\n",
    "        if u.text==\"The Movie Database\":\n",
    "            url_tmdb = u.attrs[\"href\"]\n",
    "            break\n",
    "    url_final= url_tmdb+\"/cast\"\n",
    "    return url_final\n",
    "\n",
    "get_tmdb_url(films.iloc[1].url_wikipedia)"
   ]
  },
  {
   "cell_type": "markdown",
   "metadata": {},
   "source": [
    "2. La liste des acteurs d'un film se présente comme une liste ordonnée `ol` dans les pages TMDB. Scraper les pages de casting pour ajouter la liste des acteurs de chaque film dans une nouvelle colonne du dataframe `films`."
   ]
  },
  {
   "cell_type": "code",
   "execution_count": 75,
   "metadata": {},
   "outputs": [
    {
     "name": "stdout",
     "output_type": "stream",
     "text": [
      "total cast = 65\n",
      "['Christina Ricci', 'Johnny Depp', 'Cate Blanchett', 'John Turturro', 'Harry Dean Stanton', 'Oleg Yankovskiy', 'Don Fellows', 'Claudia Lander-Duke', 'Danny Scheinmann', 'Anna Tzelniker', 'Barry Davis', 'Thom Osborn', 'Frank Chersky', 'Daniel Hart', 'Peter Majer', 'Hana Maria Pravda', 'Ayala Meir', 'Abraham Hassan', 'Lloyd Martin', 'Uri Meir', 'Sophie Richman', 'Theo Wishart', 'Michael Mount', 'Harry Flinder', 'Danny Richman', 'Victor Sobchak', 'Sue Cleaver', 'Clifford Barry', 'Paul Clayton', 'Diana Hoddinott', 'Richard Albrecht', 'Ornella Bryant', 'Sam Friend', 'Isabella Melling', 'Alan David', 'Imogen Claire', 'Miriam Karlin', 'Consuelo De Haviland', 'Katia Labèque', 'Marielle Labèque', 'George Antoni', 'Pablo Verón', 'Taraf de Haidouks', 'Odile Roire', 'Brigitte Boucher', 'Norah Krief', 'Hélène Hardouin', 'Hugues Dalmagro', 'Cedric Gary', 'Saïfi Ghoul', 'Manfred Andrae', 'Richard Sammel', 'Zirek', 'Joyce Springer', 'Cyril Shaps', 'Anna Korwin', 'Mark Ivanir', 'Alfred Hoffman', 'Bernard Spear', 'Damien Puckler', 'David Baxt', 'Katherine Hogarth', 'Patrick Clarke', 'Bridget Clarke', 'Chris Gillespie']\n"
     ]
    }
   ],
   "source": [
    "def get_tmdb_cast(url):\n",
    "    r_tmdb = requests.get(url)\n",
    "    assert r_tmdb.status_code == 200, f\"Erreur {r_tmdb.status_code}\"\n",
    "    soup_tmdb = BeautifulSoup(r_tmdb.text)\n",
    "    casthtml = soup_tmdb.select(\"section.panel:nth-of-type(1) ol li div div p a\")\n",
    "    cast=[]\n",
    "    for c in casthtml:\n",
    "        cast.append(c.text)\n",
    "    return cast\n",
    "\n",
    "films[\"url_tmdb_casting\"] = films.url_wikipedia.apply(get_tmdb_url)\n",
    "films[\"acteurs\"] = films.url_tmdb_casting.apply(get_tmdb_cast)\n",
    "\n",
    "print(f\"total cast = {len(films.iloc[0].acteurs)}\")\n",
    "print(films.iloc[0].acteurs)"
   ]
  },
  {
   "cell_type": "code",
   "execution_count": 85,
   "metadata": {},
   "outputs": [
    {
     "name": "stdout",
     "output_type": "stream",
     "text": [
      "Les Larmes d'un homme\n",
      "total cast = 65\n",
      "['Christina Ricci', 'Johnny Depp', 'Cate Blanchett', 'John Turturro', 'Harry Dean Stanton', 'Oleg Yankovskiy', 'Don Fellows', 'Claudia Lander-Duke', 'Danny Scheinmann', 'Anna Tzelniker', 'Barry Davis', 'Thom Osborn', 'Frank Chersky', 'Daniel Hart', 'Peter Majer', 'Hana Maria Pravda', 'Ayala Meir', 'Abraham Hassan', 'Lloyd Martin', 'Uri Meir', 'Sophie Richman', 'Theo Wishart', 'Michael Mount', 'Harry Flinder', 'Danny Richman', 'Victor Sobchak', 'Sue Cleaver', 'Clifford Barry', 'Paul Clayton', 'Diana Hoddinott', 'Richard Albrecht', 'Ornella Bryant', 'Sam Friend', 'Isabella Melling', 'Alan David', 'Imogen Claire', 'Miriam Karlin', 'Consuelo De Haviland', 'Katia Labèque', 'Marielle Labèque', 'George Antoni', 'Pablo Verón', 'Taraf de Haidouks', 'Odile Roire', 'Brigitte Boucher', 'Norah Krief', 'Hélène Hardouin', 'Hugues Dalmagro', 'Cedric Gary', 'Saïfi Ghoul', 'Manfred Andrae', 'Richard Sammel', 'Zirek', 'Joyce Springer', 'Cyril Shaps', 'Anna Korwin', 'Mark Ivanir', 'Alfred Hoffman', 'Bernard Spear', 'Damien Puckler', 'David Baxt', 'Katherine Hogarth', 'Patrick Clarke', 'Bridget Clarke', 'Chris Gillespie']\n",
      "Intuitions\n",
      "total cast = 43\n",
      "['Cate Blanchett', 'Giovanni Ribisi', 'Keanu Reeves', 'Katie Holmes', 'Greg Kinnear', 'Hilary Swank', 'Michael Jeter', 'Kim Dickens', 'Gary Cole', 'Rosemary Harris', 'J.K. Simmons', 'Chelcie Ross', 'John Beasley', 'Lynnsee Provence', 'Hunter McGilvray', 'Nathan Lee Lewis', 'Benjamin Peacock', 'Alex Lee', 'Clay James', 'David Brannen', 'Russell Durham Comegys', 'Janell McLeod', 'Robby Preddy', 'Lucky Lawrence', 'Mo', 'Boots Kutz', 'Buck Edwards', 'D.J. Pawlak', 'Kipp Chambers', 'Dallas Johnson', 'Stuart Greer', 'Jeff Bragg', 'Danny Elfman', 'S.D. Stephens', 'Samuel E. Parlin Jr.', 'Ed Reddick', 'Rebecca Koon', 'Erik Cord', 'Yvetta Young', 'Sam Edens', 'Earl Maddox', 'Shawn McBride', 'Ray Wineteer']\n",
      "Bandits (film, 2001)\n",
      "total cast = 26\n",
      "['Bruce Willis', 'Billy Bob Thornton', 'Cate Blanchett', 'Troy Garity', 'William Converse-Roberts', \"Brían F. O'Byrne\", 'Stacey Travis', 'Azura Skye', 'Peggy Miley', 'January Jones', 'Sam Levinson', 'Scout LaRue Willis', 'Tallulah Willis', 'John Evans', 'Bobby Slayton', 'Richard Riehle', 'Micole Mercurio', 'Scott Burkholder', 'Anthony Burch', 'John Harrington Bland', 'Cindy Goldfield', 'Heather Mathieson', 'Erin-Kate Whitcomb', 'Peter Weireter', 'Norman Fessler', 'Bill Blair']\n",
      "Le Seigneur des anneaux : La Communauté de l'anneau\n",
      "total cast = 117\n",
      "['Elijah Wood', 'Ian McKellen', 'Viggo Mortensen', 'Sean Astin', 'Ian Holm', 'Liv Tyler', 'Christopher Lee', 'Sean Bean', 'Billy Boyd', 'Dominic Monaghan', 'John Rhys-Davies', 'Orlando Bloom', 'Cate Blanchett', 'Hugo Weaving', 'Andy Serkis', 'Marton Csokas', 'Craig Parker', 'Lawrence Makoare', 'Brent McIntyre', 'Sala Baker', 'Peter McKenzie', 'Mark Ferguson', 'Harry Sinclair', 'Noel Appleby', 'Megan Edwards', 'Sarah McLeod', 'David Weatherley', 'Ian Mune', 'Michael Elsworth', 'Cameron Rhodes', 'Martyn Sanderson', 'Billy Jackson', 'Katie Jackson', 'Alan Howard', 'Victoria Beynon-Cole', 'Lee Hartley', 'Sam La Hood', 'Chris Streeter', 'Phil Grieve', 'Jonathan Jordan', 'Semi Kuresa', 'Clinton Ulyatt', 'Paul Bryson', 'Lance Fabian Kemp', 'Jono Manks', 'Ben Price', 'Peter Jackson', 'Chris Ryan', 'Bret McKenzie', 'Betty Adams', 'Timothy Bartlett', 'Bob Blackwell', 'David Houma', 'Jo Surgison', 'Liz Merton', 'Zo Hartley', 'Norman Cates', 'Jeff Kingsford-Brown', 'Marta Martí', 'Riley Brophy', 'Phoebe Gittins', 'Taea Hartwell', 'Shane Rangi', 'Jed Brophy', 'Paul Shapcott', 'Alan Lee', 'Larry Rew', 'Gino Acevedo', 'Xander Forterie', 'Richard Maybery', 'Sabine Crossen', 'Gareth Jensen', 'Ben Britton', 'Kester Fordham', 'Jarl Benzon', 'Sam Kelly', 'Matt Appleton', 'Blair Morton', 'Ray Henwood', 'Ralph Johnson', 'Jonathan Harding', 'Jørn Benzon', 'Ben Fransham', 'Tim Kano', 'Sacha Lee', 'Thomas Robins', 'Randall William Cook', 'Rachel Clentworth', 'Lani Jackson', 'Sharon Maxwell', 'David J. Muzzerall', 'Winham Hammond', 'Mana Hira Davis', 'Warren Green', 'Stu Johnson', 'Peter Lyon', 'Peter Daube', 'Samuel E. Shore', 'Rodney Bane', 'Siaosi Fonua', 'Ken Stratton', 'Lynden Berrymen', 'Ryan Carey', 'Tack Daniel', 'Shane Dawson', 'Branko Dordevich', 'Greg Lane', 'Tim McLachlan', 'Dean Morganty', 'Greg Morrison', 'Andrew Munro', 'Grant Roa', 'Vincent Roxburgh', 'Mike Stearne', 'Andrew Stehlin', 'Tim Wong', 'Daniel Andrews']\n",
      "Charlotte Gray\n",
      "total cast = 25\n",
      "['Cate Blanchett', 'Billy Crudup', 'Michael Gambon', 'Rupert Penry-Jones', 'Anton Lesser', 'James Fleet', 'Abigail Cruttenden', 'Charlotte McDougall', 'Robert Hands', 'Nicholas Farrell', 'Charlie Condou', 'Helen McCrory', 'John Benfield', 'Ron Cook', 'Jack Shepherd', 'Erich Redman', 'John Pierce Jones', 'Tom Goodman-Hill', 'Hugh Ross', 'Angus Wright', 'Martin Oldfield', 'Mike Burnside', 'Damian Myerscough', 'Michael Fitzgerald', 'Miranda Bell']\n",
      "Terre Neuve (film)\n",
      "total cast = 15\n",
      "['Kevin Spacey', 'Julianne Moore', 'Cate Blanchett', 'Judi Dench', 'Pete Postlethwaite', 'Scott Glenn', 'Rhys Ifans', 'Gordon Pinsent', 'Jason Behr', 'Katherine Moennig', 'Larry Pine', 'Jeannetta Arnette', 'Marc Lawrence', 'Daniel Kash', 'Nicole Underhay']\n",
      "Heaven (film, 2002)\n",
      "total cast = 13\n",
      "['Cate Blanchett', 'Giovanni Ribisi', 'Remo Girone', 'Stefania Rocca', 'Alessandro Sperduti', 'Mattia Sbragia', 'Stefano Santospago', 'Alberto Di Stasio', 'Giovanni Vettorazzo', 'Gianfranco Barra', 'Vincent Riotta', 'Giuseppe Lo Console', 'Teresa Piergentili']\n",
      "Le Seigneur des anneaux : Les Deux Tours\n",
      "total cast = 104\n",
      "['Elijah Wood', 'Ian McKellen', 'Viggo Mortensen', 'Sean Astin', 'Andy Serkis', 'John Rhys-Davies', 'Orlando Bloom', 'Bernard Hill', 'Miranda Otto', 'Dominic Monaghan', 'Billy Boyd', 'Christopher Lee', 'Cate Blanchett', 'Liv Tyler', 'Hugo Weaving', 'David Wenham', 'Brad Dourif', 'Karl Urban', 'Craig Parker', 'Bruce Allpress', 'John Bach', 'Sala Baker', 'Jed Brophy', 'Sam Comery', 'Calum Gittins', 'Phil Grieve', 'Bruce Hopkins', 'Paris Howe Strewe', 'Nathaniel Lees', 'John Leigh', 'Robbie Magasiva', 'Robyn Malcolm', 'Bruce Phillips', 'Robert Pollock', 'Olivia Tennet', 'Raymond Trickitt', 'Stephen Ure', 'Billy Jackson', 'Katie Jackson', 'Victoria Beynon-Cole', 'Lee Hartley', 'Frazer Anderson', 'Ben Barrington', 'Jarl Benzon', 'Jørn Benzon', 'Owen Black', 'Dorothy Anne Bonner', 'Ben Britton', 'Riley Brophy', 'Alistair Browning', 'Alix Bushnell', 'Sean Button', 'Ryan Carey', 'Rodney Cook', 'Augie Davis', 'Mana Hira Davis', 'Shane Dawson', 'Karlos Drinkwater', 'Aron Eastwood', 'Frank Edwards', 'Clint Elvy', 'Alexia Fairbrother', 'Daniel Falconer', 'Siaosi Fonua', 'Kester Fordham', 'Michael Fowler', 'Ben Fransham', 'Frank Goldingham', 'Winham Hammond', 'Jonathan Harding', 'Lucas Hayward', 'Dan Hennah', 'Jason Hood', 'Lani Jackson', 'Peter Jackson', 'Gareth Jensen', 'Sam Kelly', 'Richard Knowles', 'Sandro Kopp', 'Sam La Hood', 'Don Langridge', 'Michael Lawrence', 'Alan Lee', 'Dra McKay', 'Joseph Mika-Hunt', 'Dean Morganty', 'Henry Mortensen', 'Francis Mountjoy', 'Paul Norell', 'Barrie M. Osborne', 'Allan Poppleton', 'Gareth Reeves', 'Miranda Rivers', 'Campbell Rousselle', 'Matthew J. Saville', 'Samuel E. Shore', 'Allan Smith', 'Greg Tozer', 'Piripi Waretini', 'Tim Wong', 'John Wraight', 'Kelley Kerr Young', 'Robert Young', 'Caleb Ross']\n",
      "Veronica Guerin (film)\n",
      "total cast = 74\n",
      "['Cate Blanchett', 'Gerard McSorley', 'Ciarán Hinds', 'Brenda Fricker', 'Don Wycherley', 'Barry Barnes', \"Simon O'Driscoll\", 'Emmet Bergin', 'Charlotte Bradley', 'Mark Lambert', 'Garrett Keogh', 'Maria McDermottroe', 'Paudge Behan', 'Joe Hanley', 'David Murray', 'Karl Shiels', 'Barry McEvoy', 'Gina Costigan', 'Alan Devine', \"Gerry O'Brien\", 'Gabrielle Reidy', 'Paul Roe', 'David Herlihy', 'Darragh Kelly', 'Colin Farrell', 'Laurence Kinlan', 'Danielle Fox-Clarke', \"Sarah O'Reilly-Maloney\", 'Paul Ronan', \"Philip O'Sullivan\", 'Niall Tóibín', 'Kevin McHugh', 'Joe Taylor', 'Vinnie McCabe', 'Des Cave', 'Luke Hayden', 'Joe Gallagher', 'Ned Dennehy', \"Tommy O'Neill\", 'Shane McCabe', 'Brian McGuinness', 'Sally Ann Doddy', 'Aaron Harris', 'Jonathan White', 'Maggie Wade', 'Anne Cassin', 'Elizabeth Moynihan', 'Jimmy Greeley', 'Brian Dobson', 'Kevin Reynolds', 'Gerry Ryan', 'Barbara Brennan', 'Gary Lilburn', 'Jane Brennan', 'Frank Smith', 'Malachy McKenna', 'Kieran Hurley', 'Terry Byrne', 'Mick Nolan', 'Barbara Ryan', 'Enda Oates', 'Martin Dunne', 'Helen Norton', 'Noelle Brown', 'Veronica Duffy', 'Brian Munn', 'Cathy White', 'Amy Shiels', 'Fiona Glascott', 'Shelly Smith', 'Gráinne de Buitléar', 'Emily Kelly', 'Vanessa Keogh', 'Joe Taylor']\n",
      "Coffee and Cigarettes\n",
      "total cast = 26\n",
      "['Roberto Benigni', 'Steven Wright', 'Joie Lee', 'Cinqué Lee', 'Steve Buscemi', 'Iggy Pop', 'Tom Waits', 'Joseph Rigano', 'Vinny Vella', 'Vinny Vella, Jr.', 'Renée French', 'E.J. Rodriguez', 'Alex Descas', 'Isaach de Bankolé', 'Cate Blanchett', 'Michael Hogan', 'Jack White', 'Meg White', 'Alfred Molina', 'Steve Coogan', 'Katy Hansz', 'The GZA', 'RZA', 'Bill Murray', 'William Rice', 'Taylor Mead']\n",
      "Les Disparues\n",
      "total cast = 24\n",
      "['Cate Blanchett', 'Tommy Lee Jones', 'Evan Rachel Wood', 'Jenna Boyd', 'Aaron Eckhart', 'Val Kilmer', 'Eric Schweig', 'Steve Reevis', 'Jay Tavare', 'Simon Baker', 'Ray McKinnon', 'Max Perlich', 'Elisabeth Moss', 'Clint Howard', 'Rance Howard', 'Deborah Martinez', 'Scarlett McAlister', 'Arron Shiver', 'David Midthunder', 'Sergio Calderón', 'Ramon Frank', 'Deryle J. Lujan', 'Rod Rondeaux', 'Angelina Torres']\n",
      "Le Seigneur des anneaux : Le Retour du roi\n",
      "total cast = 75\n",
      "['Elijah Wood', 'Ian McKellen', 'Viggo Mortensen', 'Sean Astin', 'Andy Serkis', 'Dominic Monaghan', 'Billy Boyd', 'John Noble', 'David Wenham', 'Miranda Otto', 'Bernard Hill', 'John Rhys-Davies', 'Orlando Bloom', 'Hugo Weaving', 'Liv Tyler', 'Cate Blanchett', 'Karl Urban', 'Ian Holm', 'Sean Bean', 'Lawrence Makoare', 'Marton Csokas', 'Paul Norell', 'Noel Appleby', 'Sarah McLeod', 'Ali Astin', 'Maisy McLeod-Riera', 'David Aston', 'John Bach', 'Sadwyn Brophy', 'Alistair Browning', 'Richard Edge', 'Jason Fitch', 'Bruce Hopkins', 'Ian Hughes', 'Bret McKenzie', 'Bruce Phillips', 'Shane Rangi', 'Todd Rippon', 'Thomas Robins', 'Harry Sinclair', 'Peter Tait', 'Joel Tobeck', 'Stephen Ure', 'Sala Baker', 'Robert Pollock', 'Ross Duncan', 'Pete Smith', 'Jed Brophy', 'Lee Hartley', 'Billy Jackson', 'Katie Jackson', 'Alan Howard', 'Jane Abbott', 'Gino Acevedo', 'Aidan Bell', 'Jarl Benzon', 'Jørn Benzon', 'Emma Deakin', 'Michael Elsworth', 'Clint Elvy', 'Zo Hartley', 'Peter Jackson', 'Sandro Kopp', 'Andrew Lesnie', 'Joseph Mika-Hunt', 'Henry Mortensen', 'Craig Parker', 'Rick Porras', 'Christian Rivers', 'Michael Semanick', 'Howard Shore', 'John Stephenson', 'Richard Taylor', 'Royd Tolkien', 'Sam Kelly']\n",
      "La Vie aquatique\n",
      "total cast = 76\n",
      "['Bill Murray', 'Owen Wilson', 'Cate Blanchett', 'Anjelica Huston', 'Willem Dafoe', 'Jeff Goldblum', 'Michael Gambon', 'Noah Taylor', 'Bud Cort', 'Seu Jorge', 'Robyn Cohen', 'Waris Ahluwalia', 'Niels Koizumi', 'Pawel Wdowczak', 'Matthew Gray Gubler', 'Seymour Cassel', 'Antonio Monda', 'Isabella Blow', 'James Hamilton', 'Melanie Gerren', 'Nazzareno Piana', 'Rudd Simmons', 'Leonardo Giovannelli', 'Henry S. F. Cooper Jr.', 'Pietro Ragusa', 'Eric Chase Anderson', 'Robert Wilson', 'Don McKinnon', 'Alessio Santini', 'Paolo Sirignani', 'Andrew Weisell', 'Niccolò Senni', 'Andrea Guerra', 'Christiano Irrera', 'Marco Ciarlitto', 'Tony Shafrazi', 'Noah Baumbach', 'Stefano Maria Ortolani', 'Sylvie Genin', 'Jacques Henri Lartigue', 'Muzius Gordon Dietzmann', 'Gangyuan Xu', 'Robin Scott', 'Guglielmo Casciaro', 'Alessandro De Angelis', 'Andrea Bertone', 'Andriy Kachur', 'Roberto Salvi', 'Stefano Masciolini', 'Robert Sommer', 'Anna Orso', 'Ettore Conti', 'Robert Graham', 'Hal Yamanouchi', 'Conrado Mendoza Dolor', 'Eduardo Bautista Grantuza', 'Simeon Maragigak Agelion', 'Walter Cajapao Casapao', 'Honorato Ilao Reyes', 'Roderick Magbay', 'Demetreo Castillo', 'Thomas Carwgal de la Pena', 'Edwarren Bantungon', 'Levi Mickael de Ramon', 'Aries Corales', 'Aries Dolor Ilagon', 'Joseph de los Reyes', 'Dennis Rayos Martinez', 'Taiyo Yamanouchi', 'Wai Tung Wong', 'Ging Fang Zhu', 'Francis Dokyi', 'Begni Bok Dong', 'Daniel Acon', 'Alexander Hamilton', 'Erminio Bianchi Fasani']\n",
      "Aviator\n",
      "total cast = 76\n",
      "['Leonardo DiCaprio', 'Cate Blanchett', 'Kate Beckinsale', 'John C. Reilly', 'Alec Baldwin', 'Alan Alda', 'Ian Holm', 'Danny Huston', 'Gwen Stefani', 'Jude Law', 'Adam Scott', 'Matt Ross', 'Kelli Garner', 'Frances Conroy', 'Brent Spiner', 'Stanley DeSantis', 'Edward Herrmann', 'Willem Dafoe', 'Kenneth Welsh', 'J.C. MacKenzie', 'Jacob Davich', 'Amy Sloan', 'Sam Hennings', 'Joe Chrest', 'Rufus Wainwright', 'Harry Strandjofski', 'Vince Giordano', 'Josie Maran', 'Justin Shilton', 'Arthur Holden', 'Raymond Ducasse', 'Joseph P. Reidy', 'Stéphane Demers', 'Yves Jacques', 'Loudon Wainwright III', 'Jason Cavalier', 'Chris Ufland', 'Al Dubois', 'Alan Toy', 'Sebastian Tillinger', 'Francesca Scorsese', 'Charlotte Scott', 'James Bradford', 'Joe Cobden', 'Linda E. Smith', 'Alan Fawcett', 'Jordan St. James', 'David Purdham', \"Kevin O'Rourke\", 'Lisa Bronwyn Moore', 'Emma Campbell', 'Martha Wainwright', 'Vincent Laresca', 'Matt Holland', 'Dennis St John', 'Keith Campbell', 'Al Vandecruys', 'James Rae', 'Kathleen McAuliffe', 'Nellie Sciutto', 'Terry Haig', 'James McNamara', 'John Koensgen', 'Vladimir Kuznetsov Smith', 'Mark Akeson', 'Jason Pollard', 'Heather Petrone', 'Danielle Franke', 'Meghan Elizabeth', 'Elizabeth DeCicco', 'Elisa Dyann', 'Isabelle Champeau', 'Al Coronel', 'Gerardo Lo Dico', 'Anne V. Coates', 'Brian T. Lynch']\n",
      "Little Fish (film, 2005)\n",
      "total cast = 26\n",
      "['Cate Blanchett', 'Sam Neill', 'Hugo Weaving', 'Martin Henderson', 'Noni Hazlehurst', 'Joel Tobeck', 'Susie Porter', 'Dustin Nguyen', 'Lisa McCune', 'Nina Liu', 'Daniela Farinacci', 'Linda Cropper', 'Ferdinand Hoang', 'Anh Do', 'Jason Chong', 'Natasha Beaumont', 'Bic Runga', 'Lisa Bailey', 'Lan Tran', 'Anthony Brandon Wong', 'Anthony Phelan', 'Harli Ames', 'Ian Roberts', 'Terry Serio', 'Steve Vella', 'Sarah Woods']\n",
      "Babel (film, 2006)\n",
      "total cast = 57\n",
      "['Rinko Kikuchi', 'Adriana Barraza', 'Brad Pitt', 'Cate Blanchett', 'Satoshi Nikaido', 'Said Tarchani', 'Boubker Ait El Caid', 'Gael García Bernal', 'Nathan Gamble', 'Elle Fanning', 'Mohamed Akhzam', 'Yuko Murata', 'Koji Yakusho', 'Mustapha Rachidi', 'Abdelkader Bara', 'Driss Roukhe', 'Peter Wight', 'Clifton Collins Jr.', 'Robert Esquivel', 'Michael Peña', 'Harriet Walter', 'Michael Maloney', 'Dermot Crowley', 'Trevor Martin', 'Aaron D. Spears', 'Alex Jennings', 'Matyelok Gibbs', 'Claudine Acs', 'Jamie McBride', 'Mónica del Carmen', 'André Oumansky', 'Wendy Nottingham', 'Linda Broughton', 'Lynsey Beauchamp', 'Aline Mowat', 'Michel Dubois', 'Shirley Dixon', 'Robert Fyfe', 'Wahiba Sahmi', 'Fadmael Ouali', 'Abdelaziz Merzoug', 'El Hassan Ait Bablal', 'Sfia Ait Benboullah', 'Lhacen Znin', 'Emilio Echevarría', 'Ivor Shier', 'R. D. Call', 'Qyoko Kudo', 'Barbarella Pardo', 'Cynthia Montaño', 'Tose Fukuda', 'Shigemitsu Ogi', 'Jane Arapawe', 'Shinji Suzuki', 'Shizue Yamamoto', 'Kaori Shimizu', \"John O'Mahony\"]\n",
      "The Good German\n",
      "total cast = 35\n",
      "['George Clooney', 'Cate Blanchett', 'Tobey Maguire', 'Beau Bridges', 'Tony Curran', 'Leland Orser', 'Jack Thompson', 'Robin Weigert', 'Ravil Isyanov', 'Christian Oliver', 'Dave Power', 'Don Pugsley', 'Dominic Comperatore', 'John Roeder', 'J. Paul Boehmer', 'Igor Korošec', 'Boris Kievsky', 'Vladimir Kulikov', 'Yevgeniy Narovlyanskiy', 'Aleksandr Sountsov', 'Dean Misch', 'Justin Misch', 'Tom Cummins', 'Brandon Keener', 'Gian Franco Tordi', 'David Willis', 'Alexandra Carter', 'Alec Gray', 'Zvonimir Hace', 'Sten Jacobs', 'Dmitriy Karpov', 'Ian Novotny', 'Spiro Papas', 'Patrick Tatten', 'Stephen Wheeler']\n",
      "Chronique d'un scandale\n",
      "total cast = 32\n",
      "['Judi Dench', 'Cate Blanchett', 'Bill Nighy', 'Andrew Simpson', 'Phil Davis', 'Michael Maloney', 'Juno Temple', 'Max Lewis', 'Joanna Scanlan', 'Julia McKenzie', 'Shaun Parkes', 'Tom Georgeson', 'Emma Kennedy', 'Syreeta Kumar', 'Wendy Nottingham', 'Tameka Empson', 'Leon Skinner', 'Debra Gillett', 'Barry McCarthy', 'Adrian Scarborough', 'Jill Baker', 'Diana Berriman', 'Alice Bird', 'Benedict Taylor', 'Miranda Pleasence', 'Jonathan Speer', 'Stephen Kennedy', 'Derbhle Crotty', 'Catherine Drew', 'Anne-Marie Duff', 'Kevin Hudson', 'Gabrielle Brooks']\n",
      "Hot Fuzz\n",
      "total cast = 55\n",
      "['Simon Pegg', 'Nick Frost', 'Jim Broadbent', 'Paddy Considine', 'Rafe Spall', 'Kevin Eldon', 'Olivia Colman', 'Bill Bailey', 'Karl Johnson', 'Timothy Dalton', 'Edward Woodward', 'Billie Whitelaw', 'Stuart Wilson', 'Paul Freeman', 'Rory McCann', 'Kenneth Cranham', 'Maria Charles', 'Peter Wight', 'Julia Deakin', 'Eric Mason', 'Trevor Nichols', 'Elizabeth Elvin', 'Patricia Franklin', 'Lorraine Hilton', 'Tim Barlow', 'Anne Reid', 'Adam Buxton', 'David Threlfall', 'Lucy Punch', 'David Bradley', 'Ron Cook', 'Alice Lowe', 'Martin Freeman', 'Bill Nighy', 'Stephen Merchant', 'Ben McKay', 'Robert Popper', 'Joe Cornish', 'Chris Waitt', 'Colin Michael Carmichael', 'Tom Strode Walton', 'Troy Woollan', 'Rory Lowings', 'Nicholas Wilson', 'Kevin Wilson', 'Graham Low', 'Alexander King', 'Cate Blanchett', 'Steve Coogan', 'Peter Jackson', 'Garth Jennings', 'Edgar Wright', 'Lesley Wright', 'Peter Wild', 'Gillian Rosemary Smith']\n",
      "I'm Not There\n",
      "total cast = 128\n",
      "['Christian Bale', 'Cate Blanchett', 'Marcus Carl Franklin', 'Richard Gere', 'Heath Ledger', 'Ben Whishaw', 'Charlotte Gainsbourg', 'David Cross', 'Bruce Greenwood', 'Julianne Moore', 'Michelle Williams', 'Richie Havens', 'Peter Friedman', 'Alison Folland', 'Yolonda Ross', 'Kim Gordon', 'Mark Camacho', 'Joe Cobden', 'Kristen Hager', 'Kris Kristofferson', 'Don Francks', 'Roc LaFortune', 'Larry Day', 'Paul Cagelet', 'Brian R.C. Wilmes', 'Pierre-Alexandre Fortin', 'Tyrone Benskin', 'Kim Roberts', 'Eric Newsome', 'Angela Galuppo', 'Jane Wheeler', 'David Gow', 'Fanny La Croix', 'Matthew Harbour', 'Kyle Switzer', 'Terry Haig', 'Greg Kramer', 'Gordon Masten', 'Bill Croft', 'Gabrielle Marcoux', 'Jessey LaFlamme', 'Jennifer Rae Westley', 'Pierre Leblanc', 'Tim Post', 'Richard Robitaille', 'Ivan Freud', 'Holly Uloth', 'Danny Blanco Hall', 'Susan Glover', 'Vito DeFilippo', 'Andrew Simms', 'Lisa Bronwyn Moore', 'Jessica Kardos', 'Garth Gilker', 'John Koensgen', 'Lorne Brass', 'Andrew Shaver', 'Tavis Eachan Triance', 'Frederic Charest', 'Warren Brewer Auld', 'Simon P.F. Nixon', 'Andrew Greene', 'Paul van Dyck', 'Al Vandecruys', 'Leif Anderson', 'Brett Watson', 'Wyatt Bowen', 'Paul Johnston', 'Niko Romberg', 'Clarice Byrne', 'Maggie Castle', 'Richard Jutras', 'Daniel Richard Giverin', 'Matt Holland', 'Noel Burton', 'Kyle Gatehouse', 'Jason Cavalier', 'Greta Papageorgiu', 'Trevor Hayes', 'Marie-Hélène Chartrand', 'Marie-Julie Rivest', 'Jesse Todd', 'Lina Roessler', 'Sherry Haynes', 'Johann St-Louis', 'Mike Caruso', 'Pierre-Luc Lebeau', 'Jean-Nicolas Déry', 'Kathleen Fee', 'Emmanuel Schwartz', 'Pauline Little', 'Eugene Brotto', 'Shawn Baichoo', 'Benz Antoine', 'Craig Thomas', 'Catherine Colvey', 'Max Walker', 'Jean-Pierre Lalonde', 'Paul Spence', 'Graham Cuthbertson', 'Shaun Balbar', 'Felix Pennell', 'Jeremy Kantor', 'Alexis Demers', 'Steve Godin', 'Arthur Holden', 'Thiéry Dubé', 'Rob Burns', 'Leigh Ann Taylor', 'Jim James', 'Joey Burns', 'John Convertino', 'Jane Gilchrist', 'Dennis St John', 'Maxime Billick', 'Matthew Boylan', 'Patrick Costello', 'Hélèna Laliberté', 'Dominic James', 'Nathalie Girard', 'Sharlene Royer', 'Kathryn Kostlivy', 'Pier Paquette', 'Jodie Resther', 'Kassandra Dasent', 'Phyllis Gooden', 'Jean-Loup Yale', 'Melantha Blackthorne']\n",
      "Elizabeth : L'Âge d'or\n",
      "total cast = 64\n",
      "['Cate Blanchett', 'Clive Owen', 'Geoffrey Rush', 'Laurence Fox', 'Tom Hollander', 'Abbie Cornish', 'Rhys Ifans', 'Jordi Mollà', 'Samantha Morton', 'Eddie Redmayne', 'Adrian Scarborough', 'Adam Godley', 'Christian Brassington', 'Robert Cambrinus', 'David Threlfall', 'Vidal Sancho', 'Kelly Hunter', 'John Shrapnel', 'Sam Spruell', 'David Sterne', 'David Robb', 'Jonathan Bailey', 'Steve Lately', 'Kate Fleetwood', 'Aimee King', 'Susan Lynch', 'Kristin Coulter Smith', 'Hayley Burroughs', 'Kirsty McKay', 'Lucia Ruck Keene', 'Lucienne Venisse-Back', 'Elise McCave', 'Penelope McGhie', 'Coral Beed', 'Rosalind Halstead', 'Steven Loton', 'Martin Baron', 'David Armand', 'Steven Robertson', 'Jeremy Barker', 'George Innes', 'Kirstin Smith', 'Tim Preece', 'Benjamin May', 'Glenn Doherty', 'Chris Brailsford', 'Dave Legeno', 'Antony Carrick', 'John Atterbury', 'Alex Giannini', 'Joe Ferrara', 'Alexander Barnes', 'Charles Bruce', 'Jeremy Cracknell', 'Benedict Green', 'Adam Smith', 'Simon Stratton', 'Crispin Swayne', 'Kitty Fox', 'Kate Lindesay', 'Katherine Templar', 'Morne Botes', 'Finn Morrell', 'Shane Nolan']\n",
      "Ponyo sur la falaise\n",
      "total cast = 25\n",
      "['Yuria Kozuki', 'Hiroki Doi', 'George Tokoro', 'Tomoko Yamaguchi', 'Yuki Amami', 'Kazushige Nagashima', 'Akiko Yano', \"Shin'ichi Hatori\", 'Tokie Hidari', 'Rumi Hiiragi', 'Tomoko Naraoka', 'Kazuko Yoshiyuki', 'Eimi Hiraoka', 'Nozomi Ōhashi', 'Akiko Takeguchi', 'Eiko Kanazawa', 'Akihiko Ishizumi', 'Tomie Kataoka', 'Shirou Saitou', 'Mutsumi Sasaki', 'Keiko Tsukamoto', 'Ikuko Yamamoto', 'Michiko Yamamoto', 'Yoshie Yamamoto', 'Yusuke Tezuka']\n",
      "Indiana Jones et le Royaume du crâne de cristal\n",
      "total cast = 99\n",
      "['Harrison Ford', 'Cate Blanchett', 'Karen Allen', 'Shia LaBeouf', 'Ray Winstone', 'John Hurt', 'Jim Broadbent', 'Igor Jijikine', 'Dimitri Diatchenko', 'Ilia Volok', 'Emmanuel Todorov', 'Pasha D. Lychnikoff', 'Andrew Divoff', 'Venya Manzyuk', 'Alan Dale', 'Joel Stoffer', 'Neil Flynn', 'Vincent Foster', 'Chet Hanks', 'Brian Knutson', 'Dean Grimes', 'Sasha Spielberg', 'Nicole Luther', 'Sophia Stewart', 'Chris Todd', 'Dennis Nusbaum', 'T. Ryan Mooney', 'Audi Resendez', 'Helena Barrett', 'Carlos Linares', 'Gustavo Hernandez', 'Maria Luisa Minelli', 'Nito Larioza', 'Ernie Reyes Jr.', 'Jon Valera', 'Kevin Collins', 'Robert Baker', 'Andre Alexsen', 'Greg Anthony', 'Fileena Bahris', 'Ryan Bair', 'Jon Braver', 'Kyle Brody', 'Amanda Bromberg', 'Noelle Bruno', 'Chris Bryant', 'Kevin Patrick Burke', 'Tim Camarillo', 'Arnold Chon', 'Jared Christopherson', 'Al Conti', 'Marly Coronel', 'Martin Dew', 'Holland Diaz', 'John Dixon', 'Ken Edling', 'Denholm Elliott', 'Larry Eudene', 'Colin Follenweider', 'Erin Frederick', 'Andrew Goldfarb', 'Ted Grossman', 'Celia Hemken', 'Michael J. Jacyna', 'Joe Jagatic', 'Alexander Kaminer', 'Brendon John Kelly', 'Adam Kirley', 'Katie Knopf', 'Gregory Kudanovych', 'David LaVera', 'Jonathan Lomma', 'Janet Lopez', 'Michael Maddigan', 'Chuck Maldonado', 'Sean Marrinan', 'Anthony Martins', 'Derek Mears', 'Juan Manuel Mendiola Jr.', 'Steven A. Miller', 'Josh Mills', 'Johanna Monasterios', 'Lee Morrison', 'Ian Novotny', 'Adam Prakop', 'Ana Maria Quintana', 'Sam Rocco', 'Ilya Rockwell', 'Jason Roehm', 'Errol Sack', 'Philip J. Silvera', 'David St. Pierre', 'Bogdan Szumilas', 'Bryan Thompson', 'Paul Thornton', 'John H. Tobin', 'John Willoughby', 'Dianne Zaremba', 'Ilya Jonathan Zaydenberg']\n",
      "L'Étrange Histoire de Benjamin Button (film)\n",
      "total cast = 113\n",
      "['Brad Pitt', 'Cate Blanchett', 'Taraji P. Henson', 'Julia Ormond', 'Jason Flemyng', 'Mahershala Ali', 'Jared Harris', 'Elias Koteas', 'Phyllis Somerville', 'Tilda Swinton', 'Faune Chambers Watkins', 'Donna DuPlantier', 'Jacob Tolano', 'Earl Maddox', 'Ed Metzger', 'Danny Vinson', 'David Jensen', 'Joeanna Sayler', 'Fiona Hale', \"Patrick Thomas O'Brien\", 'Marion Zinser', 'Peter Donald Badalamenti II', 'Danny Nelson', 'Paula Gray', 'Lance E. Nichols', 'Rampai Mohadi', 'Troi Bechet', 'Elle Fanning', 'Ted Manson', 'Clay Cullen', 'Edith Ivey', 'Robert Towers', 'Sonya Leslie', 'Yasmine Abriel', 'Madisen Beaty', 'Tom Everett', 'Don Creech', 'Christopher DesRoches', 'Joshua Desroches', 'Richmond Arquette', 'Josh Stewart', 'Ilia Volok', 'David Ross Paterson', 'Taren Cunningham', 'Myrton Running Wolf', 'Stephen Monroe Taylor', 'Devyn A. Tyler', 'Adrian Armas', 'Wilbur Fitzgerald', 'Ashley Nolan', 'Louis Herthum', 'Katta Hules', 'Rus Blackwell', 'Joel Bissonnette', 'Deneen Tyler', 'Spencer Daniels', 'Chandler Canterbury', 'Charles Henry Wyson', 'Jessica Cropper', 'Katherine Crockett', 'Bianca Roe', 'Emma Degerstedt', 'Megan Brown', 'Clay Chamberlin', 'Leslie Augustine', 'Blake Balu', 'Aliane Baquerot', 'Brett Beoubay', 'Allen Boudreaux', 'Eve Brent', 'David E. Brown', 'Jake Carpenter', 'Walter Delmar', 'Louis Dupuy', 'Marian Filali', 'Ron Flagge', 'Joe Fontana', 'Garrett Forbes', 'Tiffany Forest', 'Debby Gaudet', 'Simone-Elise Girard', 'Geraldine Glenn', 'Zuri Goldman', 'Malerie Grady', 'Bob Harter', 'Rhonda Huete', 'Grant James', 'Christopher Karl Johnson', 'Shiloh Jolie', 'Spencer Kayden', 'Jonathan Lane', 'Shane LeCocq', 'Kevin Lorio', 'Audrey Lynn', 'Angelina McCoy', 'Harlon Miller', 'Valeska Miller', 'Jay Oliver', 'Antonia Putiloff', 'Sean Ross', 'Ross Rouillier', 'Robert W. Savina', 'Andy Sims', 'Chaz Smith', 'Logan Douglas Smith', 'Terry Lee Smith', 'Lauren Swinney', 'Dennis Thomas IV', 'Michel Thériault', 'Yvette Tucker', 'Gelsey Weiss', 'Autumn Withers', 'Michael Wozniak']\n"
     ]
    }
   ],
   "source": [
    "for _, film in films.iterrows():\n",
    "    print(film.titre)\n",
    "    print(f\"total cast = {len(film.acteurs)}\")\n",
    "    print(film.acteurs)"
   ]
  },
  {
   "cell_type": "markdown",
   "metadata": {},
   "source": [
    "3. Utiliser le résultat de la question précédente pour répondre à la question initiale : avec quels acteurs Cate Blanchett a-t-elle partagé l'affiche le plus souvent au cours des années 2000 ?"
   ]
  },
  {
   "cell_type": "code",
   "execution_count": 84,
   "metadata": {},
   "outputs": [
    {
     "data": {
      "text/plain": [
       "Cate Blanchett     23\n",
       "Peter Jackson       4\n",
       "Hugo Weaving        4\n",
       "Billy Boyd          3\n",
       "Sala Baker          3\n",
       "                   ..\n",
       "Ray McKinnon        1\n",
       "Simon Baker         1\n",
       "Jay Tavare          1\n",
       "Steve Reevis        1\n",
       "Michael Wozniak     1\n",
       "Name: acteurs, Length: 1245, dtype: int64"
      ]
     },
     "execution_count": 84,
     "metadata": {},
     "output_type": "execute_result"
    }
   ],
   "source": [
    "films[\"acteurs\"].explode().value_counts()"
   ]
  }
 ],
 "metadata": {
  "kernelspec": {
   "display_name": "base",
   "language": "python",
   "name": "python3"
  },
  "language_info": {
   "codemirror_mode": {
    "name": "ipython",
    "version": 3
   },
   "file_extension": ".py",
   "mimetype": "text/x-python",
   "name": "python",
   "nbconvert_exporter": "python",
   "pygments_lexer": "ipython3",
   "version": "3.11.3"
  }
 },
 "nbformat": 4,
 "nbformat_minor": 2
}
