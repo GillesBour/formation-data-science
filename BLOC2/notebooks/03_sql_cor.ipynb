{
 "cells": [
  {
   "cell_type": "markdown",
   "metadata": {},
   "source": [
    "# Notebook 3 : SQL"
   ]
  },
  {
   "cell_type": "code",
   "execution_count": 1,
   "metadata": {},
   "outputs": [],
   "source": [
    "# Décommenter la ligne suivante pour installer ibis\n",
    "# %pip install 'ibis-framework[sqlite]'"
   ]
  },
  {
   "cell_type": "code",
   "execution_count": 2,
   "metadata": {},
   "outputs": [],
   "source": [
    "import sqlite3\n",
    "\n",
    "import pandas as pd\n",
    "import ibis\n",
    "\n",
    "from ibis import _\n",
    "\n",
    "ibis.options.interactive = True\n",
    "\n",
    "query_tables = \"SELECT name FROM sqlite_master WHERE type='table'\""
   ]
  },
  {
   "cell_type": "markdown",
   "metadata": {},
   "source": [
    "## STAR"
   ]
  },
  {
   "cell_type": "markdown",
   "metadata": {},
   "source": [
    "Nous considérons les données des stations de vélos en libre service [STAR](https://www.star.fr/) de Rennes Métropole. Une copie de la base SQLite est disponible dans le fichier `star.db`. Nous utilisons d'abord Pandas pour répondre aux questions, puis Ibis."
   ]
  },
  {
   "cell_type": "markdown",
   "metadata": {},
   "source": [
    "1. Se connecter à la base de données et afficher la liste des tables à l'aide de la fonction `read_sql` de Pandas et de la requête `query_tables`."
   ]
  },
  {
   "cell_type": "code",
   "execution_count": 3,
   "metadata": {},
   "outputs": [
    {
     "data": {
      "text/html": [
       "<div>\n",
       "<style scoped>\n",
       "    .dataframe tbody tr th:only-of-type {\n",
       "        vertical-align: middle;\n",
       "    }\n",
       "\n",
       "    .dataframe tbody tr th {\n",
       "        vertical-align: top;\n",
       "    }\n",
       "\n",
       "    .dataframe thead th {\n",
       "        text-align: right;\n",
       "    }\n",
       "</style>\n",
       "<table border=\"1\" class=\"dataframe\">\n",
       "  <thead>\n",
       "    <tr style=\"text-align: right;\">\n",
       "      <th></th>\n",
       "      <th>name</th>\n",
       "    </tr>\n",
       "  </thead>\n",
       "  <tbody>\n",
       "    <tr>\n",
       "      <th>0</th>\n",
       "      <td>Topologie</td>\n",
       "    </tr>\n",
       "    <tr>\n",
       "      <th>1</th>\n",
       "      <td>Etat</td>\n",
       "    </tr>\n",
       "  </tbody>\n",
       "</table>\n",
       "</div>"
      ],
      "text/plain": [
       "        name\n",
       "0  Topologie\n",
       "1       Etat"
      ]
     },
     "execution_count": 3,
     "metadata": {},
     "output_type": "execute_result"
    }
   ],
   "source": [
    "con = sqlite3.connect(\"data/star.db\")\n",
    "tables = pd.read_sql(query_tables, con)\n",
    "tables"
   ]
  },
  {
   "cell_type": "markdown",
   "metadata": {},
   "source": [
    "2. Récupérer le contenu de la table `Etat` dans un dataframe et afficher la liste des variables disponibles. Même question pour la table `Topologie`."
   ]
  },
  {
   "cell_type": "code",
   "execution_count": 4,
   "metadata": {},
   "outputs": [
    {
     "data": {
      "text/plain": [
       "id                            int64\n",
       "nom                          object\n",
       "latitude                    float64\n",
       "longitude                   float64\n",
       "etat                         object\n",
       "nb_emplacements               int64\n",
       "emplacements_disponibles      int64\n",
       "velos_disponibles             int64\n",
       "date                        float64\n",
       "data                         object\n",
       "dtype: object"
      ]
     },
     "execution_count": 4,
     "metadata": {},
     "output_type": "execute_result"
    }
   ],
   "source": [
    "etat_df = pd.read_sql(\"SELECT * FROM Etat\", con)\n",
    "etat_df.dtypes"
   ]
  },
  {
   "cell_type": "code",
   "execution_count": 5,
   "metadata": {},
   "outputs": [
    {
     "data": {
      "text/plain": [
       "id                     int64\n",
       "nom                   object\n",
       "adresse_numero        object\n",
       "adresse_voie          object\n",
       "commune               object\n",
       "latitude             float64\n",
       "longitude            float64\n",
       "id_correspondance    float64\n",
       "mise_en_service      float64\n",
       "nb_emplacements        int64\n",
       "id_proche_1            int64\n",
       "id_proche_2            int64\n",
       "id_proche_3            int64\n",
       "terminal_cb           object\n",
       "dtype: object"
      ]
     },
     "execution_count": 5,
     "metadata": {},
     "output_type": "execute_result"
    }
   ],
   "source": [
    "topologie_df = pd.read_sql(\"SELECT * FROM Topologie\", con)\n",
    "topologie_df.dtypes"
   ]
  },
  {
   "cell_type": "markdown",
   "metadata": {},
   "source": [
    "3. Sélectionner l'identifiant `id`, le nom `nom` et l'identifiant de la station la plus proche `id_proche_1` depuis la table `Topologie`."
   ]
  },
  {
   "cell_type": "code",
   "execution_count": 6,
   "metadata": {},
   "outputs": [
    {
     "data": {
      "text/html": [
       "<div>\n",
       "<style scoped>\n",
       "    .dataframe tbody tr th:only-of-type {\n",
       "        vertical-align: middle;\n",
       "    }\n",
       "\n",
       "    .dataframe tbody tr th {\n",
       "        vertical-align: top;\n",
       "    }\n",
       "\n",
       "    .dataframe thead th {\n",
       "        text-align: right;\n",
       "    }\n",
       "</style>\n",
       "<table border=\"1\" class=\"dataframe\">\n",
       "  <thead>\n",
       "    <tr style=\"text-align: right;\">\n",
       "      <th></th>\n",
       "      <th>id</th>\n",
       "      <th>nom</th>\n",
       "      <th>id_proche_1</th>\n",
       "    </tr>\n",
       "  </thead>\n",
       "  <tbody>\n",
       "    <tr>\n",
       "      <th>0</th>\n",
       "      <td>1</td>\n",
       "      <td>République</td>\n",
       "      <td>2</td>\n",
       "    </tr>\n",
       "    <tr>\n",
       "      <th>1</th>\n",
       "      <td>2</td>\n",
       "      <td>Mairie</td>\n",
       "      <td>1</td>\n",
       "    </tr>\n",
       "    <tr>\n",
       "      <th>2</th>\n",
       "      <td>3</td>\n",
       "      <td>Champ Jacquet</td>\n",
       "      <td>2</td>\n",
       "    </tr>\n",
       "    <tr>\n",
       "      <th>3</th>\n",
       "      <td>10</td>\n",
       "      <td>Musée Beaux-Arts</td>\n",
       "      <td>12</td>\n",
       "    </tr>\n",
       "    <tr>\n",
       "      <th>4</th>\n",
       "      <td>12</td>\n",
       "      <td>TNB</td>\n",
       "      <td>10</td>\n",
       "    </tr>\n",
       "    <tr>\n",
       "      <th>...</th>\n",
       "      <td>...</td>\n",
       "      <td>...</td>\n",
       "      <td>...</td>\n",
       "    </tr>\n",
       "    <tr>\n",
       "      <th>78</th>\n",
       "      <td>62</td>\n",
       "      <td>Clemenceau</td>\n",
       "      <td>63</td>\n",
       "    </tr>\n",
       "    <tr>\n",
       "      <th>79</th>\n",
       "      <td>66</td>\n",
       "      <td>Bréquigny Piscine</td>\n",
       "      <td>65</td>\n",
       "    </tr>\n",
       "    <tr>\n",
       "      <th>80</th>\n",
       "      <td>69</td>\n",
       "      <td>Champs Manceaux</td>\n",
       "      <td>66</td>\n",
       "    </tr>\n",
       "    <tr>\n",
       "      <th>81</th>\n",
       "      <td>85</td>\n",
       "      <td>La Courrouze</td>\n",
       "      <td>20</td>\n",
       "    </tr>\n",
       "    <tr>\n",
       "      <th>82</th>\n",
       "      <td>86</td>\n",
       "      <td>Armorique</td>\n",
       "      <td>78</td>\n",
       "    </tr>\n",
       "  </tbody>\n",
       "</table>\n",
       "<p>83 rows × 3 columns</p>\n",
       "</div>"
      ],
      "text/plain": [
       "    id                nom  id_proche_1\n",
       "0    1         République            2\n",
       "1    2             Mairie            1\n",
       "2    3      Champ Jacquet            2\n",
       "3   10   Musée Beaux-Arts           12\n",
       "4   12                TNB           10\n",
       "..  ..                ...          ...\n",
       "78  62         Clemenceau           63\n",
       "79  66  Bréquigny Piscine           65\n",
       "80  69    Champs Manceaux           66\n",
       "81  85       La Courrouze           20\n",
       "82  86          Armorique           78\n",
       "\n",
       "[83 rows x 3 columns]"
      ]
     },
     "execution_count": 6,
     "metadata": {},
     "output_type": "execute_result"
    }
   ],
   "source": [
    "topologie_df.filter(items=[\"id\", \"nom\", \"id_proche_1\"])"
   ]
  },
  {
   "cell_type": "markdown",
   "metadata": {},
   "source": [
    "4. Faire une jointure sur la table précédente pour créer une table qui contient la liste des stations avec l'identifiant, le nom et le nom de la station la plus proche associée à l'identifiant `id_proche_1`. Les variables utilisées comme clés sont différents, penser à utiliser les arguments `left_on` et `right_on` de la méthode `merge`."
   ]
  },
  {
   "cell_type": "code",
   "execution_count": 7,
   "metadata": {},
   "outputs": [
    {
     "data": {
      "text/html": [
       "<div>\n",
       "<style scoped>\n",
       "    .dataframe tbody tr th:only-of-type {\n",
       "        vertical-align: middle;\n",
       "    }\n",
       "\n",
       "    .dataframe tbody tr th {\n",
       "        vertical-align: top;\n",
       "    }\n",
       "\n",
       "    .dataframe thead th {\n",
       "        text-align: right;\n",
       "    }\n",
       "</style>\n",
       "<table border=\"1\" class=\"dataframe\">\n",
       "  <thead>\n",
       "    <tr style=\"text-align: right;\">\n",
       "      <th></th>\n",
       "      <th>id</th>\n",
       "      <th>nom</th>\n",
       "      <th>nom_proche_1</th>\n",
       "    </tr>\n",
       "  </thead>\n",
       "  <tbody>\n",
       "    <tr>\n",
       "      <th>0</th>\n",
       "      <td>1</td>\n",
       "      <td>République</td>\n",
       "      <td>Mairie</td>\n",
       "    </tr>\n",
       "    <tr>\n",
       "      <th>1</th>\n",
       "      <td>2</td>\n",
       "      <td>Mairie</td>\n",
       "      <td>République</td>\n",
       "    </tr>\n",
       "    <tr>\n",
       "      <th>2</th>\n",
       "      <td>3</td>\n",
       "      <td>Champ Jacquet</td>\n",
       "      <td>Mairie</td>\n",
       "    </tr>\n",
       "    <tr>\n",
       "      <th>3</th>\n",
       "      <td>10</td>\n",
       "      <td>Musée Beaux-Arts</td>\n",
       "      <td>TNB</td>\n",
       "    </tr>\n",
       "    <tr>\n",
       "      <th>4</th>\n",
       "      <td>12</td>\n",
       "      <td>TNB</td>\n",
       "      <td>Musée Beaux-Arts</td>\n",
       "    </tr>\n",
       "    <tr>\n",
       "      <th>...</th>\n",
       "      <td>...</td>\n",
       "      <td>...</td>\n",
       "      <td>...</td>\n",
       "    </tr>\n",
       "    <tr>\n",
       "      <th>78</th>\n",
       "      <td>62</td>\n",
       "      <td>Clemenceau</td>\n",
       "      <td>Henri Fréville</td>\n",
       "    </tr>\n",
       "    <tr>\n",
       "      <th>79</th>\n",
       "      <td>66</td>\n",
       "      <td>Bréquigny Piscine</td>\n",
       "      <td>NaN</td>\n",
       "    </tr>\n",
       "    <tr>\n",
       "      <th>80</th>\n",
       "      <td>69</td>\n",
       "      <td>Champs Manceaux</td>\n",
       "      <td>Bréquigny Piscine</td>\n",
       "    </tr>\n",
       "    <tr>\n",
       "      <th>81</th>\n",
       "      <td>85</td>\n",
       "      <td>La Courrouze</td>\n",
       "      <td>Pont de Nantes</td>\n",
       "    </tr>\n",
       "    <tr>\n",
       "      <th>82</th>\n",
       "      <td>86</td>\n",
       "      <td>Armorique</td>\n",
       "      <td>Gros-Chêne</td>\n",
       "    </tr>\n",
       "  </tbody>\n",
       "</table>\n",
       "<p>83 rows × 3 columns</p>\n",
       "</div>"
      ],
      "text/plain": [
       "    id                nom       nom_proche_1\n",
       "0    1         République             Mairie\n",
       "1    2             Mairie         République\n",
       "2    3      Champ Jacquet             Mairie\n",
       "3   10   Musée Beaux-Arts                TNB\n",
       "4   12                TNB   Musée Beaux-Arts\n",
       "..  ..                ...                ...\n",
       "78  62         Clemenceau     Henri Fréville\n",
       "79  66  Bréquigny Piscine                NaN\n",
       "80  69    Champs Manceaux  Bréquigny Piscine\n",
       "81  85       La Courrouze     Pont de Nantes\n",
       "82  86          Armorique         Gros-Chêne\n",
       "\n",
       "[83 rows x 3 columns]"
      ]
     },
     "execution_count": 7,
     "metadata": {},
     "output_type": "execute_result"
    }
   ],
   "source": [
    "(\n",
    "    topologie_df\n",
    "    .merge(etat_df, how=\"left\", left_on=\"id_proche_1\", right_on=\"id\")\n",
    "    .filter(items=[\"id_x\", \"nom_x\", \"nom_y\"])\n",
    "    .rename(columns={\"id_x\": \"id\", \"nom_x\": \"nom\", \"nom_y\": \"nom_proche_1\"})\n",
    ")"
   ]
  },
  {
   "cell_type": "markdown",
   "metadata": {},
   "source": [
    "5. Ajouter à la table précédente la distance entre la station et la station la plus proche."
   ]
  },
  {
   "cell_type": "code",
   "execution_count": 8,
   "metadata": {},
   "outputs": [
    {
     "data": {
      "text/html": [
       "<div>\n",
       "<style scoped>\n",
       "    .dataframe tbody tr th:only-of-type {\n",
       "        vertical-align: middle;\n",
       "    }\n",
       "\n",
       "    .dataframe tbody tr th {\n",
       "        vertical-align: top;\n",
       "    }\n",
       "\n",
       "    .dataframe thead th {\n",
       "        text-align: right;\n",
       "    }\n",
       "</style>\n",
       "<table border=\"1\" class=\"dataframe\">\n",
       "  <thead>\n",
       "    <tr style=\"text-align: right;\">\n",
       "      <th></th>\n",
       "      <th>id</th>\n",
       "      <th>nom</th>\n",
       "      <th>nom_proche_1</th>\n",
       "      <th>distance</th>\n",
       "    </tr>\n",
       "  </thead>\n",
       "  <tbody>\n",
       "    <tr>\n",
       "      <th>0</th>\n",
       "      <td>1</td>\n",
       "      <td>République</td>\n",
       "      <td>Mairie</td>\n",
       "      <td>0.001753</td>\n",
       "    </tr>\n",
       "    <tr>\n",
       "      <th>1</th>\n",
       "      <td>2</td>\n",
       "      <td>Mairie</td>\n",
       "      <td>République</td>\n",
       "      <td>0.001753</td>\n",
       "    </tr>\n",
       "    <tr>\n",
       "      <th>2</th>\n",
       "      <td>3</td>\n",
       "      <td>Champ Jacquet</td>\n",
       "      <td>Mairie</td>\n",
       "      <td>0.001733</td>\n",
       "    </tr>\n",
       "    <tr>\n",
       "      <th>3</th>\n",
       "      <td>10</td>\n",
       "      <td>Musée Beaux-Arts</td>\n",
       "      <td>TNB</td>\n",
       "      <td>0.001890</td>\n",
       "    </tr>\n",
       "    <tr>\n",
       "      <th>4</th>\n",
       "      <td>12</td>\n",
       "      <td>TNB</td>\n",
       "      <td>Musée Beaux-Arts</td>\n",
       "      <td>0.001890</td>\n",
       "    </tr>\n",
       "    <tr>\n",
       "      <th>...</th>\n",
       "      <td>...</td>\n",
       "      <td>...</td>\n",
       "      <td>...</td>\n",
       "      <td>...</td>\n",
       "    </tr>\n",
       "    <tr>\n",
       "      <th>78</th>\n",
       "      <td>62</td>\n",
       "      <td>Clemenceau</td>\n",
       "      <td>Henri Fréville</td>\n",
       "      <td>0.005999</td>\n",
       "    </tr>\n",
       "    <tr>\n",
       "      <th>79</th>\n",
       "      <td>66</td>\n",
       "      <td>Bréquigny Piscine</td>\n",
       "      <td>NaN</td>\n",
       "      <td>NaN</td>\n",
       "    </tr>\n",
       "    <tr>\n",
       "      <th>80</th>\n",
       "      <td>69</td>\n",
       "      <td>Champs Manceaux</td>\n",
       "      <td>Bréquigny Piscine</td>\n",
       "      <td>0.008096</td>\n",
       "    </tr>\n",
       "    <tr>\n",
       "      <th>81</th>\n",
       "      <td>85</td>\n",
       "      <td>La Courrouze</td>\n",
       "      <td>Pont de Nantes</td>\n",
       "      <td>0.010957</td>\n",
       "    </tr>\n",
       "    <tr>\n",
       "      <th>82</th>\n",
       "      <td>86</td>\n",
       "      <td>Armorique</td>\n",
       "      <td>Gros-Chêne</td>\n",
       "      <td>0.011089</td>\n",
       "    </tr>\n",
       "  </tbody>\n",
       "</table>\n",
       "<p>83 rows × 4 columns</p>\n",
       "</div>"
      ],
      "text/plain": [
       "    id                nom       nom_proche_1  distance\n",
       "0    1         République             Mairie  0.001753\n",
       "1    2             Mairie         République  0.001753\n",
       "2    3      Champ Jacquet             Mairie  0.001733\n",
       "3   10   Musée Beaux-Arts                TNB  0.001890\n",
       "4   12                TNB   Musée Beaux-Arts  0.001890\n",
       "..  ..                ...                ...       ...\n",
       "78  62         Clemenceau     Henri Fréville  0.005999\n",
       "79  66  Bréquigny Piscine                NaN       NaN\n",
       "80  69    Champs Manceaux  Bréquigny Piscine  0.008096\n",
       "81  85       La Courrouze     Pont de Nantes  0.010957\n",
       "82  86          Armorique         Gros-Chêne  0.011089\n",
       "\n",
       "[83 rows x 4 columns]"
      ]
     },
     "execution_count": 8,
     "metadata": {},
     "output_type": "execute_result"
    }
   ],
   "source": [
    "(\n",
    "    topologie_df\n",
    "    .merge(etat_df, how=\"left\", left_on=\"id_proche_1\", right_on=\"id\")\n",
    "    .assign(\n",
    "        # La méthode assign fonctionne aussi avec une fonction anonyme\n",
    "        distance=lambda row: (\n",
    "            (row.latitude_x - row.latitude_y)**2\n",
    "            + (row.longitude_x - row.longitude_y)**2\n",
    "        )**0.5\n",
    "    )\n",
    "    .filter(items=[\"id_x\", \"nom_x\", \"nom_y\", \"distance\"])\n",
    "    .rename(columns={\"id_x\": \"id\", \"nom_x\": \"nom\", \"nom_y\": \"nom_proche_1\"})\n",
    ")"
   ]
  },
  {
   "cell_type": "markdown",
   "metadata": {},
   "source": [
    "6. Créer une table avec le nom des trois stations les plus proches du point GPS *(48.1179151,-1.7028661)* classées par ordre de distance et le nombre de vélos disponibles dans ces stations."
   ]
  },
  {
   "cell_type": "code",
   "execution_count": 9,
   "metadata": {},
   "outputs": [
    {
     "data": {
      "text/html": [
       "<div>\n",
       "<style scoped>\n",
       "    .dataframe tbody tr th:only-of-type {\n",
       "        vertical-align: middle;\n",
       "    }\n",
       "\n",
       "    .dataframe tbody tr th {\n",
       "        vertical-align: top;\n",
       "    }\n",
       "\n",
       "    .dataframe thead th {\n",
       "        text-align: right;\n",
       "    }\n",
       "</style>\n",
       "<table border=\"1\" class=\"dataframe\">\n",
       "  <thead>\n",
       "    <tr style=\"text-align: right;\">\n",
       "      <th></th>\n",
       "      <th>nom</th>\n",
       "      <th>distance</th>\n",
       "      <th>velos_disponibles</th>\n",
       "    </tr>\n",
       "  </thead>\n",
       "  <tbody>\n",
       "    <tr>\n",
       "      <th>50</th>\n",
       "      <td>Berger</td>\n",
       "      <td>0.002746</td>\n",
       "      <td>10</td>\n",
       "    </tr>\n",
       "    <tr>\n",
       "      <th>17</th>\n",
       "      <td>Villejean-Université</td>\n",
       "      <td>0.003401</td>\n",
       "      <td>11</td>\n",
       "    </tr>\n",
       "    <tr>\n",
       "      <th>74</th>\n",
       "      <td>Marbeuf</td>\n",
       "      <td>0.006216</td>\n",
       "      <td>9</td>\n",
       "    </tr>\n",
       "  </tbody>\n",
       "</table>\n",
       "</div>"
      ],
      "text/plain": [
       "                     nom  distance  velos_disponibles\n",
       "50                Berger  0.002746                 10\n",
       "17  Villejean-Université  0.003401                 11\n",
       "74               Marbeuf  0.006216                  9"
      ]
     },
     "execution_count": 9,
     "metadata": {},
     "output_type": "execute_result"
    }
   ],
   "source": [
    "(\n",
    "    etat_df\n",
    "    .assign(\n",
    "        distance=(\n",
    "            (48.1179151 - etat_df.latitude)**2\n",
    "            + (-1.7028661 - etat_df.longitude)**2\n",
    "        )**0.5\n",
    "    )\n",
    "    .nsmallest(3, \"distance\") # Plus simple que sort_values et head\n",
    "    .filter(items=[\"nom\", \"distance\", \"velos_disponibles\"])\n",
    ")"
   ]
  },
  {
   "cell_type": "markdown",
   "metadata": {},
   "source": [
    "7. Reprendre les questions précédentes en utilisant le module `ibis`. Pour les jointures, utiliser la méthode `left_join`."
   ]
  },
  {
   "cell_type": "code",
   "execution_count": 10,
   "metadata": {},
   "outputs": [
    {
     "data": {
      "text/plain": [
       "Tables\n",
       "------\n",
       "- Etat\n",
       "- Topologie"
      ]
     },
     "execution_count": 10,
     "metadata": {},
     "output_type": "execute_result"
    }
   ],
   "source": [
    "# Question 1\n",
    "con_ibis = ibis.sqlite.connect(\"data/star.db\")\n",
    "con_ibis.tables"
   ]
  },
  {
   "cell_type": "code",
   "execution_count": 11,
   "metadata": {},
   "outputs": [
    {
     "name": "stdout",
     "output_type": "stream",
     "text": [
      "*** Etat ***\n",
      "('id', 'nom', 'latitude', 'longitude', 'etat', 'nb_emplacements', 'emplacements_disponibles', 'velos_disponibles', 'date', 'data')\n",
      "*** Topologie ***\n",
      "('id', 'nom', 'adresse_numero', 'adresse_voie', 'commune', 'latitude', 'longitude', 'id_correspondance', 'mise_en_service', 'nb_emplacements', 'id_proche_1', 'id_proche_2', 'id_proche_3', 'terminal_cb')\n"
     ]
    }
   ],
   "source": [
    "# Question 2\n",
    "etat_table = con_ibis.table(\"Etat\")\n",
    "print(\"*** Etat ***\")\n",
    "print(etat_table.columns)\n",
    "\n",
    "topologie_table = con_ibis.table(\"Topologie\")\n",
    "print(\"*** Topologie ***\")\n",
    "print(topologie_table.columns)"
   ]
  },
  {
   "cell_type": "code",
   "execution_count": 12,
   "metadata": {},
   "outputs": [
    {
     "data": {
      "text/html": [
       "<pre style=\"white-space:pre;overflow-x:auto;line-height:normal;font-family:Menlo,'DejaVu Sans Mono',consolas,'Courier New',monospace\">┏━━━━━━━┳━━━━━━━━━━━━━━━━━━━━┳━━━━━━━━━━━━━┓\n",
       "┃<span style=\"font-weight: bold\"> id    </span>┃<span style=\"font-weight: bold\"> nom                </span>┃<span style=\"font-weight: bold\"> id_proche_1 </span>┃\n",
       "┡━━━━━━━╇━━━━━━━━━━━━━━━━━━━━╇━━━━━━━━━━━━━┩\n",
       "│ <span style=\"color: #7f7f7f; text-decoration-color: #7f7f7f\">int64</span> │ <span style=\"color: #7f7f7f; text-decoration-color: #7f7f7f\">string</span>             │ <span style=\"color: #7f7f7f; text-decoration-color: #7f7f7f\">int64</span>       │\n",
       "├───────┼────────────────────┼─────────────┤\n",
       "│     <span style=\"color: #008080; text-decoration-color: #008080; font-weight: bold\">1</span> │ <span style=\"color: #008000; text-decoration-color: #008000\">République        </span> │           <span style=\"color: #008080; text-decoration-color: #008080; font-weight: bold\">2</span> │\n",
       "│     <span style=\"color: #008080; text-decoration-color: #008080; font-weight: bold\">2</span> │ <span style=\"color: #008000; text-decoration-color: #008000\">Mairie            </span> │           <span style=\"color: #008080; text-decoration-color: #008080; font-weight: bold\">1</span> │\n",
       "│     <span style=\"color: #008080; text-decoration-color: #008080; font-weight: bold\">3</span> │ <span style=\"color: #008000; text-decoration-color: #008000\">Champ Jacquet     </span> │           <span style=\"color: #008080; text-decoration-color: #008080; font-weight: bold\">2</span> │\n",
       "│    <span style=\"color: #008080; text-decoration-color: #008080; font-weight: bold\">10</span> │ <span style=\"color: #008000; text-decoration-color: #008000\">Musée Beaux-Arts  </span> │          <span style=\"color: #008080; text-decoration-color: #008080; font-weight: bold\">12</span> │\n",
       "│    <span style=\"color: #008080; text-decoration-color: #008080; font-weight: bold\">12</span> │ <span style=\"color: #008000; text-decoration-color: #008000\">TNB               </span> │          <span style=\"color: #008080; text-decoration-color: #008080; font-weight: bold\">10</span> │\n",
       "│    <span style=\"color: #008080; text-decoration-color: #008080; font-weight: bold\">14</span> │ <span style=\"color: #008000; text-decoration-color: #008000\">Laënnec           </span> │          <span style=\"color: #008080; text-decoration-color: #008080; font-weight: bold\">35</span> │\n",
       "│    <span style=\"color: #008080; text-decoration-color: #008080; font-weight: bold\">17</span> │ <span style=\"color: #008000; text-decoration-color: #008000\">Charles de Gaulle </span> │          <span style=\"color: #008080; text-decoration-color: #008080; font-weight: bold\">16</span> │\n",
       "│    <span style=\"color: #008080; text-decoration-color: #008080; font-weight: bold\">20</span> │ <span style=\"color: #008000; text-decoration-color: #008000\">Pont de Nantes    </span> │          <span style=\"color: #008080; text-decoration-color: #008080; font-weight: bold\">43</span> │\n",
       "│    <span style=\"color: #008080; text-decoration-color: #008080; font-weight: bold\">22</span> │ <span style=\"color: #008000; text-decoration-color: #008000\">Oberthur          </span> │          <span style=\"color: #008080; text-decoration-color: #008080; font-weight: bold\">44</span> │\n",
       "│    <span style=\"color: #008080; text-decoration-color: #008080; font-weight: bold\">25</span> │ <span style=\"color: #008000; text-decoration-color: #008000\">Office de Tourisme</span> │          <span style=\"color: #008080; text-decoration-color: #008080; font-weight: bold\">24</span> │\n",
       "│     <span style=\"color: #7f7f7f; text-decoration-color: #7f7f7f\">…</span> │ <span style=\"color: #7f7f7f; text-decoration-color: #7f7f7f\">…</span>                  │           <span style=\"color: #7f7f7f; text-decoration-color: #7f7f7f\">…</span> │\n",
       "└───────┴────────────────────┴─────────────┘\n",
       "</pre>\n"
      ],
      "text/plain": [
       "┏━━━━━━━┳━━━━━━━━━━━━━━━━━━━━┳━━━━━━━━━━━━━┓\n",
       "┃\u001b[1m \u001b[0m\u001b[1mid\u001b[0m\u001b[1m   \u001b[0m\u001b[1m \u001b[0m┃\u001b[1m \u001b[0m\u001b[1mnom\u001b[0m\u001b[1m               \u001b[0m\u001b[1m \u001b[0m┃\u001b[1m \u001b[0m\u001b[1mid_proche_1\u001b[0m\u001b[1m \u001b[0m┃\n",
       "┡━━━━━━━╇━━━━━━━━━━━━━━━━━━━━╇━━━━━━━━━━━━━┩\n",
       "│ \u001b[2mint64\u001b[0m │ \u001b[2mstring\u001b[0m             │ \u001b[2mint64\u001b[0m       │\n",
       "├───────┼────────────────────┼─────────────┤\n",
       "│     \u001b[1;36m1\u001b[0m │ \u001b[32mRépublique        \u001b[0m │           \u001b[1;36m2\u001b[0m │\n",
       "│     \u001b[1;36m2\u001b[0m │ \u001b[32mMairie            \u001b[0m │           \u001b[1;36m1\u001b[0m │\n",
       "│     \u001b[1;36m3\u001b[0m │ \u001b[32mChamp Jacquet     \u001b[0m │           \u001b[1;36m2\u001b[0m │\n",
       "│    \u001b[1;36m10\u001b[0m │ \u001b[32mMusée Beaux-Arts  \u001b[0m │          \u001b[1;36m12\u001b[0m │\n",
       "│    \u001b[1;36m12\u001b[0m │ \u001b[32mTNB               \u001b[0m │          \u001b[1;36m10\u001b[0m │\n",
       "│    \u001b[1;36m14\u001b[0m │ \u001b[32mLaënnec           \u001b[0m │          \u001b[1;36m35\u001b[0m │\n",
       "│    \u001b[1;36m17\u001b[0m │ \u001b[32mCharles de Gaulle \u001b[0m │          \u001b[1;36m16\u001b[0m │\n",
       "│    \u001b[1;36m20\u001b[0m │ \u001b[32mPont de Nantes    \u001b[0m │          \u001b[1;36m43\u001b[0m │\n",
       "│    \u001b[1;36m22\u001b[0m │ \u001b[32mOberthur          \u001b[0m │          \u001b[1;36m44\u001b[0m │\n",
       "│    \u001b[1;36m25\u001b[0m │ \u001b[32mOffice de Tourisme\u001b[0m │          \u001b[1;36m24\u001b[0m │\n",
       "│     \u001b[2m…\u001b[0m │ \u001b[2m…\u001b[0m                  │           \u001b[2m…\u001b[0m │\n",
       "└───────┴────────────────────┴─────────────┘"
      ]
     },
     "execution_count": 12,
     "metadata": {},
     "output_type": "execute_result"
    }
   ],
   "source": [
    "# Question 3\n",
    "topologie_table.select(\"id\", \"nom\", \"id_proche_1\")"
   ]
  },
  {
   "cell_type": "code",
   "execution_count": 13,
   "metadata": {},
   "outputs": [
    {
     "data": {
      "text/html": [
       "<pre style=\"white-space:pre;overflow-x:auto;line-height:normal;font-family:Menlo,'DejaVu Sans Mono',consolas,'Courier New',monospace\">┏━━━━━━━┳━━━━━━━━━━━━━━━━━━━━┳━━━━━━━━━━━━━━━━━━━━┓\n",
       "┃<span style=\"font-weight: bold\"> id    </span>┃<span style=\"font-weight: bold\"> nom                </span>┃<span style=\"font-weight: bold\"> nom_proche_1       </span>┃\n",
       "┡━━━━━━━╇━━━━━━━━━━━━━━━━━━━━╇━━━━━━━━━━━━━━━━━━━━┩\n",
       "│ <span style=\"color: #7f7f7f; text-decoration-color: #7f7f7f\">int64</span> │ <span style=\"color: #7f7f7f; text-decoration-color: #7f7f7f\">string</span>             │ <span style=\"color: #7f7f7f; text-decoration-color: #7f7f7f\">string</span>             │\n",
       "├───────┼────────────────────┼────────────────────┤\n",
       "│     <span style=\"color: #008080; text-decoration-color: #008080; font-weight: bold\">1</span> │ <span style=\"color: #008000; text-decoration-color: #008000\">République        </span> │ <span style=\"color: #008000; text-decoration-color: #008000\">Mairie            </span> │\n",
       "│     <span style=\"color: #008080; text-decoration-color: #008080; font-weight: bold\">2</span> │ <span style=\"color: #008000; text-decoration-color: #008000\">Mairie            </span> │ <span style=\"color: #008000; text-decoration-color: #008000\">République        </span> │\n",
       "│     <span style=\"color: #008080; text-decoration-color: #008080; font-weight: bold\">3</span> │ <span style=\"color: #008000; text-decoration-color: #008000\">Champ Jacquet     </span> │ <span style=\"color: #008000; text-decoration-color: #008000\">Mairie            </span> │\n",
       "│    <span style=\"color: #008080; text-decoration-color: #008080; font-weight: bold\">10</span> │ <span style=\"color: #008000; text-decoration-color: #008000\">Musée Beaux-Arts  </span> │ <span style=\"color: #008000; text-decoration-color: #008000\">TNB               </span> │\n",
       "│    <span style=\"color: #008080; text-decoration-color: #008080; font-weight: bold\">12</span> │ <span style=\"color: #008000; text-decoration-color: #008000\">TNB               </span> │ <span style=\"color: #008000; text-decoration-color: #008000\">Musée Beaux-Arts  </span> │\n",
       "│    <span style=\"color: #008080; text-decoration-color: #008080; font-weight: bold\">14</span> │ <span style=\"color: #008000; text-decoration-color: #008000\">Laënnec           </span> │ <span style=\"color: #008000; text-decoration-color: #008000\">Pont de Châteaudun</span> │\n",
       "│    <span style=\"color: #008080; text-decoration-color: #008080; font-weight: bold\">17</span> │ <span style=\"color: #008000; text-decoration-color: #008000\">Charles de Gaulle </span> │ <span style=\"color: #008000; text-decoration-color: #008000\">Champs Libres     </span> │\n",
       "│    <span style=\"color: #008080; text-decoration-color: #008080; font-weight: bold\">20</span> │ <span style=\"color: #008000; text-decoration-color: #008000\">Pont de Nantes    </span> │ <span style=\"color: #008000; text-decoration-color: #008000\">Cité Judiciaire   </span> │\n",
       "│    <span style=\"color: #008080; text-decoration-color: #008080; font-weight: bold\">22</span> │ <span style=\"color: #008000; text-decoration-color: #008000\">Oberthur          </span> │ <span style=\"color: #008000; text-decoration-color: #008000\">Metz - Sévigné    </span> │\n",
       "│    <span style=\"color: #008080; text-decoration-color: #008080; font-weight: bold\">25</span> │ <span style=\"color: #008000; text-decoration-color: #008000\">Office de Tourisme</span> │ <span style=\"color: #008000; text-decoration-color: #008000\">Place de Bretagne </span> │\n",
       "│     <span style=\"color: #7f7f7f; text-decoration-color: #7f7f7f\">…</span> │ <span style=\"color: #7f7f7f; text-decoration-color: #7f7f7f\">…</span>                  │ <span style=\"color: #7f7f7f; text-decoration-color: #7f7f7f\">…</span>                  │\n",
       "└───────┴────────────────────┴────────────────────┘\n",
       "</pre>\n"
      ],
      "text/plain": [
       "┏━━━━━━━┳━━━━━━━━━━━━━━━━━━━━┳━━━━━━━━━━━━━━━━━━━━┓\n",
       "┃\u001b[1m \u001b[0m\u001b[1mid\u001b[0m\u001b[1m   \u001b[0m\u001b[1m \u001b[0m┃\u001b[1m \u001b[0m\u001b[1mnom\u001b[0m\u001b[1m               \u001b[0m\u001b[1m \u001b[0m┃\u001b[1m \u001b[0m\u001b[1mnom_proche_1\u001b[0m\u001b[1m      \u001b[0m\u001b[1m \u001b[0m┃\n",
       "┡━━━━━━━╇━━━━━━━━━━━━━━━━━━━━╇━━━━━━━━━━━━━━━━━━━━┩\n",
       "│ \u001b[2mint64\u001b[0m │ \u001b[2mstring\u001b[0m             │ \u001b[2mstring\u001b[0m             │\n",
       "├───────┼────────────────────┼────────────────────┤\n",
       "│     \u001b[1;36m1\u001b[0m │ \u001b[32mRépublique        \u001b[0m │ \u001b[32mMairie            \u001b[0m │\n",
       "│     \u001b[1;36m2\u001b[0m │ \u001b[32mMairie            \u001b[0m │ \u001b[32mRépublique        \u001b[0m │\n",
       "│     \u001b[1;36m3\u001b[0m │ \u001b[32mChamp Jacquet     \u001b[0m │ \u001b[32mMairie            \u001b[0m │\n",
       "│    \u001b[1;36m10\u001b[0m │ \u001b[32mMusée Beaux-Arts  \u001b[0m │ \u001b[32mTNB               \u001b[0m │\n",
       "│    \u001b[1;36m12\u001b[0m │ \u001b[32mTNB               \u001b[0m │ \u001b[32mMusée Beaux-Arts  \u001b[0m │\n",
       "│    \u001b[1;36m14\u001b[0m │ \u001b[32mLaënnec           \u001b[0m │ \u001b[32mPont de Châteaudun\u001b[0m │\n",
       "│    \u001b[1;36m17\u001b[0m │ \u001b[32mCharles de Gaulle \u001b[0m │ \u001b[32mChamps Libres     \u001b[0m │\n",
       "│    \u001b[1;36m20\u001b[0m │ \u001b[32mPont de Nantes    \u001b[0m │ \u001b[32mCité Judiciaire   \u001b[0m │\n",
       "│    \u001b[1;36m22\u001b[0m │ \u001b[32mOberthur          \u001b[0m │ \u001b[32mMetz - Sévigné    \u001b[0m │\n",
       "│    \u001b[1;36m25\u001b[0m │ \u001b[32mOffice de Tourisme\u001b[0m │ \u001b[32mPlace de Bretagne \u001b[0m │\n",
       "│     \u001b[2m…\u001b[0m │ \u001b[2m…\u001b[0m                  │ \u001b[2m…\u001b[0m                  │\n",
       "└───────┴────────────────────┴────────────────────┘"
      ]
     },
     "execution_count": 13,
     "metadata": {},
     "output_type": "execute_result"
    }
   ],
   "source": [
    "# Question 4\n",
    "(\n",
    "    topologie_table\n",
    "    .left_join(\n",
    "        etat_table,\n",
    "        topologie_table.id_proche_1 == etat_table.id\n",
    "    )\n",
    "    .select(\"id\", \"nom\", \"nom_right\")\n",
    "    .rename(nom_proche_1=\"nom_right\") # Renommer une colonne\n",
    ")\n",
    "    "
   ]
  },
  {
   "cell_type": "code",
   "execution_count": 14,
   "metadata": {},
   "outputs": [
    {
     "data": {
      "text/html": [
       "<pre style=\"white-space:pre;overflow-x:auto;line-height:normal;font-family:Menlo,'DejaVu Sans Mono',consolas,'Courier New',monospace\">┏━━━━━━━┳━━━━━━━━━━━━━━━━━━━━┳━━━━━━━━━━━━━━━━━━━━┳━━━━━━━━━━┓\n",
       "┃<span style=\"font-weight: bold\"> id    </span>┃<span style=\"font-weight: bold\"> nom                </span>┃<span style=\"font-weight: bold\"> nom_proche_1       </span>┃<span style=\"font-weight: bold\"> distance </span>┃\n",
       "┡━━━━━━━╇━━━━━━━━━━━━━━━━━━━━╇━━━━━━━━━━━━━━━━━━━━╇━━━━━━━━━━┩\n",
       "│ <span style=\"color: #7f7f7f; text-decoration-color: #7f7f7f\">int64</span> │ <span style=\"color: #7f7f7f; text-decoration-color: #7f7f7f\">string</span>             │ <span style=\"color: #7f7f7f; text-decoration-color: #7f7f7f\">string</span>             │ <span style=\"color: #7f7f7f; text-decoration-color: #7f7f7f\">float64</span>  │\n",
       "├───────┼────────────────────┼────────────────────┼──────────┤\n",
       "│     <span style=\"color: #008080; text-decoration-color: #008080; font-weight: bold\">1</span> │ <span style=\"color: #008000; text-decoration-color: #008000\">République        </span> │ <span style=\"color: #008000; text-decoration-color: #008000\">Mairie            </span> │ <span style=\"color: #008080; text-decoration-color: #008080; font-weight: bold\">0.001753</span> │\n",
       "│     <span style=\"color: #008080; text-decoration-color: #008080; font-weight: bold\">2</span> │ <span style=\"color: #008000; text-decoration-color: #008000\">Mairie            </span> │ <span style=\"color: #008000; text-decoration-color: #008000\">République        </span> │ <span style=\"color: #008080; text-decoration-color: #008080; font-weight: bold\">0.001753</span> │\n",
       "│     <span style=\"color: #008080; text-decoration-color: #008080; font-weight: bold\">3</span> │ <span style=\"color: #008000; text-decoration-color: #008000\">Champ Jacquet     </span> │ <span style=\"color: #008000; text-decoration-color: #008000\">Mairie            </span> │ <span style=\"color: #008080; text-decoration-color: #008080; font-weight: bold\">0.001733</span> │\n",
       "│    <span style=\"color: #008080; text-decoration-color: #008080; font-weight: bold\">10</span> │ <span style=\"color: #008000; text-decoration-color: #008000\">Musée Beaux-Arts  </span> │ <span style=\"color: #008000; text-decoration-color: #008000\">TNB               </span> │ <span style=\"color: #008080; text-decoration-color: #008080; font-weight: bold\">0.001890</span> │\n",
       "│    <span style=\"color: #008080; text-decoration-color: #008080; font-weight: bold\">12</span> │ <span style=\"color: #008000; text-decoration-color: #008000\">TNB               </span> │ <span style=\"color: #008000; text-decoration-color: #008000\">Musée Beaux-Arts  </span> │ <span style=\"color: #008080; text-decoration-color: #008080; font-weight: bold\">0.001890</span> │\n",
       "│    <span style=\"color: #008080; text-decoration-color: #008080; font-weight: bold\">14</span> │ <span style=\"color: #008000; text-decoration-color: #008000\">Laënnec           </span> │ <span style=\"color: #008000; text-decoration-color: #008000\">Pont de Châteaudun</span> │ <span style=\"color: #008080; text-decoration-color: #008080; font-weight: bold\">0.003682</span> │\n",
       "│    <span style=\"color: #008080; text-decoration-color: #008080; font-weight: bold\">17</span> │ <span style=\"color: #008000; text-decoration-color: #008000\">Charles de Gaulle </span> │ <span style=\"color: #008000; text-decoration-color: #008000\">Champs Libres     </span> │ <span style=\"color: #008080; text-decoration-color: #008080; font-weight: bold\">0.002824</span> │\n",
       "│    <span style=\"color: #008080; text-decoration-color: #008080; font-weight: bold\">20</span> │ <span style=\"color: #008000; text-decoration-color: #008000\">Pont de Nantes    </span> │ <span style=\"color: #008000; text-decoration-color: #008000\">Cité Judiciaire   </span> │ <span style=\"color: #008080; text-decoration-color: #008080; font-weight: bold\">0.002758</span> │\n",
       "│    <span style=\"color: #008080; text-decoration-color: #008080; font-weight: bold\">22</span> │ <span style=\"color: #008000; text-decoration-color: #008000\">Oberthur          </span> │ <span style=\"color: #008000; text-decoration-color: #008000\">Metz - Sévigné    </span> │ <span style=\"color: #008080; text-decoration-color: #008080; font-weight: bold\">0.004351</span> │\n",
       "│    <span style=\"color: #008080; text-decoration-color: #008080; font-weight: bold\">25</span> │ <span style=\"color: #008000; text-decoration-color: #008000\">Office de Tourisme</span> │ <span style=\"color: #008000; text-decoration-color: #008000\">Place de Bretagne </span> │ <span style=\"color: #008080; text-decoration-color: #008080; font-weight: bold\">0.001135</span> │\n",
       "│     <span style=\"color: #7f7f7f; text-decoration-color: #7f7f7f\">…</span> │ <span style=\"color: #7f7f7f; text-decoration-color: #7f7f7f\">…</span>                  │ <span style=\"color: #7f7f7f; text-decoration-color: #7f7f7f\">…</span>                  │        <span style=\"color: #7f7f7f; text-decoration-color: #7f7f7f\">…</span> │\n",
       "└───────┴────────────────────┴────────────────────┴──────────┘\n",
       "</pre>\n"
      ],
      "text/plain": [
       "┏━━━━━━━┳━━━━━━━━━━━━━━━━━━━━┳━━━━━━━━━━━━━━━━━━━━┳━━━━━━━━━━┓\n",
       "┃\u001b[1m \u001b[0m\u001b[1mid\u001b[0m\u001b[1m   \u001b[0m\u001b[1m \u001b[0m┃\u001b[1m \u001b[0m\u001b[1mnom\u001b[0m\u001b[1m               \u001b[0m\u001b[1m \u001b[0m┃\u001b[1m \u001b[0m\u001b[1mnom_proche_1\u001b[0m\u001b[1m      \u001b[0m\u001b[1m \u001b[0m┃\u001b[1m \u001b[0m\u001b[1mdistance\u001b[0m\u001b[1m \u001b[0m┃\n",
       "┡━━━━━━━╇━━━━━━━━━━━━━━━━━━━━╇━━━━━━━━━━━━━━━━━━━━╇━━━━━━━━━━┩\n",
       "│ \u001b[2mint64\u001b[0m │ \u001b[2mstring\u001b[0m             │ \u001b[2mstring\u001b[0m             │ \u001b[2mfloat64\u001b[0m  │\n",
       "├───────┼────────────────────┼────────────────────┼──────────┤\n",
       "│     \u001b[1;36m1\u001b[0m │ \u001b[32mRépublique        \u001b[0m │ \u001b[32mMairie            \u001b[0m │ \u001b[1;36m0.001753\u001b[0m │\n",
       "│     \u001b[1;36m2\u001b[0m │ \u001b[32mMairie            \u001b[0m │ \u001b[32mRépublique        \u001b[0m │ \u001b[1;36m0.001753\u001b[0m │\n",
       "│     \u001b[1;36m3\u001b[0m │ \u001b[32mChamp Jacquet     \u001b[0m │ \u001b[32mMairie            \u001b[0m │ \u001b[1;36m0.001733\u001b[0m │\n",
       "│    \u001b[1;36m10\u001b[0m │ \u001b[32mMusée Beaux-Arts  \u001b[0m │ \u001b[32mTNB               \u001b[0m │ \u001b[1;36m0.001890\u001b[0m │\n",
       "│    \u001b[1;36m12\u001b[0m │ \u001b[32mTNB               \u001b[0m │ \u001b[32mMusée Beaux-Arts  \u001b[0m │ \u001b[1;36m0.001890\u001b[0m │\n",
       "│    \u001b[1;36m14\u001b[0m │ \u001b[32mLaënnec           \u001b[0m │ \u001b[32mPont de Châteaudun\u001b[0m │ \u001b[1;36m0.003682\u001b[0m │\n",
       "│    \u001b[1;36m17\u001b[0m │ \u001b[32mCharles de Gaulle \u001b[0m │ \u001b[32mChamps Libres     \u001b[0m │ \u001b[1;36m0.002824\u001b[0m │\n",
       "│    \u001b[1;36m20\u001b[0m │ \u001b[32mPont de Nantes    \u001b[0m │ \u001b[32mCité Judiciaire   \u001b[0m │ \u001b[1;36m0.002758\u001b[0m │\n",
       "│    \u001b[1;36m22\u001b[0m │ \u001b[32mOberthur          \u001b[0m │ \u001b[32mMetz - Sévigné    \u001b[0m │ \u001b[1;36m0.004351\u001b[0m │\n",
       "│    \u001b[1;36m25\u001b[0m │ \u001b[32mOffice de Tourisme\u001b[0m │ \u001b[32mPlace de Bretagne \u001b[0m │ \u001b[1;36m0.001135\u001b[0m │\n",
       "│     \u001b[2m…\u001b[0m │ \u001b[2m…\u001b[0m                  │ \u001b[2m…\u001b[0m                  │        \u001b[2m…\u001b[0m │\n",
       "└───────┴────────────────────┴────────────────────┴──────────┘"
      ]
     },
     "execution_count": 14,
     "metadata": {},
     "output_type": "execute_result"
    }
   ],
   "source": [
    "# Question 5\n",
    "(\n",
    "    topologie_table\n",
    "    .left_join(\n",
    "        etat_table,\n",
    "        topologie_table.id_proche_1 == etat_table.id\n",
    "    )\n",
    "    .mutate(\n",
    "        # Utilisation de _\n",
    "        d_lat = _.latitude - _.latitude_right,\n",
    "        d_lon = _.longitude - _.longitude_right\n",
    "    )\n",
    "    .mutate(\n",
    "        distance = (_.d_lat * _.d_lat + _.d_lon * _.d_lon)**0.5\n",
    "    )\n",
    "    .select(\"id\", \"nom\", \"nom_right\", \"distance\")\n",
    "    .rename(nom_proche_1=\"nom_right\")\n",
    ")"
   ]
  },
  {
   "cell_type": "code",
   "execution_count": 15,
   "metadata": {},
   "outputs": [
    {
     "data": {
      "text/html": [
       "<pre style=\"white-space:pre;overflow-x:auto;line-height:normal;font-family:Menlo,'DejaVu Sans Mono',consolas,'Courier New',monospace\">┏━━━━━━━━━━━━━━━━━━━━━━┳━━━━━━━━━━┳━━━━━━━━━━━━━━━━━━━┓\n",
       "┃<span style=\"font-weight: bold\"> nom                  </span>┃<span style=\"font-weight: bold\"> distance </span>┃<span style=\"font-weight: bold\"> velos_disponibles </span>┃\n",
       "┡━━━━━━━━━━━━━━━━━━━━━━╇━━━━━━━━━━╇━━━━━━━━━━━━━━━━━━━┩\n",
       "│ <span style=\"color: #7f7f7f; text-decoration-color: #7f7f7f\">string</span>               │ <span style=\"color: #7f7f7f; text-decoration-color: #7f7f7f\">float64</span>  │ <span style=\"color: #7f7f7f; text-decoration-color: #7f7f7f\">int64</span>             │\n",
       "├──────────────────────┼──────────┼───────────────────┤\n",
       "│ <span style=\"color: #008000; text-decoration-color: #008000\">Berger              </span> │ <span style=\"color: #008080; text-decoration-color: #008080; font-weight: bold\">0.002746</span> │                <span style=\"color: #008080; text-decoration-color: #008080; font-weight: bold\">10</span> │\n",
       "│ <span style=\"color: #008000; text-decoration-color: #008000\">Villejean-Université</span> │ <span style=\"color: #008080; text-decoration-color: #008080; font-weight: bold\">0.003401</span> │                <span style=\"color: #008080; text-decoration-color: #008080; font-weight: bold\">11</span> │\n",
       "│ <span style=\"color: #008000; text-decoration-color: #008000\">Marbeuf             </span> │ <span style=\"color: #008080; text-decoration-color: #008080; font-weight: bold\">0.006216</span> │                 <span style=\"color: #008080; text-decoration-color: #008080; font-weight: bold\">9</span> │\n",
       "└──────────────────────┴──────────┴───────────────────┘\n",
       "</pre>\n"
      ],
      "text/plain": [
       "┏━━━━━━━━━━━━━━━━━━━━━━┳━━━━━━━━━━┳━━━━━━━━━━━━━━━━━━━┓\n",
       "┃\u001b[1m \u001b[0m\u001b[1mnom\u001b[0m\u001b[1m                 \u001b[0m\u001b[1m \u001b[0m┃\u001b[1m \u001b[0m\u001b[1mdistance\u001b[0m\u001b[1m \u001b[0m┃\u001b[1m \u001b[0m\u001b[1mvelos_disponibles\u001b[0m\u001b[1m \u001b[0m┃\n",
       "┡━━━━━━━━━━━━━━━━━━━━━━╇━━━━━━━━━━╇━━━━━━━━━━━━━━━━━━━┩\n",
       "│ \u001b[2mstring\u001b[0m               │ \u001b[2mfloat64\u001b[0m  │ \u001b[2mint64\u001b[0m             │\n",
       "├──────────────────────┼──────────┼───────────────────┤\n",
       "│ \u001b[32mBerger              \u001b[0m │ \u001b[1;36m0.002746\u001b[0m │                \u001b[1;36m10\u001b[0m │\n",
       "│ \u001b[32mVillejean-Université\u001b[0m │ \u001b[1;36m0.003401\u001b[0m │                \u001b[1;36m11\u001b[0m │\n",
       "│ \u001b[32mMarbeuf             \u001b[0m │ \u001b[1;36m0.006216\u001b[0m │                 \u001b[1;36m9\u001b[0m │\n",
       "└──────────────────────┴──────────┴───────────────────┘"
      ]
     },
     "execution_count": 15,
     "metadata": {},
     "output_type": "execute_result"
    }
   ],
   "source": [
    "# Question 6\n",
    "(\n",
    "    etat_table\n",
    "    .mutate(\n",
    "        d_lat = 48.1179151 - etat_table.latitude,\n",
    "        d_lon = -1.7028661 - etat_table.longitude\n",
    "    )\n",
    "    .mutate(\n",
    "        # Utilisation de _\n",
    "        distance = (_.d_lat * _.d_lat + _.d_lon * _.d_lon)**0.5\n",
    "    )\n",
    "    .order_by(\"distance\")\n",
    "    .limit(3)\n",
    "    .select(\"nom\", \"distance\", \"velos_disponibles\")\n",
    ")"
   ]
  },
  {
   "cell_type": "markdown",
   "metadata": {},
   "source": [
    "8. (*Bonus*) Écrire des requêtes SQL pour obtenir les résultats demandés dans les questions 3 à 6. La fonction `to_sql` pourra être utilisée pour de l'aide."
   ]
  },
  {
   "cell_type": "code",
   "execution_count": 16,
   "metadata": {},
   "outputs": [
    {
     "data": {
      "text/html": [
       "<div>\n",
       "<style scoped>\n",
       "    .dataframe tbody tr th:only-of-type {\n",
       "        vertical-align: middle;\n",
       "    }\n",
       "\n",
       "    .dataframe tbody tr th {\n",
       "        vertical-align: top;\n",
       "    }\n",
       "\n",
       "    .dataframe thead th {\n",
       "        text-align: right;\n",
       "    }\n",
       "</style>\n",
       "<table border=\"1\" class=\"dataframe\">\n",
       "  <thead>\n",
       "    <tr style=\"text-align: right;\">\n",
       "      <th></th>\n",
       "      <th>id</th>\n",
       "      <th>nom</th>\n",
       "      <th>id_proche_1</th>\n",
       "    </tr>\n",
       "  </thead>\n",
       "  <tbody>\n",
       "    <tr>\n",
       "      <th>0</th>\n",
       "      <td>1</td>\n",
       "      <td>République</td>\n",
       "      <td>2</td>\n",
       "    </tr>\n",
       "    <tr>\n",
       "      <th>1</th>\n",
       "      <td>2</td>\n",
       "      <td>Mairie</td>\n",
       "      <td>1</td>\n",
       "    </tr>\n",
       "    <tr>\n",
       "      <th>2</th>\n",
       "      <td>3</td>\n",
       "      <td>Champ Jacquet</td>\n",
       "      <td>2</td>\n",
       "    </tr>\n",
       "    <tr>\n",
       "      <th>3</th>\n",
       "      <td>10</td>\n",
       "      <td>Musée Beaux-Arts</td>\n",
       "      <td>12</td>\n",
       "    </tr>\n",
       "    <tr>\n",
       "      <th>4</th>\n",
       "      <td>12</td>\n",
       "      <td>TNB</td>\n",
       "      <td>10</td>\n",
       "    </tr>\n",
       "    <tr>\n",
       "      <th>...</th>\n",
       "      <td>...</td>\n",
       "      <td>...</td>\n",
       "      <td>...</td>\n",
       "    </tr>\n",
       "    <tr>\n",
       "      <th>78</th>\n",
       "      <td>62</td>\n",
       "      <td>Clemenceau</td>\n",
       "      <td>63</td>\n",
       "    </tr>\n",
       "    <tr>\n",
       "      <th>79</th>\n",
       "      <td>66</td>\n",
       "      <td>Bréquigny Piscine</td>\n",
       "      <td>65</td>\n",
       "    </tr>\n",
       "    <tr>\n",
       "      <th>80</th>\n",
       "      <td>69</td>\n",
       "      <td>Champs Manceaux</td>\n",
       "      <td>66</td>\n",
       "    </tr>\n",
       "    <tr>\n",
       "      <th>81</th>\n",
       "      <td>85</td>\n",
       "      <td>La Courrouze</td>\n",
       "      <td>20</td>\n",
       "    </tr>\n",
       "    <tr>\n",
       "      <th>82</th>\n",
       "      <td>86</td>\n",
       "      <td>Armorique</td>\n",
       "      <td>78</td>\n",
       "    </tr>\n",
       "  </tbody>\n",
       "</table>\n",
       "<p>83 rows × 3 columns</p>\n",
       "</div>"
      ],
      "text/plain": [
       "    id                nom  id_proche_1\n",
       "0    1         République            2\n",
       "1    2             Mairie            1\n",
       "2    3      Champ Jacquet            2\n",
       "3   10   Musée Beaux-Arts           12\n",
       "4   12                TNB           10\n",
       "..  ..                ...          ...\n",
       "78  62         Clemenceau           63\n",
       "79  66  Bréquigny Piscine           65\n",
       "80  69    Champs Manceaux           66\n",
       "81  85       La Courrouze           20\n",
       "82  86          Armorique           78\n",
       "\n",
       "[83 rows x 3 columns]"
      ]
     },
     "execution_count": 16,
     "metadata": {},
     "output_type": "execute_result"
    }
   ],
   "source": [
    "# Question 3\n",
    "query = \"\"\"\n",
    "SELECT id, nom, id_proche_1\n",
    "FROM Topologie\n",
    "\"\"\"\n",
    "\n",
    "pd.read_sql(query, con)"
   ]
  },
  {
   "cell_type": "code",
   "execution_count": 17,
   "metadata": {},
   "outputs": [
    {
     "data": {
      "text/html": [
       "<div>\n",
       "<style scoped>\n",
       "    .dataframe tbody tr th:only-of-type {\n",
       "        vertical-align: middle;\n",
       "    }\n",
       "\n",
       "    .dataframe tbody tr th {\n",
       "        vertical-align: top;\n",
       "    }\n",
       "\n",
       "    .dataframe thead th {\n",
       "        text-align: right;\n",
       "    }\n",
       "</style>\n",
       "<table border=\"1\" class=\"dataframe\">\n",
       "  <thead>\n",
       "    <tr style=\"text-align: right;\">\n",
       "      <th></th>\n",
       "      <th>id</th>\n",
       "      <th>nom</th>\n",
       "      <th>nom_proche_1</th>\n",
       "    </tr>\n",
       "  </thead>\n",
       "  <tbody>\n",
       "    <tr>\n",
       "      <th>0</th>\n",
       "      <td>1</td>\n",
       "      <td>République</td>\n",
       "      <td>Mairie</td>\n",
       "    </tr>\n",
       "    <tr>\n",
       "      <th>1</th>\n",
       "      <td>2</td>\n",
       "      <td>Mairie</td>\n",
       "      <td>République</td>\n",
       "    </tr>\n",
       "    <tr>\n",
       "      <th>2</th>\n",
       "      <td>3</td>\n",
       "      <td>Champ Jacquet</td>\n",
       "      <td>Mairie</td>\n",
       "    </tr>\n",
       "    <tr>\n",
       "      <th>3</th>\n",
       "      <td>10</td>\n",
       "      <td>Musée Beaux-Arts</td>\n",
       "      <td>TNB</td>\n",
       "    </tr>\n",
       "    <tr>\n",
       "      <th>4</th>\n",
       "      <td>12</td>\n",
       "      <td>TNB</td>\n",
       "      <td>Musée Beaux-Arts</td>\n",
       "    </tr>\n",
       "    <tr>\n",
       "      <th>...</th>\n",
       "      <td>...</td>\n",
       "      <td>...</td>\n",
       "      <td>...</td>\n",
       "    </tr>\n",
       "    <tr>\n",
       "      <th>78</th>\n",
       "      <td>62</td>\n",
       "      <td>Clemenceau</td>\n",
       "      <td>Henri Fréville</td>\n",
       "    </tr>\n",
       "    <tr>\n",
       "      <th>79</th>\n",
       "      <td>66</td>\n",
       "      <td>Bréquigny Piscine</td>\n",
       "      <td>None</td>\n",
       "    </tr>\n",
       "    <tr>\n",
       "      <th>80</th>\n",
       "      <td>69</td>\n",
       "      <td>Champs Manceaux</td>\n",
       "      <td>Bréquigny Piscine</td>\n",
       "    </tr>\n",
       "    <tr>\n",
       "      <th>81</th>\n",
       "      <td>85</td>\n",
       "      <td>La Courrouze</td>\n",
       "      <td>Pont de Nantes</td>\n",
       "    </tr>\n",
       "    <tr>\n",
       "      <th>82</th>\n",
       "      <td>86</td>\n",
       "      <td>Armorique</td>\n",
       "      <td>Gros-Chêne</td>\n",
       "    </tr>\n",
       "  </tbody>\n",
       "</table>\n",
       "<p>83 rows × 3 columns</p>\n",
       "</div>"
      ],
      "text/plain": [
       "    id                nom       nom_proche_1\n",
       "0    1         République             Mairie\n",
       "1    2             Mairie         République\n",
       "2    3      Champ Jacquet             Mairie\n",
       "3   10   Musée Beaux-Arts                TNB\n",
       "4   12                TNB   Musée Beaux-Arts\n",
       "..  ..                ...                ...\n",
       "78  62         Clemenceau     Henri Fréville\n",
       "79  66  Bréquigny Piscine               None\n",
       "80  69    Champs Manceaux  Bréquigny Piscine\n",
       "81  85       La Courrouze     Pont de Nantes\n",
       "82  86          Armorique         Gros-Chêne\n",
       "\n",
       "[83 rows x 3 columns]"
      ]
     },
     "execution_count": 17,
     "metadata": {},
     "output_type": "execute_result"
    }
   ],
   "source": [
    "# Question 4\n",
    "query = \"\"\"\n",
    "SELECT\n",
    "    Topologie.id,\n",
    "    Topologie.nom,\n",
    "    Etat.nom AS nom_proche_1\n",
    "FROM Topologie\n",
    "LEFT JOIN Etat ON Topologie.id_proche_1 = Etat.id\n",
    "\"\"\"\n",
    "\n",
    "pd.read_sql(query, con)"
   ]
  },
  {
   "cell_type": "code",
   "execution_count": 18,
   "metadata": {},
   "outputs": [
    {
     "ename": "DatabaseError",
     "evalue": "Execution failed on sql '\nSELECT\n    Topologie.id,\n    Topologie.nom,\n    Etat.nom AS nom_proche_1,\n    POWER(\n        POWER(\n            Etat.latitude - Topologie.latitude,\n            2\n        )\n        + POWER(\n            Etat.longitude - Topologie.longitude,\n            2\n        ),\n        0.5\n    ) AS distance\nFROM Topologie\nLEFT JOIN Etat ON Topologie.id_proche_1 = Etat.id\n': no such function: POWER",
     "output_type": "error",
     "traceback": [
      "\u001b[1;31m---------------------------------------------------------------------------\u001b[0m",
      "\u001b[1;31mOperationalError\u001b[0m                          Traceback (most recent call last)",
      "File \u001b[1;32mc:\\ProgramData\\anaconda3\\Lib\\site-packages\\pandas\\io\\sql.py:2018\u001b[0m, in \u001b[0;36mSQLiteDatabase.execute\u001b[1;34m(self, *args, **kwargs)\u001b[0m\n\u001b[0;32m   2017\u001b[0m \u001b[38;5;28;01mtry\u001b[39;00m:\n\u001b[1;32m-> 2018\u001b[0m     cur\u001b[38;5;241m.\u001b[39mexecute(\u001b[38;5;241m*\u001b[39margs, \u001b[38;5;241m*\u001b[39m\u001b[38;5;241m*\u001b[39mkwargs)\n\u001b[0;32m   2019\u001b[0m     \u001b[38;5;28;01mreturn\u001b[39;00m cur\n",
      "\u001b[1;31mOperationalError\u001b[0m: no such function: POWER",
      "\nThe above exception was the direct cause of the following exception:\n",
      "\u001b[1;31mDatabaseError\u001b[0m                             Traceback (most recent call last)",
      "Cell \u001b[1;32mIn[18], line 22\u001b[0m\n\u001b[0;32m      1\u001b[0m \u001b[38;5;66;03m# Question 5\u001b[39;00m\n\u001b[0;32m      2\u001b[0m query \u001b[38;5;241m=\u001b[39m \u001b[38;5;124m\"\"\"\u001b[39m\n\u001b[0;32m      3\u001b[0m \u001b[38;5;124mSELECT\u001b[39m\n\u001b[0;32m      4\u001b[0m \u001b[38;5;124m    Topologie.id,\u001b[39m\n\u001b[1;32m   (...)\u001b[0m\n\u001b[0;32m     19\u001b[0m \u001b[38;5;124mLEFT JOIN Etat ON Topologie.id_proche_1 = Etat.id\u001b[39m\n\u001b[0;32m     20\u001b[0m \u001b[38;5;124m\"\"\"\u001b[39m\n\u001b[1;32m---> 22\u001b[0m pd\u001b[38;5;241m.\u001b[39mread_sql(query, con)\n",
      "File \u001b[1;32mc:\\ProgramData\\anaconda3\\Lib\\site-packages\\pandas\\io\\sql.py:564\u001b[0m, in \u001b[0;36mread_sql\u001b[1;34m(sql, con, index_col, coerce_float, params, parse_dates, columns, chunksize)\u001b[0m\n\u001b[0;32m    561\u001b[0m pandas_sql \u001b[38;5;241m=\u001b[39m pandasSQL_builder(con)\n\u001b[0;32m    563\u001b[0m \u001b[38;5;28;01mif\u001b[39;00m \u001b[38;5;28misinstance\u001b[39m(pandas_sql, SQLiteDatabase):\n\u001b[1;32m--> 564\u001b[0m     \u001b[38;5;28;01mreturn\u001b[39;00m pandas_sql\u001b[38;5;241m.\u001b[39mread_query(\n\u001b[0;32m    565\u001b[0m         sql,\n\u001b[0;32m    566\u001b[0m         index_col\u001b[38;5;241m=\u001b[39mindex_col,\n\u001b[0;32m    567\u001b[0m         params\u001b[38;5;241m=\u001b[39mparams,\n\u001b[0;32m    568\u001b[0m         coerce_float\u001b[38;5;241m=\u001b[39mcoerce_float,\n\u001b[0;32m    569\u001b[0m         parse_dates\u001b[38;5;241m=\u001b[39mparse_dates,\n\u001b[0;32m    570\u001b[0m         chunksize\u001b[38;5;241m=\u001b[39mchunksize,\n\u001b[0;32m    571\u001b[0m     )\n\u001b[0;32m    573\u001b[0m \u001b[38;5;28;01mtry\u001b[39;00m:\n\u001b[0;32m    574\u001b[0m     _is_table_name \u001b[38;5;241m=\u001b[39m pandas_sql\u001b[38;5;241m.\u001b[39mhas_table(sql)\n",
      "File \u001b[1;32mc:\\ProgramData\\anaconda3\\Lib\\site-packages\\pandas\\io\\sql.py:2078\u001b[0m, in \u001b[0;36mSQLiteDatabase.read_query\u001b[1;34m(self, sql, index_col, coerce_float, params, parse_dates, chunksize, dtype)\u001b[0m\n\u001b[0;32m   2066\u001b[0m \u001b[38;5;28;01mdef\u001b[39;00m \u001b[38;5;21mread_query\u001b[39m(\n\u001b[0;32m   2067\u001b[0m     \u001b[38;5;28mself\u001b[39m,\n\u001b[0;32m   2068\u001b[0m     sql,\n\u001b[1;32m   (...)\u001b[0m\n\u001b[0;32m   2074\u001b[0m     dtype: DtypeArg \u001b[38;5;241m|\u001b[39m \u001b[38;5;28;01mNone\u001b[39;00m \u001b[38;5;241m=\u001b[39m \u001b[38;5;28;01mNone\u001b[39;00m,\n\u001b[0;32m   2075\u001b[0m ) \u001b[38;5;241m-\u001b[39m\u001b[38;5;241m>\u001b[39m DataFrame \u001b[38;5;241m|\u001b[39m Iterator[DataFrame]:\n\u001b[0;32m   2077\u001b[0m     args \u001b[38;5;241m=\u001b[39m _convert_params(sql, params)\n\u001b[1;32m-> 2078\u001b[0m     cursor \u001b[38;5;241m=\u001b[39m \u001b[38;5;28mself\u001b[39m\u001b[38;5;241m.\u001b[39mexecute(\u001b[38;5;241m*\u001b[39margs)\n\u001b[0;32m   2079\u001b[0m     columns \u001b[38;5;241m=\u001b[39m [col_desc[\u001b[38;5;241m0\u001b[39m] \u001b[38;5;28;01mfor\u001b[39;00m col_desc \u001b[38;5;129;01min\u001b[39;00m cursor\u001b[38;5;241m.\u001b[39mdescription]\n\u001b[0;32m   2081\u001b[0m     \u001b[38;5;28;01mif\u001b[39;00m chunksize \u001b[38;5;129;01mis\u001b[39;00m \u001b[38;5;129;01mnot\u001b[39;00m \u001b[38;5;28;01mNone\u001b[39;00m:\n",
      "File \u001b[1;32mc:\\ProgramData\\anaconda3\\Lib\\site-packages\\pandas\\io\\sql.py:2030\u001b[0m, in \u001b[0;36mSQLiteDatabase.execute\u001b[1;34m(self, *args, **kwargs)\u001b[0m\n\u001b[0;32m   2027\u001b[0m     \u001b[38;5;28;01mraise\u001b[39;00m ex \u001b[38;5;28;01mfrom\u001b[39;00m \u001b[38;5;21;01minner_exc\u001b[39;00m\n\u001b[0;32m   2029\u001b[0m ex \u001b[38;5;241m=\u001b[39m DatabaseError(\u001b[38;5;124mf\u001b[39m\u001b[38;5;124m\"\u001b[39m\u001b[38;5;124mExecution failed on sql \u001b[39m\u001b[38;5;124m'\u001b[39m\u001b[38;5;132;01m{\u001b[39;00margs[\u001b[38;5;241m0\u001b[39m]\u001b[38;5;132;01m}\u001b[39;00m\u001b[38;5;124m'\u001b[39m\u001b[38;5;124m: \u001b[39m\u001b[38;5;132;01m{\u001b[39;00mexc\u001b[38;5;132;01m}\u001b[39;00m\u001b[38;5;124m\"\u001b[39m)\n\u001b[1;32m-> 2030\u001b[0m \u001b[38;5;28;01mraise\u001b[39;00m ex \u001b[38;5;28;01mfrom\u001b[39;00m \u001b[38;5;21;01mexc\u001b[39;00m\n",
      "\u001b[1;31mDatabaseError\u001b[0m: Execution failed on sql '\nSELECT\n    Topologie.id,\n    Topologie.nom,\n    Etat.nom AS nom_proche_1,\n    POWER(\n        POWER(\n            Etat.latitude - Topologie.latitude,\n            2\n        )\n        + POWER(\n            Etat.longitude - Topologie.longitude,\n            2\n        ),\n        0.5\n    ) AS distance\nFROM Topologie\nLEFT JOIN Etat ON Topologie.id_proche_1 = Etat.id\n': no such function: POWER"
     ]
    }
   ],
   "source": [
    "# Question 5\n",
    "query = \"\"\"\n",
    "SELECT\n",
    "    Topologie.id,\n",
    "    Topologie.nom,\n",
    "    Etat.nom AS nom_proche_1,\n",
    "    POWER(\n",
    "        POWER(\n",
    "            Etat.latitude - Topologie.latitude,\n",
    "            2\n",
    "        )\n",
    "        + POWER(\n",
    "            Etat.longitude - Topologie.longitude,\n",
    "            2\n",
    "        ),\n",
    "        0.5\n",
    "    ) AS distance\n",
    "FROM Topologie\n",
    "LEFT JOIN Etat ON Topologie.id_proche_1 = Etat.id\n",
    "\"\"\"\n",
    "\n",
    "pd.read_sql(query, con)"
   ]
  },
  {
   "cell_type": "code",
   "execution_count": null,
   "metadata": {},
   "outputs": [
    {
     "ename": "DatabaseError",
     "evalue": "Execution failed on sql '\nSELECT\n    nom,\n    POWER(\n        POWER(\n            48.1179151 - Etat.latitude,\n            2\n        )\n        + POWER(\n            -1.7028661 - Etat.longitude,\n            2\n        ),\n        0.5\n    ) AS distance,\n    velos_disponibles\nFROM Etat\nORDER BY distance\nLIMIT 3\n': no such function: POWER",
     "output_type": "error",
     "traceback": [
      "\u001b[1;31m---------------------------------------------------------------------------\u001b[0m",
      "\u001b[1;31mOperationalError\u001b[0m                          Traceback (most recent call last)",
      "File \u001b[1;32mc:\\ProgramData\\anaconda3\\Lib\\site-packages\\pandas\\io\\sql.py:2018\u001b[0m, in \u001b[0;36mSQLiteDatabase.execute\u001b[1;34m(self, *args, **kwargs)\u001b[0m\n\u001b[0;32m   2017\u001b[0m \u001b[38;5;28;01mtry\u001b[39;00m:\n\u001b[1;32m-> 2018\u001b[0m     cur\u001b[38;5;241m.\u001b[39mexecute(\u001b[38;5;241m*\u001b[39margs, \u001b[38;5;241m*\u001b[39m\u001b[38;5;241m*\u001b[39mkwargs)\n\u001b[0;32m   2019\u001b[0m     \u001b[38;5;28;01mreturn\u001b[39;00m cur\n",
      "\u001b[1;31mOperationalError\u001b[0m: no such function: POWER",
      "\nThe above exception was the direct cause of the following exception:\n",
      "\u001b[1;31mDatabaseError\u001b[0m                             Traceback (most recent call last)",
      "Cell \u001b[1;32mIn[24], line 22\u001b[0m\n\u001b[0;32m      1\u001b[0m \u001b[38;5;66;03m# Question 6\u001b[39;00m\n\u001b[0;32m      2\u001b[0m query \u001b[38;5;241m=\u001b[39m \u001b[38;5;124m\"\"\"\u001b[39m\n\u001b[0;32m      3\u001b[0m \u001b[38;5;124mSELECT\u001b[39m\n\u001b[0;32m      4\u001b[0m \u001b[38;5;124m    nom,\u001b[39m\n\u001b[1;32m   (...)\u001b[0m\n\u001b[0;32m     19\u001b[0m \u001b[38;5;124mLIMIT 3\u001b[39m\n\u001b[0;32m     20\u001b[0m \u001b[38;5;124m\"\"\"\u001b[39m\n\u001b[1;32m---> 22\u001b[0m pd\u001b[38;5;241m.\u001b[39mread_sql(query, con)\n",
      "File \u001b[1;32mc:\\ProgramData\\anaconda3\\Lib\\site-packages\\pandas\\io\\sql.py:564\u001b[0m, in \u001b[0;36mread_sql\u001b[1;34m(sql, con, index_col, coerce_float, params, parse_dates, columns, chunksize)\u001b[0m\n\u001b[0;32m    561\u001b[0m pandas_sql \u001b[38;5;241m=\u001b[39m pandasSQL_builder(con)\n\u001b[0;32m    563\u001b[0m \u001b[38;5;28;01mif\u001b[39;00m \u001b[38;5;28misinstance\u001b[39m(pandas_sql, SQLiteDatabase):\n\u001b[1;32m--> 564\u001b[0m     \u001b[38;5;28;01mreturn\u001b[39;00m pandas_sql\u001b[38;5;241m.\u001b[39mread_query(\n\u001b[0;32m    565\u001b[0m         sql,\n\u001b[0;32m    566\u001b[0m         index_col\u001b[38;5;241m=\u001b[39mindex_col,\n\u001b[0;32m    567\u001b[0m         params\u001b[38;5;241m=\u001b[39mparams,\n\u001b[0;32m    568\u001b[0m         coerce_float\u001b[38;5;241m=\u001b[39mcoerce_float,\n\u001b[0;32m    569\u001b[0m         parse_dates\u001b[38;5;241m=\u001b[39mparse_dates,\n\u001b[0;32m    570\u001b[0m         chunksize\u001b[38;5;241m=\u001b[39mchunksize,\n\u001b[0;32m    571\u001b[0m     )\n\u001b[0;32m    573\u001b[0m \u001b[38;5;28;01mtry\u001b[39;00m:\n\u001b[0;32m    574\u001b[0m     _is_table_name \u001b[38;5;241m=\u001b[39m pandas_sql\u001b[38;5;241m.\u001b[39mhas_table(sql)\n",
      "File \u001b[1;32mc:\\ProgramData\\anaconda3\\Lib\\site-packages\\pandas\\io\\sql.py:2078\u001b[0m, in \u001b[0;36mSQLiteDatabase.read_query\u001b[1;34m(self, sql, index_col, coerce_float, params, parse_dates, chunksize, dtype)\u001b[0m\n\u001b[0;32m   2066\u001b[0m \u001b[38;5;28;01mdef\u001b[39;00m \u001b[38;5;21mread_query\u001b[39m(\n\u001b[0;32m   2067\u001b[0m     \u001b[38;5;28mself\u001b[39m,\n\u001b[0;32m   2068\u001b[0m     sql,\n\u001b[1;32m   (...)\u001b[0m\n\u001b[0;32m   2074\u001b[0m     dtype: DtypeArg \u001b[38;5;241m|\u001b[39m \u001b[38;5;28;01mNone\u001b[39;00m \u001b[38;5;241m=\u001b[39m \u001b[38;5;28;01mNone\u001b[39;00m,\n\u001b[0;32m   2075\u001b[0m ) \u001b[38;5;241m-\u001b[39m\u001b[38;5;241m>\u001b[39m DataFrame \u001b[38;5;241m|\u001b[39m Iterator[DataFrame]:\n\u001b[0;32m   2077\u001b[0m     args \u001b[38;5;241m=\u001b[39m _convert_params(sql, params)\n\u001b[1;32m-> 2078\u001b[0m     cursor \u001b[38;5;241m=\u001b[39m \u001b[38;5;28mself\u001b[39m\u001b[38;5;241m.\u001b[39mexecute(\u001b[38;5;241m*\u001b[39margs)\n\u001b[0;32m   2079\u001b[0m     columns \u001b[38;5;241m=\u001b[39m [col_desc[\u001b[38;5;241m0\u001b[39m] \u001b[38;5;28;01mfor\u001b[39;00m col_desc \u001b[38;5;129;01min\u001b[39;00m cursor\u001b[38;5;241m.\u001b[39mdescription]\n\u001b[0;32m   2081\u001b[0m     \u001b[38;5;28;01mif\u001b[39;00m chunksize \u001b[38;5;129;01mis\u001b[39;00m \u001b[38;5;129;01mnot\u001b[39;00m \u001b[38;5;28;01mNone\u001b[39;00m:\n",
      "File \u001b[1;32mc:\\ProgramData\\anaconda3\\Lib\\site-packages\\pandas\\io\\sql.py:2030\u001b[0m, in \u001b[0;36mSQLiteDatabase.execute\u001b[1;34m(self, *args, **kwargs)\u001b[0m\n\u001b[0;32m   2027\u001b[0m     \u001b[38;5;28;01mraise\u001b[39;00m ex \u001b[38;5;28;01mfrom\u001b[39;00m \u001b[38;5;21;01minner_exc\u001b[39;00m\n\u001b[0;32m   2029\u001b[0m ex \u001b[38;5;241m=\u001b[39m DatabaseError(\u001b[38;5;124mf\u001b[39m\u001b[38;5;124m\"\u001b[39m\u001b[38;5;124mExecution failed on sql \u001b[39m\u001b[38;5;124m'\u001b[39m\u001b[38;5;132;01m{\u001b[39;00margs[\u001b[38;5;241m0\u001b[39m]\u001b[38;5;132;01m}\u001b[39;00m\u001b[38;5;124m'\u001b[39m\u001b[38;5;124m: \u001b[39m\u001b[38;5;132;01m{\u001b[39;00mexc\u001b[38;5;132;01m}\u001b[39;00m\u001b[38;5;124m\"\u001b[39m)\n\u001b[1;32m-> 2030\u001b[0m \u001b[38;5;28;01mraise\u001b[39;00m ex \u001b[38;5;28;01mfrom\u001b[39;00m \u001b[38;5;21;01mexc\u001b[39;00m\n",
      "\u001b[1;31mDatabaseError\u001b[0m: Execution failed on sql '\nSELECT\n    nom,\n    POWER(\n        POWER(\n            48.1179151 - Etat.latitude,\n            2\n        )\n        + POWER(\n            -1.7028661 - Etat.longitude,\n            2\n        ),\n        0.5\n    ) AS distance,\n    velos_disponibles\nFROM Etat\nORDER BY distance\nLIMIT 3\n': no such function: POWER"
     ]
    }
   ],
   "source": [
    "# Question 6\n",
    "query = \"\"\"\n",
    "SELECT\n",
    "    nom,\n",
    "    POWER(\n",
    "        POWER(\n",
    "            48.1179151 - Etat.latitude,\n",
    "            2\n",
    "        )\n",
    "        + POWER(\n",
    "            -1.7028661 - Etat.longitude,\n",
    "            2\n",
    "        ),\n",
    "        0.5\n",
    "    ) AS distance,\n",
    "    velos_disponibles\n",
    "FROM Etat\n",
    "ORDER BY distance\n",
    "LIMIT 3\n",
    "\"\"\"\n",
    "\n",
    "pd.read_sql(query, con)"
   ]
  },
  {
   "cell_type": "markdown",
   "metadata": {},
   "source": [
    "## Musique"
   ]
  },
  {
   "cell_type": "markdown",
   "metadata": {},
   "source": [
    "Le dépôt GitHub [lerocha/chinook-database](https://github.com/lerocha/chinook-database) met à disposition des bases de données de bibliothèques musicales. Une copie de la base SQLite est disponible dans le fichier `chinook.db`."
   ]
  },
  {
   "cell_type": "markdown",
   "metadata": {},
   "source": [
    "1. Utiliser le module `ibis` pour vous connecter à la base de données et explorer les tables formant le jeu de données pour le découvrir. En particulier, remarquer comment les tables `Playlist`, `PlaylistTrack` et `Track` sont liées entre elles."
   ]
  },
  {
   "cell_type": "code",
   "execution_count": 21,
   "metadata": {},
   "outputs": [
    {
     "data": {
      "text/plain": [
       "Tables\n",
       "------\n",
       "- Album\n",
       "- Artist\n",
       "- Customer\n",
       "- Employee\n",
       "- Genre\n",
       "- Invoice\n",
       "- InvoiceLine\n",
       "- MediaType\n",
       "- Playlist\n",
       "- PlaylistTrack\n",
       "- Track"
      ]
     },
     "execution_count": 21,
     "metadata": {},
     "output_type": "execute_result"
    }
   ],
   "source": [
    "con_chinook = ibis.sqlite.connect(\"data/chinook.db\")\n",
    "con_chinook.tables"
   ]
  },
  {
   "cell_type": "code",
   "execution_count": 22,
   "metadata": {},
   "outputs": [
    {
     "data": {
      "text/html": [
       "<pre style=\"white-space:pre;overflow-x:auto;line-height:normal;font-family:Menlo,'DejaVu Sans Mono',consolas,'Courier New',monospace\">┏━━━━━━━━━━━━┳━━━━━━━━━━━━━━┓\n",
       "┃<span style=\"font-weight: bold\"> PlaylistId </span>┃<span style=\"font-weight: bold\"> Name         </span>┃\n",
       "┡━━━━━━━━━━━━╇━━━━━━━━━━━━━━┩\n",
       "│ <span style=\"color: #7f7f7f; text-decoration-color: #7f7f7f\">!int64</span>     │ <span style=\"color: #7f7f7f; text-decoration-color: #7f7f7f\">string(120)</span>  │\n",
       "├────────────┼──────────────┤\n",
       "│          <span style=\"color: #008080; text-decoration-color: #008080; font-weight: bold\">1</span> │ <span style=\"color: #008000; text-decoration-color: #008000\">Music       </span> │\n",
       "│          <span style=\"color: #008080; text-decoration-color: #008080; font-weight: bold\">2</span> │ <span style=\"color: #008000; text-decoration-color: #008000\">Movies      </span> │\n",
       "│          <span style=\"color: #008080; text-decoration-color: #008080; font-weight: bold\">3</span> │ <span style=\"color: #008000; text-decoration-color: #008000\">TV Shows    </span> │\n",
       "│          <span style=\"color: #008080; text-decoration-color: #008080; font-weight: bold\">4</span> │ <span style=\"color: #008000; text-decoration-color: #008000\">Audiobooks  </span> │\n",
       "│          <span style=\"color: #008080; text-decoration-color: #008080; font-weight: bold\">5</span> │ <span style=\"color: #008000; text-decoration-color: #008000\">90’s Music  </span> │\n",
       "│          <span style=\"color: #008080; text-decoration-color: #008080; font-weight: bold\">6</span> │ <span style=\"color: #008000; text-decoration-color: #008000\">Audiobooks  </span> │\n",
       "│          <span style=\"color: #008080; text-decoration-color: #008080; font-weight: bold\">7</span> │ <span style=\"color: #008000; text-decoration-color: #008000\">Movies      </span> │\n",
       "│          <span style=\"color: #008080; text-decoration-color: #008080; font-weight: bold\">8</span> │ <span style=\"color: #008000; text-decoration-color: #008000\">Music       </span> │\n",
       "│          <span style=\"color: #008080; text-decoration-color: #008080; font-weight: bold\">9</span> │ <span style=\"color: #008000; text-decoration-color: #008000\">Music Videos</span> │\n",
       "│         <span style=\"color: #008080; text-decoration-color: #008080; font-weight: bold\">10</span> │ <span style=\"color: #008000; text-decoration-color: #008000\">TV Shows    </span> │\n",
       "│          <span style=\"color: #7f7f7f; text-decoration-color: #7f7f7f\">…</span> │ <span style=\"color: #7f7f7f; text-decoration-color: #7f7f7f\">…</span>            │\n",
       "└────────────┴──────────────┘\n",
       "</pre>\n"
      ],
      "text/plain": [
       "┏━━━━━━━━━━━━┳━━━━━━━━━━━━━━┓\n",
       "┃\u001b[1m \u001b[0m\u001b[1mPlaylistId\u001b[0m\u001b[1m \u001b[0m┃\u001b[1m \u001b[0m\u001b[1mName\u001b[0m\u001b[1m        \u001b[0m\u001b[1m \u001b[0m┃\n",
       "┡━━━━━━━━━━━━╇━━━━━━━━━━━━━━┩\n",
       "│ \u001b[2m!int64\u001b[0m     │ \u001b[2mstring(120)\u001b[0m  │\n",
       "├────────────┼──────────────┤\n",
       "│          \u001b[1;36m1\u001b[0m │ \u001b[32mMusic       \u001b[0m │\n",
       "│          \u001b[1;36m2\u001b[0m │ \u001b[32mMovies      \u001b[0m │\n",
       "│          \u001b[1;36m3\u001b[0m │ \u001b[32mTV Shows    \u001b[0m │\n",
       "│          \u001b[1;36m4\u001b[0m │ \u001b[32mAudiobooks  \u001b[0m │\n",
       "│          \u001b[1;36m5\u001b[0m │ \u001b[32m90’s Music  \u001b[0m │\n",
       "│          \u001b[1;36m6\u001b[0m │ \u001b[32mAudiobooks  \u001b[0m │\n",
       "│          \u001b[1;36m7\u001b[0m │ \u001b[32mMovies      \u001b[0m │\n",
       "│          \u001b[1;36m8\u001b[0m │ \u001b[32mMusic       \u001b[0m │\n",
       "│          \u001b[1;36m9\u001b[0m │ \u001b[32mMusic Videos\u001b[0m │\n",
       "│         \u001b[1;36m10\u001b[0m │ \u001b[32mTV Shows    \u001b[0m │\n",
       "│          \u001b[2m…\u001b[0m │ \u001b[2m…\u001b[0m            │\n",
       "└────────────┴──────────────┘"
      ]
     },
     "execution_count": 22,
     "metadata": {},
     "output_type": "execute_result"
    }
   ],
   "source": [
    "# Les entrées de la table Playlist sont identifiées par l'identifiant PlaylistId\n",
    "playlist = con_chinook.table(\"Playlist\")\n",
    "playlist"
   ]
  },
  {
   "cell_type": "code",
   "execution_count": 23,
   "metadata": {},
   "outputs": [
    {
     "data": {
      "text/html": [
       "<pre style=\"white-space:pre;overflow-x:auto;line-height:normal;font-family:Menlo,'DejaVu Sans Mono',consolas,'Courier New',monospace\">┏━━━━━━━━━┳━━━━━━━━━━━━━━━━━━━━━━━━━━━━━━━━━━━━━━━━━┳━━━━━━━━━┳━━━━━━━━━━━━━┳━━━━━━━━━┳━━━━━━━━━━━━━━━━━━━━━━━━━━━━━━━━━━━━━━━━━━━━━━━━━━━━━━━━━━━━━━━━━━━━━━━━┳━━━━━━━━━━━━━━┳━━━━━━━━━━┳━━━━━━━━━━━━━━━━━┓\n",
       "┃<span style=\"font-weight: bold\"> TrackId </span>┃<span style=\"font-weight: bold\"> Name                                    </span>┃<span style=\"font-weight: bold\"> AlbumId </span>┃<span style=\"font-weight: bold\"> MediaTypeId </span>┃<span style=\"font-weight: bold\"> GenreId </span>┃<span style=\"font-weight: bold\"> Composer                                                               </span>┃<span style=\"font-weight: bold\"> Milliseconds </span>┃<span style=\"font-weight: bold\"> Bytes    </span>┃<span style=\"font-weight: bold\"> UnitPrice       </span>┃\n",
       "┡━━━━━━━━━╇━━━━━━━━━━━━━━━━━━━━━━━━━━━━━━━━━━━━━━━━━╇━━━━━━━━━╇━━━━━━━━━━━━━╇━━━━━━━━━╇━━━━━━━━━━━━━━━━━━━━━━━━━━━━━━━━━━━━━━━━━━━━━━━━━━━━━━━━━━━━━━━━━━━━━━━━╇━━━━━━━━━━━━━━╇━━━━━━━━━━╇━━━━━━━━━━━━━━━━━┩\n",
       "│ <span style=\"color: #7f7f7f; text-decoration-color: #7f7f7f\">!int64</span>  │ <span style=\"color: #7f7f7f; text-decoration-color: #7f7f7f\">!string(200)</span>                            │ <span style=\"color: #7f7f7f; text-decoration-color: #7f7f7f\">int64</span>   │ <span style=\"color: #7f7f7f; text-decoration-color: #7f7f7f\">!int64</span>      │ <span style=\"color: #7f7f7f; text-decoration-color: #7f7f7f\">int64</span>   │ <span style=\"color: #7f7f7f; text-decoration-color: #7f7f7f\">string(220)</span>                                                            │ <span style=\"color: #7f7f7f; text-decoration-color: #7f7f7f\">!int64</span>       │ <span style=\"color: #7f7f7f; text-decoration-color: #7f7f7f\">int64</span>    │ <span style=\"color: #7f7f7f; text-decoration-color: #7f7f7f\">!decimal(10, 2)</span> │\n",
       "├─────────┼─────────────────────────────────────────┼─────────┼─────────────┼─────────┼────────────────────────────────────────────────────────────────────────┼──────────────┼──────────┼─────────────────┤\n",
       "│       <span style=\"color: #008080; text-decoration-color: #008080; font-weight: bold\">1</span> │ <span style=\"color: #008000; text-decoration-color: #008000\">For Those About To Rock (We Salute You)</span> │       <span style=\"color: #008080; text-decoration-color: #008080; font-weight: bold\">1</span> │           <span style=\"color: #008080; text-decoration-color: #008080; font-weight: bold\">1</span> │       <span style=\"color: #008080; text-decoration-color: #008080; font-weight: bold\">1</span> │ <span style=\"color: #008000; text-decoration-color: #008000\">Angus Young, Malcolm Young, Brian Johnson                             </span> │       <span style=\"color: #008080; text-decoration-color: #008080; font-weight: bold\">343719</span> │ <span style=\"color: #008080; text-decoration-color: #008080; font-weight: bold\">11170334</span> │            <span style=\"color: #008080; text-decoration-color: #008080; font-weight: bold\">0.99</span> │\n",
       "│       <span style=\"color: #008080; text-decoration-color: #008080; font-weight: bold\">2</span> │ <span style=\"color: #008000; text-decoration-color: #008000\">Balls to the Wall                      </span> │       <span style=\"color: #008080; text-decoration-color: #008080; font-weight: bold\">2</span> │           <span style=\"color: #008080; text-decoration-color: #008080; font-weight: bold\">2</span> │       <span style=\"color: #008080; text-decoration-color: #008080; font-weight: bold\">1</span> │ <span style=\"color: #7f7f7f; text-decoration-color: #7f7f7f\">NULL</span>                                                                   │       <span style=\"color: #008080; text-decoration-color: #008080; font-weight: bold\">342562</span> │  <span style=\"color: #008080; text-decoration-color: #008080; font-weight: bold\">5510424</span> │            <span style=\"color: #008080; text-decoration-color: #008080; font-weight: bold\">0.99</span> │\n",
       "│       <span style=\"color: #008080; text-decoration-color: #008080; font-weight: bold\">3</span> │ <span style=\"color: #008000; text-decoration-color: #008000\">Fast As a Shark                        </span> │       <span style=\"color: #008080; text-decoration-color: #008080; font-weight: bold\">3</span> │           <span style=\"color: #008080; text-decoration-color: #008080; font-weight: bold\">2</span> │       <span style=\"color: #008080; text-decoration-color: #008080; font-weight: bold\">1</span> │ <span style=\"color: #008000; text-decoration-color: #008000\">F. Baltes, S. Kaufman, U. Dirkscneider &amp; W. Hoffman                   </span> │       <span style=\"color: #008080; text-decoration-color: #008080; font-weight: bold\">230619</span> │  <span style=\"color: #008080; text-decoration-color: #008080; font-weight: bold\">3990994</span> │            <span style=\"color: #008080; text-decoration-color: #008080; font-weight: bold\">0.99</span> │\n",
       "│       <span style=\"color: #008080; text-decoration-color: #008080; font-weight: bold\">4</span> │ <span style=\"color: #008000; text-decoration-color: #008000\">Restless and Wild                      </span> │       <span style=\"color: #008080; text-decoration-color: #008080; font-weight: bold\">3</span> │           <span style=\"color: #008080; text-decoration-color: #008080; font-weight: bold\">2</span> │       <span style=\"color: #008080; text-decoration-color: #008080; font-weight: bold\">1</span> │ <span style=\"color: #008000; text-decoration-color: #008000\">F. Baltes, R.A. Smith-Diesel, S. Kaufman, U. Dirkscneider &amp; W. Hoffman</span> │       <span style=\"color: #008080; text-decoration-color: #008080; font-weight: bold\">252051</span> │  <span style=\"color: #008080; text-decoration-color: #008080; font-weight: bold\">4331779</span> │            <span style=\"color: #008080; text-decoration-color: #008080; font-weight: bold\">0.99</span> │\n",
       "│       <span style=\"color: #008080; text-decoration-color: #008080; font-weight: bold\">5</span> │ <span style=\"color: #008000; text-decoration-color: #008000\">Princess of the Dawn                   </span> │       <span style=\"color: #008080; text-decoration-color: #008080; font-weight: bold\">3</span> │           <span style=\"color: #008080; text-decoration-color: #008080; font-weight: bold\">2</span> │       <span style=\"color: #008080; text-decoration-color: #008080; font-weight: bold\">1</span> │ <span style=\"color: #008000; text-decoration-color: #008000\">Deaffy &amp; R.A. Smith-Diesel                                            </span> │       <span style=\"color: #008080; text-decoration-color: #008080; font-weight: bold\">375418</span> │  <span style=\"color: #008080; text-decoration-color: #008080; font-weight: bold\">6290521</span> │            <span style=\"color: #008080; text-decoration-color: #008080; font-weight: bold\">0.99</span> │\n",
       "│       <span style=\"color: #008080; text-decoration-color: #008080; font-weight: bold\">6</span> │ <span style=\"color: #008000; text-decoration-color: #008000\">Put The Finger On You                  </span> │       <span style=\"color: #008080; text-decoration-color: #008080; font-weight: bold\">1</span> │           <span style=\"color: #008080; text-decoration-color: #008080; font-weight: bold\">1</span> │       <span style=\"color: #008080; text-decoration-color: #008080; font-weight: bold\">1</span> │ <span style=\"color: #008000; text-decoration-color: #008000\">Angus Young, Malcolm Young, Brian Johnson                             </span> │       <span style=\"color: #008080; text-decoration-color: #008080; font-weight: bold\">205662</span> │  <span style=\"color: #008080; text-decoration-color: #008080; font-weight: bold\">6713451</span> │            <span style=\"color: #008080; text-decoration-color: #008080; font-weight: bold\">0.99</span> │\n",
       "│       <span style=\"color: #008080; text-decoration-color: #008080; font-weight: bold\">7</span> │ <span style=\"color: #008000; text-decoration-color: #008000\">Let's Get It Up                        </span> │       <span style=\"color: #008080; text-decoration-color: #008080; font-weight: bold\">1</span> │           <span style=\"color: #008080; text-decoration-color: #008080; font-weight: bold\">1</span> │       <span style=\"color: #008080; text-decoration-color: #008080; font-weight: bold\">1</span> │ <span style=\"color: #008000; text-decoration-color: #008000\">Angus Young, Malcolm Young, Brian Johnson                             </span> │       <span style=\"color: #008080; text-decoration-color: #008080; font-weight: bold\">233926</span> │  <span style=\"color: #008080; text-decoration-color: #008080; font-weight: bold\">7636561</span> │            <span style=\"color: #008080; text-decoration-color: #008080; font-weight: bold\">0.99</span> │\n",
       "│       <span style=\"color: #008080; text-decoration-color: #008080; font-weight: bold\">8</span> │ <span style=\"color: #008000; text-decoration-color: #008000\">Inject The Venom                       </span> │       <span style=\"color: #008080; text-decoration-color: #008080; font-weight: bold\">1</span> │           <span style=\"color: #008080; text-decoration-color: #008080; font-weight: bold\">1</span> │       <span style=\"color: #008080; text-decoration-color: #008080; font-weight: bold\">1</span> │ <span style=\"color: #008000; text-decoration-color: #008000\">Angus Young, Malcolm Young, Brian Johnson                             </span> │       <span style=\"color: #008080; text-decoration-color: #008080; font-weight: bold\">210834</span> │  <span style=\"color: #008080; text-decoration-color: #008080; font-weight: bold\">6852860</span> │            <span style=\"color: #008080; text-decoration-color: #008080; font-weight: bold\">0.99</span> │\n",
       "│       <span style=\"color: #008080; text-decoration-color: #008080; font-weight: bold\">9</span> │ <span style=\"color: #008000; text-decoration-color: #008000\">Snowballed                             </span> │       <span style=\"color: #008080; text-decoration-color: #008080; font-weight: bold\">1</span> │           <span style=\"color: #008080; text-decoration-color: #008080; font-weight: bold\">1</span> │       <span style=\"color: #008080; text-decoration-color: #008080; font-weight: bold\">1</span> │ <span style=\"color: #008000; text-decoration-color: #008000\">Angus Young, Malcolm Young, Brian Johnson                             </span> │       <span style=\"color: #008080; text-decoration-color: #008080; font-weight: bold\">203102</span> │  <span style=\"color: #008080; text-decoration-color: #008080; font-weight: bold\">6599424</span> │            <span style=\"color: #008080; text-decoration-color: #008080; font-weight: bold\">0.99</span> │\n",
       "│      <span style=\"color: #008080; text-decoration-color: #008080; font-weight: bold\">10</span> │ <span style=\"color: #008000; text-decoration-color: #008000\">Evil Walks                             </span> │       <span style=\"color: #008080; text-decoration-color: #008080; font-weight: bold\">1</span> │           <span style=\"color: #008080; text-decoration-color: #008080; font-weight: bold\">1</span> │       <span style=\"color: #008080; text-decoration-color: #008080; font-weight: bold\">1</span> │ <span style=\"color: #008000; text-decoration-color: #008000\">Angus Young, Malcolm Young, Brian Johnson                             </span> │       <span style=\"color: #008080; text-decoration-color: #008080; font-weight: bold\">263497</span> │  <span style=\"color: #008080; text-decoration-color: #008080; font-weight: bold\">8611245</span> │            <span style=\"color: #008080; text-decoration-color: #008080; font-weight: bold\">0.99</span> │\n",
       "│       <span style=\"color: #7f7f7f; text-decoration-color: #7f7f7f\">…</span> │ <span style=\"color: #7f7f7f; text-decoration-color: #7f7f7f\">…</span>                                       │       <span style=\"color: #7f7f7f; text-decoration-color: #7f7f7f\">…</span> │           <span style=\"color: #7f7f7f; text-decoration-color: #7f7f7f\">…</span> │       <span style=\"color: #7f7f7f; text-decoration-color: #7f7f7f\">…</span> │ <span style=\"color: #7f7f7f; text-decoration-color: #7f7f7f\">…</span>                                                                      │            <span style=\"color: #7f7f7f; text-decoration-color: #7f7f7f\">…</span> │        <span style=\"color: #7f7f7f; text-decoration-color: #7f7f7f\">…</span> │               <span style=\"color: #7f7f7f; text-decoration-color: #7f7f7f\">…</span> │\n",
       "└─────────┴─────────────────────────────────────────┴─────────┴─────────────┴─────────┴────────────────────────────────────────────────────────────────────────┴──────────────┴──────────┴─────────────────┘\n",
       "</pre>\n"
      ],
      "text/plain": [
       "┏━━━━━━━━━┳━━━━━━━━━━━━━━━━━━━━━━━━━━━━━━━━━━━━━━━━━┳━━━━━━━━━┳━━━━━━━━━━━━━┳━━━━━━━━━┳━━━━━━━━━━━━━━━━━━━━━━━━━━━━━━━━━━━━━━━━━━━━━━━━━━━━━━━━━━━━━━━━━━━━━━━━┳━━━━━━━━━━━━━━┳━━━━━━━━━━┳━━━━━━━━━━━━━━━━━┓\n",
       "┃\u001b[1m \u001b[0m\u001b[1mTrackId\u001b[0m\u001b[1m \u001b[0m┃\u001b[1m \u001b[0m\u001b[1mName\u001b[0m\u001b[1m                                   \u001b[0m\u001b[1m \u001b[0m┃\u001b[1m \u001b[0m\u001b[1mAlbumId\u001b[0m\u001b[1m \u001b[0m┃\u001b[1m \u001b[0m\u001b[1mMediaTypeId\u001b[0m\u001b[1m \u001b[0m┃\u001b[1m \u001b[0m\u001b[1mGenreId\u001b[0m\u001b[1m \u001b[0m┃\u001b[1m \u001b[0m\u001b[1mComposer\u001b[0m\u001b[1m                                                              \u001b[0m\u001b[1m \u001b[0m┃\u001b[1m \u001b[0m\u001b[1mMilliseconds\u001b[0m\u001b[1m \u001b[0m┃\u001b[1m \u001b[0m\u001b[1mBytes\u001b[0m\u001b[1m   \u001b[0m\u001b[1m \u001b[0m┃\u001b[1m \u001b[0m\u001b[1mUnitPrice\u001b[0m\u001b[1m      \u001b[0m\u001b[1m \u001b[0m┃\n",
       "┡━━━━━━━━━╇━━━━━━━━━━━━━━━━━━━━━━━━━━━━━━━━━━━━━━━━━╇━━━━━━━━━╇━━━━━━━━━━━━━╇━━━━━━━━━╇━━━━━━━━━━━━━━━━━━━━━━━━━━━━━━━━━━━━━━━━━━━━━━━━━━━━━━━━━━━━━━━━━━━━━━━━╇━━━━━━━━━━━━━━╇━━━━━━━━━━╇━━━━━━━━━━━━━━━━━┩\n",
       "│ \u001b[2m!int64\u001b[0m  │ \u001b[2m!string(200)\u001b[0m                            │ \u001b[2mint64\u001b[0m   │ \u001b[2m!int64\u001b[0m      │ \u001b[2mint64\u001b[0m   │ \u001b[2mstring(220)\u001b[0m                                                            │ \u001b[2m!int64\u001b[0m       │ \u001b[2mint64\u001b[0m    │ \u001b[2m!decimal(10, 2)\u001b[0m │\n",
       "├─────────┼─────────────────────────────────────────┼─────────┼─────────────┼─────────┼────────────────────────────────────────────────────────────────────────┼──────────────┼──────────┼─────────────────┤\n",
       "│       \u001b[1;36m1\u001b[0m │ \u001b[32mFor Those About To Rock (We Salute You)\u001b[0m │       \u001b[1;36m1\u001b[0m │           \u001b[1;36m1\u001b[0m │       \u001b[1;36m1\u001b[0m │ \u001b[32mAngus Young, Malcolm Young, Brian Johnson                             \u001b[0m │       \u001b[1;36m343719\u001b[0m │ \u001b[1;36m11170334\u001b[0m │            \u001b[1;36m0.99\u001b[0m │\n",
       "│       \u001b[1;36m2\u001b[0m │ \u001b[32mBalls to the Wall                      \u001b[0m │       \u001b[1;36m2\u001b[0m │           \u001b[1;36m2\u001b[0m │       \u001b[1;36m1\u001b[0m │ \u001b[2mNULL\u001b[0m                                                                   │       \u001b[1;36m342562\u001b[0m │  \u001b[1;36m5510424\u001b[0m │            \u001b[1;36m0.99\u001b[0m │\n",
       "│       \u001b[1;36m3\u001b[0m │ \u001b[32mFast As a Shark                        \u001b[0m │       \u001b[1;36m3\u001b[0m │           \u001b[1;36m2\u001b[0m │       \u001b[1;36m1\u001b[0m │ \u001b[32mF. Baltes, S. Kaufman, U. Dirkscneider & W. Hoffman                   \u001b[0m │       \u001b[1;36m230619\u001b[0m │  \u001b[1;36m3990994\u001b[0m │            \u001b[1;36m0.99\u001b[0m │\n",
       "│       \u001b[1;36m4\u001b[0m │ \u001b[32mRestless and Wild                      \u001b[0m │       \u001b[1;36m3\u001b[0m │           \u001b[1;36m2\u001b[0m │       \u001b[1;36m1\u001b[0m │ \u001b[32mF. Baltes, R.A. Smith-Diesel, S. Kaufman, U. Dirkscneider & W. Hoffman\u001b[0m │       \u001b[1;36m252051\u001b[0m │  \u001b[1;36m4331779\u001b[0m │            \u001b[1;36m0.99\u001b[0m │\n",
       "│       \u001b[1;36m5\u001b[0m │ \u001b[32mPrincess of the Dawn                   \u001b[0m │       \u001b[1;36m3\u001b[0m │           \u001b[1;36m2\u001b[0m │       \u001b[1;36m1\u001b[0m │ \u001b[32mDeaffy & R.A. Smith-Diesel                                            \u001b[0m │       \u001b[1;36m375418\u001b[0m │  \u001b[1;36m6290521\u001b[0m │            \u001b[1;36m0.99\u001b[0m │\n",
       "│       \u001b[1;36m6\u001b[0m │ \u001b[32mPut The Finger On You                  \u001b[0m │       \u001b[1;36m1\u001b[0m │           \u001b[1;36m1\u001b[0m │       \u001b[1;36m1\u001b[0m │ \u001b[32mAngus Young, Malcolm Young, Brian Johnson                             \u001b[0m │       \u001b[1;36m205662\u001b[0m │  \u001b[1;36m6713451\u001b[0m │            \u001b[1;36m0.99\u001b[0m │\n",
       "│       \u001b[1;36m7\u001b[0m │ \u001b[32mLet's Get It Up                        \u001b[0m │       \u001b[1;36m1\u001b[0m │           \u001b[1;36m1\u001b[0m │       \u001b[1;36m1\u001b[0m │ \u001b[32mAngus Young, Malcolm Young, Brian Johnson                             \u001b[0m │       \u001b[1;36m233926\u001b[0m │  \u001b[1;36m7636561\u001b[0m │            \u001b[1;36m0.99\u001b[0m │\n",
       "│       \u001b[1;36m8\u001b[0m │ \u001b[32mInject The Venom                       \u001b[0m │       \u001b[1;36m1\u001b[0m │           \u001b[1;36m1\u001b[0m │       \u001b[1;36m1\u001b[0m │ \u001b[32mAngus Young, Malcolm Young, Brian Johnson                             \u001b[0m │       \u001b[1;36m210834\u001b[0m │  \u001b[1;36m6852860\u001b[0m │            \u001b[1;36m0.99\u001b[0m │\n",
       "│       \u001b[1;36m9\u001b[0m │ \u001b[32mSnowballed                             \u001b[0m │       \u001b[1;36m1\u001b[0m │           \u001b[1;36m1\u001b[0m │       \u001b[1;36m1\u001b[0m │ \u001b[32mAngus Young, Malcolm Young, Brian Johnson                             \u001b[0m │       \u001b[1;36m203102\u001b[0m │  \u001b[1;36m6599424\u001b[0m │            \u001b[1;36m0.99\u001b[0m │\n",
       "│      \u001b[1;36m10\u001b[0m │ \u001b[32mEvil Walks                             \u001b[0m │       \u001b[1;36m1\u001b[0m │           \u001b[1;36m1\u001b[0m │       \u001b[1;36m1\u001b[0m │ \u001b[32mAngus Young, Malcolm Young, Brian Johnson                             \u001b[0m │       \u001b[1;36m263497\u001b[0m │  \u001b[1;36m8611245\u001b[0m │            \u001b[1;36m0.99\u001b[0m │\n",
       "│       \u001b[2m…\u001b[0m │ \u001b[2m…\u001b[0m                                       │       \u001b[2m…\u001b[0m │           \u001b[2m…\u001b[0m │       \u001b[2m…\u001b[0m │ \u001b[2m…\u001b[0m                                                                      │            \u001b[2m…\u001b[0m │        \u001b[2m…\u001b[0m │               \u001b[2m…\u001b[0m │\n",
       "└─────────┴─────────────────────────────────────────┴─────────┴─────────────┴─────────┴────────────────────────────────────────────────────────────────────────┴──────────────┴──────────┴─────────────────┘"
      ]
     },
     "execution_count": 23,
     "metadata": {},
     "output_type": "execute_result"
    }
   ],
   "source": [
    "# Les entrées de la table Track sont identifiées par l'identifiant TrackId\n",
    "track = con_chinook.table(\"Track\")\n",
    "track"
   ]
  },
  {
   "cell_type": "code",
   "execution_count": 24,
   "metadata": {},
   "outputs": [
    {
     "data": {
      "text/html": [
       "<pre style=\"white-space:pre;overflow-x:auto;line-height:normal;font-family:Menlo,'DejaVu Sans Mono',consolas,'Courier New',monospace\">┏━━━━━━━━━━━━┳━━━━━━━━━┓\n",
       "┃<span style=\"font-weight: bold\"> PlaylistId </span>┃<span style=\"font-weight: bold\"> TrackId </span>┃\n",
       "┡━━━━━━━━━━━━╇━━━━━━━━━┩\n",
       "│ <span style=\"color: #7f7f7f; text-decoration-color: #7f7f7f\">!int64</span>     │ <span style=\"color: #7f7f7f; text-decoration-color: #7f7f7f\">!int64</span>  │\n",
       "├────────────┼─────────┤\n",
       "│          <span style=\"color: #008080; text-decoration-color: #008080; font-weight: bold\">1</span> │    <span style=\"color: #008080; text-decoration-color: #008080; font-weight: bold\">3402</span> │\n",
       "│          <span style=\"color: #008080; text-decoration-color: #008080; font-weight: bold\">1</span> │    <span style=\"color: #008080; text-decoration-color: #008080; font-weight: bold\">3389</span> │\n",
       "│          <span style=\"color: #008080; text-decoration-color: #008080; font-weight: bold\">1</span> │    <span style=\"color: #008080; text-decoration-color: #008080; font-weight: bold\">3390</span> │\n",
       "│          <span style=\"color: #008080; text-decoration-color: #008080; font-weight: bold\">1</span> │    <span style=\"color: #008080; text-decoration-color: #008080; font-weight: bold\">3391</span> │\n",
       "│          <span style=\"color: #008080; text-decoration-color: #008080; font-weight: bold\">1</span> │    <span style=\"color: #008080; text-decoration-color: #008080; font-weight: bold\">3392</span> │\n",
       "│          <span style=\"color: #008080; text-decoration-color: #008080; font-weight: bold\">1</span> │    <span style=\"color: #008080; text-decoration-color: #008080; font-weight: bold\">3393</span> │\n",
       "│          <span style=\"color: #008080; text-decoration-color: #008080; font-weight: bold\">1</span> │    <span style=\"color: #008080; text-decoration-color: #008080; font-weight: bold\">3394</span> │\n",
       "│          <span style=\"color: #008080; text-decoration-color: #008080; font-weight: bold\">1</span> │    <span style=\"color: #008080; text-decoration-color: #008080; font-weight: bold\">3395</span> │\n",
       "│          <span style=\"color: #008080; text-decoration-color: #008080; font-weight: bold\">1</span> │    <span style=\"color: #008080; text-decoration-color: #008080; font-weight: bold\">3396</span> │\n",
       "│          <span style=\"color: #008080; text-decoration-color: #008080; font-weight: bold\">1</span> │    <span style=\"color: #008080; text-decoration-color: #008080; font-weight: bold\">3397</span> │\n",
       "│          <span style=\"color: #7f7f7f; text-decoration-color: #7f7f7f\">…</span> │       <span style=\"color: #7f7f7f; text-decoration-color: #7f7f7f\">…</span> │\n",
       "└────────────┴─────────┘\n",
       "</pre>\n"
      ],
      "text/plain": [
       "┏━━━━━━━━━━━━┳━━━━━━━━━┓\n",
       "┃\u001b[1m \u001b[0m\u001b[1mPlaylistId\u001b[0m\u001b[1m \u001b[0m┃\u001b[1m \u001b[0m\u001b[1mTrackId\u001b[0m\u001b[1m \u001b[0m┃\n",
       "┡━━━━━━━━━━━━╇━━━━━━━━━┩\n",
       "│ \u001b[2m!int64\u001b[0m     │ \u001b[2m!int64\u001b[0m  │\n",
       "├────────────┼─────────┤\n",
       "│          \u001b[1;36m1\u001b[0m │    \u001b[1;36m3402\u001b[0m │\n",
       "│          \u001b[1;36m1\u001b[0m │    \u001b[1;36m3389\u001b[0m │\n",
       "│          \u001b[1;36m1\u001b[0m │    \u001b[1;36m3390\u001b[0m │\n",
       "│          \u001b[1;36m1\u001b[0m │    \u001b[1;36m3391\u001b[0m │\n",
       "│          \u001b[1;36m1\u001b[0m │    \u001b[1;36m3392\u001b[0m │\n",
       "│          \u001b[1;36m1\u001b[0m │    \u001b[1;36m3393\u001b[0m │\n",
       "│          \u001b[1;36m1\u001b[0m │    \u001b[1;36m3394\u001b[0m │\n",
       "│          \u001b[1;36m1\u001b[0m │    \u001b[1;36m3395\u001b[0m │\n",
       "│          \u001b[1;36m1\u001b[0m │    \u001b[1;36m3396\u001b[0m │\n",
       "│          \u001b[1;36m1\u001b[0m │    \u001b[1;36m3397\u001b[0m │\n",
       "│          \u001b[2m…\u001b[0m │       \u001b[2m…\u001b[0m │\n",
       "└────────────┴─────────┘"
      ]
     },
     "execution_count": 24,
     "metadata": {},
     "output_type": "execute_result"
    }
   ],
   "source": [
    "# La table PlaylistTrack fait le lien entre Playlist et Track grâce aux identifiants PlaylistId et TrackId.\n",
    "# Pour chaque PlaylistId, les pistes sont données par les TrackId associés dans la table PlaylistTrack.\n",
    "# Il s'agit d'une organisation classique des bases de données relationnelles.\n",
    "playlist_track = con_chinook.table(\"PlaylistTrack\")\n",
    "playlist_track"
   ]
  },
  {
   "cell_type": "markdown",
   "metadata": {},
   "source": [
    "2. Quelles sont les playlists qui contiennent le plus de pistes ?"
   ]
  },
  {
   "cell_type": "code",
   "execution_count": 25,
   "metadata": {},
   "outputs": [
    {
     "data": {
      "text/html": [
       "<pre style=\"white-space:pre;overflow-x:auto;line-height:normal;font-family:Menlo,'DejaVu Sans Mono',consolas,'Courier New',monospace\">┏━━━━━━━━━━━━┳━━━━━━━━━━━━━━━━━━━━━━━━━━━━┳━━━━━━━━━┓\n",
       "┃<span style=\"font-weight: bold\"> PlaylistId </span>┃<span style=\"font-weight: bold\"> Name                       </span>┃<span style=\"font-weight: bold\"> n_track </span>┃\n",
       "┡━━━━━━━━━━━━╇━━━━━━━━━━━━━━━━━━━━━━━━━━━━╇━━━━━━━━━┩\n",
       "│ <span style=\"color: #7f7f7f; text-decoration-color: #7f7f7f\">int64</span>      │ <span style=\"color: #7f7f7f; text-decoration-color: #7f7f7f\">string(120)</span>                │ <span style=\"color: #7f7f7f; text-decoration-color: #7f7f7f\">int64</span>   │\n",
       "├────────────┼────────────────────────────┼─────────┤\n",
       "│          <span style=\"color: #008080; text-decoration-color: #008080; font-weight: bold\">1</span> │ <span style=\"color: #008000; text-decoration-color: #008000\">Music                     </span> │    <span style=\"color: #008080; text-decoration-color: #008080; font-weight: bold\">3290</span> │\n",
       "│          <span style=\"color: #008080; text-decoration-color: #008080; font-weight: bold\">8</span> │ <span style=\"color: #008000; text-decoration-color: #008000\">Music                     </span> │    <span style=\"color: #008080; text-decoration-color: #008080; font-weight: bold\">3290</span> │\n",
       "│          <span style=\"color: #008080; text-decoration-color: #008080; font-weight: bold\">5</span> │ <span style=\"color: #008000; text-decoration-color: #008000\">90’s Music                </span> │    <span style=\"color: #008080; text-decoration-color: #008080; font-weight: bold\">1477</span> │\n",
       "│          <span style=\"color: #008080; text-decoration-color: #008080; font-weight: bold\">3</span> │ <span style=\"color: #008000; text-decoration-color: #008000\">TV Shows                  </span> │     <span style=\"color: #008080; text-decoration-color: #008080; font-weight: bold\">213</span> │\n",
       "│         <span style=\"color: #008080; text-decoration-color: #008080; font-weight: bold\">10</span> │ <span style=\"color: #008000; text-decoration-color: #008000\">TV Shows                  </span> │     <span style=\"color: #008080; text-decoration-color: #008080; font-weight: bold\">213</span> │\n",
       "│         <span style=\"color: #008080; text-decoration-color: #008080; font-weight: bold\">12</span> │ <span style=\"color: #008000; text-decoration-color: #008000\">Classical                 </span> │      <span style=\"color: #008080; text-decoration-color: #008080; font-weight: bold\">75</span> │\n",
       "│         <span style=\"color: #008080; text-decoration-color: #008080; font-weight: bold\">11</span> │ <span style=\"color: #008000; text-decoration-color: #008000\">Brazilian Music           </span> │      <span style=\"color: #008080; text-decoration-color: #008080; font-weight: bold\">39</span> │\n",
       "│         <span style=\"color: #008080; text-decoration-color: #008080; font-weight: bold\">17</span> │ <span style=\"color: #008000; text-decoration-color: #008000\">Heavy Metal Classic       </span> │      <span style=\"color: #008080; text-decoration-color: #008080; font-weight: bold\">26</span> │\n",
       "│         <span style=\"color: #008080; text-decoration-color: #008080; font-weight: bold\">13</span> │ <span style=\"color: #008000; text-decoration-color: #008000\">Classical 101 - Deep Cuts </span> │      <span style=\"color: #008080; text-decoration-color: #008080; font-weight: bold\">25</span> │\n",
       "│         <span style=\"color: #008080; text-decoration-color: #008080; font-weight: bold\">14</span> │ <span style=\"color: #008000; text-decoration-color: #008000\">Classical 101 - Next Steps</span> │      <span style=\"color: #008080; text-decoration-color: #008080; font-weight: bold\">25</span> │\n",
       "│          <span style=\"color: #7f7f7f; text-decoration-color: #7f7f7f\">…</span> │ <span style=\"color: #7f7f7f; text-decoration-color: #7f7f7f\">…</span>                          │       <span style=\"color: #7f7f7f; text-decoration-color: #7f7f7f\">…</span> │\n",
       "└────────────┴────────────────────────────┴─────────┘\n",
       "</pre>\n"
      ],
      "text/plain": [
       "┏━━━━━━━━━━━━┳━━━━━━━━━━━━━━━━━━━━━━━━━━━━┳━━━━━━━━━┓\n",
       "┃\u001b[1m \u001b[0m\u001b[1mPlaylistId\u001b[0m\u001b[1m \u001b[0m┃\u001b[1m \u001b[0m\u001b[1mName\u001b[0m\u001b[1m                      \u001b[0m\u001b[1m \u001b[0m┃\u001b[1m \u001b[0m\u001b[1mn_track\u001b[0m\u001b[1m \u001b[0m┃\n",
       "┡━━━━━━━━━━━━╇━━━━━━━━━━━━━━━━━━━━━━━━━━━━╇━━━━━━━━━┩\n",
       "│ \u001b[2mint64\u001b[0m      │ \u001b[2mstring(120)\u001b[0m                │ \u001b[2mint64\u001b[0m   │\n",
       "├────────────┼────────────────────────────┼─────────┤\n",
       "│          \u001b[1;36m1\u001b[0m │ \u001b[32mMusic                     \u001b[0m │    \u001b[1;36m3290\u001b[0m │\n",
       "│          \u001b[1;36m8\u001b[0m │ \u001b[32mMusic                     \u001b[0m │    \u001b[1;36m3290\u001b[0m │\n",
       "│          \u001b[1;36m5\u001b[0m │ \u001b[32m90’s Music                \u001b[0m │    \u001b[1;36m1477\u001b[0m │\n",
       "│          \u001b[1;36m3\u001b[0m │ \u001b[32mTV Shows                  \u001b[0m │     \u001b[1;36m213\u001b[0m │\n",
       "│         \u001b[1;36m10\u001b[0m │ \u001b[32mTV Shows                  \u001b[0m │     \u001b[1;36m213\u001b[0m │\n",
       "│         \u001b[1;36m12\u001b[0m │ \u001b[32mClassical                 \u001b[0m │      \u001b[1;36m75\u001b[0m │\n",
       "│         \u001b[1;36m11\u001b[0m │ \u001b[32mBrazilian Music           \u001b[0m │      \u001b[1;36m39\u001b[0m │\n",
       "│         \u001b[1;36m17\u001b[0m │ \u001b[32mHeavy Metal Classic       \u001b[0m │      \u001b[1;36m26\u001b[0m │\n",
       "│         \u001b[1;36m13\u001b[0m │ \u001b[32mClassical 101 - Deep Cuts \u001b[0m │      \u001b[1;36m25\u001b[0m │\n",
       "│         \u001b[1;36m14\u001b[0m │ \u001b[32mClassical 101 - Next Steps\u001b[0m │      \u001b[1;36m25\u001b[0m │\n",
       "│          \u001b[2m…\u001b[0m │ \u001b[2m…\u001b[0m                          │       \u001b[2m…\u001b[0m │\n",
       "└────────────┴────────────────────────────┴─────────┘"
      ]
     },
     "execution_count": 25,
     "metadata": {},
     "output_type": "execute_result"
    }
   ],
   "source": [
    "(\n",
    "    playlist_track\n",
    "    .group_by(\"PlaylistId\")\n",
    "    .aggregate(n_track=playlist_track.count())\n",
    "    .left_join(\n",
    "        # Jointure pour récupérer le nom de la playlist\n",
    "        playlist, _.PlaylistId == playlist.PlaylistId\n",
    "    )\n",
    "    .select(\"PlaylistId\", \"Name\", \"n_track\")\n",
    "    .order_by(\n",
    "        # Tri décroissant avec Ibis\n",
    "        ibis.desc(\"n_track\")\n",
    "    )\n",
    ")"
   ]
  },
  {
   "cell_type": "markdown",
   "metadata": {},
   "source": [
    "3. Construire une table contenant les informations suivantes sur la playlist `Classical` : le titre de chaque piste ainsi que le titre de l'album dont cette piste est tirée."
   ]
  },
  {
   "cell_type": "code",
   "execution_count": 26,
   "metadata": {},
   "outputs": [
    {
     "data": {
      "text/html": [
       "<pre style=\"white-space:pre;overflow-x:auto;line-height:normal;font-family:Menlo,'DejaVu Sans Mono',consolas,'Courier New',monospace\">┏━━━━━━━━━━━━━━━━━━━━━━━━━━━━━━━━━━━━━━━━━━━━━━━━━━━━━━━━━━━━━━━━━━━━━━┳━━━━━━━━━━━━━━━━━━━━━━━━━━━━━━━━━━━━━━━━━━━━━━━━━━━━━━━━━━━┓\n",
       "┃<span style=\"font-weight: bold\"> Name                                                                 </span>┃<span style=\"font-weight: bold\"> Title                                                     </span>┃\n",
       "┡━━━━━━━━━━━━━━━━━━━━━━━━━━━━━━━━━━━━━━━━━━━━━━━━━━━━━━━━━━━━━━━━━━━━━━╇━━━━━━━━━━━━━━━━━━━━━━━━━━━━━━━━━━━━━━━━━━━━━━━━━━━━━━━━━━━┩\n",
       "│ <span style=\"color: #7f7f7f; text-decoration-color: #7f7f7f\">string(200)</span>                                                          │ <span style=\"color: #7f7f7f; text-decoration-color: #7f7f7f\">string(160)</span>                                               │\n",
       "├──────────────────────────────────────────────────────────────────────┼───────────────────────────────────────────────────────────┤\n",
       "│ <span style=\"color: #008000; text-decoration-color: #008000\">Intoitus: Adorate Deum                                              </span> │ <span style=\"color: #008000; text-decoration-color: #008000\">Adorate Deum: Gregorian Chant from the Proper of the Mass</span> │\n",
       "│ <span style=\"color: #008000; text-decoration-color: #008000\">Miserere mei, Deus                                                  </span> │ <span style=\"color: #008000; text-decoration-color: #008000\">Allegri: Miserere                                        </span> │\n",
       "│ <span style=\"color: #008000; text-decoration-color: #008000\">Canon and Gigue in D Major: I. Canon                                </span> │ <span style=\"color: #008000; text-decoration-color: #008000\">Pachelbel: Canon &amp; Gigue                                 </span> │\n",
       "│ <span style=\"color: #008000; text-decoration-color: #008000\">Concerto No. 1 in E Major, RV 269 \"Spring\": I. Allegro              </span> │ <span style=\"color: #008000; text-decoration-color: #008000\">Vivaldi: The Four Seasons                                </span> │\n",
       "│ <span style=\"color: #008000; text-decoration-color: #008000\">Concerto for 2 Violins in D Minor, BWV 1043: I. Vivace              </span> │ <span style=\"color: #008000; text-decoration-color: #008000\">Bach: Violin Concertos                                   </span> │\n",
       "│ <span style=\"color: #008000; text-decoration-color: #008000\">Aria Mit 30 Veränderungen, BWV 988 \"Goldberg Variations\": Aria      </span> │ <span style=\"color: #008000; text-decoration-color: #008000\">Bach: Goldberg Variations                                </span> │\n",
       "│ <span style=\"color: #008000; text-decoration-color: #008000\">Suite for Solo Cello No. 1 in G Major, BWV 1007: I. Prélude         </span> │ <span style=\"color: #008000; text-decoration-color: #008000\">Bach: The Cello Suites                                   </span> │\n",
       "│ <span style=\"color: #008000; text-decoration-color: #008000\">The Messiah: Behold, I Tell You a Mystery... The Trumpet Shall Sound</span> │ <span style=\"color: #008000; text-decoration-color: #008000\">Handel: The Messiah (Highlights)                         </span> │\n",
       "│ <span style=\"color: #008000; text-decoration-color: #008000\">Solomon HWV 67: The Arrival of the Queen of Sheba                   </span> │ <span style=\"color: #008000; text-decoration-color: #008000\">The World of Classical Favourites                        </span> │\n",
       "│ <span style=\"color: #008000; text-decoration-color: #008000\">\"Eine Kleine Nachtmusik\" Serenade In G, K. 525: I. Allegro          </span> │ <span style=\"color: #008000; text-decoration-color: #008000\">Sir Neville Marriner: A Celebration                      </span> │\n",
       "│ <span style=\"color: #7f7f7f; text-decoration-color: #7f7f7f\">…</span>                                                                    │ <span style=\"color: #7f7f7f; text-decoration-color: #7f7f7f\">…</span>                                                         │\n",
       "└──────────────────────────────────────────────────────────────────────┴───────────────────────────────────────────────────────────┘\n",
       "</pre>\n"
      ],
      "text/plain": [
       "┏━━━━━━━━━━━━━━━━━━━━━━━━━━━━━━━━━━━━━━━━━━━━━━━━━━━━━━━━━━━━━━━━━━━━━━┳━━━━━━━━━━━━━━━━━━━━━━━━━━━━━━━━━━━━━━━━━━━━━━━━━━━━━━━━━━━┓\n",
       "┃\u001b[1m \u001b[0m\u001b[1mName\u001b[0m\u001b[1m                                                                \u001b[0m\u001b[1m \u001b[0m┃\u001b[1m \u001b[0m\u001b[1mTitle\u001b[0m\u001b[1m                                                    \u001b[0m\u001b[1m \u001b[0m┃\n",
       "┡━━━━━━━━━━━━━━━━━━━━━━━━━━━━━━━━━━━━━━━━━━━━━━━━━━━━━━━━━━━━━━━━━━━━━━╇━━━━━━━━━━━━━━━━━━━━━━━━━━━━━━━━━━━━━━━━━━━━━━━━━━━━━━━━━━━┩\n",
       "│ \u001b[2mstring(200)\u001b[0m                                                          │ \u001b[2mstring(160)\u001b[0m                                               │\n",
       "├──────────────────────────────────────────────────────────────────────┼───────────────────────────────────────────────────────────┤\n",
       "│ \u001b[32mIntoitus: Adorate Deum                                              \u001b[0m │ \u001b[32mAdorate Deum: Gregorian Chant from the Proper of the Mass\u001b[0m │\n",
       "│ \u001b[32mMiserere mei, Deus                                                  \u001b[0m │ \u001b[32mAllegri: Miserere                                        \u001b[0m │\n",
       "│ \u001b[32mCanon and Gigue in D Major: I. Canon                                \u001b[0m │ \u001b[32mPachelbel: Canon & Gigue                                 \u001b[0m │\n",
       "│ \u001b[32mConcerto No. 1 in E Major, RV 269 \"Spring\": I. Allegro              \u001b[0m │ \u001b[32mVivaldi: The Four Seasons                                \u001b[0m │\n",
       "│ \u001b[32mConcerto for 2 Violins in D Minor, BWV 1043: I. Vivace              \u001b[0m │ \u001b[32mBach: Violin Concertos                                   \u001b[0m │\n",
       "│ \u001b[32mAria Mit 30 Veränderungen, BWV 988 \"Goldberg Variations\": Aria      \u001b[0m │ \u001b[32mBach: Goldberg Variations                                \u001b[0m │\n",
       "│ \u001b[32mSuite for Solo Cello No. 1 in G Major, BWV 1007: I. Prélude         \u001b[0m │ \u001b[32mBach: The Cello Suites                                   \u001b[0m │\n",
       "│ \u001b[32mThe Messiah: Behold, I Tell You a Mystery... The Trumpet Shall Sound\u001b[0m │ \u001b[32mHandel: The Messiah (Highlights)                         \u001b[0m │\n",
       "│ \u001b[32mSolomon HWV 67: The Arrival of the Queen of Sheba                   \u001b[0m │ \u001b[32mThe World of Classical Favourites                        \u001b[0m │\n",
       "│ \u001b[32m\"Eine Kleine Nachtmusik\" Serenade In G, K. 525: I. Allegro          \u001b[0m │ \u001b[32mSir Neville Marriner: A Celebration                      \u001b[0m │\n",
       "│ \u001b[2m…\u001b[0m                                                                    │ \u001b[2m…\u001b[0m                                                         │\n",
       "└──────────────────────────────────────────────────────────────────────┴───────────────────────────────────────────────────────────┘"
      ]
     },
     "execution_count": 26,
     "metadata": {},
     "output_type": "execute_result"
    }
   ],
   "source": [
    "# Table Album\n",
    "album = con_chinook.table(\"Album\")\n",
    "\n",
    "(\n",
    "    playlist_track\n",
    "    .left_join(playlist, playlist_track.PlaylistId == playlist.PlaylistId)\n",
    "    .rename(PlaylistName=\"Name\")\n",
    "    .filter(_.PlaylistName == \"Classical\")\n",
    "    .left_join(track, _.TrackId == track.TrackId)\n",
    "    .left_join(album, _.AlbumId == album.AlbumId)\n",
    "    .select(\"Name\", \"Title\")\n",
    ")"
   ]
  },
  {
   "cell_type": "markdown",
   "metadata": {},
   "source": [
    "4. (*Bonus*) Écrire une requête SQL donnant le résultat de la question précédente. La fonction `to_sql` pourra être utilisée pour de l'aide."
   ]
  },
  {
   "cell_type": "code",
   "execution_count": 27,
   "metadata": {},
   "outputs": [
    {
     "data": {
      "text/html": [
       "<div>\n",
       "<style scoped>\n",
       "    .dataframe tbody tr th:only-of-type {\n",
       "        vertical-align: middle;\n",
       "    }\n",
       "\n",
       "    .dataframe tbody tr th {\n",
       "        vertical-align: top;\n",
       "    }\n",
       "\n",
       "    .dataframe thead th {\n",
       "        text-align: right;\n",
       "    }\n",
       "</style>\n",
       "<table border=\"1\" class=\"dataframe\">\n",
       "  <thead>\n",
       "    <tr style=\"text-align: right;\">\n",
       "      <th></th>\n",
       "      <th>Name</th>\n",
       "      <th>Title</th>\n",
       "    </tr>\n",
       "  </thead>\n",
       "  <tbody>\n",
       "    <tr>\n",
       "      <th>0</th>\n",
       "      <td>Intoitus: Adorate Deum</td>\n",
       "      <td>Adorate Deum: Gregorian Chant from the Proper ...</td>\n",
       "    </tr>\n",
       "    <tr>\n",
       "      <th>1</th>\n",
       "      <td>Miserere mei, Deus</td>\n",
       "      <td>Allegri: Miserere</td>\n",
       "    </tr>\n",
       "    <tr>\n",
       "      <th>2</th>\n",
       "      <td>Canon and Gigue in D Major: I. Canon</td>\n",
       "      <td>Pachelbel: Canon &amp; Gigue</td>\n",
       "    </tr>\n",
       "    <tr>\n",
       "      <th>3</th>\n",
       "      <td>Concerto No. 1 in E Major, RV 269 \"Spring\": I....</td>\n",
       "      <td>Vivaldi: The Four Seasons</td>\n",
       "    </tr>\n",
       "    <tr>\n",
       "      <th>4</th>\n",
       "      <td>Concerto for 2 Violins in D Minor, BWV 1043: I...</td>\n",
       "      <td>Bach: Violin Concertos</td>\n",
       "    </tr>\n",
       "    <tr>\n",
       "      <th>...</th>\n",
       "      <td>...</td>\n",
       "      <td>...</td>\n",
       "    </tr>\n",
       "    <tr>\n",
       "      <th>70</th>\n",
       "      <td>Pini Di Roma (Pinien Von Rom) \\ I Pini Della V...</td>\n",
       "      <td>Respighi:Pines of Rome</td>\n",
       "    </tr>\n",
       "    <tr>\n",
       "      <th>71</th>\n",
       "      <td>String Quartet No. 12 in C Minor, D. 703 \"Quar...</td>\n",
       "      <td>Schubert: The Late String Quartets &amp; String Qu...</td>\n",
       "    </tr>\n",
       "    <tr>\n",
       "      <th>72</th>\n",
       "      <td>L'orfeo, Act 3, Sinfonia (Orchestra)</td>\n",
       "      <td>Monteverdi: L'Orfeo</td>\n",
       "    </tr>\n",
       "    <tr>\n",
       "      <th>73</th>\n",
       "      <td>Quintet for Horn, Violin, 2 Violas, and Cello ...</td>\n",
       "      <td>Mozart: Chamber Music</td>\n",
       "    </tr>\n",
       "    <tr>\n",
       "      <th>74</th>\n",
       "      <td>Koyaanisqatsi</td>\n",
       "      <td>Koyaanisqatsi (Soundtrack from the Motion Pict...</td>\n",
       "    </tr>\n",
       "  </tbody>\n",
       "</table>\n",
       "<p>75 rows × 2 columns</p>\n",
       "</div>"
      ],
      "text/plain": [
       "                                                 Name  \\\n",
       "0                              Intoitus: Adorate Deum   \n",
       "1                                  Miserere mei, Deus   \n",
       "2                Canon and Gigue in D Major: I. Canon   \n",
       "3   Concerto No. 1 in E Major, RV 269 \"Spring\": I....   \n",
       "4   Concerto for 2 Violins in D Minor, BWV 1043: I...   \n",
       "..                                                ...   \n",
       "70  Pini Di Roma (Pinien Von Rom) \\ I Pini Della V...   \n",
       "71  String Quartet No. 12 in C Minor, D. 703 \"Quar...   \n",
       "72               L'orfeo, Act 3, Sinfonia (Orchestra)   \n",
       "73  Quintet for Horn, Violin, 2 Violas, and Cello ...   \n",
       "74                                      Koyaanisqatsi   \n",
       "\n",
       "                                                Title  \n",
       "0   Adorate Deum: Gregorian Chant from the Proper ...  \n",
       "1                                   Allegri: Miserere  \n",
       "2                            Pachelbel: Canon & Gigue  \n",
       "3                           Vivaldi: The Four Seasons  \n",
       "4                              Bach: Violin Concertos  \n",
       "..                                                ...  \n",
       "70                             Respighi:Pines of Rome  \n",
       "71  Schubert: The Late String Quartets & String Qu...  \n",
       "72                                Monteverdi: L'Orfeo  \n",
       "73                              Mozart: Chamber Music  \n",
       "74  Koyaanisqatsi (Soundtrack from the Motion Pict...  \n",
       "\n",
       "[75 rows x 2 columns]"
      ]
     },
     "execution_count": 27,
     "metadata": {},
     "output_type": "execute_result"
    }
   ],
   "source": [
    "con = sqlite3.connect(\"data/chinook.db\")\n",
    "\n",
    "query = \"\"\"\n",
    "SELECT\n",
    "    TrackNames.Name,\n",
    "    Album.Title\n",
    "FROM (\n",
    "    SELECT\n",
    "        Track.Name,\n",
    "        Track.AlbumId\n",
    "    FROM (\n",
    "        SELECT PlaylistTrack.TrackId\n",
    "        FROM PlaylistTrack\n",
    "        LEFT JOIN Playlist\n",
    "        ON PlaylistTrack.PlaylistId = Playlist.PlaylistId\n",
    "        WHERE Playlist.Name = 'Classical'\n",
    "    ) AS TrackIds\n",
    "    LEFT JOIN Track\n",
    "    ON TrackIds.TrackId = Track.TrackId\n",
    ") AS TrackNames\n",
    "LEFT JOIN Album\n",
    "ON TrackNames.AlbumId = Album.AlbumId\n",
    "\"\"\"\n",
    "\n",
    "pd.read_sql(query, con)"
   ]
  },
  {
   "cell_type": "code",
   "execution_count": null,
   "metadata": {},
   "outputs": [],
   "source": []
  }
 ],
 "metadata": {
  "kernelspec": {
   "display_name": "base",
   "language": "python",
   "name": "python3"
  },
  "language_info": {
   "codemirror_mode": {
    "name": "ipython",
    "version": 3
   },
   "file_extension": ".py",
   "mimetype": "text/x-python",
   "name": "python",
   "nbconvert_exporter": "python",
   "pygments_lexer": "ipython3",
   "version": "3.11.3"
  }
 },
 "nbformat": 4,
 "nbformat_minor": 2
}
