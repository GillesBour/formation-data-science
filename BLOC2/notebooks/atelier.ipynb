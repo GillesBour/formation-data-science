{
 "cells": [
  {
   "cell_type": "markdown",
   "metadata": {},
   "source": [
    "# Atelier"
   ]
  },
  {
   "cell_type": "code",
   "execution_count": 2,
   "metadata": {},
   "outputs": [],
   "source": [
    "import pandas as pd\n",
    "import requests\n",
    "\n",
    "from bs4 import BeautifulSoup\n"
   ]
  },
  {
   "cell_type": "code",
   "execution_count": 15,
   "metadata": {},
   "outputs": [
    {
     "name": "stdout",
     "output_type": "stream",
     "text": [
      "['https://scrapeme.live/shop/Bulbasaur/', 'https://scrapeme.live/shop/Ivysaur/', 'https://scrapeme.live/shop/Venusaur/', 'https://scrapeme.live/shop/Charmander/', 'https://scrapeme.live/shop/Charmeleon/', 'https://scrapeme.live/shop/Charizard/', 'https://scrapeme.live/shop/Squirtle/', 'https://scrapeme.live/shop/Wartortle/', 'https://scrapeme.live/shop/Blastoise/', 'https://scrapeme.live/shop/Caterpie/', 'https://scrapeme.live/shop/Metapod/', 'https://scrapeme.live/shop/Butterfree/', 'https://scrapeme.live/shop/Weedle/', 'https://scrapeme.live/shop/Kakuna/', 'https://scrapeme.live/shop/Beedrill/', 'https://scrapeme.live/shop/Pidgey/']\n"
     ]
    }
   ],
   "source": [
    "url_pokescrap=\"https://scrapeme.live/product-category/pokemon/\"\n",
    "r_scrap=requests.get(url_pokescrap)\n",
    "assert r_scrap.status_code==200, f\"Error: {r_scrap.status_code}\"\n",
    "soup=BeautifulSoup(r_scrap.text, 'html.parser')\n",
    "\n",
    "# Find all the pokemon names, weights and prices\n",
    "products = soup.select(\"li.product a:nth-of-type(1)\")\n",
    "poke_urls = [\n",
    "    prod[\"href\"]\n",
    "    for prod in products\n",
    "]\n",
    "\n",
    "print(poke_urls)"
   ]
  },
  {
   "cell_type": "code",
   "execution_count": 26,
   "metadata": {},
   "outputs": [
    {
     "name": "stdout",
     "output_type": "stream",
     "text": [
      "Name: Bulbasaur, Weight: 15.2, Price: 63.0\n",
      "Name: Ivysaur, Weight: 28.7, Price: 87.0\n",
      "Name: Venusaur, Weight: 220.5, Price: 105.0\n",
      "Name: Charmander, Weight: 18.7, Price: 48.0\n",
      "Name: Charmeleon, Weight: 41.9, Price: 165.0\n",
      "Name: Charizard, Weight: 199.5, Price: 156.0\n",
      "Name: Squirtle, Weight: 19.8, Price: 130.0\n",
      "Name: Wartortle, Weight: 49.6, Price: 123.0\n",
      "Name: Blastoise, Weight: 188.5, Price: 76.0\n",
      "Name: Caterpie, Weight: 6.4, Price: 73.0\n",
      "Name: Metapod, Weight: 21.8, Price: 148.0\n",
      "Name: Butterfree, Weight: 70.5, Price: 162.0\n",
      "Name: Weedle, Weight: 7.1, Price: 25.0\n",
      "Name: Kakuna, Weight: 22.0, Price: 148.0\n",
      "Name: Beedrill, Weight: 65.0, Price: 168.0\n",
      "Name: Pidgey, Weight: 4.0, Price: 159.0\n"
     ]
    }
   ],
   "source": [
    "for poke_url in poke_urls:\n",
    "    r_poke = requests.get(poke_url)\n",
    "    assert r_poke.status_code == 200, f\"Error: {r_poke.status_code}\"\n",
    "    poke_soup = BeautifulSoup(r_poke.text, 'html.parser')\n",
    "\n",
    "    # Find the name of the pokemon\n",
    "    poke_name = poke_soup.select_one(\"h1.product_title\").text\n",
    "\n",
    "    # Find the weight of the pokemon\n",
    "    poke_weight = float(poke_soup.select_one(\"td.product_weight\").text.replace(\" kg\", \"\"))\n",
    "\n",
    "    # Find the price of the pokemon\n",
    "    poke_price = float(poke_soup.select(\"span.woocommerce-Price-amount\")[-1].text.replace(\"£\", \"\"))\n",
    "\n",
    "    print(f\"Name: {poke_name}, Weight: {poke_weight}, Price: {poke_price}\")"
   ]
  },
  {
   "cell_type": "code",
   "execution_count": null,
   "metadata": {},
   "outputs": [],
   "source": []
  }
 ],
 "metadata": {
  "kernelspec": {
   "display_name": "base",
   "language": "python",
   "name": "python3"
  },
  "language_info": {
   "codemirror_mode": {
    "name": "ipython",
    "version": 3
   },
   "file_extension": ".py",
   "mimetype": "text/x-python",
   "name": "python",
   "nbconvert_exporter": "python",
   "pygments_lexer": "ipython3",
   "version": "3.11.3"
  }
 },
 "nbformat": 4,
 "nbformat_minor": 2
}
