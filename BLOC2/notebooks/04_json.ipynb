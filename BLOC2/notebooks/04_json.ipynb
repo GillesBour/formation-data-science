{
 "cells": [
  {
   "cell_type": "markdown",
   "metadata": {},
   "source": [
    "# Notebook 4 : JSON et API"
   ]
  },
  {
   "cell_type": "code",
   "execution_count": 2,
   "metadata": {},
   "outputs": [],
   "source": [
    "import json\n",
    "import random\n",
    "\n",
    "from io import StringIO # Pour éviter les avertissements de read_json\n",
    "\n",
    "import pandas as pd\n",
    "import requests"
   ]
  },
  {
   "cell_type": "markdown",
   "metadata": {},
   "source": [
    "## Format JSON"
   ]
  },
  {
   "cell_type": "markdown",
   "metadata": {},
   "source": [
    "Nous considérons deux jeux de données artificiels pour illustrer des limites du format JSON à garder à l'esprit en pratique."
   ]
  },
  {
   "cell_type": "code",
   "execution_count": 3,
   "metadata": {},
   "outputs": [],
   "source": [
    "nombres = pd.DataFrame({\"Nombre\": [random.random() for _ in range(5)]})\n",
    "nananinf = pd.DataFrame({\"Valeur\": [3.14, pd.NA, float(\"nan\"), float(\"inf\")]})"
   ]
  },
  {
   "cell_type": "markdown",
   "metadata": {},
   "source": [
    "1. Convertir `nombres` au format JSON avec la méthode `to_json` et stocker le résultat dans une variable `nombres_json`."
   ]
  },
  {
   "cell_type": "code",
   "execution_count": null,
   "metadata": {},
   "outputs": [],
   "source": []
  },
  {
   "cell_type": "markdown",
   "metadata": {},
   "source": [
    "2. Importer `nombres_json` avec la fonction `read_json` de Pandas dans un dataframe `nombres_bis`. Comparer les objets `nombres` et `nombres_bis`."
   ]
  },
  {
   "cell_type": "code",
   "execution_count": null,
   "metadata": {},
   "outputs": [],
   "source": []
  },
  {
   "cell_type": "markdown",
   "metadata": {},
   "source": [
    "3. Lire la documentation de `to_json` pour connaître l'option permettant de gérer (mais pas de résoudre) le problème précédent."
   ]
  },
  {
   "cell_type": "code",
   "execution_count": null,
   "metadata": {},
   "outputs": [],
   "source": []
  },
  {
   "cell_type": "markdown",
   "metadata": {},
   "source": [
    "4. Convertir `nananinf` au format JSON avec la méthode `to_json` et stocker le résultat dans une variable `nananinf_json`. Que sont devenus `NA`, `NaN` et `inf` ?"
   ]
  },
  {
   "cell_type": "code",
   "execution_count": null,
   "metadata": {},
   "outputs": [],
   "source": []
  },
  {
   "cell_type": "markdown",
   "metadata": {},
   "source": [
    "5. Importer `nananinf_json` avec la fonction `read_json` de Pandas dans un dataframe `nananinf_bis`. Comparer les objets `nananinf` et `nananinf_bis`."
   ]
  },
  {
   "cell_type": "code",
   "execution_count": null,
   "metadata": {},
   "outputs": [],
   "source": []
  },
  {
   "cell_type": "markdown",
   "metadata": {},
   "source": [
    "6. Reprendre les questions 4 et 5 sur l'objet `[float(\"nan\"), float(\"inf\")]` avec les fonctions `dumps` et `loads`. Quelle est la différence ? Lire la documentation de `dumps` pour comprendre l'option `allow_nan`."
   ]
  },
  {
   "cell_type": "code",
   "execution_count": null,
   "metadata": {},
   "outputs": [],
   "source": []
  },
  {
   "cell_type": "markdown",
   "metadata": {},
   "source": [
    "## Iris"
   ]
  },
  {
   "cell_type": "markdown",
   "metadata": {},
   "source": [
    "Nous reprenons ici le jeu de données des [Iris de Fisher](https://fr.wikipedia.org/wiki/Iris_de_Fisher) pour étudier les différentes façons d'exporter un dataframe au format JSON."
   ]
  },
  {
   "cell_type": "markdown",
   "metadata": {},
   "source": [
    "1. Charger le jeu de données dans un dataframe `iris` à partir du fichier `iris.csv`."
   ]
  },
  {
   "cell_type": "code",
   "execution_count": 4,
   "metadata": {},
   "outputs": [
    {
     "data": {
      "text/html": [
       "<div>\n",
       "<style scoped>\n",
       "    .dataframe tbody tr th:only-of-type {\n",
       "        vertical-align: middle;\n",
       "    }\n",
       "\n",
       "    .dataframe tbody tr th {\n",
       "        vertical-align: top;\n",
       "    }\n",
       "\n",
       "    .dataframe thead th {\n",
       "        text-align: right;\n",
       "    }\n",
       "</style>\n",
       "<table border=\"1\" class=\"dataframe\">\n",
       "  <thead>\n",
       "    <tr style=\"text-align: right;\">\n",
       "      <th></th>\n",
       "      <th>SepalLength</th>\n",
       "      <th>SepalWidth</th>\n",
       "      <th>PetalLength</th>\n",
       "      <th>PetalWidth</th>\n",
       "      <th>Species</th>\n",
       "    </tr>\n",
       "  </thead>\n",
       "  <tbody>\n",
       "    <tr>\n",
       "      <th>0</th>\n",
       "      <td>5.1</td>\n",
       "      <td>3.5</td>\n",
       "      <td>1.4</td>\n",
       "      <td>0.2</td>\n",
       "      <td>setosa</td>\n",
       "    </tr>\n",
       "    <tr>\n",
       "      <th>1</th>\n",
       "      <td>4.9</td>\n",
       "      <td>3.0</td>\n",
       "      <td>1.4</td>\n",
       "      <td>0.2</td>\n",
       "      <td>setosa</td>\n",
       "    </tr>\n",
       "    <tr>\n",
       "      <th>2</th>\n",
       "      <td>4.7</td>\n",
       "      <td>3.2</td>\n",
       "      <td>1.3</td>\n",
       "      <td>0.2</td>\n",
       "      <td>setosa</td>\n",
       "    </tr>\n",
       "    <tr>\n",
       "      <th>3</th>\n",
       "      <td>4.6</td>\n",
       "      <td>3.1</td>\n",
       "      <td>1.5</td>\n",
       "      <td>0.2</td>\n",
       "      <td>setosa</td>\n",
       "    </tr>\n",
       "    <tr>\n",
       "      <th>4</th>\n",
       "      <td>5.0</td>\n",
       "      <td>3.6</td>\n",
       "      <td>1.4</td>\n",
       "      <td>0.2</td>\n",
       "      <td>setosa</td>\n",
       "    </tr>\n",
       "  </tbody>\n",
       "</table>\n",
       "</div>"
      ],
      "text/plain": [
       "   SepalLength  SepalWidth  PetalLength  PetalWidth Species\n",
       "0          5.1         3.5          1.4         0.2  setosa\n",
       "1          4.9         3.0          1.4         0.2  setosa\n",
       "2          4.7         3.2          1.3         0.2  setosa\n",
       "3          4.6         3.1          1.5         0.2  setosa\n",
       "4          5.0         3.6          1.4         0.2  setosa"
      ]
     },
     "execution_count": 4,
     "metadata": {},
     "output_type": "execute_result"
    }
   ],
   "source": [
    "iris = pd.read_csv(\"data/iris.csv\")\n",
    "iris.head()"
   ]
  },
  {
   "cell_type": "markdown",
   "metadata": {},
   "source": [
    "2. Comparer les résultats obtenus en exportant `iris` au format JSON avec `to_json` et :\n",
    "- `orient=\"columns\"`,\n",
    "- `orient=\"index\"`,\n",
    "- `orient=\"records\"`."
   ]
  },
  {
   "cell_type": "code",
   "execution_count": 5,
   "metadata": {},
   "outputs": [
    {
     "data": {
      "text/plain": [
       "'{\"SepalLength\":{\"0\":5.1,\"1\":4.9,\"2\":4.7,\"3\":4.6,\"4\":5.0,\"5\":5.4,\"6\":4.6,\"7\":5.0,\"8\":4.4,\"9\":4.9,\"10\":5.4,\"11\":4.8,\"12\":4.8,\"13\":4.3,\"14\":5.8,\"15\":5.7,\"16\":5.4,\"17\":5.1,\"18\":5.7,\"19\":5.1,\"20\":5.4,\"21\":5.1,\"22\":4.6,\"23\":5.1,\"24\":4.8,\"25\":5.0,\"26\":5.0,\"27\":5.2,\"28\":5.2,\"29\":4.7,\"30\":4.8,\"31\":5.4,\"32\":5.2,\"33\":5.5,\"34\":4.9,\"35\":5.0,\"36\":5.5,\"37\":4.9,\"38\":4.4,\"39\":5.1,\"40\":5.0,\"41\":4.5,\"42\":4.4,\"43\":5.0,\"44\":5.1,\"45\":4.8,\"46\":5.1,\"47\":4.6,\"48\":5.3,\"49\":5.0,\"50\":7.0,\"51\":6.4,\"52\":6.9,\"53\":5.5,\"54\":6.5,\"55\":5.7,\"56\":6.3,\"57\":4.9,\"58\":6.6,\"59\":5.2,\"60\":5.0,\"61\":5.9,\"62\":6.0,\"63\":6.1,\"64\":5.6,\"65\":6.7,\"66\":5.6,\"67\":5.8,\"68\":6.2,\"69\":5.6,\"70\":5.9,\"71\":6.1,\"72\":6.3,\"73\":6.1,\"74\":6.4,\"75\":6.6,\"76\":6.8,\"77\":6.7,\"78\":6.0,\"79\":5.7,\"80\":5.5,\"81\":5.5,\"82\":5.8,\"83\":6.0,\"84\":5.4,\"85\":6.0,\"86\":6.7,\"87\":6.3,\"88\":5.6,\"89\":5.5,\"90\":5.5,\"91\":6.1,\"92\":5.8,\"93\":5.0,\"94\":5.6,\"95\":5.7,\"96\":5.7,\"97\":6.2,\"98\":5.1,\"99\":5.7,\"100\":6.3,\"101\":5.8,\"102\":7.1,\"103\":6.3,\"104\":6.5,\"105\":7.6,\"106\":4.9,\"107\":7.3,\"108\":6.7,\"109\":7.2,\"110\":6.5,\"111\":6.4,\"112\":6.8,\"113\":5.7,\"114\":5.8,\"115\":6.4,\"116\":6.5,\"117\":7.7,\"118\":7.7,\"119\":6.0,\"120\":6.9,\"121\":5.6,\"122\":7.7,\"123\":6.3,\"124\":6.7,\"125\":7.2,\"126\":6.2,\"127\":6.1,\"128\":6.4,\"129\":7.2,\"130\":7.4,\"131\":7.9,\"132\":6.4,\"133\":6.3,\"134\":6.1,\"135\":7.7,\"136\":6.3,\"137\":6.4,\"138\":6.0,\"139\":6.9,\"140\":6.7,\"141\":6.9,\"142\":5.8,\"143\":6.8,\"144\":6.7,\"145\":6.7,\"146\":6.3,\"147\":6.5,\"148\":6.2,\"149\":5.9},\"SepalWidth\":{\"0\":3.5,\"1\":3.0,\"2\":3.2,\"3\":3.1,\"4\":3.6,\"5\":3.9,\"6\":3.4,\"7\":3.4,\"8\":2.9,\"9\":3.1,\"10\":3.7,\"11\":3.4,\"12\":3.0,\"13\":3.0,\"14\":4.0,\"15\":4.4,\"16\":3.9,\"17\":3.5,\"18\":3.8,\"19\":3.8,\"20\":3.4,\"21\":3.7,\"22\":3.6,\"23\":3.3,\"24\":3.4,\"25\":3.0,\"26\":3.4,\"27\":3.5,\"28\":3.4,\"29\":3.2,\"30\":3.1,\"31\":3.4,\"32\":4.1,\"33\":4.2,\"34\":3.1,\"35\":3.2,\"36\":3.5,\"37\":3.6,\"38\":3.0,\"39\":3.4,\"40\":3.5,\"41\":2.3,\"42\":3.2,\"43\":3.5,\"44\":3.8,\"45\":3.0,\"46\":3.8,\"47\":3.2,\"48\":3.7,\"49\":3.3,\"50\":3.2,\"51\":3.2,\"52\":3.1,\"53\":2.3,\"54\":2.8,\"55\":2.8,\"56\":3.3,\"57\":2.4,\"58\":2.9,\"59\":2.7,\"60\":2.0,\"61\":3.0,\"62\":2.2,\"63\":2.9,\"64\":2.9,\"65\":3.1,\"66\":3.0,\"67\":2.7,\"68\":2.2,\"69\":2.5,\"70\":3.2,\"71\":2.8,\"72\":2.5,\"73\":2.8,\"74\":2.9,\"75\":3.0,\"76\":2.8,\"77\":3.0,\"78\":2.9,\"79\":2.6,\"80\":2.4,\"81\":2.4,\"82\":2.7,\"83\":2.7,\"84\":3.0,\"85\":3.4,\"86\":3.1,\"87\":2.3,\"88\":3.0,\"89\":2.5,\"90\":2.6,\"91\":3.0,\"92\":2.6,\"93\":2.3,\"94\":2.7,\"95\":3.0,\"96\":2.9,\"97\":2.9,\"98\":2.5,\"99\":2.8,\"100\":3.3,\"101\":2.7,\"102\":3.0,\"103\":2.9,\"104\":3.0,\"105\":3.0,\"106\":2.5,\"107\":2.9,\"108\":2.5,\"109\":3.6,\"110\":3.2,\"111\":2.7,\"112\":3.0,\"113\":2.5,\"114\":2.8,\"115\":3.2,\"116\":3.0,\"117\":3.8,\"118\":2.6,\"119\":2.2,\"120\":3.2,\"121\":2.8,\"122\":2.8,\"123\":2.7,\"124\":3.3,\"125\":3.2,\"126\":2.8,\"127\":3.0,\"128\":2.8,\"129\":3.0,\"130\":2.8,\"131\":3.8,\"132\":2.8,\"133\":2.8,\"134\":2.6,\"135\":3.0,\"136\":3.4,\"137\":3.1,\"138\":3.0,\"139\":3.1,\"140\":3.1,\"141\":3.1,\"142\":2.7,\"143\":3.2,\"144\":3.3,\"145\":3.0,\"146\":2.5,\"147\":3.0,\"148\":3.4,\"149\":3.0},\"PetalLength\":{\"0\":1.4,\"1\":1.4,\"2\":1.3,\"3\":1.5,\"4\":1.4,\"5\":1.7,\"6\":1.4,\"7\":1.5,\"8\":1.4,\"9\":1.5,\"10\":1.5,\"11\":1.6,\"12\":1.4,\"13\":1.1,\"14\":1.2,\"15\":1.5,\"16\":1.3,\"17\":1.4,\"18\":1.7,\"19\":1.5,\"20\":1.7,\"21\":1.5,\"22\":1.0,\"23\":1.7,\"24\":1.9,\"25\":1.6,\"26\":1.6,\"27\":1.5,\"28\":1.4,\"29\":1.6,\"30\":1.6,\"31\":1.5,\"32\":1.5,\"33\":1.4,\"34\":1.5,\"35\":1.2,\"36\":1.3,\"37\":1.4,\"38\":1.3,\"39\":1.5,\"40\":1.3,\"41\":1.3,\"42\":1.3,\"43\":1.6,\"44\":1.9,\"45\":1.4,\"46\":1.6,\"47\":1.4,\"48\":1.5,\"49\":1.4,\"50\":4.7,\"51\":4.5,\"52\":4.9,\"53\":4.0,\"54\":4.6,\"55\":4.5,\"56\":4.7,\"57\":3.3,\"58\":4.6,\"59\":3.9,\"60\":3.5,\"61\":4.2,\"62\":4.0,\"63\":4.7,\"64\":3.6,\"65\":4.4,\"66\":4.5,\"67\":4.1,\"68\":4.5,\"69\":3.9,\"70\":4.8,\"71\":4.0,\"72\":4.9,\"73\":4.7,\"74\":4.3,\"75\":4.4,\"76\":4.8,\"77\":5.0,\"78\":4.5,\"79\":3.5,\"80\":3.8,\"81\":3.7,\"82\":3.9,\"83\":5.1,\"84\":4.5,\"85\":4.5,\"86\":4.7,\"87\":4.4,\"88\":4.1,\"89\":4.0,\"90\":4.4,\"91\":4.6,\"92\":4.0,\"93\":3.3,\"94\":4.2,\"95\":4.2,\"96\":4.2,\"97\":4.3,\"98\":3.0,\"99\":4.1,\"100\":6.0,\"101\":5.1,\"102\":5.9,\"103\":5.6,\"104\":5.8,\"105\":6.6,\"106\":4.5,\"107\":6.3,\"108\":5.8,\"109\":6.1,\"110\":5.1,\"111\":5.3,\"112\":5.5,\"113\":5.0,\"114\":5.1,\"115\":5.3,\"116\":5.5,\"117\":6.7,\"118\":6.9,\"119\":5.0,\"120\":5.7,\"121\":4.9,\"122\":6.7,\"123\":4.9,\"124\":5.7,\"125\":6.0,\"126\":4.8,\"127\":4.9,\"128\":5.6,\"129\":5.8,\"130\":6.1,\"131\":6.4,\"132\":5.6,\"133\":5.1,\"134\":5.6,\"135\":6.1,\"136\":5.6,\"137\":5.5,\"138\":4.8,\"139\":5.4,\"140\":5.6,\"141\":5.1,\"142\":5.1,\"143\":5.9,\"144\":5.7,\"145\":5.2,\"146\":5.0,\"147\":5.2,\"148\":5.4,\"149\":5.1},\"PetalWidth\":{\"0\":0.2,\"1\":0.2,\"2\":0.2,\"3\":0.2,\"4\":0.2,\"5\":0.4,\"6\":0.3,\"7\":0.2,\"8\":0.2,\"9\":0.1,\"10\":0.2,\"11\":0.2,\"12\":0.1,\"13\":0.1,\"14\":0.2,\"15\":0.4,\"16\":0.4,\"17\":0.3,\"18\":0.3,\"19\":0.3,\"20\":0.2,\"21\":0.4,\"22\":0.2,\"23\":0.5,\"24\":0.2,\"25\":0.2,\"26\":0.4,\"27\":0.2,\"28\":0.2,\"29\":0.2,\"30\":0.2,\"31\":0.4,\"32\":0.1,\"33\":0.2,\"34\":0.2,\"35\":0.2,\"36\":0.2,\"37\":0.1,\"38\":0.2,\"39\":0.2,\"40\":0.3,\"41\":0.3,\"42\":0.2,\"43\":0.6,\"44\":0.4,\"45\":0.3,\"46\":0.2,\"47\":0.2,\"48\":0.2,\"49\":0.2,\"50\":1.4,\"51\":1.5,\"52\":1.5,\"53\":1.3,\"54\":1.5,\"55\":1.3,\"56\":1.6,\"57\":1.0,\"58\":1.3,\"59\":1.4,\"60\":1.0,\"61\":1.5,\"62\":1.0,\"63\":1.4,\"64\":1.3,\"65\":1.4,\"66\":1.5,\"67\":1.0,\"68\":1.5,\"69\":1.1,\"70\":1.8,\"71\":1.3,\"72\":1.5,\"73\":1.2,\"74\":1.3,\"75\":1.4,\"76\":1.4,\"77\":1.7,\"78\":1.5,\"79\":1.0,\"80\":1.1,\"81\":1.0,\"82\":1.2,\"83\":1.6,\"84\":1.5,\"85\":1.6,\"86\":1.5,\"87\":1.3,\"88\":1.3,\"89\":1.3,\"90\":1.2,\"91\":1.4,\"92\":1.2,\"93\":1.0,\"94\":1.3,\"95\":1.2,\"96\":1.3,\"97\":1.3,\"98\":1.1,\"99\":1.3,\"100\":2.5,\"101\":1.9,\"102\":2.1,\"103\":1.8,\"104\":2.2,\"105\":2.1,\"106\":1.7,\"107\":1.8,\"108\":1.8,\"109\":2.5,\"110\":2.0,\"111\":1.9,\"112\":2.1,\"113\":2.0,\"114\":2.4,\"115\":2.3,\"116\":1.8,\"117\":2.2,\"118\":2.3,\"119\":1.5,\"120\":2.3,\"121\":2.0,\"122\":2.0,\"123\":1.8,\"124\":2.1,\"125\":1.8,\"126\":1.8,\"127\":1.8,\"128\":2.1,\"129\":1.6,\"130\":1.9,\"131\":2.0,\"132\":2.2,\"133\":1.5,\"134\":1.4,\"135\":2.3,\"136\":2.4,\"137\":1.8,\"138\":1.8,\"139\":2.1,\"140\":2.4,\"141\":2.3,\"142\":1.9,\"143\":2.3,\"144\":2.5,\"145\":2.3,\"146\":1.9,\"147\":2.0,\"148\":2.3,\"149\":1.8},\"Species\":{\"0\":\"setosa\",\"1\":\"setosa\",\"2\":\"setosa\",\"3\":\"setosa\",\"4\":\"setosa\",\"5\":\"setosa\",\"6\":\"setosa\",\"7\":\"setosa\",\"8\":\"setosa\",\"9\":\"setosa\",\"10\":\"setosa\",\"11\":\"setosa\",\"12\":\"setosa\",\"13\":\"setosa\",\"14\":\"setosa\",\"15\":\"setosa\",\"16\":\"setosa\",\"17\":\"setosa\",\"18\":\"setosa\",\"19\":\"setosa\",\"20\":\"setosa\",\"21\":\"setosa\",\"22\":\"setosa\",\"23\":\"setosa\",\"24\":\"setosa\",\"25\":\"setosa\",\"26\":\"setosa\",\"27\":\"setosa\",\"28\":\"setosa\",\"29\":\"setosa\",\"30\":\"setosa\",\"31\":\"setosa\",\"32\":\"setosa\",\"33\":\"setosa\",\"34\":\"setosa\",\"35\":\"setosa\",\"36\":\"setosa\",\"37\":\"setosa\",\"38\":\"setosa\",\"39\":\"setosa\",\"40\":\"setosa\",\"41\":\"setosa\",\"42\":\"setosa\",\"43\":\"setosa\",\"44\":\"setosa\",\"45\":\"setosa\",\"46\":\"setosa\",\"47\":\"setosa\",\"48\":\"setosa\",\"49\":\"setosa\",\"50\":\"versicolor\",\"51\":\"versicolor\",\"52\":\"versicolor\",\"53\":\"versicolor\",\"54\":\"versicolor\",\"55\":\"versicolor\",\"56\":\"versicolor\",\"57\":\"versicolor\",\"58\":\"versicolor\",\"59\":\"versicolor\",\"60\":\"versicolor\",\"61\":\"versicolor\",\"62\":\"versicolor\",\"63\":\"versicolor\",\"64\":\"versicolor\",\"65\":\"versicolor\",\"66\":\"versicolor\",\"67\":\"versicolor\",\"68\":\"versicolor\",\"69\":\"versicolor\",\"70\":\"versicolor\",\"71\":\"versicolor\",\"72\":\"versicolor\",\"73\":\"versicolor\",\"74\":\"versicolor\",\"75\":\"versicolor\",\"76\":\"versicolor\",\"77\":\"versicolor\",\"78\":\"versicolor\",\"79\":\"versicolor\",\"80\":\"versicolor\",\"81\":\"versicolor\",\"82\":\"versicolor\",\"83\":\"versicolor\",\"84\":\"versicolor\",\"85\":\"versicolor\",\"86\":\"versicolor\",\"87\":\"versicolor\",\"88\":\"versicolor\",\"89\":\"versicolor\",\"90\":\"versicolor\",\"91\":\"versicolor\",\"92\":\"versicolor\",\"93\":\"versicolor\",\"94\":\"versicolor\",\"95\":\"versicolor\",\"96\":\"versicolor\",\"97\":\"versicolor\",\"98\":\"versicolor\",\"99\":\"versicolor\",\"100\":\"virginica\",\"101\":\"virginica\",\"102\":\"virginica\",\"103\":\"virginica\",\"104\":\"virginica\",\"105\":\"virginica\",\"106\":\"virginica\",\"107\":\"virginica\",\"108\":\"virginica\",\"109\":\"virginica\",\"110\":\"virginica\",\"111\":\"virginica\",\"112\":\"virginica\",\"113\":\"virginica\",\"114\":\"virginica\",\"115\":\"virginica\",\"116\":\"virginica\",\"117\":\"virginica\",\"118\":\"virginica\",\"119\":\"virginica\",\"120\":\"virginica\",\"121\":\"virginica\",\"122\":\"virginica\",\"123\":\"virginica\",\"124\":\"virginica\",\"125\":\"virginica\",\"126\":\"virginica\",\"127\":\"virginica\",\"128\":\"virginica\",\"129\":\"virginica\",\"130\":\"virginica\",\"131\":\"virginica\",\"132\":\"virginica\",\"133\":\"virginica\",\"134\":\"virginica\",\"135\":\"virginica\",\"136\":\"virginica\",\"137\":\"virginica\",\"138\":\"virginica\",\"139\":\"virginica\",\"140\":\"virginica\",\"141\":\"virginica\",\"142\":\"virginica\",\"143\":\"virginica\",\"144\":\"virginica\",\"145\":\"virginica\",\"146\":\"virginica\",\"147\":\"virginica\",\"148\":\"virginica\",\"149\":\"virginica\"}}'"
      ]
     },
     "execution_count": 5,
     "metadata": {},
     "output_type": "execute_result"
    }
   ],
   "source": [
    "iris.to_json(orient=\"columns\")"
   ]
  },
  {
   "cell_type": "code",
   "execution_count": 6,
   "metadata": {},
   "outputs": [
    {
     "data": {
      "text/plain": [
       "'{\"0\":{\"SepalLength\":5.1,\"SepalWidth\":3.5,\"PetalLength\":1.4,\"PetalWidth\":0.2,\"Species\":\"setosa\"},\"1\":{\"SepalLength\":4.9,\"SepalWidth\":3.0,\"PetalLength\":1.4,\"PetalWidth\":0.2,\"Species\":\"setosa\"},\"2\":{\"SepalLength\":4.7,\"SepalWidth\":3.2,\"PetalLength\":1.3,\"PetalWidth\":0.2,\"Species\":\"setosa\"},\"3\":{\"SepalLength\":4.6,\"SepalWidth\":3.1,\"PetalLength\":1.5,\"PetalWidth\":0.2,\"Species\":\"setosa\"},\"4\":{\"SepalLength\":5.0,\"SepalWidth\":3.6,\"PetalLength\":1.4,\"PetalWidth\":0.2,\"Species\":\"setosa\"},\"5\":{\"SepalLength\":5.4,\"SepalWidth\":3.9,\"PetalLength\":1.7,\"PetalWidth\":0.4,\"Species\":\"setosa\"},\"6\":{\"SepalLength\":4.6,\"SepalWidth\":3.4,\"PetalLength\":1.4,\"PetalWidth\":0.3,\"Species\":\"setosa\"},\"7\":{\"SepalLength\":5.0,\"SepalWidth\":3.4,\"PetalLength\":1.5,\"PetalWidth\":0.2,\"Species\":\"setosa\"},\"8\":{\"SepalLength\":4.4,\"SepalWidth\":2.9,\"PetalLength\":1.4,\"PetalWidth\":0.2,\"Species\":\"setosa\"},\"9\":{\"SepalLength\":4.9,\"SepalWidth\":3.1,\"PetalLength\":1.5,\"PetalWidth\":0.1,\"Species\":\"setosa\"},\"10\":{\"SepalLength\":5.4,\"SepalWidth\":3.7,\"PetalLength\":1.5,\"PetalWidth\":0.2,\"Species\":\"setosa\"},\"11\":{\"SepalLength\":4.8,\"SepalWidth\":3.4,\"PetalLength\":1.6,\"PetalWidth\":0.2,\"Species\":\"setosa\"},\"12\":{\"SepalLength\":4.8,\"SepalWidth\":3.0,\"PetalLength\":1.4,\"PetalWidth\":0.1,\"Species\":\"setosa\"},\"13\":{\"SepalLength\":4.3,\"SepalWidth\":3.0,\"PetalLength\":1.1,\"PetalWidth\":0.1,\"Species\":\"setosa\"},\"14\":{\"SepalLength\":5.8,\"SepalWidth\":4.0,\"PetalLength\":1.2,\"PetalWidth\":0.2,\"Species\":\"setosa\"},\"15\":{\"SepalLength\":5.7,\"SepalWidth\":4.4,\"PetalLength\":1.5,\"PetalWidth\":0.4,\"Species\":\"setosa\"},\"16\":{\"SepalLength\":5.4,\"SepalWidth\":3.9,\"PetalLength\":1.3,\"PetalWidth\":0.4,\"Species\":\"setosa\"},\"17\":{\"SepalLength\":5.1,\"SepalWidth\":3.5,\"PetalLength\":1.4,\"PetalWidth\":0.3,\"Species\":\"setosa\"},\"18\":{\"SepalLength\":5.7,\"SepalWidth\":3.8,\"PetalLength\":1.7,\"PetalWidth\":0.3,\"Species\":\"setosa\"},\"19\":{\"SepalLength\":5.1,\"SepalWidth\":3.8,\"PetalLength\":1.5,\"PetalWidth\":0.3,\"Species\":\"setosa\"},\"20\":{\"SepalLength\":5.4,\"SepalWidth\":3.4,\"PetalLength\":1.7,\"PetalWidth\":0.2,\"Species\":\"setosa\"},\"21\":{\"SepalLength\":5.1,\"SepalWidth\":3.7,\"PetalLength\":1.5,\"PetalWidth\":0.4,\"Species\":\"setosa\"},\"22\":{\"SepalLength\":4.6,\"SepalWidth\":3.6,\"PetalLength\":1.0,\"PetalWidth\":0.2,\"Species\":\"setosa\"},\"23\":{\"SepalLength\":5.1,\"SepalWidth\":3.3,\"PetalLength\":1.7,\"PetalWidth\":0.5,\"Species\":\"setosa\"},\"24\":{\"SepalLength\":4.8,\"SepalWidth\":3.4,\"PetalLength\":1.9,\"PetalWidth\":0.2,\"Species\":\"setosa\"},\"25\":{\"SepalLength\":5.0,\"SepalWidth\":3.0,\"PetalLength\":1.6,\"PetalWidth\":0.2,\"Species\":\"setosa\"},\"26\":{\"SepalLength\":5.0,\"SepalWidth\":3.4,\"PetalLength\":1.6,\"PetalWidth\":0.4,\"Species\":\"setosa\"},\"27\":{\"SepalLength\":5.2,\"SepalWidth\":3.5,\"PetalLength\":1.5,\"PetalWidth\":0.2,\"Species\":\"setosa\"},\"28\":{\"SepalLength\":5.2,\"SepalWidth\":3.4,\"PetalLength\":1.4,\"PetalWidth\":0.2,\"Species\":\"setosa\"},\"29\":{\"SepalLength\":4.7,\"SepalWidth\":3.2,\"PetalLength\":1.6,\"PetalWidth\":0.2,\"Species\":\"setosa\"},\"30\":{\"SepalLength\":4.8,\"SepalWidth\":3.1,\"PetalLength\":1.6,\"PetalWidth\":0.2,\"Species\":\"setosa\"},\"31\":{\"SepalLength\":5.4,\"SepalWidth\":3.4,\"PetalLength\":1.5,\"PetalWidth\":0.4,\"Species\":\"setosa\"},\"32\":{\"SepalLength\":5.2,\"SepalWidth\":4.1,\"PetalLength\":1.5,\"PetalWidth\":0.1,\"Species\":\"setosa\"},\"33\":{\"SepalLength\":5.5,\"SepalWidth\":4.2,\"PetalLength\":1.4,\"PetalWidth\":0.2,\"Species\":\"setosa\"},\"34\":{\"SepalLength\":4.9,\"SepalWidth\":3.1,\"PetalLength\":1.5,\"PetalWidth\":0.2,\"Species\":\"setosa\"},\"35\":{\"SepalLength\":5.0,\"SepalWidth\":3.2,\"PetalLength\":1.2,\"PetalWidth\":0.2,\"Species\":\"setosa\"},\"36\":{\"SepalLength\":5.5,\"SepalWidth\":3.5,\"PetalLength\":1.3,\"PetalWidth\":0.2,\"Species\":\"setosa\"},\"37\":{\"SepalLength\":4.9,\"SepalWidth\":3.6,\"PetalLength\":1.4,\"PetalWidth\":0.1,\"Species\":\"setosa\"},\"38\":{\"SepalLength\":4.4,\"SepalWidth\":3.0,\"PetalLength\":1.3,\"PetalWidth\":0.2,\"Species\":\"setosa\"},\"39\":{\"SepalLength\":5.1,\"SepalWidth\":3.4,\"PetalLength\":1.5,\"PetalWidth\":0.2,\"Species\":\"setosa\"},\"40\":{\"SepalLength\":5.0,\"SepalWidth\":3.5,\"PetalLength\":1.3,\"PetalWidth\":0.3,\"Species\":\"setosa\"},\"41\":{\"SepalLength\":4.5,\"SepalWidth\":2.3,\"PetalLength\":1.3,\"PetalWidth\":0.3,\"Species\":\"setosa\"},\"42\":{\"SepalLength\":4.4,\"SepalWidth\":3.2,\"PetalLength\":1.3,\"PetalWidth\":0.2,\"Species\":\"setosa\"},\"43\":{\"SepalLength\":5.0,\"SepalWidth\":3.5,\"PetalLength\":1.6,\"PetalWidth\":0.6,\"Species\":\"setosa\"},\"44\":{\"SepalLength\":5.1,\"SepalWidth\":3.8,\"PetalLength\":1.9,\"PetalWidth\":0.4,\"Species\":\"setosa\"},\"45\":{\"SepalLength\":4.8,\"SepalWidth\":3.0,\"PetalLength\":1.4,\"PetalWidth\":0.3,\"Species\":\"setosa\"},\"46\":{\"SepalLength\":5.1,\"SepalWidth\":3.8,\"PetalLength\":1.6,\"PetalWidth\":0.2,\"Species\":\"setosa\"},\"47\":{\"SepalLength\":4.6,\"SepalWidth\":3.2,\"PetalLength\":1.4,\"PetalWidth\":0.2,\"Species\":\"setosa\"},\"48\":{\"SepalLength\":5.3,\"SepalWidth\":3.7,\"PetalLength\":1.5,\"PetalWidth\":0.2,\"Species\":\"setosa\"},\"49\":{\"SepalLength\":5.0,\"SepalWidth\":3.3,\"PetalLength\":1.4,\"PetalWidth\":0.2,\"Species\":\"setosa\"},\"50\":{\"SepalLength\":7.0,\"SepalWidth\":3.2,\"PetalLength\":4.7,\"PetalWidth\":1.4,\"Species\":\"versicolor\"},\"51\":{\"SepalLength\":6.4,\"SepalWidth\":3.2,\"PetalLength\":4.5,\"PetalWidth\":1.5,\"Species\":\"versicolor\"},\"52\":{\"SepalLength\":6.9,\"SepalWidth\":3.1,\"PetalLength\":4.9,\"PetalWidth\":1.5,\"Species\":\"versicolor\"},\"53\":{\"SepalLength\":5.5,\"SepalWidth\":2.3,\"PetalLength\":4.0,\"PetalWidth\":1.3,\"Species\":\"versicolor\"},\"54\":{\"SepalLength\":6.5,\"SepalWidth\":2.8,\"PetalLength\":4.6,\"PetalWidth\":1.5,\"Species\":\"versicolor\"},\"55\":{\"SepalLength\":5.7,\"SepalWidth\":2.8,\"PetalLength\":4.5,\"PetalWidth\":1.3,\"Species\":\"versicolor\"},\"56\":{\"SepalLength\":6.3,\"SepalWidth\":3.3,\"PetalLength\":4.7,\"PetalWidth\":1.6,\"Species\":\"versicolor\"},\"57\":{\"SepalLength\":4.9,\"SepalWidth\":2.4,\"PetalLength\":3.3,\"PetalWidth\":1.0,\"Species\":\"versicolor\"},\"58\":{\"SepalLength\":6.6,\"SepalWidth\":2.9,\"PetalLength\":4.6,\"PetalWidth\":1.3,\"Species\":\"versicolor\"},\"59\":{\"SepalLength\":5.2,\"SepalWidth\":2.7,\"PetalLength\":3.9,\"PetalWidth\":1.4,\"Species\":\"versicolor\"},\"60\":{\"SepalLength\":5.0,\"SepalWidth\":2.0,\"PetalLength\":3.5,\"PetalWidth\":1.0,\"Species\":\"versicolor\"},\"61\":{\"SepalLength\":5.9,\"SepalWidth\":3.0,\"PetalLength\":4.2,\"PetalWidth\":1.5,\"Species\":\"versicolor\"},\"62\":{\"SepalLength\":6.0,\"SepalWidth\":2.2,\"PetalLength\":4.0,\"PetalWidth\":1.0,\"Species\":\"versicolor\"},\"63\":{\"SepalLength\":6.1,\"SepalWidth\":2.9,\"PetalLength\":4.7,\"PetalWidth\":1.4,\"Species\":\"versicolor\"},\"64\":{\"SepalLength\":5.6,\"SepalWidth\":2.9,\"PetalLength\":3.6,\"PetalWidth\":1.3,\"Species\":\"versicolor\"},\"65\":{\"SepalLength\":6.7,\"SepalWidth\":3.1,\"PetalLength\":4.4,\"PetalWidth\":1.4,\"Species\":\"versicolor\"},\"66\":{\"SepalLength\":5.6,\"SepalWidth\":3.0,\"PetalLength\":4.5,\"PetalWidth\":1.5,\"Species\":\"versicolor\"},\"67\":{\"SepalLength\":5.8,\"SepalWidth\":2.7,\"PetalLength\":4.1,\"PetalWidth\":1.0,\"Species\":\"versicolor\"},\"68\":{\"SepalLength\":6.2,\"SepalWidth\":2.2,\"PetalLength\":4.5,\"PetalWidth\":1.5,\"Species\":\"versicolor\"},\"69\":{\"SepalLength\":5.6,\"SepalWidth\":2.5,\"PetalLength\":3.9,\"PetalWidth\":1.1,\"Species\":\"versicolor\"},\"70\":{\"SepalLength\":5.9,\"SepalWidth\":3.2,\"PetalLength\":4.8,\"PetalWidth\":1.8,\"Species\":\"versicolor\"},\"71\":{\"SepalLength\":6.1,\"SepalWidth\":2.8,\"PetalLength\":4.0,\"PetalWidth\":1.3,\"Species\":\"versicolor\"},\"72\":{\"SepalLength\":6.3,\"SepalWidth\":2.5,\"PetalLength\":4.9,\"PetalWidth\":1.5,\"Species\":\"versicolor\"},\"73\":{\"SepalLength\":6.1,\"SepalWidth\":2.8,\"PetalLength\":4.7,\"PetalWidth\":1.2,\"Species\":\"versicolor\"},\"74\":{\"SepalLength\":6.4,\"SepalWidth\":2.9,\"PetalLength\":4.3,\"PetalWidth\":1.3,\"Species\":\"versicolor\"},\"75\":{\"SepalLength\":6.6,\"SepalWidth\":3.0,\"PetalLength\":4.4,\"PetalWidth\":1.4,\"Species\":\"versicolor\"},\"76\":{\"SepalLength\":6.8,\"SepalWidth\":2.8,\"PetalLength\":4.8,\"PetalWidth\":1.4,\"Species\":\"versicolor\"},\"77\":{\"SepalLength\":6.7,\"SepalWidth\":3.0,\"PetalLength\":5.0,\"PetalWidth\":1.7,\"Species\":\"versicolor\"},\"78\":{\"SepalLength\":6.0,\"SepalWidth\":2.9,\"PetalLength\":4.5,\"PetalWidth\":1.5,\"Species\":\"versicolor\"},\"79\":{\"SepalLength\":5.7,\"SepalWidth\":2.6,\"PetalLength\":3.5,\"PetalWidth\":1.0,\"Species\":\"versicolor\"},\"80\":{\"SepalLength\":5.5,\"SepalWidth\":2.4,\"PetalLength\":3.8,\"PetalWidth\":1.1,\"Species\":\"versicolor\"},\"81\":{\"SepalLength\":5.5,\"SepalWidth\":2.4,\"PetalLength\":3.7,\"PetalWidth\":1.0,\"Species\":\"versicolor\"},\"82\":{\"SepalLength\":5.8,\"SepalWidth\":2.7,\"PetalLength\":3.9,\"PetalWidth\":1.2,\"Species\":\"versicolor\"},\"83\":{\"SepalLength\":6.0,\"SepalWidth\":2.7,\"PetalLength\":5.1,\"PetalWidth\":1.6,\"Species\":\"versicolor\"},\"84\":{\"SepalLength\":5.4,\"SepalWidth\":3.0,\"PetalLength\":4.5,\"PetalWidth\":1.5,\"Species\":\"versicolor\"},\"85\":{\"SepalLength\":6.0,\"SepalWidth\":3.4,\"PetalLength\":4.5,\"PetalWidth\":1.6,\"Species\":\"versicolor\"},\"86\":{\"SepalLength\":6.7,\"SepalWidth\":3.1,\"PetalLength\":4.7,\"PetalWidth\":1.5,\"Species\":\"versicolor\"},\"87\":{\"SepalLength\":6.3,\"SepalWidth\":2.3,\"PetalLength\":4.4,\"PetalWidth\":1.3,\"Species\":\"versicolor\"},\"88\":{\"SepalLength\":5.6,\"SepalWidth\":3.0,\"PetalLength\":4.1,\"PetalWidth\":1.3,\"Species\":\"versicolor\"},\"89\":{\"SepalLength\":5.5,\"SepalWidth\":2.5,\"PetalLength\":4.0,\"PetalWidth\":1.3,\"Species\":\"versicolor\"},\"90\":{\"SepalLength\":5.5,\"SepalWidth\":2.6,\"PetalLength\":4.4,\"PetalWidth\":1.2,\"Species\":\"versicolor\"},\"91\":{\"SepalLength\":6.1,\"SepalWidth\":3.0,\"PetalLength\":4.6,\"PetalWidth\":1.4,\"Species\":\"versicolor\"},\"92\":{\"SepalLength\":5.8,\"SepalWidth\":2.6,\"PetalLength\":4.0,\"PetalWidth\":1.2,\"Species\":\"versicolor\"},\"93\":{\"SepalLength\":5.0,\"SepalWidth\":2.3,\"PetalLength\":3.3,\"PetalWidth\":1.0,\"Species\":\"versicolor\"},\"94\":{\"SepalLength\":5.6,\"SepalWidth\":2.7,\"PetalLength\":4.2,\"PetalWidth\":1.3,\"Species\":\"versicolor\"},\"95\":{\"SepalLength\":5.7,\"SepalWidth\":3.0,\"PetalLength\":4.2,\"PetalWidth\":1.2,\"Species\":\"versicolor\"},\"96\":{\"SepalLength\":5.7,\"SepalWidth\":2.9,\"PetalLength\":4.2,\"PetalWidth\":1.3,\"Species\":\"versicolor\"},\"97\":{\"SepalLength\":6.2,\"SepalWidth\":2.9,\"PetalLength\":4.3,\"PetalWidth\":1.3,\"Species\":\"versicolor\"},\"98\":{\"SepalLength\":5.1,\"SepalWidth\":2.5,\"PetalLength\":3.0,\"PetalWidth\":1.1,\"Species\":\"versicolor\"},\"99\":{\"SepalLength\":5.7,\"SepalWidth\":2.8,\"PetalLength\":4.1,\"PetalWidth\":1.3,\"Species\":\"versicolor\"},\"100\":{\"SepalLength\":6.3,\"SepalWidth\":3.3,\"PetalLength\":6.0,\"PetalWidth\":2.5,\"Species\":\"virginica\"},\"101\":{\"SepalLength\":5.8,\"SepalWidth\":2.7,\"PetalLength\":5.1,\"PetalWidth\":1.9,\"Species\":\"virginica\"},\"102\":{\"SepalLength\":7.1,\"SepalWidth\":3.0,\"PetalLength\":5.9,\"PetalWidth\":2.1,\"Species\":\"virginica\"},\"103\":{\"SepalLength\":6.3,\"SepalWidth\":2.9,\"PetalLength\":5.6,\"PetalWidth\":1.8,\"Species\":\"virginica\"},\"104\":{\"SepalLength\":6.5,\"SepalWidth\":3.0,\"PetalLength\":5.8,\"PetalWidth\":2.2,\"Species\":\"virginica\"},\"105\":{\"SepalLength\":7.6,\"SepalWidth\":3.0,\"PetalLength\":6.6,\"PetalWidth\":2.1,\"Species\":\"virginica\"},\"106\":{\"SepalLength\":4.9,\"SepalWidth\":2.5,\"PetalLength\":4.5,\"PetalWidth\":1.7,\"Species\":\"virginica\"},\"107\":{\"SepalLength\":7.3,\"SepalWidth\":2.9,\"PetalLength\":6.3,\"PetalWidth\":1.8,\"Species\":\"virginica\"},\"108\":{\"SepalLength\":6.7,\"SepalWidth\":2.5,\"PetalLength\":5.8,\"PetalWidth\":1.8,\"Species\":\"virginica\"},\"109\":{\"SepalLength\":7.2,\"SepalWidth\":3.6,\"PetalLength\":6.1,\"PetalWidth\":2.5,\"Species\":\"virginica\"},\"110\":{\"SepalLength\":6.5,\"SepalWidth\":3.2,\"PetalLength\":5.1,\"PetalWidth\":2.0,\"Species\":\"virginica\"},\"111\":{\"SepalLength\":6.4,\"SepalWidth\":2.7,\"PetalLength\":5.3,\"PetalWidth\":1.9,\"Species\":\"virginica\"},\"112\":{\"SepalLength\":6.8,\"SepalWidth\":3.0,\"PetalLength\":5.5,\"PetalWidth\":2.1,\"Species\":\"virginica\"},\"113\":{\"SepalLength\":5.7,\"SepalWidth\":2.5,\"PetalLength\":5.0,\"PetalWidth\":2.0,\"Species\":\"virginica\"},\"114\":{\"SepalLength\":5.8,\"SepalWidth\":2.8,\"PetalLength\":5.1,\"PetalWidth\":2.4,\"Species\":\"virginica\"},\"115\":{\"SepalLength\":6.4,\"SepalWidth\":3.2,\"PetalLength\":5.3,\"PetalWidth\":2.3,\"Species\":\"virginica\"},\"116\":{\"SepalLength\":6.5,\"SepalWidth\":3.0,\"PetalLength\":5.5,\"PetalWidth\":1.8,\"Species\":\"virginica\"},\"117\":{\"SepalLength\":7.7,\"SepalWidth\":3.8,\"PetalLength\":6.7,\"PetalWidth\":2.2,\"Species\":\"virginica\"},\"118\":{\"SepalLength\":7.7,\"SepalWidth\":2.6,\"PetalLength\":6.9,\"PetalWidth\":2.3,\"Species\":\"virginica\"},\"119\":{\"SepalLength\":6.0,\"SepalWidth\":2.2,\"PetalLength\":5.0,\"PetalWidth\":1.5,\"Species\":\"virginica\"},\"120\":{\"SepalLength\":6.9,\"SepalWidth\":3.2,\"PetalLength\":5.7,\"PetalWidth\":2.3,\"Species\":\"virginica\"},\"121\":{\"SepalLength\":5.6,\"SepalWidth\":2.8,\"PetalLength\":4.9,\"PetalWidth\":2.0,\"Species\":\"virginica\"},\"122\":{\"SepalLength\":7.7,\"SepalWidth\":2.8,\"PetalLength\":6.7,\"PetalWidth\":2.0,\"Species\":\"virginica\"},\"123\":{\"SepalLength\":6.3,\"SepalWidth\":2.7,\"PetalLength\":4.9,\"PetalWidth\":1.8,\"Species\":\"virginica\"},\"124\":{\"SepalLength\":6.7,\"SepalWidth\":3.3,\"PetalLength\":5.7,\"PetalWidth\":2.1,\"Species\":\"virginica\"},\"125\":{\"SepalLength\":7.2,\"SepalWidth\":3.2,\"PetalLength\":6.0,\"PetalWidth\":1.8,\"Species\":\"virginica\"},\"126\":{\"SepalLength\":6.2,\"SepalWidth\":2.8,\"PetalLength\":4.8,\"PetalWidth\":1.8,\"Species\":\"virginica\"},\"127\":{\"SepalLength\":6.1,\"SepalWidth\":3.0,\"PetalLength\":4.9,\"PetalWidth\":1.8,\"Species\":\"virginica\"},\"128\":{\"SepalLength\":6.4,\"SepalWidth\":2.8,\"PetalLength\":5.6,\"PetalWidth\":2.1,\"Species\":\"virginica\"},\"129\":{\"SepalLength\":7.2,\"SepalWidth\":3.0,\"PetalLength\":5.8,\"PetalWidth\":1.6,\"Species\":\"virginica\"},\"130\":{\"SepalLength\":7.4,\"SepalWidth\":2.8,\"PetalLength\":6.1,\"PetalWidth\":1.9,\"Species\":\"virginica\"},\"131\":{\"SepalLength\":7.9,\"SepalWidth\":3.8,\"PetalLength\":6.4,\"PetalWidth\":2.0,\"Species\":\"virginica\"},\"132\":{\"SepalLength\":6.4,\"SepalWidth\":2.8,\"PetalLength\":5.6,\"PetalWidth\":2.2,\"Species\":\"virginica\"},\"133\":{\"SepalLength\":6.3,\"SepalWidth\":2.8,\"PetalLength\":5.1,\"PetalWidth\":1.5,\"Species\":\"virginica\"},\"134\":{\"SepalLength\":6.1,\"SepalWidth\":2.6,\"PetalLength\":5.6,\"PetalWidth\":1.4,\"Species\":\"virginica\"},\"135\":{\"SepalLength\":7.7,\"SepalWidth\":3.0,\"PetalLength\":6.1,\"PetalWidth\":2.3,\"Species\":\"virginica\"},\"136\":{\"SepalLength\":6.3,\"SepalWidth\":3.4,\"PetalLength\":5.6,\"PetalWidth\":2.4,\"Species\":\"virginica\"},\"137\":{\"SepalLength\":6.4,\"SepalWidth\":3.1,\"PetalLength\":5.5,\"PetalWidth\":1.8,\"Species\":\"virginica\"},\"138\":{\"SepalLength\":6.0,\"SepalWidth\":3.0,\"PetalLength\":4.8,\"PetalWidth\":1.8,\"Species\":\"virginica\"},\"139\":{\"SepalLength\":6.9,\"SepalWidth\":3.1,\"PetalLength\":5.4,\"PetalWidth\":2.1,\"Species\":\"virginica\"},\"140\":{\"SepalLength\":6.7,\"SepalWidth\":3.1,\"PetalLength\":5.6,\"PetalWidth\":2.4,\"Species\":\"virginica\"},\"141\":{\"SepalLength\":6.9,\"SepalWidth\":3.1,\"PetalLength\":5.1,\"PetalWidth\":2.3,\"Species\":\"virginica\"},\"142\":{\"SepalLength\":5.8,\"SepalWidth\":2.7,\"PetalLength\":5.1,\"PetalWidth\":1.9,\"Species\":\"virginica\"},\"143\":{\"SepalLength\":6.8,\"SepalWidth\":3.2,\"PetalLength\":5.9,\"PetalWidth\":2.3,\"Species\":\"virginica\"},\"144\":{\"SepalLength\":6.7,\"SepalWidth\":3.3,\"PetalLength\":5.7,\"PetalWidth\":2.5,\"Species\":\"virginica\"},\"145\":{\"SepalLength\":6.7,\"SepalWidth\":3.0,\"PetalLength\":5.2,\"PetalWidth\":2.3,\"Species\":\"virginica\"},\"146\":{\"SepalLength\":6.3,\"SepalWidth\":2.5,\"PetalLength\":5.0,\"PetalWidth\":1.9,\"Species\":\"virginica\"},\"147\":{\"SepalLength\":6.5,\"SepalWidth\":3.0,\"PetalLength\":5.2,\"PetalWidth\":2.0,\"Species\":\"virginica\"},\"148\":{\"SepalLength\":6.2,\"SepalWidth\":3.4,\"PetalLength\":5.4,\"PetalWidth\":2.3,\"Species\":\"virginica\"},\"149\":{\"SepalLength\":5.9,\"SepalWidth\":3.0,\"PetalLength\":5.1,\"PetalWidth\":1.8,\"Species\":\"virginica\"}}'"
      ]
     },
     "execution_count": 6,
     "metadata": {},
     "output_type": "execute_result"
    }
   ],
   "source": [
    "iris.to_json(orient=\"index\")"
   ]
  },
  {
   "cell_type": "code",
   "execution_count": 7,
   "metadata": {},
   "outputs": [
    {
     "data": {
      "text/plain": [
       "'[{\"SepalLength\":5.1,\"SepalWidth\":3.5,\"PetalLength\":1.4,\"PetalWidth\":0.2,\"Species\":\"setosa\"},{\"SepalLength\":4.9,\"SepalWidth\":3.0,\"PetalLength\":1.4,\"PetalWidth\":0.2,\"Species\":\"setosa\"},{\"SepalLength\":4.7,\"SepalWidth\":3.2,\"PetalLength\":1.3,\"PetalWidth\":0.2,\"Species\":\"setosa\"},{\"SepalLength\":4.6,\"SepalWidth\":3.1,\"PetalLength\":1.5,\"PetalWidth\":0.2,\"Species\":\"setosa\"},{\"SepalLength\":5.0,\"SepalWidth\":3.6,\"PetalLength\":1.4,\"PetalWidth\":0.2,\"Species\":\"setosa\"},{\"SepalLength\":5.4,\"SepalWidth\":3.9,\"PetalLength\":1.7,\"PetalWidth\":0.4,\"Species\":\"setosa\"},{\"SepalLength\":4.6,\"SepalWidth\":3.4,\"PetalLength\":1.4,\"PetalWidth\":0.3,\"Species\":\"setosa\"},{\"SepalLength\":5.0,\"SepalWidth\":3.4,\"PetalLength\":1.5,\"PetalWidth\":0.2,\"Species\":\"setosa\"},{\"SepalLength\":4.4,\"SepalWidth\":2.9,\"PetalLength\":1.4,\"PetalWidth\":0.2,\"Species\":\"setosa\"},{\"SepalLength\":4.9,\"SepalWidth\":3.1,\"PetalLength\":1.5,\"PetalWidth\":0.1,\"Species\":\"setosa\"},{\"SepalLength\":5.4,\"SepalWidth\":3.7,\"PetalLength\":1.5,\"PetalWidth\":0.2,\"Species\":\"setosa\"},{\"SepalLength\":4.8,\"SepalWidth\":3.4,\"PetalLength\":1.6,\"PetalWidth\":0.2,\"Species\":\"setosa\"},{\"SepalLength\":4.8,\"SepalWidth\":3.0,\"PetalLength\":1.4,\"PetalWidth\":0.1,\"Species\":\"setosa\"},{\"SepalLength\":4.3,\"SepalWidth\":3.0,\"PetalLength\":1.1,\"PetalWidth\":0.1,\"Species\":\"setosa\"},{\"SepalLength\":5.8,\"SepalWidth\":4.0,\"PetalLength\":1.2,\"PetalWidth\":0.2,\"Species\":\"setosa\"},{\"SepalLength\":5.7,\"SepalWidth\":4.4,\"PetalLength\":1.5,\"PetalWidth\":0.4,\"Species\":\"setosa\"},{\"SepalLength\":5.4,\"SepalWidth\":3.9,\"PetalLength\":1.3,\"PetalWidth\":0.4,\"Species\":\"setosa\"},{\"SepalLength\":5.1,\"SepalWidth\":3.5,\"PetalLength\":1.4,\"PetalWidth\":0.3,\"Species\":\"setosa\"},{\"SepalLength\":5.7,\"SepalWidth\":3.8,\"PetalLength\":1.7,\"PetalWidth\":0.3,\"Species\":\"setosa\"},{\"SepalLength\":5.1,\"SepalWidth\":3.8,\"PetalLength\":1.5,\"PetalWidth\":0.3,\"Species\":\"setosa\"},{\"SepalLength\":5.4,\"SepalWidth\":3.4,\"PetalLength\":1.7,\"PetalWidth\":0.2,\"Species\":\"setosa\"},{\"SepalLength\":5.1,\"SepalWidth\":3.7,\"PetalLength\":1.5,\"PetalWidth\":0.4,\"Species\":\"setosa\"},{\"SepalLength\":4.6,\"SepalWidth\":3.6,\"PetalLength\":1.0,\"PetalWidth\":0.2,\"Species\":\"setosa\"},{\"SepalLength\":5.1,\"SepalWidth\":3.3,\"PetalLength\":1.7,\"PetalWidth\":0.5,\"Species\":\"setosa\"},{\"SepalLength\":4.8,\"SepalWidth\":3.4,\"PetalLength\":1.9,\"PetalWidth\":0.2,\"Species\":\"setosa\"},{\"SepalLength\":5.0,\"SepalWidth\":3.0,\"PetalLength\":1.6,\"PetalWidth\":0.2,\"Species\":\"setosa\"},{\"SepalLength\":5.0,\"SepalWidth\":3.4,\"PetalLength\":1.6,\"PetalWidth\":0.4,\"Species\":\"setosa\"},{\"SepalLength\":5.2,\"SepalWidth\":3.5,\"PetalLength\":1.5,\"PetalWidth\":0.2,\"Species\":\"setosa\"},{\"SepalLength\":5.2,\"SepalWidth\":3.4,\"PetalLength\":1.4,\"PetalWidth\":0.2,\"Species\":\"setosa\"},{\"SepalLength\":4.7,\"SepalWidth\":3.2,\"PetalLength\":1.6,\"PetalWidth\":0.2,\"Species\":\"setosa\"},{\"SepalLength\":4.8,\"SepalWidth\":3.1,\"PetalLength\":1.6,\"PetalWidth\":0.2,\"Species\":\"setosa\"},{\"SepalLength\":5.4,\"SepalWidth\":3.4,\"PetalLength\":1.5,\"PetalWidth\":0.4,\"Species\":\"setosa\"},{\"SepalLength\":5.2,\"SepalWidth\":4.1,\"PetalLength\":1.5,\"PetalWidth\":0.1,\"Species\":\"setosa\"},{\"SepalLength\":5.5,\"SepalWidth\":4.2,\"PetalLength\":1.4,\"PetalWidth\":0.2,\"Species\":\"setosa\"},{\"SepalLength\":4.9,\"SepalWidth\":3.1,\"PetalLength\":1.5,\"PetalWidth\":0.2,\"Species\":\"setosa\"},{\"SepalLength\":5.0,\"SepalWidth\":3.2,\"PetalLength\":1.2,\"PetalWidth\":0.2,\"Species\":\"setosa\"},{\"SepalLength\":5.5,\"SepalWidth\":3.5,\"PetalLength\":1.3,\"PetalWidth\":0.2,\"Species\":\"setosa\"},{\"SepalLength\":4.9,\"SepalWidth\":3.6,\"PetalLength\":1.4,\"PetalWidth\":0.1,\"Species\":\"setosa\"},{\"SepalLength\":4.4,\"SepalWidth\":3.0,\"PetalLength\":1.3,\"PetalWidth\":0.2,\"Species\":\"setosa\"},{\"SepalLength\":5.1,\"SepalWidth\":3.4,\"PetalLength\":1.5,\"PetalWidth\":0.2,\"Species\":\"setosa\"},{\"SepalLength\":5.0,\"SepalWidth\":3.5,\"PetalLength\":1.3,\"PetalWidth\":0.3,\"Species\":\"setosa\"},{\"SepalLength\":4.5,\"SepalWidth\":2.3,\"PetalLength\":1.3,\"PetalWidth\":0.3,\"Species\":\"setosa\"},{\"SepalLength\":4.4,\"SepalWidth\":3.2,\"PetalLength\":1.3,\"PetalWidth\":0.2,\"Species\":\"setosa\"},{\"SepalLength\":5.0,\"SepalWidth\":3.5,\"PetalLength\":1.6,\"PetalWidth\":0.6,\"Species\":\"setosa\"},{\"SepalLength\":5.1,\"SepalWidth\":3.8,\"PetalLength\":1.9,\"PetalWidth\":0.4,\"Species\":\"setosa\"},{\"SepalLength\":4.8,\"SepalWidth\":3.0,\"PetalLength\":1.4,\"PetalWidth\":0.3,\"Species\":\"setosa\"},{\"SepalLength\":5.1,\"SepalWidth\":3.8,\"PetalLength\":1.6,\"PetalWidth\":0.2,\"Species\":\"setosa\"},{\"SepalLength\":4.6,\"SepalWidth\":3.2,\"PetalLength\":1.4,\"PetalWidth\":0.2,\"Species\":\"setosa\"},{\"SepalLength\":5.3,\"SepalWidth\":3.7,\"PetalLength\":1.5,\"PetalWidth\":0.2,\"Species\":\"setosa\"},{\"SepalLength\":5.0,\"SepalWidth\":3.3,\"PetalLength\":1.4,\"PetalWidth\":0.2,\"Species\":\"setosa\"},{\"SepalLength\":7.0,\"SepalWidth\":3.2,\"PetalLength\":4.7,\"PetalWidth\":1.4,\"Species\":\"versicolor\"},{\"SepalLength\":6.4,\"SepalWidth\":3.2,\"PetalLength\":4.5,\"PetalWidth\":1.5,\"Species\":\"versicolor\"},{\"SepalLength\":6.9,\"SepalWidth\":3.1,\"PetalLength\":4.9,\"PetalWidth\":1.5,\"Species\":\"versicolor\"},{\"SepalLength\":5.5,\"SepalWidth\":2.3,\"PetalLength\":4.0,\"PetalWidth\":1.3,\"Species\":\"versicolor\"},{\"SepalLength\":6.5,\"SepalWidth\":2.8,\"PetalLength\":4.6,\"PetalWidth\":1.5,\"Species\":\"versicolor\"},{\"SepalLength\":5.7,\"SepalWidth\":2.8,\"PetalLength\":4.5,\"PetalWidth\":1.3,\"Species\":\"versicolor\"},{\"SepalLength\":6.3,\"SepalWidth\":3.3,\"PetalLength\":4.7,\"PetalWidth\":1.6,\"Species\":\"versicolor\"},{\"SepalLength\":4.9,\"SepalWidth\":2.4,\"PetalLength\":3.3,\"PetalWidth\":1.0,\"Species\":\"versicolor\"},{\"SepalLength\":6.6,\"SepalWidth\":2.9,\"PetalLength\":4.6,\"PetalWidth\":1.3,\"Species\":\"versicolor\"},{\"SepalLength\":5.2,\"SepalWidth\":2.7,\"PetalLength\":3.9,\"PetalWidth\":1.4,\"Species\":\"versicolor\"},{\"SepalLength\":5.0,\"SepalWidth\":2.0,\"PetalLength\":3.5,\"PetalWidth\":1.0,\"Species\":\"versicolor\"},{\"SepalLength\":5.9,\"SepalWidth\":3.0,\"PetalLength\":4.2,\"PetalWidth\":1.5,\"Species\":\"versicolor\"},{\"SepalLength\":6.0,\"SepalWidth\":2.2,\"PetalLength\":4.0,\"PetalWidth\":1.0,\"Species\":\"versicolor\"},{\"SepalLength\":6.1,\"SepalWidth\":2.9,\"PetalLength\":4.7,\"PetalWidth\":1.4,\"Species\":\"versicolor\"},{\"SepalLength\":5.6,\"SepalWidth\":2.9,\"PetalLength\":3.6,\"PetalWidth\":1.3,\"Species\":\"versicolor\"},{\"SepalLength\":6.7,\"SepalWidth\":3.1,\"PetalLength\":4.4,\"PetalWidth\":1.4,\"Species\":\"versicolor\"},{\"SepalLength\":5.6,\"SepalWidth\":3.0,\"PetalLength\":4.5,\"PetalWidth\":1.5,\"Species\":\"versicolor\"},{\"SepalLength\":5.8,\"SepalWidth\":2.7,\"PetalLength\":4.1,\"PetalWidth\":1.0,\"Species\":\"versicolor\"},{\"SepalLength\":6.2,\"SepalWidth\":2.2,\"PetalLength\":4.5,\"PetalWidth\":1.5,\"Species\":\"versicolor\"},{\"SepalLength\":5.6,\"SepalWidth\":2.5,\"PetalLength\":3.9,\"PetalWidth\":1.1,\"Species\":\"versicolor\"},{\"SepalLength\":5.9,\"SepalWidth\":3.2,\"PetalLength\":4.8,\"PetalWidth\":1.8,\"Species\":\"versicolor\"},{\"SepalLength\":6.1,\"SepalWidth\":2.8,\"PetalLength\":4.0,\"PetalWidth\":1.3,\"Species\":\"versicolor\"},{\"SepalLength\":6.3,\"SepalWidth\":2.5,\"PetalLength\":4.9,\"PetalWidth\":1.5,\"Species\":\"versicolor\"},{\"SepalLength\":6.1,\"SepalWidth\":2.8,\"PetalLength\":4.7,\"PetalWidth\":1.2,\"Species\":\"versicolor\"},{\"SepalLength\":6.4,\"SepalWidth\":2.9,\"PetalLength\":4.3,\"PetalWidth\":1.3,\"Species\":\"versicolor\"},{\"SepalLength\":6.6,\"SepalWidth\":3.0,\"PetalLength\":4.4,\"PetalWidth\":1.4,\"Species\":\"versicolor\"},{\"SepalLength\":6.8,\"SepalWidth\":2.8,\"PetalLength\":4.8,\"PetalWidth\":1.4,\"Species\":\"versicolor\"},{\"SepalLength\":6.7,\"SepalWidth\":3.0,\"PetalLength\":5.0,\"PetalWidth\":1.7,\"Species\":\"versicolor\"},{\"SepalLength\":6.0,\"SepalWidth\":2.9,\"PetalLength\":4.5,\"PetalWidth\":1.5,\"Species\":\"versicolor\"},{\"SepalLength\":5.7,\"SepalWidth\":2.6,\"PetalLength\":3.5,\"PetalWidth\":1.0,\"Species\":\"versicolor\"},{\"SepalLength\":5.5,\"SepalWidth\":2.4,\"PetalLength\":3.8,\"PetalWidth\":1.1,\"Species\":\"versicolor\"},{\"SepalLength\":5.5,\"SepalWidth\":2.4,\"PetalLength\":3.7,\"PetalWidth\":1.0,\"Species\":\"versicolor\"},{\"SepalLength\":5.8,\"SepalWidth\":2.7,\"PetalLength\":3.9,\"PetalWidth\":1.2,\"Species\":\"versicolor\"},{\"SepalLength\":6.0,\"SepalWidth\":2.7,\"PetalLength\":5.1,\"PetalWidth\":1.6,\"Species\":\"versicolor\"},{\"SepalLength\":5.4,\"SepalWidth\":3.0,\"PetalLength\":4.5,\"PetalWidth\":1.5,\"Species\":\"versicolor\"},{\"SepalLength\":6.0,\"SepalWidth\":3.4,\"PetalLength\":4.5,\"PetalWidth\":1.6,\"Species\":\"versicolor\"},{\"SepalLength\":6.7,\"SepalWidth\":3.1,\"PetalLength\":4.7,\"PetalWidth\":1.5,\"Species\":\"versicolor\"},{\"SepalLength\":6.3,\"SepalWidth\":2.3,\"PetalLength\":4.4,\"PetalWidth\":1.3,\"Species\":\"versicolor\"},{\"SepalLength\":5.6,\"SepalWidth\":3.0,\"PetalLength\":4.1,\"PetalWidth\":1.3,\"Species\":\"versicolor\"},{\"SepalLength\":5.5,\"SepalWidth\":2.5,\"PetalLength\":4.0,\"PetalWidth\":1.3,\"Species\":\"versicolor\"},{\"SepalLength\":5.5,\"SepalWidth\":2.6,\"PetalLength\":4.4,\"PetalWidth\":1.2,\"Species\":\"versicolor\"},{\"SepalLength\":6.1,\"SepalWidth\":3.0,\"PetalLength\":4.6,\"PetalWidth\":1.4,\"Species\":\"versicolor\"},{\"SepalLength\":5.8,\"SepalWidth\":2.6,\"PetalLength\":4.0,\"PetalWidth\":1.2,\"Species\":\"versicolor\"},{\"SepalLength\":5.0,\"SepalWidth\":2.3,\"PetalLength\":3.3,\"PetalWidth\":1.0,\"Species\":\"versicolor\"},{\"SepalLength\":5.6,\"SepalWidth\":2.7,\"PetalLength\":4.2,\"PetalWidth\":1.3,\"Species\":\"versicolor\"},{\"SepalLength\":5.7,\"SepalWidth\":3.0,\"PetalLength\":4.2,\"PetalWidth\":1.2,\"Species\":\"versicolor\"},{\"SepalLength\":5.7,\"SepalWidth\":2.9,\"PetalLength\":4.2,\"PetalWidth\":1.3,\"Species\":\"versicolor\"},{\"SepalLength\":6.2,\"SepalWidth\":2.9,\"PetalLength\":4.3,\"PetalWidth\":1.3,\"Species\":\"versicolor\"},{\"SepalLength\":5.1,\"SepalWidth\":2.5,\"PetalLength\":3.0,\"PetalWidth\":1.1,\"Species\":\"versicolor\"},{\"SepalLength\":5.7,\"SepalWidth\":2.8,\"PetalLength\":4.1,\"PetalWidth\":1.3,\"Species\":\"versicolor\"},{\"SepalLength\":6.3,\"SepalWidth\":3.3,\"PetalLength\":6.0,\"PetalWidth\":2.5,\"Species\":\"virginica\"},{\"SepalLength\":5.8,\"SepalWidth\":2.7,\"PetalLength\":5.1,\"PetalWidth\":1.9,\"Species\":\"virginica\"},{\"SepalLength\":7.1,\"SepalWidth\":3.0,\"PetalLength\":5.9,\"PetalWidth\":2.1,\"Species\":\"virginica\"},{\"SepalLength\":6.3,\"SepalWidth\":2.9,\"PetalLength\":5.6,\"PetalWidth\":1.8,\"Species\":\"virginica\"},{\"SepalLength\":6.5,\"SepalWidth\":3.0,\"PetalLength\":5.8,\"PetalWidth\":2.2,\"Species\":\"virginica\"},{\"SepalLength\":7.6,\"SepalWidth\":3.0,\"PetalLength\":6.6,\"PetalWidth\":2.1,\"Species\":\"virginica\"},{\"SepalLength\":4.9,\"SepalWidth\":2.5,\"PetalLength\":4.5,\"PetalWidth\":1.7,\"Species\":\"virginica\"},{\"SepalLength\":7.3,\"SepalWidth\":2.9,\"PetalLength\":6.3,\"PetalWidth\":1.8,\"Species\":\"virginica\"},{\"SepalLength\":6.7,\"SepalWidth\":2.5,\"PetalLength\":5.8,\"PetalWidth\":1.8,\"Species\":\"virginica\"},{\"SepalLength\":7.2,\"SepalWidth\":3.6,\"PetalLength\":6.1,\"PetalWidth\":2.5,\"Species\":\"virginica\"},{\"SepalLength\":6.5,\"SepalWidth\":3.2,\"PetalLength\":5.1,\"PetalWidth\":2.0,\"Species\":\"virginica\"},{\"SepalLength\":6.4,\"SepalWidth\":2.7,\"PetalLength\":5.3,\"PetalWidth\":1.9,\"Species\":\"virginica\"},{\"SepalLength\":6.8,\"SepalWidth\":3.0,\"PetalLength\":5.5,\"PetalWidth\":2.1,\"Species\":\"virginica\"},{\"SepalLength\":5.7,\"SepalWidth\":2.5,\"PetalLength\":5.0,\"PetalWidth\":2.0,\"Species\":\"virginica\"},{\"SepalLength\":5.8,\"SepalWidth\":2.8,\"PetalLength\":5.1,\"PetalWidth\":2.4,\"Species\":\"virginica\"},{\"SepalLength\":6.4,\"SepalWidth\":3.2,\"PetalLength\":5.3,\"PetalWidth\":2.3,\"Species\":\"virginica\"},{\"SepalLength\":6.5,\"SepalWidth\":3.0,\"PetalLength\":5.5,\"PetalWidth\":1.8,\"Species\":\"virginica\"},{\"SepalLength\":7.7,\"SepalWidth\":3.8,\"PetalLength\":6.7,\"PetalWidth\":2.2,\"Species\":\"virginica\"},{\"SepalLength\":7.7,\"SepalWidth\":2.6,\"PetalLength\":6.9,\"PetalWidth\":2.3,\"Species\":\"virginica\"},{\"SepalLength\":6.0,\"SepalWidth\":2.2,\"PetalLength\":5.0,\"PetalWidth\":1.5,\"Species\":\"virginica\"},{\"SepalLength\":6.9,\"SepalWidth\":3.2,\"PetalLength\":5.7,\"PetalWidth\":2.3,\"Species\":\"virginica\"},{\"SepalLength\":5.6,\"SepalWidth\":2.8,\"PetalLength\":4.9,\"PetalWidth\":2.0,\"Species\":\"virginica\"},{\"SepalLength\":7.7,\"SepalWidth\":2.8,\"PetalLength\":6.7,\"PetalWidth\":2.0,\"Species\":\"virginica\"},{\"SepalLength\":6.3,\"SepalWidth\":2.7,\"PetalLength\":4.9,\"PetalWidth\":1.8,\"Species\":\"virginica\"},{\"SepalLength\":6.7,\"SepalWidth\":3.3,\"PetalLength\":5.7,\"PetalWidth\":2.1,\"Species\":\"virginica\"},{\"SepalLength\":7.2,\"SepalWidth\":3.2,\"PetalLength\":6.0,\"PetalWidth\":1.8,\"Species\":\"virginica\"},{\"SepalLength\":6.2,\"SepalWidth\":2.8,\"PetalLength\":4.8,\"PetalWidth\":1.8,\"Species\":\"virginica\"},{\"SepalLength\":6.1,\"SepalWidth\":3.0,\"PetalLength\":4.9,\"PetalWidth\":1.8,\"Species\":\"virginica\"},{\"SepalLength\":6.4,\"SepalWidth\":2.8,\"PetalLength\":5.6,\"PetalWidth\":2.1,\"Species\":\"virginica\"},{\"SepalLength\":7.2,\"SepalWidth\":3.0,\"PetalLength\":5.8,\"PetalWidth\":1.6,\"Species\":\"virginica\"},{\"SepalLength\":7.4,\"SepalWidth\":2.8,\"PetalLength\":6.1,\"PetalWidth\":1.9,\"Species\":\"virginica\"},{\"SepalLength\":7.9,\"SepalWidth\":3.8,\"PetalLength\":6.4,\"PetalWidth\":2.0,\"Species\":\"virginica\"},{\"SepalLength\":6.4,\"SepalWidth\":2.8,\"PetalLength\":5.6,\"PetalWidth\":2.2,\"Species\":\"virginica\"},{\"SepalLength\":6.3,\"SepalWidth\":2.8,\"PetalLength\":5.1,\"PetalWidth\":1.5,\"Species\":\"virginica\"},{\"SepalLength\":6.1,\"SepalWidth\":2.6,\"PetalLength\":5.6,\"PetalWidth\":1.4,\"Species\":\"virginica\"},{\"SepalLength\":7.7,\"SepalWidth\":3.0,\"PetalLength\":6.1,\"PetalWidth\":2.3,\"Species\":\"virginica\"},{\"SepalLength\":6.3,\"SepalWidth\":3.4,\"PetalLength\":5.6,\"PetalWidth\":2.4,\"Species\":\"virginica\"},{\"SepalLength\":6.4,\"SepalWidth\":3.1,\"PetalLength\":5.5,\"PetalWidth\":1.8,\"Species\":\"virginica\"},{\"SepalLength\":6.0,\"SepalWidth\":3.0,\"PetalLength\":4.8,\"PetalWidth\":1.8,\"Species\":\"virginica\"},{\"SepalLength\":6.9,\"SepalWidth\":3.1,\"PetalLength\":5.4,\"PetalWidth\":2.1,\"Species\":\"virginica\"},{\"SepalLength\":6.7,\"SepalWidth\":3.1,\"PetalLength\":5.6,\"PetalWidth\":2.4,\"Species\":\"virginica\"},{\"SepalLength\":6.9,\"SepalWidth\":3.1,\"PetalLength\":5.1,\"PetalWidth\":2.3,\"Species\":\"virginica\"},{\"SepalLength\":5.8,\"SepalWidth\":2.7,\"PetalLength\":5.1,\"PetalWidth\":1.9,\"Species\":\"virginica\"},{\"SepalLength\":6.8,\"SepalWidth\":3.2,\"PetalLength\":5.9,\"PetalWidth\":2.3,\"Species\":\"virginica\"},{\"SepalLength\":6.7,\"SepalWidth\":3.3,\"PetalLength\":5.7,\"PetalWidth\":2.5,\"Species\":\"virginica\"},{\"SepalLength\":6.7,\"SepalWidth\":3.0,\"PetalLength\":5.2,\"PetalWidth\":2.3,\"Species\":\"virginica\"},{\"SepalLength\":6.3,\"SepalWidth\":2.5,\"PetalLength\":5.0,\"PetalWidth\":1.9,\"Species\":\"virginica\"},{\"SepalLength\":6.5,\"SepalWidth\":3.0,\"PetalLength\":5.2,\"PetalWidth\":2.0,\"Species\":\"virginica\"},{\"SepalLength\":6.2,\"SepalWidth\":3.4,\"PetalLength\":5.4,\"PetalWidth\":2.3,\"Species\":\"virginica\"},{\"SepalLength\":5.9,\"SepalWidth\":3.0,\"PetalLength\":5.1,\"PetalWidth\":1.8,\"Species\":\"virginica\"}]'"
      ]
     },
     "execution_count": 7,
     "metadata": {},
     "output_type": "execute_result"
    }
   ],
   "source": [
    "iris.to_json(orient=\"records\")"
   ]
  },
  {
   "cell_type": "markdown",
   "metadata": {},
   "source": [
    "3. Exporter `iris` dans un fichier `iris.json` au format NDJSON. Ouvrir ce fichier dans un éditeur de texte pour vérifier que chaque ligne contient un document."
   ]
  },
  {
   "cell_type": "code",
   "execution_count": 8,
   "metadata": {},
   "outputs": [],
   "source": [
    "iris.to_json(\"iris.json\", orient=\"records\", lines=True)"
   ]
  },
  {
   "cell_type": "markdown",
   "metadata": {},
   "source": [
    "4. Importer le fichier `iris.json` au format NDJSON dans un dataframe `iris2`."
   ]
  },
  {
   "cell_type": "code",
   "execution_count": null,
   "metadata": {},
   "outputs": [
    {
     "data": {
      "text/html": [
       "<div>\n",
       "<style scoped>\n",
       "    .dataframe tbody tr th:only-of-type {\n",
       "        vertical-align: middle;\n",
       "    }\n",
       "\n",
       "    .dataframe tbody tr th {\n",
       "        vertical-align: top;\n",
       "    }\n",
       "\n",
       "    .dataframe thead th {\n",
       "        text-align: right;\n",
       "    }\n",
       "</style>\n",
       "<table border=\"1\" class=\"dataframe\">\n",
       "  <thead>\n",
       "    <tr style=\"text-align: right;\">\n",
       "      <th></th>\n",
       "      <th>SepalLength</th>\n",
       "      <th>SepalWidth</th>\n",
       "      <th>PetalLength</th>\n",
       "      <th>PetalWidth</th>\n",
       "      <th>Species</th>\n",
       "    </tr>\n",
       "  </thead>\n",
       "  <tbody>\n",
       "    <tr>\n",
       "      <th>0</th>\n",
       "      <td>5.1</td>\n",
       "      <td>3.5</td>\n",
       "      <td>1.4</td>\n",
       "      <td>0.2</td>\n",
       "      <td>setosa</td>\n",
       "    </tr>\n",
       "    <tr>\n",
       "      <th>1</th>\n",
       "      <td>4.9</td>\n",
       "      <td>3.0</td>\n",
       "      <td>1.4</td>\n",
       "      <td>0.2</td>\n",
       "      <td>setosa</td>\n",
       "    </tr>\n",
       "    <tr>\n",
       "      <th>2</th>\n",
       "      <td>4.7</td>\n",
       "      <td>3.2</td>\n",
       "      <td>1.3</td>\n",
       "      <td>0.2</td>\n",
       "      <td>setosa</td>\n",
       "    </tr>\n",
       "    <tr>\n",
       "      <th>3</th>\n",
       "      <td>4.6</td>\n",
       "      <td>3.1</td>\n",
       "      <td>1.5</td>\n",
       "      <td>0.2</td>\n",
       "      <td>setosa</td>\n",
       "    </tr>\n",
       "    <tr>\n",
       "      <th>4</th>\n",
       "      <td>5.0</td>\n",
       "      <td>3.6</td>\n",
       "      <td>1.4</td>\n",
       "      <td>0.2</td>\n",
       "      <td>setosa</td>\n",
       "    </tr>\n",
       "  </tbody>\n",
       "</table>\n",
       "</div>"
      ],
      "text/plain": [
       "   SepalLength  SepalWidth  PetalLength  PetalWidth Species\n",
       "0          5.1         3.5          1.4         0.2  setosa\n",
       "1          4.9         3.0          1.4         0.2  setosa\n",
       "2          4.7         3.2          1.3         0.2  setosa\n",
       "3          4.6         3.1          1.5         0.2  setosa\n",
       "4          5.0         3.6          1.4         0.2  setosa"
      ]
     },
     "execution_count": 9,
     "metadata": {},
     "output_type": "execute_result"
    }
   ],
   "source": [
    "iris2 = pd.read_json(\"data/iris.json\", lines=True)\n",
    "iris2.head()"
   ]
  },
  {
   "cell_type": "markdown",
   "metadata": {},
   "source": [
    "## Star Wars API"
   ]
  },
  {
   "cell_type": "markdown",
   "metadata": {},
   "source": [
    "Le projet SWAPI (*Star Wars API*) est une source de données sur l'univers de Star Wars. L'API fournit plusieurs jeux de données concernant les planètes, les vaisseaux, les véhicules, les personnages, les films et les espèces de la saga venue d'une galaxie très, très lointaine."
   ]
  },
  {
   "cell_type": "markdown",
   "metadata": {},
   "source": [
    "1. Utiliser la fonction Pandas `read_json` pour importer les données sur les planètes disponibles au format JSON à l'adresse [https://swapi-node.vercel.app/api/planets](https://swapi-node.vercel.app/api/planets) dans un dataframe. Est-ce que le résultat est facilement exploitable sous cette forme ?"
   ]
  },
  {
   "cell_type": "code",
   "execution_count": 10,
   "metadata": {},
   "outputs": [
    {
     "data": {
      "text/html": [
       "<div>\n",
       "<style scoped>\n",
       "    .dataframe tbody tr th:only-of-type {\n",
       "        vertical-align: middle;\n",
       "    }\n",
       "\n",
       "    .dataframe tbody tr th {\n",
       "        vertical-align: top;\n",
       "    }\n",
       "\n",
       "    .dataframe thead th {\n",
       "        text-align: right;\n",
       "    }\n",
       "</style>\n",
       "<table border=\"1\" class=\"dataframe\">\n",
       "  <thead>\n",
       "    <tr style=\"text-align: right;\">\n",
       "      <th></th>\n",
       "      <th>count</th>\n",
       "      <th>pages</th>\n",
       "      <th>next</th>\n",
       "      <th>previous</th>\n",
       "      <th>results</th>\n",
       "    </tr>\n",
       "  </thead>\n",
       "  <tbody>\n",
       "    <tr>\n",
       "      <th>0</th>\n",
       "      <td>60</td>\n",
       "      <td>6</td>\n",
       "      <td>/api/planets?page=2</td>\n",
       "      <td>NaN</td>\n",
       "      <td>{'fields': {'edited': '2014-12-20T20:58:18.411...</td>\n",
       "    </tr>\n",
       "    <tr>\n",
       "      <th>1</th>\n",
       "      <td>60</td>\n",
       "      <td>6</td>\n",
       "      <td>/api/planets?page=2</td>\n",
       "      <td>NaN</td>\n",
       "      <td>{'fields': {'edited': '2014-12-20T20:58:18.420...</td>\n",
       "    </tr>\n",
       "    <tr>\n",
       "      <th>2</th>\n",
       "      <td>60</td>\n",
       "      <td>6</td>\n",
       "      <td>/api/planets?page=2</td>\n",
       "      <td>NaN</td>\n",
       "      <td>{'fields': {'edited': '2014-12-20T20:58:18.421...</td>\n",
       "    </tr>\n",
       "    <tr>\n",
       "      <th>3</th>\n",
       "      <td>60</td>\n",
       "      <td>6</td>\n",
       "      <td>/api/planets?page=2</td>\n",
       "      <td>NaN</td>\n",
       "      <td>{'fields': {'edited': '2014-12-20T20:58:18.423...</td>\n",
       "    </tr>\n",
       "    <tr>\n",
       "      <th>4</th>\n",
       "      <td>60</td>\n",
       "      <td>6</td>\n",
       "      <td>/api/planets?page=2</td>\n",
       "      <td>NaN</td>\n",
       "      <td>{'fields': {'edited': '2014-12-20T20:58:18.425...</td>\n",
       "    </tr>\n",
       "    <tr>\n",
       "      <th>5</th>\n",
       "      <td>60</td>\n",
       "      <td>6</td>\n",
       "      <td>/api/planets?page=2</td>\n",
       "      <td>NaN</td>\n",
       "      <td>{'fields': {'edited': '2014-12-20T20:58:18.427...</td>\n",
       "    </tr>\n",
       "    <tr>\n",
       "      <th>6</th>\n",
       "      <td>60</td>\n",
       "      <td>6</td>\n",
       "      <td>/api/planets?page=2</td>\n",
       "      <td>NaN</td>\n",
       "      <td>{'fields': {'edited': '2014-12-20T20:58:18.429...</td>\n",
       "    </tr>\n",
       "    <tr>\n",
       "      <th>7</th>\n",
       "      <td>60</td>\n",
       "      <td>6</td>\n",
       "      <td>/api/planets?page=2</td>\n",
       "      <td>NaN</td>\n",
       "      <td>{'fields': {'edited': '2014-12-20T20:58:18.430...</td>\n",
       "    </tr>\n",
       "    <tr>\n",
       "      <th>8</th>\n",
       "      <td>60</td>\n",
       "      <td>6</td>\n",
       "      <td>/api/planets?page=2</td>\n",
       "      <td>NaN</td>\n",
       "      <td>{'fields': {'edited': '2014-12-20T20:58:18.432...</td>\n",
       "    </tr>\n",
       "    <tr>\n",
       "      <th>9</th>\n",
       "      <td>60</td>\n",
       "      <td>6</td>\n",
       "      <td>/api/planets?page=2</td>\n",
       "      <td>NaN</td>\n",
       "      <td>{'fields': {'edited': '2014-12-20T20:58:18.434...</td>\n",
       "    </tr>\n",
       "  </tbody>\n",
       "</table>\n",
       "</div>"
      ],
      "text/plain": [
       "   count  pages                 next  previous  \\\n",
       "0     60      6  /api/planets?page=2       NaN   \n",
       "1     60      6  /api/planets?page=2       NaN   \n",
       "2     60      6  /api/planets?page=2       NaN   \n",
       "3     60      6  /api/planets?page=2       NaN   \n",
       "4     60      6  /api/planets?page=2       NaN   \n",
       "5     60      6  /api/planets?page=2       NaN   \n",
       "6     60      6  /api/planets?page=2       NaN   \n",
       "7     60      6  /api/planets?page=2       NaN   \n",
       "8     60      6  /api/planets?page=2       NaN   \n",
       "9     60      6  /api/planets?page=2       NaN   \n",
       "\n",
       "                                             results  \n",
       "0  {'fields': {'edited': '2014-12-20T20:58:18.411...  \n",
       "1  {'fields': {'edited': '2014-12-20T20:58:18.420...  \n",
       "2  {'fields': {'edited': '2014-12-20T20:58:18.421...  \n",
       "3  {'fields': {'edited': '2014-12-20T20:58:18.423...  \n",
       "4  {'fields': {'edited': '2014-12-20T20:58:18.425...  \n",
       "5  {'fields': {'edited': '2014-12-20T20:58:18.427...  \n",
       "6  {'fields': {'edited': '2014-12-20T20:58:18.429...  \n",
       "7  {'fields': {'edited': '2014-12-20T20:58:18.430...  \n",
       "8  {'fields': {'edited': '2014-12-20T20:58:18.432...  \n",
       "9  {'fields': {'edited': '2014-12-20T20:58:18.434...  "
      ]
     },
     "execution_count": 10,
     "metadata": {},
     "output_type": "execute_result"
    }
   ],
   "source": [
    "swapi_url = \"https://swapi-node.vercel.app\"\n",
    "planets_url = swapi_url + \"/api/planets\"\n",
    "\n",
    "planets_test= pd.read_json(planets_url)\n",
    "planets_test"
   ]
  },
  {
   "cell_type": "markdown",
   "metadata": {},
   "source": [
    "2. Utiliser la fonction `get` du module `requests` pour récupérer les mêmes données que dans la question précédente et vérifier le code HTTP obtenu."
   ]
  },
  {
   "cell_type": "code",
   "execution_count": 36,
   "metadata": {},
   "outputs": [
    {
     "name": "stdout",
     "output_type": "stream",
     "text": [
      "Données récupérées !\n",
      "{'count': 60, 'pages': 6, 'next': '/api/planets?page=2', 'previous': None, 'results': [{'fields': {'edited': '2014-12-20T20:58:18.411Z', 'climate': 'arid', 'surface_water': '1', 'name': 'Tatooine', 'diameter': '10465', 'rotation_period': '23', 'created': '2014-12-09T13:50:49.641Z', 'terrain': 'desert', 'gravity': '1 standard', 'orbital_period': '304', 'population': '200000', 'residents': [], 'films': [], 'url': '/api/planets/1'}}, {'fields': {'edited': '2014-12-20T20:58:18.420Z', 'climate': 'temperate', 'surface_water': '40', 'name': 'Alderaan', 'diameter': '12500', 'rotation_period': '24', 'created': '2014-12-10T11:35:48.479Z', 'terrain': 'grasslands, mountains', 'gravity': '1 standard', 'orbital_period': '364', 'population': '2000000000', 'residents': [], 'films': [], 'url': '/api/planets/2'}}, {'fields': {'edited': '2014-12-20T20:58:18.421Z', 'climate': 'temperate, tropical', 'surface_water': '8', 'name': 'Yavin IV', 'diameter': '10200', 'rotation_period': '24', 'created': '2014-12-10T11:37:19.144Z', 'terrain': 'jungle, rainforests', 'gravity': '1 standard', 'orbital_period': '4818', 'population': '1000', 'residents': [], 'films': [], 'url': '/api/planets/3'}}, {'fields': {'edited': '2014-12-20T20:58:18.423Z', 'climate': 'frozen', 'surface_water': '100', 'name': 'Hoth', 'diameter': '7200', 'rotation_period': '23', 'created': '2014-12-10T11:39:13.934Z', 'terrain': 'tundra, ice caves, mountain ranges', 'gravity': '1.1 standard', 'orbital_period': '549', 'population': 'unknown', 'residents': [], 'films': [], 'url': '/api/planets/4'}}, {'fields': {'edited': '2014-12-20T20:58:18.425Z', 'climate': 'murky', 'surface_water': '8', 'name': 'Dagobah', 'diameter': '8900', 'rotation_period': '23', 'created': '2014-12-10T11:42:22.590Z', 'terrain': 'swamp, jungles', 'gravity': 'N/A', 'orbital_period': '341', 'population': 'unknown', 'residents': [], 'films': [], 'url': '/api/planets/5'}}, {'fields': {'edited': '2014-12-20T20:58:18.427Z', 'climate': 'temperate', 'surface_water': '0', 'name': 'Bespin', 'diameter': '118000', 'rotation_period': '12', 'created': '2014-12-10T11:43:55.240Z', 'terrain': 'gas giant', 'gravity': '1.5 (surface), 1 standard (Cloud City)', 'orbital_period': '5110', 'population': '6000000', 'residents': [], 'films': [], 'url': '/api/planets/6'}}, {'fields': {'edited': '2014-12-20T20:58:18.429Z', 'climate': 'temperate', 'surface_water': '8', 'name': 'Endor', 'diameter': '4900', 'rotation_period': '18', 'created': '2014-12-10T11:50:29.349Z', 'terrain': 'forests, mountains, lakes', 'gravity': '0.85 standard', 'orbital_period': '402', 'population': '30000000', 'residents': [], 'films': [], 'url': '/api/planets/7'}}, {'fields': {'edited': '2014-12-20T20:58:18.430Z', 'climate': 'temperate', 'surface_water': '12', 'name': 'Naboo', 'diameter': '12120', 'rotation_period': '26', 'created': '2014-12-10T11:52:31.066Z', 'terrain': 'grassy hills, swamps, forests, mountains', 'gravity': '1 standard', 'orbital_period': '312', 'population': '4500000000', 'residents': [], 'films': [], 'url': '/api/planets/8'}}, {'fields': {'edited': '2014-12-20T20:58:18.432Z', 'climate': 'temperate', 'surface_water': 'unknown', 'name': 'Coruscant', 'diameter': '12240', 'rotation_period': '24', 'created': '2014-12-10T11:54:13.921Z', 'terrain': 'cityscape, mountains', 'gravity': '1 standard', 'orbital_period': '368', 'population': '1000000000000', 'residents': [], 'films': [], 'url': '/api/planets/9'}}, {'fields': {'edited': '2014-12-20T20:58:18.434Z', 'climate': 'temperate', 'surface_water': '100', 'name': 'Kamino', 'diameter': '19720', 'rotation_period': '27', 'created': '2014-12-10T12:45:06.577Z', 'terrain': 'ocean', 'gravity': '1 standard', 'orbital_period': '463', 'population': '1000000000', 'residents': [], 'films': [], 'url': '/api/planets/10'}}]}\n"
     ]
    }
   ],
   "source": [
    "r = requests.get(planets_url)\n",
    "\n",
    "assert r.status_code == 200, f\"Erreur {r.status_code}\"\n",
    "\n",
    "print(\"Données récupérées !\")\n",
    "print(r.json())"
   ]
  },
  {
   "cell_type": "markdown",
   "metadata": {},
   "source": [
    "3. Comprendre les éléments de la réponse obtenue à la question précédente. En particulier, combien y a-t-il de planètes dans `results` et à quoi correspond `next` ?"
   ]
  },
  {
   "cell_type": "code",
   "execution_count": 12,
   "metadata": {},
   "outputs": [
    {
     "name": "stdout",
     "output_type": "stream",
     "text": [
      "Total planets = 60\n",
      "Current planets count = 10\n"
     ]
    }
   ],
   "source": [
    "print(f\"Total planets = {r.json()['count']}\")\n",
    "\n",
    "print(f\"Current planets count = {len(r.json()['results'])}\")"
   ]
  },
  {
   "cell_type": "markdown",
   "metadata": {},
   "source": [
    "4. Écrire une boucle pour récupérer les informations de toutes les planètes disponibles dans l'API et stocker le résultat dans un dataframe `planets`."
   ]
  },
  {
   "cell_type": "code",
   "execution_count": 33,
   "metadata": {},
   "outputs": [
    {
     "name": "stdout",
     "output_type": "stream",
     "text": [
      "Page 1 récupérée : [{'fields': {'edited': '2014-12-20T20:58:18.411Z', 'climate': 'arid', 'surface_water': '1', 'name': 'Tatooine', 'diameter': '10465', 'rotation_period': '23', 'created': '2014-12-09T13:50:49.641Z', 'terrain': 'desert', 'gravity': '1 standard', 'orbital_period': '304', 'population': '200000', 'residents': [], 'films': [], 'url': '/api/planets/1'}}, {'fields': {'edited': '2014-12-20T20:58:18.420Z', 'climate': 'temperate', 'surface_water': '40', 'name': 'Alderaan', 'diameter': '12500', 'rotation_period': '24', 'created': '2014-12-10T11:35:48.479Z', 'terrain': 'grasslands, mountains', 'gravity': '1 standard', 'orbital_period': '364', 'population': '2000000000', 'residents': [], 'films': [], 'url': '/api/planets/2'}}, {'fields': {'edited': '2014-12-20T20:58:18.421Z', 'climate': 'temperate, tropical', 'surface_water': '8', 'name': 'Yavin IV', 'diameter': '10200', 'rotation_period': '24', 'created': '2014-12-10T11:37:19.144Z', 'terrain': 'jungle, rainforests', 'gravity': '1 standard', 'orbital_period': '4818', 'population': '1000', 'residents': [], 'films': [], 'url': '/api/planets/3'}}, {'fields': {'edited': '2014-12-20T20:58:18.423Z', 'climate': 'frozen', 'surface_water': '100', 'name': 'Hoth', 'diameter': '7200', 'rotation_period': '23', 'created': '2014-12-10T11:39:13.934Z', 'terrain': 'tundra, ice caves, mountain ranges', 'gravity': '1.1 standard', 'orbital_period': '549', 'population': 'unknown', 'residents': [], 'films': [], 'url': '/api/planets/4'}}, {'fields': {'edited': '2014-12-20T20:58:18.425Z', 'climate': 'murky', 'surface_water': '8', 'name': 'Dagobah', 'diameter': '8900', 'rotation_period': '23', 'created': '2014-12-10T11:42:22.590Z', 'terrain': 'swamp, jungles', 'gravity': 'N/A', 'orbital_period': '341', 'population': 'unknown', 'residents': [], 'films': [], 'url': '/api/planets/5'}}, {'fields': {'edited': '2014-12-20T20:58:18.427Z', 'climate': 'temperate', 'surface_water': '0', 'name': 'Bespin', 'diameter': '118000', 'rotation_period': '12', 'created': '2014-12-10T11:43:55.240Z', 'terrain': 'gas giant', 'gravity': '1.5 (surface), 1 standard (Cloud City)', 'orbital_period': '5110', 'population': '6000000', 'residents': [], 'films': [], 'url': '/api/planets/6'}}, {'fields': {'edited': '2014-12-20T20:58:18.429Z', 'climate': 'temperate', 'surface_water': '8', 'name': 'Endor', 'diameter': '4900', 'rotation_period': '18', 'created': '2014-12-10T11:50:29.349Z', 'terrain': 'forests, mountains, lakes', 'gravity': '0.85 standard', 'orbital_period': '402', 'population': '30000000', 'residents': [], 'films': [], 'url': '/api/planets/7'}}, {'fields': {'edited': '2014-12-20T20:58:18.430Z', 'climate': 'temperate', 'surface_water': '12', 'name': 'Naboo', 'diameter': '12120', 'rotation_period': '26', 'created': '2014-12-10T11:52:31.066Z', 'terrain': 'grassy hills, swamps, forests, mountains', 'gravity': '1 standard', 'orbital_period': '312', 'population': '4500000000', 'residents': [], 'films': [], 'url': '/api/planets/8'}}, {'fields': {'edited': '2014-12-20T20:58:18.432Z', 'climate': 'temperate', 'surface_water': 'unknown', 'name': 'Coruscant', 'diameter': '12240', 'rotation_period': '24', 'created': '2014-12-10T11:54:13.921Z', 'terrain': 'cityscape, mountains', 'gravity': '1 standard', 'orbital_period': '368', 'population': '1000000000000', 'residents': [], 'films': [], 'url': '/api/planets/9'}}, {'fields': {'edited': '2014-12-20T20:58:18.434Z', 'climate': 'temperate', 'surface_water': '100', 'name': 'Kamino', 'diameter': '19720', 'rotation_period': '27', 'created': '2014-12-10T12:45:06.577Z', 'terrain': 'ocean', 'gravity': '1 standard', 'orbital_period': '463', 'population': '1000000000', 'residents': [], 'films': [], 'url': '/api/planets/10'}}]\n",
      "Page 2 récupérée : [{'fields': {'edited': '2014-12-20T20:58:18.437Z', 'climate': 'temperate, arid', 'surface_water': '5', 'name': 'Geonosis', 'diameter': '11370', 'rotation_period': '30', 'created': '2014-12-10T12:47:22.350Z', 'terrain': 'rock, desert, mountain, barren', 'gravity': '0.9 standard', 'orbital_period': '256', 'population': '100000000000', 'residents': [], 'films': [], 'url': '/api/planets/11'}}, {'fields': {'edited': '2014-12-20T20:58:18.439Z', 'climate': 'temperate, arid, windy', 'surface_water': '0.9', 'name': 'Utapau', 'diameter': '12900', 'rotation_period': '27', 'created': '2014-12-10T12:49:01.491Z', 'terrain': 'scrublands, savanna, canyons, sinkholes', 'gravity': '1 standard', 'orbital_period': '351', 'population': '95000000', 'residents': [], 'films': [], 'url': '/api/planets/12'}}, {'fields': {'edited': '2014-12-20T20:58:18.440Z', 'climate': 'hot', 'surface_water': '0', 'name': 'Mustafar', 'diameter': '4200', 'rotation_period': '36', 'created': '2014-12-10T12:50:16.526Z', 'terrain': 'volcanoes, lava rivers, mountains, caves', 'gravity': '1 standard', 'orbital_period': '412', 'population': '20000', 'residents': [], 'films': [], 'url': '/api/planets/13'}}, {'fields': {'edited': '2014-12-20T20:58:18.442Z', 'climate': 'tropical', 'surface_water': '60', 'name': 'Kashyyyk', 'diameter': '12765', 'rotation_period': '26', 'created': '2014-12-10T13:32:00.124Z', 'terrain': 'jungle, forests, lakes, rivers', 'gravity': '1 standard', 'orbital_period': '381', 'population': '45000000', 'residents': [], 'films': [], 'url': '/api/planets/14'}}, {'fields': {'edited': '2014-12-20T20:58:18.444Z', 'climate': 'artificial temperate ', 'surface_water': '0', 'name': 'Polis Massa', 'diameter': '0', 'rotation_period': '24', 'created': '2014-12-10T13:33:46.405Z', 'terrain': 'airless asteroid', 'gravity': '0.56 standard', 'orbital_period': '590', 'population': '1000000', 'residents': [], 'films': [], 'url': '/api/planets/15'}}, {'fields': {'edited': '2014-12-20T20:58:18.446Z', 'climate': 'frigid', 'surface_water': 'unknown', 'name': 'Mygeeto', 'diameter': '10088', 'rotation_period': '12', 'created': '2014-12-10T13:43:39.139Z', 'terrain': 'glaciers, mountains, ice canyons', 'gravity': '1 standard', 'orbital_period': '167', 'population': '19000000', 'residents': [], 'films': [], 'url': '/api/planets/16'}}, {'fields': {'edited': '2014-12-20T20:58:18.447Z', 'climate': 'hot, humid', 'surface_water': 'unknown', 'name': 'Felucia', 'diameter': '9100', 'rotation_period': '34', 'created': '2014-12-10T13:44:50.397Z', 'terrain': 'fungus forests', 'gravity': '0.75 standard', 'orbital_period': '231', 'population': '8500000', 'residents': [], 'films': [], 'url': '/api/planets/17'}}, {'fields': {'edited': '2014-12-20T20:58:18.449Z', 'climate': 'temperate, moist', 'surface_water': 'unknown', 'name': 'Cato Neimoidia', 'diameter': '0', 'rotation_period': '25', 'created': '2014-12-10T13:46:28.704Z', 'terrain': 'mountains, fields, forests, rock arches', 'gravity': '1 standard', 'orbital_period': '278', 'population': '10000000', 'residents': [], 'films': [], 'url': '/api/planets/18'}}, {'fields': {'edited': '2014-12-20T20:58:18.450Z', 'climate': 'hot', 'surface_water': 'unknown', 'name': 'Saleucami', 'diameter': '14920', 'rotation_period': '26', 'created': '2014-12-10T13:47:46.874Z', 'terrain': 'caves, desert, mountains, volcanoes', 'gravity': 'unknown', 'orbital_period': '392', 'population': '1400000000', 'residents': [], 'films': [], 'url': '/api/planets/19'}}, {'fields': {'edited': '2014-12-20T20:58:18.452Z', 'climate': 'temperate', 'surface_water': 'unknown', 'name': 'Stewjon', 'diameter': '0', 'rotation_period': 'unknown', 'created': '2014-12-10T16:16:26.566Z', 'terrain': 'grass', 'gravity': '1 standard', 'orbital_period': 'unknown', 'population': 'unknown', 'residents': [], 'films': [], 'url': '/api/planets/20'}}]\n",
      "Page 3 récupérée : [{'fields': {'edited': '2014-12-20T20:58:18.454Z', 'climate': 'polluted', 'surface_water': 'unknown', 'name': 'Eriadu', 'diameter': '13490', 'rotation_period': '24', 'created': '2014-12-10T16:26:54.384Z', 'terrain': 'cityscape', 'gravity': '1 standard', 'orbital_period': '360', 'population': '22000000000', 'residents': [], 'films': [], 'url': '/api/planets/21'}}, {'fields': {'edited': '2014-12-20T20:58:18.456Z', 'climate': 'temperate', 'surface_water': '70', 'name': 'Corellia', 'diameter': '11000', 'rotation_period': '25', 'created': '2014-12-10T16:49:12.453Z', 'terrain': 'plains, urban, hills, forests', 'gravity': '1 standard', 'orbital_period': '329', 'population': '3000000000', 'residents': [], 'films': [], 'url': '/api/planets/22'}}, {'fields': {'edited': '2014-12-20T20:58:18.458Z', 'climate': 'hot', 'surface_water': '60', 'name': 'Rodia', 'diameter': '7549', 'rotation_period': '29', 'created': '2014-12-10T17:03:28.110Z', 'terrain': 'jungles, oceans, urban, swamps', 'gravity': '1 standard', 'orbital_period': '305', 'population': '1300000000', 'residents': [], 'films': [], 'url': '/api/planets/23'}}, {'fields': {'edited': '2014-12-20T20:58:18.460Z', 'climate': 'temperate', 'surface_water': 'unknown', 'name': 'Nal Hutta', 'diameter': '12150', 'rotation_period': '87', 'created': '2014-12-10T17:11:29.452Z', 'terrain': 'urban, oceans, swamps, bogs', 'gravity': '1 standard', 'orbital_period': '413', 'population': '7000000000', 'residents': [], 'films': [], 'url': '/api/planets/24'}}, {'fields': {'edited': '2014-12-20T20:58:18.461Z', 'climate': 'temperate', 'surface_water': 'unknown', 'name': 'Dantooine', 'diameter': '9830', 'rotation_period': '25', 'created': '2014-12-10T17:23:29.896Z', 'terrain': 'oceans, savannas, mountains, grasslands', 'gravity': '1 standard', 'orbital_period': '378', 'population': '1000', 'residents': [], 'films': [], 'url': '/api/planets/25'}}, {'fields': {'edited': '2014-12-20T20:58:18.463Z', 'climate': 'temperate', 'surface_water': '98', 'name': 'Bestine IV', 'diameter': '6400', 'rotation_period': '26', 'created': '2014-12-12T11:16:55.078Z', 'terrain': 'rocky islands, oceans', 'gravity': 'unknown', 'orbital_period': '680', 'population': '62000000', 'residents': [], 'films': [], 'url': '/api/planets/26'}}, {'fields': {'edited': '2014-12-20T20:58:18.464Z', 'climate': 'temperate', 'surface_water': '10', 'name': 'Ord Mantell', 'diameter': '14050', 'rotation_period': '26', 'created': '2014-12-15T12:23:41.661Z', 'terrain': 'plains, seas, mesas', 'gravity': '1 standard', 'orbital_period': '334', 'population': '4000000000', 'residents': [], 'films': [], 'url': '/api/planets/27'}}, {'fields': {'edited': '2014-12-20T20:58:18.466Z', 'climate': 'unknown', 'surface_water': 'unknown', 'name': 'unknown', 'diameter': '0', 'rotation_period': '0', 'created': '2014-12-15T12:25:59.569Z', 'terrain': 'unknown', 'gravity': 'unknown', 'orbital_period': '0', 'population': 'unknown', 'residents': [], 'films': [], 'url': '/api/planets/28'}}, {'fields': {'edited': '2014-12-20T20:58:18.468Z', 'climate': 'arid', 'surface_water': 'unknown', 'name': 'Trandosha', 'diameter': '0', 'rotation_period': '25', 'created': '2014-12-15T12:53:47.695Z', 'terrain': 'mountains, seas, grasslands, deserts', 'gravity': '0.62 standard', 'orbital_period': '371', 'population': '42000000', 'residents': [], 'films': [], 'url': '/api/planets/29'}}, {'fields': {'edited': '2014-12-20T20:58:18.469Z', 'climate': 'arid', 'surface_water': 'unknown', 'name': 'Socorro', 'diameter': '0', 'rotation_period': '20', 'created': '2014-12-15T12:56:31.121Z', 'terrain': 'deserts, mountains', 'gravity': '1 standard', 'orbital_period': '326', 'population': '300000000', 'residents': [], 'films': [], 'url': '/api/planets/30'}}]\n",
      "Page 4 récupérée : [{'fields': {'edited': '2014-12-20T20:58:18.471Z', 'climate': 'temperate', 'surface_water': '100', 'name': 'Mon Cala', 'diameter': '11030', 'rotation_period': '21', 'created': '2014-12-18T11:07:01.792Z', 'terrain': 'oceans, reefs, islands', 'gravity': '1', 'orbital_period': '398', 'population': '27000000000', 'residents': [], 'films': [], 'url': '/api/planets/31'}}, {'fields': {'edited': '2014-12-20T20:58:18.472Z', 'climate': 'temperate', 'surface_water': '40', 'name': 'Chandrila', 'diameter': '13500', 'rotation_period': '20', 'created': '2014-12-18T11:11:51.872Z', 'terrain': 'plains, forests', 'gravity': '1', 'orbital_period': '368', 'population': '1200000000', 'residents': [], 'films': [], 'url': '/api/planets/32'}}, {'fields': {'edited': '2014-12-20T20:58:18.474Z', 'climate': 'superheated', 'surface_water': '5', 'name': 'Sullust', 'diameter': '12780', 'rotation_period': '20', 'created': '2014-12-18T11:25:40.243Z', 'terrain': 'mountains, volcanoes, rocky deserts', 'gravity': '1', 'orbital_period': '263', 'population': '18500000000', 'residents': [], 'films': [], 'url': '/api/planets/33'}}, {'fields': {'edited': '2014-12-20T20:58:18.476Z', 'climate': 'temperate', 'surface_water': 'unknown', 'name': 'Toydaria', 'diameter': '7900', 'rotation_period': '21', 'created': '2014-12-19T17:47:54.403Z', 'terrain': 'swamps, lakes', 'gravity': '1', 'orbital_period': '184', 'population': '11000000', 'residents': [], 'films': [], 'url': '/api/planets/34'}}, {'fields': {'edited': '2014-12-20T20:58:18.478Z', 'climate': 'arid, temperate, tropical', 'surface_water': 'unknown', 'name': 'Malastare', 'diameter': '18880', 'rotation_period': '26', 'created': '2014-12-19T17:52:13.106Z', 'terrain': 'swamps, deserts, jungles, mountains', 'gravity': '1.56', 'orbital_period': '201', 'population': '2000000000', 'residents': [], 'films': [], 'url': '/api/planets/35'}}, {'fields': {'edited': '2014-12-20T20:58:18.480Z', 'climate': 'temperate', 'surface_water': 'unknown', 'name': 'Dathomir', 'diameter': '10480', 'rotation_period': '24', 'created': '2014-12-19T18:00:40.142Z', 'terrain': 'forests, deserts, savannas', 'gravity': '0.9', 'orbital_period': '491', 'population': '5200', 'residents': [], 'films': [], 'url': '/api/planets/36'}}, {'fields': {'edited': '2014-12-20T20:58:18.481Z', 'climate': 'temperate, arid, subartic', 'surface_water': '5', 'name': 'Ryloth', 'diameter': '10600', 'rotation_period': '30', 'created': '2014-12-20T09:46:25.740Z', 'terrain': 'mountains, valleys, deserts, tundra', 'gravity': '1', 'orbital_period': '305', 'population': '1500000000', 'residents': [], 'films': [], 'url': '/api/planets/37'}}, {'fields': {'edited': '2014-12-20T20:58:18.483Z', 'climate': 'unknown', 'surface_water': 'unknown', 'name': 'Aleen Minor', 'diameter': 'unknown', 'rotation_period': 'unknown', 'created': '2014-12-20T09:52:23.452Z', 'terrain': 'unknown', 'gravity': 'unknown', 'orbital_period': 'unknown', 'population': 'unknown', 'residents': [], 'films': [], 'url': '/api/planets/38'}}, {'fields': {'edited': '2014-12-20T20:58:18.485Z', 'climate': 'temperate, artic', 'surface_water': 'unknown', 'name': 'Vulpter', 'diameter': '14900', 'rotation_period': '22', 'created': '2014-12-20T09:56:58.874Z', 'terrain': 'urban, barren', 'gravity': '1', 'orbital_period': '391', 'population': '421000000', 'residents': [], 'films': [], 'url': '/api/planets/39'}}, {'fields': {'edited': '2014-12-20T20:58:18.487Z', 'climate': 'unknown', 'surface_water': 'unknown', 'name': 'Troiken', 'diameter': 'unknown', 'rotation_period': 'unknown', 'created': '2014-12-20T10:01:37.395Z', 'terrain': 'desert, tundra, rainforests, mountains', 'gravity': 'unknown', 'orbital_period': 'unknown', 'population': 'unknown', 'residents': [], 'films': [], 'url': '/api/planets/40'}}]\n",
      "Page 5 récupérée : [{'fields': {'edited': '2014-12-20T20:58:18.489Z', 'climate': 'unknown', 'surface_water': 'unknown', 'name': 'Tund', 'diameter': '12190', 'rotation_period': '48', 'created': '2014-12-20T10:07:29.578Z', 'terrain': 'barren, ash', 'gravity': 'unknown', 'orbital_period': '1770', 'population': '0', 'residents': [], 'films': [], 'url': '/api/planets/41'}}, {'fields': {'edited': '2014-12-20T20:58:18.491Z', 'climate': 'temperate', 'surface_water': 'unknown', 'name': 'Haruun Kal', 'diameter': '10120', 'rotation_period': '25', 'created': '2014-12-20T10:12:28.980Z', 'terrain': 'toxic cloudsea, plateaus, volcanoes', 'gravity': '0.98', 'orbital_period': '383', 'population': '705300', 'residents': [], 'films': [], 'url': '/api/planets/42'}}, {'fields': {'edited': '2014-12-20T20:58:18.493Z', 'climate': 'temperate', 'surface_water': '20', 'name': 'Cerea', 'diameter': 'unknown', 'rotation_period': '27', 'created': '2014-12-20T10:14:48.178Z', 'terrain': 'verdant', 'gravity': '1', 'orbital_period': '386', 'population': '450000000', 'residents': [], 'films': [], 'url': '/api/planets/43'}}, {'fields': {'edited': '2014-12-20T20:58:18.495Z', 'climate': 'tropical, temperate', 'surface_water': '80', 'name': 'Glee Anselm', 'diameter': '15600', 'rotation_period': '33', 'created': '2014-12-20T10:18:26.110Z', 'terrain': 'lakes, islands, swamps, seas', 'gravity': '1', 'orbital_period': '206', 'population': '500000000', 'residents': [], 'films': [], 'url': '/api/planets/44'}}, {'fields': {'edited': '2014-12-20T20:58:18.497Z', 'climate': 'unknown', 'surface_water': 'unknown', 'name': 'Iridonia', 'diameter': 'unknown', 'rotation_period': '29', 'created': '2014-12-20T10:26:05.788Z', 'terrain': 'rocky canyons, acid pools', 'gravity': 'unknown', 'orbital_period': '413', 'population': 'unknown', 'residents': [], 'films': [], 'url': '/api/planets/45'}}, {'fields': {'edited': '2014-12-20T20:58:18.498Z', 'climate': 'unknown', 'surface_water': 'unknown', 'name': 'Tholoth', 'diameter': 'unknown', 'rotation_period': 'unknown', 'created': '2014-12-20T10:28:31.117Z', 'terrain': 'unknown', 'gravity': 'unknown', 'orbital_period': 'unknown', 'population': 'unknown', 'residents': [], 'films': [], 'url': '/api/planets/46'}}, {'fields': {'edited': '2014-12-20T20:58:18.500Z', 'climate': 'arid, rocky, windy', 'surface_water': 'unknown', 'name': 'Iktotch', 'diameter': 'unknown', 'rotation_period': '22', 'created': '2014-12-20T10:31:32.413Z', 'terrain': 'rocky', 'gravity': '1', 'orbital_period': '481', 'population': 'unknown', 'residents': [], 'films': [], 'url': '/api/planets/47'}}, {'fields': {'edited': '2014-12-20T20:58:18.502Z', 'climate': 'unknown', 'surface_water': 'unknown', 'name': 'Quermia', 'diameter': 'unknown', 'rotation_period': 'unknown', 'created': '2014-12-20T10:34:08.249Z', 'terrain': 'unknown', 'gravity': 'unknown', 'orbital_period': 'unknown', 'population': 'unknown', 'residents': [], 'films': [], 'url': '/api/planets/48'}}, {'fields': {'edited': '2014-12-20T20:58:18.504Z', 'climate': 'temperate', 'surface_water': 'unknown', 'name': 'Dorin', 'diameter': '13400', 'rotation_period': '22', 'created': '2014-12-20T10:48:36.141Z', 'terrain': 'unknown', 'gravity': '1', 'orbital_period': '409', 'population': 'unknown', 'residents': [], 'films': [], 'url': '/api/planets/49'}}, {'fields': {'edited': '2014-12-20T20:58:18.506Z', 'climate': 'temperate', 'surface_water': 'unknown', 'name': 'Champala', 'diameter': 'unknown', 'rotation_period': '27', 'created': '2014-12-20T10:52:51.524Z', 'terrain': 'oceans, rainforests, plateaus', 'gravity': '1', 'orbital_period': '318', 'population': '3500000000', 'residents': [], 'films': [], 'url': '/api/planets/50'}}]\n",
      "Page 6 récupérée : [{'fields': {'edited': '2014-12-20T20:58:18.508Z', 'climate': 'unknown', 'surface_water': 'unknown', 'name': 'Mirial', 'diameter': 'unknown', 'rotation_period': 'unknown', 'created': '2014-12-20T16:44:46.318Z', 'terrain': 'deserts', 'gravity': 'unknown', 'orbital_period': 'unknown', 'population': 'unknown', 'residents': [], 'films': [], 'url': '/api/planets/51'}}, {'fields': {'edited': '2014-12-20T20:58:18.510Z', 'climate': 'unknown', 'surface_water': 'unknown', 'name': 'Serenno', 'diameter': 'unknown', 'rotation_period': 'unknown', 'created': '2014-12-20T16:52:13.357Z', 'terrain': 'rainforests, rivers, mountains', 'gravity': 'unknown', 'orbital_period': 'unknown', 'population': 'unknown', 'residents': [], 'films': [], 'url': '/api/planets/52'}}, {'fields': {'edited': '2014-12-20T20:58:18.512Z', 'climate': 'unknown', 'surface_water': 'unknown', 'name': 'Concord Dawn', 'diameter': 'unknown', 'rotation_period': 'unknown', 'created': '2014-12-20T16:54:39.909Z', 'terrain': 'jungles, forests, deserts', 'gravity': 'unknown', 'orbital_period': 'unknown', 'population': 'unknown', 'residents': [], 'films': [], 'url': '/api/planets/53'}}, {'fields': {'edited': '2014-12-20T20:58:18.514Z', 'climate': 'unknown', 'surface_water': 'unknown', 'name': 'Zolan', 'diameter': 'unknown', 'rotation_period': 'unknown', 'created': '2014-12-20T16:56:37.250Z', 'terrain': 'unknown', 'gravity': 'unknown', 'orbital_period': 'unknown', 'population': 'unknown', 'residents': [], 'films': [], 'url': '/api/planets/54'}}, {'fields': {'edited': '2014-12-20T20:58:18.516Z', 'climate': 'frigid', 'surface_water': '100', 'name': 'Ojom', 'diameter': 'unknown', 'rotation_period': 'unknown', 'created': '2014-12-20T17:27:41.286Z', 'terrain': 'oceans, glaciers', 'gravity': 'unknown', 'orbital_period': 'unknown', 'population': '500000000', 'residents': [], 'films': [], 'url': '/api/planets/55'}}, {'fields': {'edited': '2014-12-20T20:58:18.517Z', 'climate': 'temperate', 'surface_water': 'unknown', 'name': 'Skako', 'diameter': 'unknown', 'rotation_period': '27', 'created': '2014-12-20T17:50:47.864Z', 'terrain': 'urban, vines', 'gravity': '1', 'orbital_period': '384', 'population': '500000000000', 'residents': [], 'films': [], 'url': '/api/planets/56'}}, {'fields': {'edited': '2014-12-20T20:58:18.519Z', 'climate': 'temperate', 'surface_water': '25', 'name': 'Muunilinst', 'diameter': '13800', 'rotation_period': '28', 'created': '2014-12-20T17:57:47.420Z', 'terrain': 'plains, forests, hills, mountains', 'gravity': '1', 'orbital_period': '412', 'population': '5000000000', 'residents': [], 'films': [], 'url': '/api/planets/57'}}, {'fields': {'edited': '2014-12-20T20:58:18.521Z', 'climate': 'temperate', 'surface_water': 'unknown', 'name': 'Shili', 'diameter': 'unknown', 'rotation_period': 'unknown', 'created': '2014-12-20T18:43:14.049Z', 'terrain': 'cities, savannahs, seas, plains', 'gravity': '1', 'orbital_period': 'unknown', 'population': 'unknown', 'residents': [], 'films': [], 'url': '/api/planets/58'}}, {'fields': {'edited': '2014-12-20T20:58:18.523Z', 'climate': 'arid, temperate, tropical', 'surface_water': 'unknown', 'name': 'Kalee', 'diameter': '13850', 'rotation_period': '23', 'created': '2014-12-20T19:43:51.278Z', 'terrain': 'rainforests, cliffs, canyons, seas', 'gravity': '1', 'orbital_period': '378', 'population': '4000000000', 'residents': [], 'films': [], 'url': '/api/planets/59'}}, {'fields': {'edited': '2014-12-20T20:58:18.525Z', 'climate': 'unknown', 'surface_water': 'unknown', 'name': 'Umbara', 'diameter': 'unknown', 'rotation_period': 'unknown', 'created': '2014-12-20T20:18:36.256Z', 'terrain': 'unknown', 'gravity': 'unknown', 'orbital_period': 'unknown', 'population': 'unknown', 'residents': [], 'films': [], 'url': '/api/planets/60'}}]\n",
      "Current planets count = 60\n",
      "                      edited                    climate surface_water  \\\n",
      "0   2014-12-20T20:58:18.411Z                       arid             1   \n",
      "1   2014-12-20T20:58:18.420Z                  temperate            40   \n",
      "2   2014-12-20T20:58:18.421Z        temperate, tropical             8   \n",
      "3   2014-12-20T20:58:18.423Z                     frozen           100   \n",
      "4   2014-12-20T20:58:18.425Z                      murky             8   \n",
      "5   2014-12-20T20:58:18.427Z                  temperate             0   \n",
      "6   2014-12-20T20:58:18.429Z                  temperate             8   \n",
      "7   2014-12-20T20:58:18.430Z                  temperate            12   \n",
      "8   2014-12-20T20:58:18.432Z                  temperate       unknown   \n",
      "9   2014-12-20T20:58:18.434Z                  temperate           100   \n",
      "10  2014-12-20T20:58:18.437Z            temperate, arid             5   \n",
      "11  2014-12-20T20:58:18.439Z     temperate, arid, windy           0.9   \n",
      "12  2014-12-20T20:58:18.440Z                        hot             0   \n",
      "13  2014-12-20T20:58:18.442Z                   tropical            60   \n",
      "14  2014-12-20T20:58:18.444Z      artificial temperate              0   \n",
      "15  2014-12-20T20:58:18.446Z                     frigid       unknown   \n",
      "16  2014-12-20T20:58:18.447Z                 hot, humid       unknown   \n",
      "17  2014-12-20T20:58:18.449Z           temperate, moist       unknown   \n",
      "18  2014-12-20T20:58:18.450Z                        hot       unknown   \n",
      "19  2014-12-20T20:58:18.452Z                  temperate       unknown   \n",
      "20  2014-12-20T20:58:18.454Z                   polluted       unknown   \n",
      "21  2014-12-20T20:58:18.456Z                  temperate            70   \n",
      "22  2014-12-20T20:58:18.458Z                        hot            60   \n",
      "23  2014-12-20T20:58:18.460Z                  temperate       unknown   \n",
      "24  2014-12-20T20:58:18.461Z                  temperate       unknown   \n",
      "25  2014-12-20T20:58:18.463Z                  temperate            98   \n",
      "26  2014-12-20T20:58:18.464Z                  temperate            10   \n",
      "27  2014-12-20T20:58:18.466Z                    unknown       unknown   \n",
      "28  2014-12-20T20:58:18.468Z                       arid       unknown   \n",
      "29  2014-12-20T20:58:18.469Z                       arid       unknown   \n",
      "30  2014-12-20T20:58:18.471Z                  temperate           100   \n",
      "31  2014-12-20T20:58:18.472Z                  temperate            40   \n",
      "32  2014-12-20T20:58:18.474Z                superheated             5   \n",
      "33  2014-12-20T20:58:18.476Z                  temperate       unknown   \n",
      "34  2014-12-20T20:58:18.478Z  arid, temperate, tropical       unknown   \n",
      "35  2014-12-20T20:58:18.480Z                  temperate       unknown   \n",
      "36  2014-12-20T20:58:18.481Z  temperate, arid, subartic             5   \n",
      "37  2014-12-20T20:58:18.483Z                    unknown       unknown   \n",
      "38  2014-12-20T20:58:18.485Z           temperate, artic       unknown   \n",
      "39  2014-12-20T20:58:18.487Z                    unknown       unknown   \n",
      "40  2014-12-20T20:58:18.489Z                    unknown       unknown   \n",
      "41  2014-12-20T20:58:18.491Z                  temperate       unknown   \n",
      "42  2014-12-20T20:58:18.493Z                  temperate            20   \n",
      "43  2014-12-20T20:58:18.495Z        tropical, temperate            80   \n",
      "44  2014-12-20T20:58:18.497Z                    unknown       unknown   \n",
      "45  2014-12-20T20:58:18.498Z                    unknown       unknown   \n",
      "46  2014-12-20T20:58:18.500Z         arid, rocky, windy       unknown   \n",
      "47  2014-12-20T20:58:18.502Z                    unknown       unknown   \n",
      "48  2014-12-20T20:58:18.504Z                  temperate       unknown   \n",
      "49  2014-12-20T20:58:18.506Z                  temperate       unknown   \n",
      "50  2014-12-20T20:58:18.508Z                    unknown       unknown   \n",
      "51  2014-12-20T20:58:18.510Z                    unknown       unknown   \n",
      "52  2014-12-20T20:58:18.512Z                    unknown       unknown   \n",
      "53  2014-12-20T20:58:18.514Z                    unknown       unknown   \n",
      "54  2014-12-20T20:58:18.516Z                     frigid           100   \n",
      "55  2014-12-20T20:58:18.517Z                  temperate       unknown   \n",
      "56  2014-12-20T20:58:18.519Z                  temperate            25   \n",
      "57  2014-12-20T20:58:18.521Z                  temperate       unknown   \n",
      "58  2014-12-20T20:58:18.523Z  arid, temperate, tropical       unknown   \n",
      "59  2014-12-20T20:58:18.525Z                    unknown       unknown   \n",
      "\n",
      "              name diameter rotation_period                   created  \\\n",
      "0         Tatooine    10465              23  2014-12-09T13:50:49.641Z   \n",
      "1         Alderaan    12500              24  2014-12-10T11:35:48.479Z   \n",
      "2         Yavin IV    10200              24  2014-12-10T11:37:19.144Z   \n",
      "3             Hoth     7200              23  2014-12-10T11:39:13.934Z   \n",
      "4          Dagobah     8900              23  2014-12-10T11:42:22.590Z   \n",
      "5           Bespin   118000              12  2014-12-10T11:43:55.240Z   \n",
      "6            Endor     4900              18  2014-12-10T11:50:29.349Z   \n",
      "7            Naboo    12120              26  2014-12-10T11:52:31.066Z   \n",
      "8        Coruscant    12240              24  2014-12-10T11:54:13.921Z   \n",
      "9           Kamino    19720              27  2014-12-10T12:45:06.577Z   \n",
      "10        Geonosis    11370              30  2014-12-10T12:47:22.350Z   \n",
      "11          Utapau    12900              27  2014-12-10T12:49:01.491Z   \n",
      "12        Mustafar     4200              36  2014-12-10T12:50:16.526Z   \n",
      "13        Kashyyyk    12765              26  2014-12-10T13:32:00.124Z   \n",
      "14     Polis Massa        0              24  2014-12-10T13:33:46.405Z   \n",
      "15         Mygeeto    10088              12  2014-12-10T13:43:39.139Z   \n",
      "16         Felucia     9100              34  2014-12-10T13:44:50.397Z   \n",
      "17  Cato Neimoidia        0              25  2014-12-10T13:46:28.704Z   \n",
      "18       Saleucami    14920              26  2014-12-10T13:47:46.874Z   \n",
      "19         Stewjon        0         unknown  2014-12-10T16:16:26.566Z   \n",
      "20          Eriadu    13490              24  2014-12-10T16:26:54.384Z   \n",
      "21        Corellia    11000              25  2014-12-10T16:49:12.453Z   \n",
      "22           Rodia     7549              29  2014-12-10T17:03:28.110Z   \n",
      "23       Nal Hutta    12150              87  2014-12-10T17:11:29.452Z   \n",
      "24       Dantooine     9830              25  2014-12-10T17:23:29.896Z   \n",
      "25      Bestine IV     6400              26  2014-12-12T11:16:55.078Z   \n",
      "26     Ord Mantell    14050              26  2014-12-15T12:23:41.661Z   \n",
      "27         unknown        0               0  2014-12-15T12:25:59.569Z   \n",
      "28       Trandosha        0              25  2014-12-15T12:53:47.695Z   \n",
      "29         Socorro        0              20  2014-12-15T12:56:31.121Z   \n",
      "30        Mon Cala    11030              21  2014-12-18T11:07:01.792Z   \n",
      "31       Chandrila    13500              20  2014-12-18T11:11:51.872Z   \n",
      "32         Sullust    12780              20  2014-12-18T11:25:40.243Z   \n",
      "33        Toydaria     7900              21  2014-12-19T17:47:54.403Z   \n",
      "34       Malastare    18880              26  2014-12-19T17:52:13.106Z   \n",
      "35        Dathomir    10480              24  2014-12-19T18:00:40.142Z   \n",
      "36          Ryloth    10600              30  2014-12-20T09:46:25.740Z   \n",
      "37     Aleen Minor  unknown         unknown  2014-12-20T09:52:23.452Z   \n",
      "38         Vulpter    14900              22  2014-12-20T09:56:58.874Z   \n",
      "39         Troiken  unknown         unknown  2014-12-20T10:01:37.395Z   \n",
      "40            Tund    12190              48  2014-12-20T10:07:29.578Z   \n",
      "41      Haruun Kal    10120              25  2014-12-20T10:12:28.980Z   \n",
      "42           Cerea  unknown              27  2014-12-20T10:14:48.178Z   \n",
      "43     Glee Anselm    15600              33  2014-12-20T10:18:26.110Z   \n",
      "44        Iridonia  unknown              29  2014-12-20T10:26:05.788Z   \n",
      "45         Tholoth  unknown         unknown  2014-12-20T10:28:31.117Z   \n",
      "46         Iktotch  unknown              22  2014-12-20T10:31:32.413Z   \n",
      "47         Quermia  unknown         unknown  2014-12-20T10:34:08.249Z   \n",
      "48           Dorin    13400              22  2014-12-20T10:48:36.141Z   \n",
      "49        Champala  unknown              27  2014-12-20T10:52:51.524Z   \n",
      "50          Mirial  unknown         unknown  2014-12-20T16:44:46.318Z   \n",
      "51         Serenno  unknown         unknown  2014-12-20T16:52:13.357Z   \n",
      "52    Concord Dawn  unknown         unknown  2014-12-20T16:54:39.909Z   \n",
      "53           Zolan  unknown         unknown  2014-12-20T16:56:37.250Z   \n",
      "54            Ojom  unknown         unknown  2014-12-20T17:27:41.286Z   \n",
      "55           Skako  unknown              27  2014-12-20T17:50:47.864Z   \n",
      "56      Muunilinst    13800              28  2014-12-20T17:57:47.420Z   \n",
      "57           Shili  unknown         unknown  2014-12-20T18:43:14.049Z   \n",
      "58           Kalee    13850              23  2014-12-20T19:43:51.278Z   \n",
      "59          Umbara  unknown         unknown  2014-12-20T20:18:36.256Z   \n",
      "\n",
      "                                     terrain  \\\n",
      "0                                     desert   \n",
      "1                      grasslands, mountains   \n",
      "2                        jungle, rainforests   \n",
      "3         tundra, ice caves, mountain ranges   \n",
      "4                             swamp, jungles   \n",
      "5                                  gas giant   \n",
      "6                  forests, mountains, lakes   \n",
      "7   grassy hills, swamps, forests, mountains   \n",
      "8                       cityscape, mountains   \n",
      "9                                      ocean   \n",
      "10            rock, desert, mountain, barren   \n",
      "11   scrublands, savanna, canyons, sinkholes   \n",
      "12  volcanoes, lava rivers, mountains, caves   \n",
      "13            jungle, forests, lakes, rivers   \n",
      "14                          airless asteroid   \n",
      "15          glaciers, mountains, ice canyons   \n",
      "16                            fungus forests   \n",
      "17   mountains, fields, forests, rock arches   \n",
      "18       caves, desert, mountains, volcanoes   \n",
      "19                                     grass   \n",
      "20                                 cityscape   \n",
      "21             plains, urban, hills, forests   \n",
      "22            jungles, oceans, urban, swamps   \n",
      "23               urban, oceans, swamps, bogs   \n",
      "24   oceans, savannas, mountains, grasslands   \n",
      "25                     rocky islands, oceans   \n",
      "26                       plains, seas, mesas   \n",
      "27                                   unknown   \n",
      "28      mountains, seas, grasslands, deserts   \n",
      "29                        deserts, mountains   \n",
      "30                    oceans, reefs, islands   \n",
      "31                           plains, forests   \n",
      "32       mountains, volcanoes, rocky deserts   \n",
      "33                             swamps, lakes   \n",
      "34       swamps, deserts, jungles, mountains   \n",
      "35                forests, deserts, savannas   \n",
      "36       mountains, valleys, deserts, tundra   \n",
      "37                                   unknown   \n",
      "38                             urban, barren   \n",
      "39    desert, tundra, rainforests, mountains   \n",
      "40                               barren, ash   \n",
      "41       toxic cloudsea, plateaus, volcanoes   \n",
      "42                                   verdant   \n",
      "43              lakes, islands, swamps, seas   \n",
      "44                 rocky canyons, acid pools   \n",
      "45                                   unknown   \n",
      "46                                     rocky   \n",
      "47                                   unknown   \n",
      "48                                   unknown   \n",
      "49             oceans, rainforests, plateaus   \n",
      "50                                   deserts   \n",
      "51            rainforests, rivers, mountains   \n",
      "52                 jungles, forests, deserts   \n",
      "53                                   unknown   \n",
      "54                          oceans, glaciers   \n",
      "55                              urban, vines   \n",
      "56         plains, forests, hills, mountains   \n",
      "57           cities, savannahs, seas, plains   \n",
      "58        rainforests, cliffs, canyons, seas   \n",
      "59                                   unknown   \n",
      "\n",
      "                                   gravity orbital_period     population  \\\n",
      "0                               1 standard            304         200000   \n",
      "1                               1 standard            364     2000000000   \n",
      "2                               1 standard           4818           1000   \n",
      "3                             1.1 standard            549        unknown   \n",
      "4                                      N/A            341        unknown   \n",
      "5   1.5 (surface), 1 standard (Cloud City)           5110        6000000   \n",
      "6                            0.85 standard            402       30000000   \n",
      "7                               1 standard            312     4500000000   \n",
      "8                               1 standard            368  1000000000000   \n",
      "9                               1 standard            463     1000000000   \n",
      "10                            0.9 standard            256   100000000000   \n",
      "11                              1 standard            351       95000000   \n",
      "12                              1 standard            412          20000   \n",
      "13                              1 standard            381       45000000   \n",
      "14                           0.56 standard            590        1000000   \n",
      "15                              1 standard            167       19000000   \n",
      "16                           0.75 standard            231        8500000   \n",
      "17                              1 standard            278       10000000   \n",
      "18                                 unknown            392     1400000000   \n",
      "19                              1 standard        unknown        unknown   \n",
      "20                              1 standard            360    22000000000   \n",
      "21                              1 standard            329     3000000000   \n",
      "22                              1 standard            305     1300000000   \n",
      "23                              1 standard            413     7000000000   \n",
      "24                              1 standard            378           1000   \n",
      "25                                 unknown            680       62000000   \n",
      "26                              1 standard            334     4000000000   \n",
      "27                                 unknown              0        unknown   \n",
      "28                           0.62 standard            371       42000000   \n",
      "29                              1 standard            326      300000000   \n",
      "30                                       1            398    27000000000   \n",
      "31                                       1            368     1200000000   \n",
      "32                                       1            263    18500000000   \n",
      "33                                       1            184       11000000   \n",
      "34                                    1.56            201     2000000000   \n",
      "35                                     0.9            491           5200   \n",
      "36                                       1            305     1500000000   \n",
      "37                                 unknown        unknown        unknown   \n",
      "38                                       1            391      421000000   \n",
      "39                                 unknown        unknown        unknown   \n",
      "40                                 unknown           1770              0   \n",
      "41                                    0.98            383         705300   \n",
      "42                                       1            386      450000000   \n",
      "43                                       1            206      500000000   \n",
      "44                                 unknown            413        unknown   \n",
      "45                                 unknown        unknown        unknown   \n",
      "46                                       1            481        unknown   \n",
      "47                                 unknown        unknown        unknown   \n",
      "48                                       1            409        unknown   \n",
      "49                                       1            318     3500000000   \n",
      "50                                 unknown        unknown        unknown   \n",
      "51                                 unknown        unknown        unknown   \n",
      "52                                 unknown        unknown        unknown   \n",
      "53                                 unknown        unknown        unknown   \n",
      "54                                 unknown        unknown      500000000   \n",
      "55                                       1            384   500000000000   \n",
      "56                                       1            412     5000000000   \n",
      "57                                       1        unknown        unknown   \n",
      "58                                       1            378     4000000000   \n",
      "59                                 unknown        unknown        unknown   \n",
      "\n",
      "   residents films              url  \n",
      "0         []    []   /api/planets/1  \n",
      "1         []    []   /api/planets/2  \n",
      "2         []    []   /api/planets/3  \n",
      "3         []    []   /api/planets/4  \n",
      "4         []    []   /api/planets/5  \n",
      "5         []    []   /api/planets/6  \n",
      "6         []    []   /api/planets/7  \n",
      "7         []    []   /api/planets/8  \n",
      "8         []    []   /api/planets/9  \n",
      "9         []    []  /api/planets/10  \n",
      "10        []    []  /api/planets/11  \n",
      "11        []    []  /api/planets/12  \n",
      "12        []    []  /api/planets/13  \n",
      "13        []    []  /api/planets/14  \n",
      "14        []    []  /api/planets/15  \n",
      "15        []    []  /api/planets/16  \n",
      "16        []    []  /api/planets/17  \n",
      "17        []    []  /api/planets/18  \n",
      "18        []    []  /api/planets/19  \n",
      "19        []    []  /api/planets/20  \n",
      "20        []    []  /api/planets/21  \n",
      "21        []    []  /api/planets/22  \n",
      "22        []    []  /api/planets/23  \n",
      "23        []    []  /api/planets/24  \n",
      "24        []    []  /api/planets/25  \n",
      "25        []    []  /api/planets/26  \n",
      "26        []    []  /api/planets/27  \n",
      "27        []    []  /api/planets/28  \n",
      "28        []    []  /api/planets/29  \n",
      "29        []    []  /api/planets/30  \n",
      "30        []    []  /api/planets/31  \n",
      "31        []    []  /api/planets/32  \n",
      "32        []    []  /api/planets/33  \n",
      "33        []    []  /api/planets/34  \n",
      "34        []    []  /api/planets/35  \n",
      "35        []    []  /api/planets/36  \n",
      "36        []    []  /api/planets/37  \n",
      "37        []    []  /api/planets/38  \n",
      "38        []    []  /api/planets/39  \n",
      "39        []    []  /api/planets/40  \n",
      "40        []    []  /api/planets/41  \n",
      "41        []    []  /api/planets/42  \n",
      "42        []    []  /api/planets/43  \n",
      "43        []    []  /api/planets/44  \n",
      "44        []    []  /api/planets/45  \n",
      "45        []    []  /api/planets/46  \n",
      "46        []    []  /api/planets/47  \n",
      "47        []    []  /api/planets/48  \n",
      "48        []    []  /api/planets/49  \n",
      "49        []    []  /api/planets/50  \n",
      "50        []    []  /api/planets/51  \n",
      "51        []    []  /api/planets/52  \n",
      "52        []    []  /api/planets/53  \n",
      "53        []    []  /api/planets/54  \n",
      "54        []    []  /api/planets/55  \n",
      "55        []    []  /api/planets/56  \n",
      "56        []    []  /api/planets/57  \n",
      "57        []    []  /api/planets/58  \n",
      "58        []    []  /api/planets/59  \n",
      "59        []    []  /api/planets/60  \n"
     ]
    }
   ],
   "source": [
    "planets_array=[]\n",
    "total_pages = r.json()[\"pages\"]\n",
    "for i in range(1, total_pages+1):\n",
    "    r = requests.get(planets_url + f\"?page={i}\")\n",
    "    if r.status_code == 200:\n",
    "        print(f\"Page {i} récupérée : {r.json()['results']}\")\n",
    "        for result in r.json()[\"results\"]:\n",
    "            planets_array+=[result[\"fields\"]]\n",
    "    else:\n",
    "        print(f\"Erreur {r.status_code}\")\n",
    "        break\n",
    "print(f\"Current planets count = {len(planets_array)}\")\n",
    "planets = pd.DataFrame(planets_array)\n",
    "print(planets)"
   ]
  },
  {
   "cell_type": "markdown",
   "metadata": {},
   "source": [
    "5. Exporter le dataframe obtenu à la question précédente dans un fichier `planets.json` au format NDJSON."
   ]
  },
  {
   "cell_type": "code",
   "execution_count": 38,
   "metadata": {},
   "outputs": [],
   "source": [
    "planets.to_json(\"data/planets.json\", orient=\"records\", lines=True)"
   ]
  }
 ],
 "metadata": {
  "kernelspec": {
   "display_name": "base",
   "language": "python",
   "name": "python3"
  },
  "language_info": {
   "codemirror_mode": {
    "name": "ipython",
    "version": 3
   },
   "file_extension": ".py",
   "mimetype": "text/x-python",
   "name": "python",
   "nbconvert_exporter": "python",
   "pygments_lexer": "ipython3",
   "version": "3.11.3"
  }
 },
 "nbformat": 4,
 "nbformat_minor": 2
}
