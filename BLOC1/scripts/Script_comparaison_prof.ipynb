{
 "cells": [
  {
   "cell_type": "code",
   "execution_count": 6,
   "id": "814b7a71",
   "metadata": {},
   "outputs": [
    {
     "data": {
      "text/html": [
       "<div>\n",
       "<style scoped>\n",
       "    .dataframe tbody tr th:only-of-type {\n",
       "        vertical-align: middle;\n",
       "    }\n",
       "\n",
       "    .dataframe tbody tr th {\n",
       "        vertical-align: top;\n",
       "    }\n",
       "\n",
       "    .dataframe thead th {\n",
       "        text-align: right;\n",
       "    }\n",
       "</style>\n",
       "<table border=\"1\" class=\"dataframe\">\n",
       "  <thead>\n",
       "    <tr style=\"text-align: right;\">\n",
       "      <th></th>\n",
       "      <th>Y</th>\n",
       "      <th>T9</th>\n",
       "      <th>T12</th>\n",
       "      <th>T15</th>\n",
       "      <th>Ne9</th>\n",
       "      <th>Ne12</th>\n",
       "      <th>Ne15</th>\n",
       "      <th>Vx9</th>\n",
       "      <th>Vx12</th>\n",
       "      <th>Vx15</th>\n",
       "      <th>O3v</th>\n",
       "    </tr>\n",
       "  </thead>\n",
       "  <tbody>\n",
       "    <tr>\n",
       "      <th>count</th>\n",
       "      <td>112.000000</td>\n",
       "      <td>112.000000</td>\n",
       "      <td>112.000000</td>\n",
       "      <td>112.000000</td>\n",
       "      <td>112.000000</td>\n",
       "      <td>112.000000</td>\n",
       "      <td>112.000000</td>\n",
       "      <td>112.000000</td>\n",
       "      <td>112.000000</td>\n",
       "      <td>112.000000</td>\n",
       "      <td>112.000000</td>\n",
       "    </tr>\n",
       "    <tr>\n",
       "      <th>mean</th>\n",
       "      <td>90.303571</td>\n",
       "      <td>18.360714</td>\n",
       "      <td>21.526786</td>\n",
       "      <td>22.627679</td>\n",
       "      <td>4.928571</td>\n",
       "      <td>5.017857</td>\n",
       "      <td>4.830357</td>\n",
       "      <td>-1.214346</td>\n",
       "      <td>-1.611004</td>\n",
       "      <td>-1.690683</td>\n",
       "      <td>90.571429</td>\n",
       "    </tr>\n",
       "    <tr>\n",
       "      <th>std</th>\n",
       "      <td>28.187225</td>\n",
       "      <td>3.122726</td>\n",
       "      <td>4.042321</td>\n",
       "      <td>4.530859</td>\n",
       "      <td>2.594916</td>\n",
       "      <td>2.281860</td>\n",
       "      <td>2.332259</td>\n",
       "      <td>2.632742</td>\n",
       "      <td>2.795673</td>\n",
       "      <td>2.810198</td>\n",
       "      <td>28.276853</td>\n",
       "    </tr>\n",
       "    <tr>\n",
       "      <th>min</th>\n",
       "      <td>42.000000</td>\n",
       "      <td>11.300000</td>\n",
       "      <td>14.000000</td>\n",
       "      <td>14.900000</td>\n",
       "      <td>0.000000</td>\n",
       "      <td>0.000000</td>\n",
       "      <td>0.000000</td>\n",
       "      <td>-7.878500</td>\n",
       "      <td>-7.878500</td>\n",
       "      <td>-9.000000</td>\n",
       "      <td>42.000000</td>\n",
       "    </tr>\n",
       "    <tr>\n",
       "      <th>25%</th>\n",
       "      <td>70.750000</td>\n",
       "      <td>16.200000</td>\n",
       "      <td>18.600000</td>\n",
       "      <td>19.275000</td>\n",
       "      <td>3.000000</td>\n",
       "      <td>4.000000</td>\n",
       "      <td>3.000000</td>\n",
       "      <td>-3.276450</td>\n",
       "      <td>-3.564700</td>\n",
       "      <td>-3.939200</td>\n",
       "      <td>71.000000</td>\n",
       "    </tr>\n",
       "    <tr>\n",
       "      <th>50%</th>\n",
       "      <td>81.500000</td>\n",
       "      <td>17.800000</td>\n",
       "      <td>20.550000</td>\n",
       "      <td>22.050000</td>\n",
       "      <td>6.000000</td>\n",
       "      <td>5.000000</td>\n",
       "      <td>5.000000</td>\n",
       "      <td>-0.866000</td>\n",
       "      <td>-1.879400</td>\n",
       "      <td>-1.549650</td>\n",
       "      <td>82.500000</td>\n",
       "    </tr>\n",
       "    <tr>\n",
       "      <th>75%</th>\n",
       "      <td>106.000000</td>\n",
       "      <td>19.925000</td>\n",
       "      <td>23.550000</td>\n",
       "      <td>25.400000</td>\n",
       "      <td>7.000000</td>\n",
       "      <td>7.000000</td>\n",
       "      <td>7.000000</td>\n",
       "      <td>0.694600</td>\n",
       "      <td>0.000000</td>\n",
       "      <td>0.000000</td>\n",
       "      <td>106.000000</td>\n",
       "    </tr>\n",
       "    <tr>\n",
       "      <th>max</th>\n",
       "      <td>166.000000</td>\n",
       "      <td>27.000000</td>\n",
       "      <td>33.500000</td>\n",
       "      <td>35.500000</td>\n",
       "      <td>8.000000</td>\n",
       "      <td>8.000000</td>\n",
       "      <td>8.000000</td>\n",
       "      <td>5.196200</td>\n",
       "      <td>6.577800</td>\n",
       "      <td>5.000000</td>\n",
       "      <td>166.000000</td>\n",
       "    </tr>\n",
       "  </tbody>\n",
       "</table>\n",
       "</div>"
      ],
      "text/plain": [
       "                Y          T9         T12         T15         Ne9        Ne12  \\\n",
       "count  112.000000  112.000000  112.000000  112.000000  112.000000  112.000000   \n",
       "mean    90.303571   18.360714   21.526786   22.627679    4.928571    5.017857   \n",
       "std     28.187225    3.122726    4.042321    4.530859    2.594916    2.281860   \n",
       "min     42.000000   11.300000   14.000000   14.900000    0.000000    0.000000   \n",
       "25%     70.750000   16.200000   18.600000   19.275000    3.000000    4.000000   \n",
       "50%     81.500000   17.800000   20.550000   22.050000    6.000000    5.000000   \n",
       "75%    106.000000   19.925000   23.550000   25.400000    7.000000    7.000000   \n",
       "max    166.000000   27.000000   33.500000   35.500000    8.000000    8.000000   \n",
       "\n",
       "             Ne15         Vx9        Vx12        Vx15         O3v  \n",
       "count  112.000000  112.000000  112.000000  112.000000  112.000000  \n",
       "mean     4.830357   -1.214346   -1.611004   -1.690683   90.571429  \n",
       "std      2.332259    2.632742    2.795673    2.810198   28.276853  \n",
       "min      0.000000   -7.878500   -7.878500   -9.000000   42.000000  \n",
       "25%      3.000000   -3.276450   -3.564700   -3.939200   71.000000  \n",
       "50%      5.000000   -0.866000   -1.879400   -1.549650   82.500000  \n",
       "75%      7.000000    0.694600    0.000000    0.000000  106.000000  \n",
       "max      8.000000    5.196200    6.577800    5.000000  166.000000  "
      ]
     },
     "execution_count": 6,
     "metadata": {},
     "output_type": "execute_result"
    }
   ],
   "source": [
    "import pandas as pd\n",
    "import numpy as np\n",
    "don = pd.read_csv(\"C:/Users/cepe-s4-03/Documents/GB/data/ozonecomplet.csv\", header=0, sep=\";\")\n",
    "don = don.drop(['nomligne', 'Ne', 'Dv'], axis=1)\n",
    "don.describe()\n",
    "don.rename(columns={'O3': 'Y'}, inplace=True)\n",
    "don.describe()"
   ]
  },
  {
   "cell_type": "code",
   "execution_count": 7,
   "id": "1f15e591",
   "metadata": {},
   "outputs": [],
   "source": [
    "from sklearn.preprocessing import StandardScaler\n",
    "from sklearn.pipeline import Pipeline\n",
    "from sklearn.linear_model import LinearRegression, Ridge, RidgeCV, Lasso, LassoCV, ElasticNet, ElasticNetCV\n",
    "from sklearn.tree import DecisionTreeRegressor\n",
    "from sklearn.ensemble import RandomForestRegressor, GradientBoostingRegressor\n",
    "from sklearn.model_selection import GridSearchCV, train_test_split\n",
    "from sklearn.model_selection import KFold, GridSearchCV"
   ]
  },
  {
   "cell_type": "markdown",
   "id": "9da9c613",
   "metadata": {},
   "source": [
    "blabla"
   ]
  },
  {
   "cell_type": "code",
   "execution_count": 8,
   "id": "cca4cab9",
   "metadata": {},
   "outputs": [
    {
     "name": "stdout",
     "output_type": "stream",
     "text": [
      "0    28\n",
      "1    28\n",
      "2    28\n",
      "3    28\n",
      "Name: count, dtype: int64\n",
      "[2 2 2 2 2 1 0 1 1 3 0 1 3 3 3 0 0 1 3 1 1 2 0 0 3 3 1 0 1 3 0 1 1 0 0 3 2\n",
      " 1 2 0 2 2 3 1 1 1 0 3 3 2 1 0 0 1 2 0 0 3 2 3 2 0 2 0 0 1 0 1 3 2 1 0 2 0\n",
      " 3 2 2 1 0 3 2 3 2 3 0 3 3 1 2 1 3 2 3 1 0 1 0 2 2 1 3 2 2 3 1 3 0 0 1 2 3\n",
      " 3]\n"
     ]
    }
   ],
   "source": [
    "np.random.seed(1234)\n",
    "nb=4\n",
    "tmp = np.arange(don.shape[0])%nb\n",
    "print(pd.Series(tmp).value_counts())\n",
    "bloc = np.random.choice(tmp,size=don.shape[0],replace=False)\n",
    "print(bloc)\n",
    "\n",
    "don[\"bloc\"] = bloc\n",
    "Cible = pd.DataFrame(don[[\"bloc\",\"Y\"]])\n",
    "PREV = pd.DataFrame({'bloc':don['bloc'],'Y':don['Y'],'MCO':0.0,'ridge':0.0,'lasso':0.0,'elas':0.0,'arbre':0.0,'foret':0.0})"
   ]
  },
  {
   "cell_type": "code",
   "execution_count": 9,
   "id": "17e561d2",
   "metadata": {},
   "outputs": [
    {
     "name": "stdout",
     "output_type": "stream",
     "text": [
      "0\n"
     ]
    },
    {
     "name": "stderr",
     "output_type": "stream",
     "text": [
      "c:\\ProgramData\\anaconda3\\Lib\\site-packages\\sklearn\\linear_model\\_coordinate_descent.py:1568: DataConversionWarning: A column-vector y was passed when a 1d array was expected. Please change the shape of y to (n_samples, ), for example using ravel().\n",
      "  y = column_or_1d(y, warn=True)\n",
      "c:\\ProgramData\\anaconda3\\Lib\\site-packages\\sklearn\\linear_model\\_coordinate_descent.py:1568: DataConversionWarning: A column-vector y was passed when a 1d array was expected. Please change the shape of y to (n_samples, ), for example using ravel().\n",
      "  y = column_or_1d(y, warn=True)\n",
      "C:\\Users\\cepe-s4-03\\AppData\\Local\\Temp\\ipykernel_13808\\2525805548.py:37: DataConversionWarning: A column-vector y was passed when a 1d array was expected. Please change the shape of y to (n_samples,), for example using ravel().\n",
      "  foret.fit(X_train,Y_train)\n"
     ]
    },
    {
     "name": "stdout",
     "output_type": "stream",
     "text": [
      "1\n"
     ]
    },
    {
     "name": "stderr",
     "output_type": "stream",
     "text": [
      "c:\\ProgramData\\anaconda3\\Lib\\site-packages\\sklearn\\linear_model\\_coordinate_descent.py:1568: DataConversionWarning: A column-vector y was passed when a 1d array was expected. Please change the shape of y to (n_samples, ), for example using ravel().\n",
      "  y = column_or_1d(y, warn=True)\n",
      "c:\\ProgramData\\anaconda3\\Lib\\site-packages\\sklearn\\linear_model\\_coordinate_descent.py:1568: DataConversionWarning: A column-vector y was passed when a 1d array was expected. Please change the shape of y to (n_samples, ), for example using ravel().\n",
      "  y = column_or_1d(y, warn=True)\n",
      "C:\\Users\\cepe-s4-03\\AppData\\Local\\Temp\\ipykernel_13808\\2525805548.py:37: DataConversionWarning: A column-vector y was passed when a 1d array was expected. Please change the shape of y to (n_samples,), for example using ravel().\n",
      "  foret.fit(X_train,Y_train)\n"
     ]
    },
    {
     "name": "stdout",
     "output_type": "stream",
     "text": [
      "2\n"
     ]
    },
    {
     "name": "stderr",
     "output_type": "stream",
     "text": [
      "c:\\ProgramData\\anaconda3\\Lib\\site-packages\\sklearn\\linear_model\\_coordinate_descent.py:1568: DataConversionWarning: A column-vector y was passed when a 1d array was expected. Please change the shape of y to (n_samples, ), for example using ravel().\n",
      "  y = column_or_1d(y, warn=True)\n",
      "c:\\ProgramData\\anaconda3\\Lib\\site-packages\\sklearn\\linear_model\\_coordinate_descent.py:1568: DataConversionWarning: A column-vector y was passed when a 1d array was expected. Please change the shape of y to (n_samples, ), for example using ravel().\n",
      "  y = column_or_1d(y, warn=True)\n",
      "C:\\Users\\cepe-s4-03\\AppData\\Local\\Temp\\ipykernel_13808\\2525805548.py:37: DataConversionWarning: A column-vector y was passed when a 1d array was expected. Please change the shape of y to (n_samples,), for example using ravel().\n",
      "  foret.fit(X_train,Y_train)\n"
     ]
    },
    {
     "name": "stdout",
     "output_type": "stream",
     "text": [
      "3\n"
     ]
    },
    {
     "name": "stderr",
     "output_type": "stream",
     "text": [
      "c:\\ProgramData\\anaconda3\\Lib\\site-packages\\sklearn\\linear_model\\_coordinate_descent.py:1568: DataConversionWarning: A column-vector y was passed when a 1d array was expected. Please change the shape of y to (n_samples, ), for example using ravel().\n",
      "  y = column_or_1d(y, warn=True)\n",
      "c:\\ProgramData\\anaconda3\\Lib\\site-packages\\sklearn\\linear_model\\_coordinate_descent.py:1568: DataConversionWarning: A column-vector y was passed when a 1d array was expected. Please change the shape of y to (n_samples, ), for example using ravel().\n",
      "  y = column_or_1d(y, warn=True)\n",
      "C:\\Users\\cepe-s4-03\\AppData\\Local\\Temp\\ipykernel_13808\\2525805548.py:37: DataConversionWarning: A column-vector y was passed when a 1d array was expected. Please change the shape of y to (n_samples,), for example using ravel().\n",
      "  foret.fit(X_train,Y_train)\n"
     ]
    }
   ],
   "source": [
    "for i in np.arange(nb):\n",
    "    print(i)\n",
    "    X_train = don[don[\"bloc\"]!=i].drop([\"Y\",\"bloc\"],axis=1)\n",
    "    X_test = don[don[\"bloc\"]==i].drop([\"Y\",\"bloc\"],axis=1)\n",
    "    Y_train = Cible[Cible[\"bloc\"]!=i].drop(\"bloc\",axis=1)\n",
    "    #### reg\n",
    "    reg = LinearRegression()\n",
    "    reg.fit(X_train,Y_train)\n",
    "    PREV.loc[PREV.bloc==i,'MCO'] = reg.predict(X_test)\n",
    "    #### pipeline\n",
    "    kf = KFold(n_splits=10,shuffle=True)\n",
    "    cr = StandardScaler()\n",
    "    #### lasso\n",
    "    lassocv = LassoCV(cv=kf)\n",
    "    pipelassocv = Pipeline(steps=[(\"cr\",cr),(\"lassocv\",lassocv)])\n",
    "    etape_lassocv = pipelassocv.named_steps[\"lassocv\"]\n",
    "    pipelassocv.fit(X_train,Y_train)\n",
    "    PREV.loc[PREV.bloc==i,'lasso'] = pipelassocv.predict(X_test)\n",
    "    ##### ridge\n",
    "    grilleridge = etape_lassocv.alphas_ * 100 \n",
    "    ridgecv = RidgeCV(cv=kf,alphas=grilleridge)\n",
    "    piperidgecv = Pipeline(steps=[(\"cr\",cr),(\"ridgecv\",ridgecv)])\n",
    "    piperidgecv.fit(X_train,Y_train)\n",
    "    PREV.loc[PREV.bloc==i,'ridge'] = piperidgecv.predict(X_test)\n",
    "    ##### elasticnet\n",
    "    grilleelas = etape_lassocv.alphas_ * 2 \n",
    "    elasticcv = ElasticNetCV(cv=kf,alphas=grilleelas)\n",
    "    pipeelasticcv = Pipeline(steps=[(\"cr\",cr),(\"elasticcv\",elasticcv)])\n",
    "    pipeelasticcv.fit(X_train,Y_train)\n",
    "    PREV.loc[PREV.bloc==i,'elas'] = pipeelasticcv.predict(X_test)\n",
    "    #### reg\n",
    "    arbre = DecisionTreeRegressor()\n",
    "    arbre.fit(X_train,Y_train)\n",
    "    PREV.loc[PREV.bloc==i,'arbre'] = arbre.predict(X_test)\n",
    "    #### foret\n",
    "    foret = RandomForestRegressor(n_estimators=500)\n",
    "    foret.fit(X_train,Y_train)\n",
    "    PREV.loc[PREV.bloc==i,'foret'] = foret.predict(X_test)"
   ]
  },
  {
   "cell_type": "code",
   "execution_count": 10,
   "id": "5b31d822",
   "metadata": {},
   "outputs": [
    {
     "data": {
      "text/plain": [
       "Y          0.000000\n",
       "MCO      246.612331\n",
       "ridge    231.011861\n",
       "lasso    226.719158\n",
       "elas     225.578860\n",
       "arbre    483.687500\n",
       "foret    255.549443\n",
       "dtype: float64"
      ]
     },
     "execution_count": 10,
     "metadata": {},
     "output_type": "execute_result"
    }
   ],
   "source": [
    "Erreur = PREV.copy()\n",
    "Erreur = Erreur.drop(\"bloc\",axis=1)\n",
    "\n",
    "\n",
    "def erreur(X, Y):\n",
    "    return np.mean((X - Y) ** 2)\n",
    "\n",
    "def apply_erreur(RES):\n",
    "    return RES.apply(lambda col: erreur(col, RES.iloc[:, 0]), axis=0)\n",
    "\n",
    "apply_erreur(Erreur)"
   ]
  }
 ],
 "metadata": {
  "kernelspec": {
   "display_name": "base",
   "language": "python",
   "name": "python3"
  },
  "language_info": {
   "codemirror_mode": {
    "name": "ipython",
    "version": 3
   },
   "file_extension": ".py",
   "mimetype": "text/x-python",
   "name": "python",
   "nbconvert_exporter": "python",
   "pygments_lexer": "ipython3",
   "version": "3.11.3"
  }
 },
 "nbformat": 4,
 "nbformat_minor": 5
}
