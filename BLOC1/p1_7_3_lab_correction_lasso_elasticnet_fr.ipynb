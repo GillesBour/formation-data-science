{
 "cells": [
  {
   "cell_type": "markdown",
   "id": "ddc0dbe7",
   "metadata": {},
   "source": [
    "<div class=\"licence\">\n",
    "<span><img src=\"media/logo_IPParis.png\" /></span>\n",
    "<span>Lisa BEDIN<br />Pierre André CORNILLON<br />Eric MATZNER-LOBER</span>\n",
    "<span>Licence CC BY-NC-ND</span>\n",
    "</div>\n",
    "\n",
    "# Modules\n",
    "\n",
    "Importer les modules pandas (comme `pd`) numpy (commme `np`) le sous module `pyplot` de `matplotlib` comme `plt` les fonctions `StandardScaler` de `sklearn.preprocessing`, `Lasso` de `sklearn.linear_model`, `LassoCV` de `sklearn.linear_model`, `ElasticNet` de `sklearn.linear_model`, `ElasticNetCV` de `sklearn.linear_model`, `cross_val_predict` de `sklearn.model_selection`, `KFold` de `sklearn.model_selection`"
   ]
  },
  {
   "cell_type": "code",
   "execution_count": 1,
   "id": "cd52cb31",
   "metadata": {},
   "outputs": [],
   "source": [
    "import pandas as pd\n",
    "import numpy as np\n",
    "import matplotlib.pyplot as plt\n",
    "from sklearn.preprocessing import StandardScaler\n",
    "from sklearn.linear_model import Lasso\n",
    "from sklearn.linear_model import LassoCV\n",
    "from sklearn.linear_model import ElasticNet\n",
    "from sklearn.linear_model import ElasticNetCV\n",
    "from sklearn.model_selection import cross_val_predict\n",
    "from sklearn.model_selection import KFold"
   ]
  },
  {
   "cell_type": "markdown",
   "id": "df6f966f",
   "metadata": {},
   "source": [
    "# Régression lasso sur les données d'ozone\n",
    "\n",
    "\n",
    "## Importation des données\n",
    "\n",
    "Importer les données d'ozone `ozonecomplet.csv` et éliminer les deux dernières variables (qualitatives) et faites un résumé numérique par variable [méthode `astype` sur la colonne du DataFrame et méthode `describe` sur l'instance DataFrame\\]"
   ]
  },
  {
   "cell_type": "code",
   "execution_count": 2,
   "id": "6f5ba87a",
   "metadata": {},
   "outputs": [
    {
     "data": {
      "text/html": [
       "<div>\n",
       "<style scoped>\n",
       "    .dataframe tbody tr th:only-of-type {\n",
       "        vertical-align: middle;\n",
       "    }\n",
       "\n",
       "    .dataframe tbody tr th {\n",
       "        vertical-align: top;\n",
       "    }\n",
       "\n",
       "    .dataframe thead th {\n",
       "        text-align: right;\n",
       "    }\n",
       "</style>\n",
       "<table border=\"1\" class=\"dataframe\">\n",
       "  <thead>\n",
       "    <tr style=\"text-align: right;\">\n",
       "      <th></th>\n",
       "      <th>O3</th>\n",
       "      <th>T9</th>\n",
       "      <th>T12</th>\n",
       "      <th>T15</th>\n",
       "      <th>Ne9</th>\n",
       "      <th>Ne12</th>\n",
       "      <th>Ne15</th>\n",
       "      <th>Vx9</th>\n",
       "      <th>Vx12</th>\n",
       "      <th>Vx15</th>\n",
       "      <th>O3v</th>\n",
       "    </tr>\n",
       "  </thead>\n",
       "  <tbody>\n",
       "    <tr>\n",
       "      <th>count</th>\n",
       "      <td>112.000000</td>\n",
       "      <td>112.000000</td>\n",
       "      <td>112.000000</td>\n",
       "      <td>112.000000</td>\n",
       "      <td>112.000000</td>\n",
       "      <td>112.000000</td>\n",
       "      <td>112.000000</td>\n",
       "      <td>112.000000</td>\n",
       "      <td>112.000000</td>\n",
       "      <td>112.000000</td>\n",
       "      <td>112.000000</td>\n",
       "    </tr>\n",
       "    <tr>\n",
       "      <th>mean</th>\n",
       "      <td>90.303571</td>\n",
       "      <td>18.360714</td>\n",
       "      <td>21.526786</td>\n",
       "      <td>22.627679</td>\n",
       "      <td>4.928571</td>\n",
       "      <td>5.017857</td>\n",
       "      <td>4.830357</td>\n",
       "      <td>-1.214346</td>\n",
       "      <td>-1.611004</td>\n",
       "      <td>-1.690683</td>\n",
       "      <td>90.571429</td>\n",
       "    </tr>\n",
       "    <tr>\n",
       "      <th>std</th>\n",
       "      <td>28.187225</td>\n",
       "      <td>3.122726</td>\n",
       "      <td>4.042321</td>\n",
       "      <td>4.530859</td>\n",
       "      <td>2.594916</td>\n",
       "      <td>2.281860</td>\n",
       "      <td>2.332259</td>\n",
       "      <td>2.632742</td>\n",
       "      <td>2.795673</td>\n",
       "      <td>2.810198</td>\n",
       "      <td>28.276853</td>\n",
       "    </tr>\n",
       "    <tr>\n",
       "      <th>min</th>\n",
       "      <td>42.000000</td>\n",
       "      <td>11.300000</td>\n",
       "      <td>14.000000</td>\n",
       "      <td>14.900000</td>\n",
       "      <td>0.000000</td>\n",
       "      <td>0.000000</td>\n",
       "      <td>0.000000</td>\n",
       "      <td>-7.878500</td>\n",
       "      <td>-7.878500</td>\n",
       "      <td>-9.000000</td>\n",
       "      <td>42.000000</td>\n",
       "    </tr>\n",
       "    <tr>\n",
       "      <th>25%</th>\n",
       "      <td>70.750000</td>\n",
       "      <td>16.200000</td>\n",
       "      <td>18.600000</td>\n",
       "      <td>19.275000</td>\n",
       "      <td>3.000000</td>\n",
       "      <td>4.000000</td>\n",
       "      <td>3.000000</td>\n",
       "      <td>-3.276450</td>\n",
       "      <td>-3.564700</td>\n",
       "      <td>-3.939200</td>\n",
       "      <td>71.000000</td>\n",
       "    </tr>\n",
       "    <tr>\n",
       "      <th>50%</th>\n",
       "      <td>81.500000</td>\n",
       "      <td>17.800000</td>\n",
       "      <td>20.550000</td>\n",
       "      <td>22.050000</td>\n",
       "      <td>6.000000</td>\n",
       "      <td>5.000000</td>\n",
       "      <td>5.000000</td>\n",
       "      <td>-0.866000</td>\n",
       "      <td>-1.879400</td>\n",
       "      <td>-1.549650</td>\n",
       "      <td>82.500000</td>\n",
       "    </tr>\n",
       "    <tr>\n",
       "      <th>75%</th>\n",
       "      <td>106.000000</td>\n",
       "      <td>19.925000</td>\n",
       "      <td>23.550000</td>\n",
       "      <td>25.400000</td>\n",
       "      <td>7.000000</td>\n",
       "      <td>7.000000</td>\n",
       "      <td>7.000000</td>\n",
       "      <td>0.694600</td>\n",
       "      <td>0.000000</td>\n",
       "      <td>0.000000</td>\n",
       "      <td>106.000000</td>\n",
       "    </tr>\n",
       "    <tr>\n",
       "      <th>max</th>\n",
       "      <td>166.000000</td>\n",
       "      <td>27.000000</td>\n",
       "      <td>33.500000</td>\n",
       "      <td>35.500000</td>\n",
       "      <td>8.000000</td>\n",
       "      <td>8.000000</td>\n",
       "      <td>8.000000</td>\n",
       "      <td>5.196200</td>\n",
       "      <td>6.577800</td>\n",
       "      <td>5.000000</td>\n",
       "      <td>166.000000</td>\n",
       "    </tr>\n",
       "  </tbody>\n",
       "</table>\n",
       "</div>"
      ],
      "text/plain": [
       "               O3          T9         T12         T15         Ne9        Ne12  \\\n",
       "count  112.000000  112.000000  112.000000  112.000000  112.000000  112.000000   \n",
       "mean    90.303571   18.360714   21.526786   22.627679    4.928571    5.017857   \n",
       "std     28.187225    3.122726    4.042321    4.530859    2.594916    2.281860   \n",
       "min     42.000000   11.300000   14.000000   14.900000    0.000000    0.000000   \n",
       "25%     70.750000   16.200000   18.600000   19.275000    3.000000    4.000000   \n",
       "50%     81.500000   17.800000   20.550000   22.050000    6.000000    5.000000   \n",
       "75%    106.000000   19.925000   23.550000   25.400000    7.000000    7.000000   \n",
       "max    166.000000   27.000000   33.500000   35.500000    8.000000    8.000000   \n",
       "\n",
       "             Ne15         Vx9        Vx12        Vx15         O3v  \n",
       "count  112.000000  112.000000  112.000000  112.000000  112.000000  \n",
       "mean     4.830357   -1.214346   -1.611004   -1.690683   90.571429  \n",
       "std      2.332259    2.632742    2.795673    2.810198   28.276853  \n",
       "min      0.000000   -7.878500   -7.878500   -9.000000   42.000000  \n",
       "25%      3.000000   -3.276450   -3.564700   -3.939200   71.000000  \n",
       "50%      5.000000   -0.866000   -1.879400   -1.549650   82.500000  \n",
       "75%      7.000000    0.694600    0.000000    0.000000  106.000000  \n",
       "max      8.000000    5.196200    6.577800    5.000000  166.000000  "
      ]
     },
     "execution_count": 2,
     "metadata": {},
     "output_type": "execute_result"
    }
   ],
   "source": [
    "ozone = pd.read_csv(\"data/ozonecomplet.csv\", header=0, sep=\";\")\n",
    "ozone = ozone.drop(['nomligne', 'Ne', 'Dv'], axis=1)\n",
    "ozone.describe()"
   ]
  },
  {
   "cell_type": "markdown",
   "id": "9a994a4c",
   "metadata": {},
   "source": [
    "## Création des tableaux `numpy`\n",
    "\n",
    "avec l'aide des méthodes d'instance `iloc` ou `loc` créer les tableaux `numpy` `y` et `X` (on se servira de l'attribut `values` qui donne le tableau `numpy` sous-jascent)"
   ]
  },
  {
   "cell_type": "code",
   "execution_count": 3,
   "id": "5b7b02d5",
   "metadata": {},
   "outputs": [],
   "source": [
    "y = ozone.O3.values\n",
    "X = ozone.iloc[:,1:].values"
   ]
  },
  {
   "cell_type": "markdown",
   "id": "fc2181a5",
   "metadata": {},
   "source": [
    "## Centrage et réduction\n",
    "\n",
    "Centrer et réduire les variable avec `StandardScaler` selon le schéma suivant\n",
    "\n",
    "1.  créer une instance avec la fonction `StandardScaler`. On notera `scalerX` l'instance créée.\n",
    "2.  l'ajuster via la méthode d'instance `fit` (calcul des moyennes et écart-types) et avec le tableau `numpy` des $X$\n",
    "3.  Transformer le tableau $X$ en tableau centré réduit via la méthode d'instance `transform` et avec le tableau `numpy` des $X$."
   ]
  },
  {
   "cell_type": "code",
   "execution_count": 4,
   "id": "06fe3734",
   "metadata": {},
   "outputs": [],
   "source": [
    "scalerX = StandardScaler().fit(X)\n",
    "Xcr= scalerX.transform(X)"
   ]
  },
  {
   "cell_type": "markdown",
   "id": "073678d1",
   "metadata": {},
   "source": [
    "## Evolution des coefficients selon $\\lambda$\n",
    "\n",
    "La fonction `LassoCV` va donner directement la grille de $\\lambda$ (contrairement à ridge). Utiliser cette fonction sur les données centrées réduites pour récupérer la grille (attribut `alphas_`). Avec cette grille faire un boucle pour estimer les coefficients $\\hat\\beta(\\lambda)$ pour chaque valeur de $\\lambda$\n",
    "\n",
    "Ajustons le modèle pour chaque valeur de $\\lambda$:"
   ]
  },
  {
   "cell_type": "code",
   "execution_count": 5,
   "id": "ae5ec064",
   "metadata": {},
   "outputs": [],
   "source": [
    "rl = LassoCV().fit(Xcr,y)\n",
    "alphas_lasso = rl.alphas_\n",
    "lcoef = []\n",
    "for ll in alphas_lasso:\n",
    "    rl = Lasso(alpha=ll).fit(Xcr,y)\n",
    "    lcoef.append(rl.coef_)"
   ]
  },
  {
   "cell_type": "markdown",
   "id": "def62729",
   "metadata": {},
   "source": [
    "et traçons les coefficients:"
   ]
  },
  {
   "cell_type": "code",
   "execution_count": 6,
   "id": "fd50ace8",
   "metadata": {},
   "outputs": [
    {
     "data": {
      "image/png": "[encoded data removed]",
      "text/plain": [
       "<Figure size 640x480 with 1 Axes>"
      ]
     },
     "metadata": {},
     "output_type": "display_data"
    }
   ],
   "source": [
    "plt.plot(np.log(alphas_lasso), lcoef)\n",
    "plt.show()"
   ]
  },
  {
   "cell_type": "markdown",
   "id": "7fe181a4",
   "metadata": {},
   "source": [
    "On voit que pour une certaine valeur de $\\lambda$ (ici 22) tous les coefficients sont nuls.\n",
    "\n",
    "\n",
    "## Choix du $\\hat \\lambda$ optimal (par validation croisée 10 blocs/fold)\n",
    "\n",
    "En séparant le jeu de données en 10 Blocs grâce à la fonction [KFold](https://scikit-learn.org/stable/modules/generated/sklearn.model_selection.KFold.html#sklearn.model_selection.KFold) (l'instance de `KFold` sera nommée `kf`) trouver le $\\hat \\lambda$ optimal avec un score \"somme des erreurs quadratiques par bloc\" ; utiliser `cross_val_predict` (la grille devra être fournie à `Lasso`)"
   ]
  },
  {
   "cell_type": "code",
   "execution_count": 7,
   "id": "2cd0e5ce",
   "metadata": {},
   "outputs": [
    {
     "name": "stdout",
     "output_type": "stream",
     "text": [
      "0.7727174033372731\n"
     ]
    }
   ],
   "source": [
    "kf = KFold(n_splits=10, shuffle=True, random_state=0)\n",
    "res = pd.DataFrame(np.zeros((X.shape[0], len(alphas_lasso))))\n",
    "for j, ll in enumerate(alphas_lasso):\n",
    "    res.iloc[:,j] = cross_val_predict(Lasso(alpha=ll),Xcr,y,cv=kf)\n",
    "sse = res.apply(lambda x: ((x-y)**2).sum(), axis=0)\n",
    "print(alphas_lasso[sse.argmin()])"
   ]
  },
  {
   "cell_type": "markdown",
   "id": "a1909f19",
   "metadata": {},
   "source": [
    "## Retrouver les résultats de la question précédente\n",
    "\n",
    "Avec la fonction `LassoCV` et l'objet `kf` retrouver le $\\hat \\lambda$ optimal (par validation croisée 10 blocs/fold)"
   ]
  },
  {
   "cell_type": "code",
   "execution_count": 8,
   "id": "e3cadc51",
   "metadata": {},
   "outputs": [
    {
     "name": "stdout",
     "output_type": "stream",
     "text": [
      "0.7727174033372731\n"
     ]
    }
   ],
   "source": [
    "rl = LassoCV(cv=kf).fit(Xcr, y)\n",
    "print(rl.alpha_)"
   ]
  },
  {
   "cell_type": "markdown",
   "id": "32fea099",
   "metadata": {},
   "source": [
    "    0.7727174033372736\n",
    "\n",
    "Ici la fonction objectif est le $\\mathrm{R}^2$ par bloc (et pas la somme des écarts quadratiques) et on retrouve le même $\\hat \\lambda$ (ce qui n'est pas garanti dans tous les cas…)\n",
    "\n",
    "\n",
    "## Prévision\n",
    "\n",
    "Utiliser la régression ridge avec $\\hat \\lambda$ optimal pour prévoir la concentration d'ozone pour $x^*=(18, 18, 18 ,5 ,5 , 6, 5 ,-4 ,-3, 90)'$"
   ]
  },
  {
   "cell_type": "code",
   "execution_count": 9,
   "id": "1b8af817",
   "metadata": {},
   "outputs": [
    {
     "name": "stdout",
     "output_type": "stream",
     "text": [
      "[85.28390512]\n"
     ]
    }
   ],
   "source": [
    "xet = np.array([[18, 18, 18 ,5 ,5 , 6, 5 ,-4 ,-3, 90]])\n",
    "xetcr = scalerX.transform(xet)\n",
    "print(rl.predict(xetcr))"
   ]
  },
  {
   "cell_type": "markdown",
   "id": "aa7a87a1",
   "metadata": {},
   "source": [
    "    [85.28390512]\n",
    "\n",
    "\n",
    "# Elastic-Net\n",
    "\n",
    "refaire avec les mêmes données les questions de l'exercice précédent avec une balance entre norme 1 et norme 2 de 1/2 (`l1_ratio`).\n",
    "\n",
    "\n",
    "## Importation"
   ]
  },
  {
   "cell_type": "code",
   "execution_count": 10,
   "id": "70e8ff42",
   "metadata": {},
   "outputs": [
    {
     "data": {
      "text/html": [
       "<div>\n",
       "<style scoped>\n",
       "    .dataframe tbody tr th:only-of-type {\n",
       "        vertical-align: middle;\n",
       "    }\n",
       "\n",
       "    .dataframe tbody tr th {\n",
       "        vertical-align: top;\n",
       "    }\n",
       "\n",
       "    .dataframe thead th {\n",
       "        text-align: right;\n",
       "    }\n",
       "</style>\n",
       "<table border=\"1\" class=\"dataframe\">\n",
       "  <thead>\n",
       "    <tr style=\"text-align: right;\">\n",
       "      <th></th>\n",
       "      <th>O3</th>\n",
       "      <th>T9</th>\n",
       "      <th>T12</th>\n",
       "      <th>T15</th>\n",
       "      <th>Ne9</th>\n",
       "      <th>Ne12</th>\n",
       "      <th>Ne15</th>\n",
       "      <th>Vx9</th>\n",
       "      <th>Vx12</th>\n",
       "      <th>Vx15</th>\n",
       "      <th>O3v</th>\n",
       "    </tr>\n",
       "  </thead>\n",
       "  <tbody>\n",
       "    <tr>\n",
       "      <th>count</th>\n",
       "      <td>112.000000</td>\n",
       "      <td>112.000000</td>\n",
       "      <td>112.000000</td>\n",
       "      <td>112.000000</td>\n",
       "      <td>112.000000</td>\n",
       "      <td>112.000000</td>\n",
       "      <td>112.000000</td>\n",
       "      <td>112.000000</td>\n",
       "      <td>112.000000</td>\n",
       "      <td>112.000000</td>\n",
       "      <td>112.000000</td>\n",
       "    </tr>\n",
       "    <tr>\n",
       "      <th>mean</th>\n",
       "      <td>90.303571</td>\n",
       "      <td>18.360714</td>\n",
       "      <td>21.526786</td>\n",
       "      <td>22.627679</td>\n",
       "      <td>4.928571</td>\n",
       "      <td>5.017857</td>\n",
       "      <td>4.830357</td>\n",
       "      <td>-1.214346</td>\n",
       "      <td>-1.611004</td>\n",
       "      <td>-1.690683</td>\n",
       "      <td>90.571429</td>\n",
       "    </tr>\n",
       "    <tr>\n",
       "      <th>std</th>\n",
       "      <td>28.187225</td>\n",
       "      <td>3.122726</td>\n",
       "      <td>4.042321</td>\n",
       "      <td>4.530859</td>\n",
       "      <td>2.594916</td>\n",
       "      <td>2.281860</td>\n",
       "      <td>2.332259</td>\n",
       "      <td>2.632742</td>\n",
       "      <td>2.795673</td>\n",
       "      <td>2.810198</td>\n",
       "      <td>28.276853</td>\n",
       "    </tr>\n",
       "    <tr>\n",
       "      <th>min</th>\n",
       "      <td>42.000000</td>\n",
       "      <td>11.300000</td>\n",
       "      <td>14.000000</td>\n",
       "      <td>14.900000</td>\n",
       "      <td>0.000000</td>\n",
       "      <td>0.000000</td>\n",
       "      <td>0.000000</td>\n",
       "      <td>-7.878500</td>\n",
       "      <td>-7.878500</td>\n",
       "      <td>-9.000000</td>\n",
       "      <td>42.000000</td>\n",
       "    </tr>\n",
       "    <tr>\n",
       "      <th>25%</th>\n",
       "      <td>70.750000</td>\n",
       "      <td>16.200000</td>\n",
       "      <td>18.600000</td>\n",
       "      <td>19.275000</td>\n",
       "      <td>3.000000</td>\n",
       "      <td>4.000000</td>\n",
       "      <td>3.000000</td>\n",
       "      <td>-3.276450</td>\n",
       "      <td>-3.564700</td>\n",
       "      <td>-3.939200</td>\n",
       "      <td>71.000000</td>\n",
       "    </tr>\n",
       "    <tr>\n",
       "      <th>50%</th>\n",
       "      <td>81.500000</td>\n",
       "      <td>17.800000</td>\n",
       "      <td>20.550000</td>\n",
       "      <td>22.050000</td>\n",
       "      <td>6.000000</td>\n",
       "      <td>5.000000</td>\n",
       "      <td>5.000000</td>\n",
       "      <td>-0.866000</td>\n",
       "      <td>-1.879400</td>\n",
       "      <td>-1.549650</td>\n",
       "      <td>82.500000</td>\n",
       "    </tr>\n",
       "    <tr>\n",
       "      <th>75%</th>\n",
       "      <td>106.000000</td>\n",
       "      <td>19.925000</td>\n",
       "      <td>23.550000</td>\n",
       "      <td>25.400000</td>\n",
       "      <td>7.000000</td>\n",
       "      <td>7.000000</td>\n",
       "      <td>7.000000</td>\n",
       "      <td>0.694600</td>\n",
       "      <td>0.000000</td>\n",
       "      <td>0.000000</td>\n",
       "      <td>106.000000</td>\n",
       "    </tr>\n",
       "    <tr>\n",
       "      <th>max</th>\n",
       "      <td>166.000000</td>\n",
       "      <td>27.000000</td>\n",
       "      <td>33.500000</td>\n",
       "      <td>35.500000</td>\n",
       "      <td>8.000000</td>\n",
       "      <td>8.000000</td>\n",
       "      <td>8.000000</td>\n",
       "      <td>5.196200</td>\n",
       "      <td>6.577800</td>\n",
       "      <td>5.000000</td>\n",
       "      <td>166.000000</td>\n",
       "    </tr>\n",
       "  </tbody>\n",
       "</table>\n",
       "</div>"
      ],
      "text/plain": [
       "               O3          T9         T12         T15         Ne9        Ne12  \\\n",
       "count  112.000000  112.000000  112.000000  112.000000  112.000000  112.000000   \n",
       "mean    90.303571   18.360714   21.526786   22.627679    4.928571    5.017857   \n",
       "std     28.187225    3.122726    4.042321    4.530859    2.594916    2.281860   \n",
       "min     42.000000   11.300000   14.000000   14.900000    0.000000    0.000000   \n",
       "25%     70.750000   16.200000   18.600000   19.275000    3.000000    4.000000   \n",
       "50%     81.500000   17.800000   20.550000   22.050000    6.000000    5.000000   \n",
       "75%    106.000000   19.925000   23.550000   25.400000    7.000000    7.000000   \n",
       "max    166.000000   27.000000   33.500000   35.500000    8.000000    8.000000   \n",
       "\n",
       "             Ne15         Vx9        Vx12        Vx15         O3v  \n",
       "count  112.000000  112.000000  112.000000  112.000000  112.000000  \n",
       "mean     4.830357   -1.214346   -1.611004   -1.690683   90.571429  \n",
       "std      2.332259    2.632742    2.795673    2.810198   28.276853  \n",
       "min      0.000000   -7.878500   -7.878500   -9.000000   42.000000  \n",
       "25%      3.000000   -3.276450   -3.564700   -3.939200   71.000000  \n",
       "50%      5.000000   -0.866000   -1.879400   -1.549650   82.500000  \n",
       "75%      7.000000    0.694600    0.000000    0.000000  106.000000  \n",
       "max      8.000000    5.196200    6.577800    5.000000  166.000000  "
      ]
     },
     "execution_count": 10,
     "metadata": {},
     "output_type": "execute_result"
    }
   ],
   "source": [
    "ozone = pd.read_csv(\"data/ozonecomplet.csv\", header=0, sep=\";\")\n",
    "ozone = ozone.drop(['nomligne', 'Ne', 'Dv'], axis=1)\n",
    "ozone.describe()"
   ]
  },
  {
   "cell_type": "markdown",
   "id": "c41c1cec",
   "metadata": {},
   "source": [
    "## Création des tableaux `numpy`\n",
    "\n",
    "avec l'aide des méthodes d'instance `iloc` ou `loc` créer les tableaux `numpy` `y` et `X` (on se servira de l'attribut `values` qui donne le tableau `numpy` sous-jascent)"
   ]
  },
  {
   "cell_type": "code",
   "execution_count": 11,
   "id": "cf14402d",
   "metadata": {},
   "outputs": [],
   "source": [
    "y = ozone.O3.values\n",
    "X = ozone.iloc[:,1:].values"
   ]
  },
  {
   "cell_type": "markdown",
   "id": "dc5ed39a",
   "metadata": {},
   "source": [
    "## Centrage et réduction"
   ]
  },
  {
   "cell_type": "code",
   "execution_count": 12,
   "id": "14534cfb",
   "metadata": {},
   "outputs": [],
   "source": [
    "scalerX = StandardScaler().fit(X)\n",
    "Xcr= scalerX.transform(X)"
   ]
  },
  {
   "cell_type": "markdown",
   "id": "efbb215d",
   "metadata": {},
   "source": [
    "## Evolution des coefficients selon $\\lambda$\n",
    "\n",
    "Ajustons le modèle pour chaque valeur de $\\lambda$:"
   ]
  },
  {
   "cell_type": "code",
   "execution_count": 13,
   "id": "0d3c9834",
   "metadata": {},
   "outputs": [],
   "source": [
    "ren = ElasticNetCV().fit(Xcr,y)\n",
    "alphas_elasticnet = ren.alphas_\n",
    "lcoef = []\n",
    "for ll in alphas_elasticnet:\n",
    "    ren = ElasticNet(alpha=ll).fit(Xcr,y)\n",
    "    lcoef.append(ren.coef_)"
   ]
  },
  {
   "cell_type": "markdown",
   "id": "e57ad727",
   "metadata": {},
   "source": [
    "et traçons les coefficients:"
   ]
  },
  {
   "cell_type": "code",
   "execution_count": 14,
   "id": "47386c3d",
   "metadata": {},
   "outputs": [
    {
     "data": {
      "image/png": "[encoded data removed]",
      "text/plain": [
       "<Figure size 640x480 with 1 Axes>"
      ]
     },
     "metadata": {},
     "output_type": "display_data"
    }
   ],
   "source": [
    "plt.plot(np.log(alphas_elasticnet), lcoef)\n",
    "plt.show()"
   ]
  },
  {
   "cell_type": "markdown",
   "id": "28adfcf4",
   "metadata": {},
   "source": [
    "On voit que les coefficients en général décroissent (en valeur absolue) quand la pénalité augmente.\n",
    "\n",
    "\n",
    "## Choix du $\\hat \\lambda$ optimal (par validation croisée 10 blocs/fold)"
   ]
  },
  {
   "cell_type": "code",
   "execution_count": 15,
   "id": "59cc9f8d",
   "metadata": {},
   "outputs": [
    {
     "name": "stdout",
     "output_type": "stream",
     "text": [
      "0.41048105093488374\n"
     ]
    }
   ],
   "source": [
    "kf = KFold(n_splits=10, shuffle=True, random_state=0)\n",
    "res = pd.DataFrame(np.zeros((X.shape[0], len(alphas_elasticnet))))\n",
    "for j, ll in enumerate(alphas_elasticnet):\n",
    "    res.iloc[:,j] = cross_val_predict(ElasticNet(alpha=ll),Xcr,y,cv=kf)\n",
    "sse = res.apply(lambda x: ((x-y)**2).sum(), axis=0)\n",
    "print(alphas_elasticnet[sse.argmin()])"
   ]
  },
  {
   "cell_type": "markdown",
   "id": "3574f56a",
   "metadata": {},
   "source": [
    "## Retrouver les résultats de la question précédente\n",
    "\n",
    "Avec la fonction `ElasticNetCV` et l'objet `kf` retrouver le $\\hat \\lambda$ optimal (par validation croisée 10 blocs/fold)"
   ]
  },
  {
   "cell_type": "code",
   "execution_count": 16,
   "id": "73fb4dfb",
   "metadata": {},
   "outputs": [
    {
     "name": "stdout",
     "output_type": "stream",
     "text": [
      "0.41048105093488374\n"
     ]
    }
   ],
   "source": [
    "ren = ElasticNetCV(cv=kf).fit(Xcr, y)\n",
    "print(ren.alpha_)"
   ]
  },
  {
   "cell_type": "markdown",
   "id": "35b32441",
   "metadata": {},
   "source": [
    "    0.41048105093488396\n",
    "\n",
    "Ici la fonction objectif est le $\\mathrm{R}^2$ par bloc (et pas la somme des écarts quadratiques) et on retrouve le même $\\hat \\lambda$ (ce qui n'est pas garanti dans tous les cas…)\n",
    "\n",
    "\n",
    "## Prévision\n",
    "\n",
    "Utiliser la régression ridge avec $\\hat \\lambda$ optimal pour prévoir la concentration d'ozone pour $x^*=(18, 18, 18 ,5 ,5 , 6, 5 ,-4 ,-3, 90)'$"
   ]
  },
  {
   "cell_type": "code",
   "execution_count": 17,
   "id": "16cfed31",
   "metadata": {},
   "outputs": [
    {
     "name": "stdout",
     "output_type": "stream",
     "text": [
      "[87.15292087]\n"
     ]
    }
   ],
   "source": [
    "xet = np.array([[18, 18, 18 ,5 ,5 , 6, 5 ,-4 ,-3, 90]])\n",
    "xetcr = scalerX.transform(xet)\n",
    "print(ren.predict(xetcr))"
   ]
  },
  {
   "cell_type": "markdown",
   "id": "ee455a00",
   "metadata": {},
   "source": [
    "    [87.15292087]\n",
    "\n",
    "Pas le même modèle ici donc pas la même prévision."
   ]
  }
 ],
 "metadata": {
  "jupytext": {
   "cell_metadata_filter": "all, -hidden, -heading_collapsed, -run_control, -trusted",
   "notebook_metadata_filter": "all, -jupytext.text_representation.jupytext_version, -jupytext.text_representation.format_version, -language_info.version, -language_info.codemirror_mode.version, -language_info.codemirror_mode, -language_info.file_extension, -language_info.mimetype, -toc"
  },
  "kernelspec": {
   "display_name": "Python 3 (ipykernel)",
   "language": "python",
   "name": "python3"
  },
  "language_info": {
   "codemirror_mode": {
    "name": "ipython",
    "version": 3
   },
   "file_extension": ".py",
   "mimetype": "text/x-python",
   "name": "python",
   "nbconvert_exporter": "python",
   "pygments_lexer": "ipython3",
   "version": "3.11.3"
  },
  "nbhosting": {
   "title": "Correction du TP Lasso et Elastic-Net",
   "version": "1.0"
  }
 },
 "nbformat": 4,
 "nbformat_minor": 5
}
